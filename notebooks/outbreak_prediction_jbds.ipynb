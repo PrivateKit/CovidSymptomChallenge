{
 "cells": [
  {
   "cell_type": "code",
   "execution_count": 1,
   "metadata": {
    "id": "kP9XFzsXZnWD"
   },
   "outputs": [],
   "source": [
    "import numpy as np\n",
    "import pandas as pd\n",
    "#from pandas_profiling import ProfileReport\n",
    "import glob\n",
    "from datetime import datetime\n",
    "import time\n",
    "from sklearn.preprocessing import MinMaxScaler\n",
    "\n",
    "from sklearn.feature_selection import SelectKBest, f_regression, mutual_info_regression\n",
    "from sklearn.model_selection import train_test_split\n",
    "from sklearn.metrics import f1_score, mean_squared_error,median_absolute_error,mean_absolute_error\n",
    "from sklearn.linear_model import LogisticRegression, LinearRegression\n",
    "from sklearn.ensemble import GradientBoostingClassifier, GradientBoostingRegressor\n",
    "from sklearn.svm import LinearSVC,LinearSVR\n",
    "from sklearn.tree import DecisionTreeClassifier,DecisionTreeRegressor\n",
    "from sklearn.neural_network import MLPRegressor, MLPClassifier\n",
    "import matplotlib.pyplot as plt\n",
    "\n",
    "import numpy as np\n",
    "from itertools import combinations \n",
    "%matplotlib inline"
   ]
  },
  {
   "cell_type": "markdown",
   "metadata": {},
   "source": [
    "<h2> load data </h2>"
   ]
  },
  {
   "cell_type": "code",
   "execution_count": 2,
   "metadata": {
    "id": "C-lCEpfQZyQ3"
   },
   "outputs": [
    {
     "data": {
      "text/html": [
       "<div>\n",
       "<style scoped>\n",
       "    .dataframe tbody tr th:only-of-type {\n",
       "        vertical-align: middle;\n",
       "    }\n",
       "\n",
       "    .dataframe tbody tr th {\n",
       "        vertical-align: top;\n",
       "    }\n",
       "\n",
       "    .dataframe thead th {\n",
       "        text-align: right;\n",
       "    }\n",
       "</style>\n",
       "<table border=\"1\" class=\"dataframe\">\n",
       "  <thead>\n",
       "    <tr style=\"text-align: right;\">\n",
       "      <th></th>\n",
       "      <th>date</th>\n",
       "      <th>state_code</th>\n",
       "      <th>gender</th>\n",
       "      <th>age_bucket</th>\n",
       "      <th>n</th>\n",
       "      <th>weight_sums</th>\n",
       "      <th>pct_cli</th>\n",
       "      <th>pct_ili</th>\n",
       "      <th>pct_cli_anosmia_ageusia</th>\n",
       "      <th>pct_hh_cli</th>\n",
       "      <th>...</th>\n",
       "      <th>pct_diabetes_weighted</th>\n",
       "      <th>pct_cancer_weighted</th>\n",
       "      <th>pct_heart_disease_weighted</th>\n",
       "      <th>pct_high_blood_pressure_weighted</th>\n",
       "      <th>pct_asthma_weighted</th>\n",
       "      <th>pct_chronic_lung_disease_weighted</th>\n",
       "      <th>pct_kidney_disease_weighted</th>\n",
       "      <th>pct_autoimmune_disorder_weighted</th>\n",
       "      <th>pct_no_above_medical_conditions_weighted</th>\n",
       "      <th>pct_multiple_medical_conditions_weighted</th>\n",
       "    </tr>\n",
       "  </thead>\n",
       "  <tbody>\n",
       "    <tr>\n",
       "      <th>0</th>\n",
       "      <td>2020-04-06</td>\n",
       "      <td>ak</td>\n",
       "      <td>female</td>\n",
       "      <td>18-34</td>\n",
       "      <td>119</td>\n",
       "      <td>78755.310877</td>\n",
       "      <td>0.8772</td>\n",
       "      <td>0.8772</td>\n",
       "      <td>2.6316</td>\n",
       "      <td>0.8403</td>\n",
       "      <td>...</td>\n",
       "      <td>3.1304</td>\n",
       "      <td>0.0000</td>\n",
       "      <td>0.0000</td>\n",
       "      <td>7.1685</td>\n",
       "      <td>28.7123</td>\n",
       "      <td>0.0000</td>\n",
       "      <td>0.0000</td>\n",
       "      <td>9.3777</td>\n",
       "      <td>63.1666</td>\n",
       "      <td>10.3406</td>\n",
       "    </tr>\n",
       "    <tr>\n",
       "      <th>1</th>\n",
       "      <td>2020-04-06</td>\n",
       "      <td>ak</td>\n",
       "      <td>female</td>\n",
       "      <td>35-54</td>\n",
       "      <td>95</td>\n",
       "      <td>63666.933392</td>\n",
       "      <td>3.2258</td>\n",
       "      <td>3.2258</td>\n",
       "      <td>3.2258</td>\n",
       "      <td>3.1579</td>\n",
       "      <td>...</td>\n",
       "      <td>9.7745</td>\n",
       "      <td>2.8142</td>\n",
       "      <td>6.9796</td>\n",
       "      <td>33.3235</td>\n",
       "      <td>29.5650</td>\n",
       "      <td>1.4395</td>\n",
       "      <td>0.0000</td>\n",
       "      <td>11.1606</td>\n",
       "      <td>46.8402</td>\n",
       "      <td>25.1121</td>\n",
       "    </tr>\n",
       "    <tr>\n",
       "      <th>2</th>\n",
       "      <td>2020-04-06</td>\n",
       "      <td>ak</td>\n",
       "      <td>female</td>\n",
       "      <td>55+</td>\n",
       "      <td>51</td>\n",
       "      <td>52710.069695</td>\n",
       "      <td>0.0000</td>\n",
       "      <td>0.0000</td>\n",
       "      <td>1.9608</td>\n",
       "      <td>0.0000</td>\n",
       "      <td>...</td>\n",
       "      <td>6.9947</td>\n",
       "      <td>19.3862</td>\n",
       "      <td>1.9712</td>\n",
       "      <td>26.1060</td>\n",
       "      <td>18.2128</td>\n",
       "      <td>6.3439</td>\n",
       "      <td>0.0000</td>\n",
       "      <td>8.1722</td>\n",
       "      <td>35.4451</td>\n",
       "      <td>22.9556</td>\n",
       "    </tr>\n",
       "    <tr>\n",
       "      <th>3</th>\n",
       "      <td>2020-04-06</td>\n",
       "      <td>al</td>\n",
       "      <td>female</td>\n",
       "      <td>18-34</td>\n",
       "      <td>478</td>\n",
       "      <td>480481.152573</td>\n",
       "      <td>0.8547</td>\n",
       "      <td>1.0684</td>\n",
       "      <td>2.1368</td>\n",
       "      <td>1.6771</td>\n",
       "      <td>...</td>\n",
       "      <td>3.1854</td>\n",
       "      <td>0.1110</td>\n",
       "      <td>1.1657</td>\n",
       "      <td>10.9676</td>\n",
       "      <td>21.6862</td>\n",
       "      <td>0.4720</td>\n",
       "      <td>1.5429</td>\n",
       "      <td>5.4713</td>\n",
       "      <td>62.7683</td>\n",
       "      <td>6.3179</td>\n",
       "    </tr>\n",
       "    <tr>\n",
       "      <th>4</th>\n",
       "      <td>2020-04-06</td>\n",
       "      <td>al</td>\n",
       "      <td>female</td>\n",
       "      <td>35-54</td>\n",
       "      <td>482</td>\n",
       "      <td>557081.407562</td>\n",
       "      <td>1.4706</td>\n",
       "      <td>1.6807</td>\n",
       "      <td>2.3109</td>\n",
       "      <td>2.2869</td>\n",
       "      <td>...</td>\n",
       "      <td>12.1389</td>\n",
       "      <td>3.1155</td>\n",
       "      <td>5.4066</td>\n",
       "      <td>34.8936</td>\n",
       "      <td>14.9863</td>\n",
       "      <td>5.8535</td>\n",
       "      <td>2.2455</td>\n",
       "      <td>14.0900</td>\n",
       "      <td>42.6328</td>\n",
       "      <td>24.1615</td>\n",
       "    </tr>\n",
       "  </tbody>\n",
       "</table>\n",
       "<p>5 rows × 104 columns</p>\n",
       "</div>"
      ],
      "text/plain": [
       "         date state_code  gender age_bucket    n    weight_sums  pct_cli  \\\n",
       "0  2020-04-06         ak  female      18-34  119   78755.310877   0.8772   \n",
       "1  2020-04-06         ak  female      35-54   95   63666.933392   3.2258   \n",
       "2  2020-04-06         ak  female        55+   51   52710.069695   0.0000   \n",
       "3  2020-04-06         al  female      18-34  478  480481.152573   0.8547   \n",
       "4  2020-04-06         al  female      35-54  482  557081.407562   1.4706   \n",
       "\n",
       "   pct_ili  pct_cli_anosmia_ageusia  pct_hh_cli  ...  pct_diabetes_weighted  \\\n",
       "0   0.8772                   2.6316      0.8403  ...                 3.1304   \n",
       "1   3.2258                   3.2258      3.1579  ...                 9.7745   \n",
       "2   0.0000                   1.9608      0.0000  ...                 6.9947   \n",
       "3   1.0684                   2.1368      1.6771  ...                 3.1854   \n",
       "4   1.6807                   2.3109      2.2869  ...                12.1389   \n",
       "\n",
       "   pct_cancer_weighted  pct_heart_disease_weighted  \\\n",
       "0               0.0000                      0.0000   \n",
       "1               2.8142                      6.9796   \n",
       "2              19.3862                      1.9712   \n",
       "3               0.1110                      1.1657   \n",
       "4               3.1155                      5.4066   \n",
       "\n",
       "   pct_high_blood_pressure_weighted  pct_asthma_weighted  \\\n",
       "0                            7.1685              28.7123   \n",
       "1                           33.3235              29.5650   \n",
       "2                           26.1060              18.2128   \n",
       "3                           10.9676              21.6862   \n",
       "4                           34.8936              14.9863   \n",
       "\n",
       "   pct_chronic_lung_disease_weighted  pct_kidney_disease_weighted  \\\n",
       "0                             0.0000                       0.0000   \n",
       "1                             1.4395                       0.0000   \n",
       "2                             6.3439                       0.0000   \n",
       "3                             0.4720                       1.5429   \n",
       "4                             5.8535                       2.2455   \n",
       "\n",
       "   pct_autoimmune_disorder_weighted  pct_no_above_medical_conditions_weighted  \\\n",
       "0                            9.3777                                   63.1666   \n",
       "1                           11.1606                                   46.8402   \n",
       "2                            8.1722                                   35.4451   \n",
       "3                            5.4713                                   62.7683   \n",
       "4                           14.0900                                   42.6328   \n",
       "\n",
       "   pct_multiple_medical_conditions_weighted  \n",
       "0                                   10.3406  \n",
       "1                                   25.1121  \n",
       "2                                   22.9556  \n",
       "3                                    6.3179  \n",
       "4                                   24.1615  \n",
       "\n",
       "[5 rows x 104 columns]"
      ]
     },
     "execution_count": 2,
     "metadata": {},
     "output_type": "execute_result"
    }
   ],
   "source": [
    "# Load states data\n",
    "state_data = pd.DataFrame()\n",
    "\n",
    "# Insert relevant path here\n",
    "state_csv = 'state.csv'\n",
    "#state_csv = '/content/gdrive/My Drive/overall-state.csv'\n",
    "state_data = pd.read_csv(state_csv, low_memory=False)\n",
    "state_data.head()"
   ]
  },
  {
   "cell_type": "code",
   "execution_count": 3,
   "metadata": {
    "id": "YqZzOPnE7t_O"
   },
   "outputs": [
    {
     "data": {
      "text/html": [
       "<div>\n",
       "<style scoped>\n",
       "    .dataframe tbody tr th:only-of-type {\n",
       "        vertical-align: middle;\n",
       "    }\n",
       "\n",
       "    .dataframe tbody tr th {\n",
       "        vertical-align: top;\n",
       "    }\n",
       "\n",
       "    .dataframe thead th {\n",
       "        text-align: right;\n",
       "    }\n",
       "</style>\n",
       "<table border=\"1\" class=\"dataframe\">\n",
       "  <thead>\n",
       "    <tr style=\"text-align: right;\">\n",
       "      <th></th>\n",
       "      <th>date</th>\n",
       "      <th>state_code</th>\n",
       "      <th>gender</th>\n",
       "      <th>age_bucket</th>\n",
       "      <th>n</th>\n",
       "      <th>weight_sums</th>\n",
       "      <th>pct_cli</th>\n",
       "      <th>pct_ili</th>\n",
       "      <th>pct_cli_anosmia_ageusia</th>\n",
       "      <th>pct_hh_cli</th>\n",
       "      <th>...</th>\n",
       "      <th>pct_diabetes_weighted</th>\n",
       "      <th>pct_cancer_weighted</th>\n",
       "      <th>pct_heart_disease_weighted</th>\n",
       "      <th>pct_high_blood_pressure_weighted</th>\n",
       "      <th>pct_asthma_weighted</th>\n",
       "      <th>pct_chronic_lung_disease_weighted</th>\n",
       "      <th>pct_kidney_disease_weighted</th>\n",
       "      <th>pct_autoimmune_disorder_weighted</th>\n",
       "      <th>pct_no_above_medical_conditions_weighted</th>\n",
       "      <th>pct_multiple_medical_conditions_weighted</th>\n",
       "    </tr>\n",
       "  </thead>\n",
       "  <tbody>\n",
       "    <tr>\n",
       "      <th>2350</th>\n",
       "      <td>2020-04-16</td>\n",
       "      <td>al</td>\n",
       "      <td>female</td>\n",
       "      <td>18-34</td>\n",
       "      <td>145</td>\n",
       "      <td>462802.973425</td>\n",
       "      <td>0.0000</td>\n",
       "      <td>0.0000</td>\n",
       "      <td>2.0979</td>\n",
       "      <td>0.6897</td>\n",
       "      <td>...</td>\n",
       "      <td>3.9268</td>\n",
       "      <td>0.3763</td>\n",
       "      <td>2.2387</td>\n",
       "      <td>9.1461</td>\n",
       "      <td>14.0375</td>\n",
       "      <td>0.0000</td>\n",
       "      <td>0.0000</td>\n",
       "      <td>3.1909</td>\n",
       "      <td>70.0717</td>\n",
       "      <td>2.2785</td>\n",
       "    </tr>\n",
       "    <tr>\n",
       "      <th>2351</th>\n",
       "      <td>2020-04-16</td>\n",
       "      <td>al</td>\n",
       "      <td>female</td>\n",
       "      <td>35-54</td>\n",
       "      <td>194</td>\n",
       "      <td>583249.802288</td>\n",
       "      <td>2.0942</td>\n",
       "      <td>2.0942</td>\n",
       "      <td>4.1885</td>\n",
       "      <td>3.1579</td>\n",
       "      <td>...</td>\n",
       "      <td>10.2654</td>\n",
       "      <td>1.4028</td>\n",
       "      <td>3.8820</td>\n",
       "      <td>30.0390</td>\n",
       "      <td>14.9271</td>\n",
       "      <td>5.7298</td>\n",
       "      <td>0.0000</td>\n",
       "      <td>10.6853</td>\n",
       "      <td>49.2702</td>\n",
       "      <td>17.9230</td>\n",
       "    </tr>\n",
       "    <tr>\n",
       "      <th>2352</th>\n",
       "      <td>2020-04-16</td>\n",
       "      <td>al</td>\n",
       "      <td>female</td>\n",
       "      <td>55+</td>\n",
       "      <td>163</td>\n",
       "      <td>645561.896600</td>\n",
       "      <td>1.2500</td>\n",
       "      <td>1.2500</td>\n",
       "      <td>3.1250</td>\n",
       "      <td>0.6173</td>\n",
       "      <td>...</td>\n",
       "      <td>21.7870</td>\n",
       "      <td>10.0665</td>\n",
       "      <td>8.4887</td>\n",
       "      <td>59.0565</td>\n",
       "      <td>15.1619</td>\n",
       "      <td>10.5929</td>\n",
       "      <td>4.0285</td>\n",
       "      <td>12.0755</td>\n",
       "      <td>21.7587</td>\n",
       "      <td>40.0636</td>\n",
       "    </tr>\n",
       "    <tr>\n",
       "      <th>2353</th>\n",
       "      <td>2020-04-16</td>\n",
       "      <td>al</td>\n",
       "      <td>male</td>\n",
       "      <td>35-54</td>\n",
       "      <td>72</td>\n",
       "      <td>413211.077594</td>\n",
       "      <td>0.0000</td>\n",
       "      <td>0.0000</td>\n",
       "      <td>0.0000</td>\n",
       "      <td>0.0000</td>\n",
       "      <td>...</td>\n",
       "      <td>12.2051</td>\n",
       "      <td>1.4869</td>\n",
       "      <td>1.3766</td>\n",
       "      <td>43.8301</td>\n",
       "      <td>10.7819</td>\n",
       "      <td>5.8744</td>\n",
       "      <td>0.0000</td>\n",
       "      <td>5.8113</td>\n",
       "      <td>44.2455</td>\n",
       "      <td>20.2207</td>\n",
       "    </tr>\n",
       "    <tr>\n",
       "      <th>2354</th>\n",
       "      <td>2020-04-16</td>\n",
       "      <td>al</td>\n",
       "      <td>male</td>\n",
       "      <td>55+</td>\n",
       "      <td>86</td>\n",
       "      <td>617698.363860</td>\n",
       "      <td>2.3256</td>\n",
       "      <td>1.1628</td>\n",
       "      <td>2.3256</td>\n",
       "      <td>3.4884</td>\n",
       "      <td>...</td>\n",
       "      <td>23.5848</td>\n",
       "      <td>11.5621</td>\n",
       "      <td>23.2836</td>\n",
       "      <td>58.7448</td>\n",
       "      <td>7.0642</td>\n",
       "      <td>9.1341</td>\n",
       "      <td>2.4027</td>\n",
       "      <td>6.4712</td>\n",
       "      <td>26.2613</td>\n",
       "      <td>44.5437</td>\n",
       "    </tr>\n",
       "  </tbody>\n",
       "</table>\n",
       "<p>5 rows × 104 columns</p>\n",
       "</div>"
      ],
      "text/plain": [
       "            date state_code  gender age_bucket    n    weight_sums  pct_cli  \\\n",
       "2350  2020-04-16         al  female      18-34  145  462802.973425   0.0000   \n",
       "2351  2020-04-16         al  female      35-54  194  583249.802288   2.0942   \n",
       "2352  2020-04-16         al  female        55+  163  645561.896600   1.2500   \n",
       "2353  2020-04-16         al    male      35-54   72  413211.077594   0.0000   \n",
       "2354  2020-04-16         al    male        55+   86  617698.363860   2.3256   \n",
       "\n",
       "      pct_ili  pct_cli_anosmia_ageusia  pct_hh_cli  ...  \\\n",
       "2350   0.0000                   2.0979      0.6897  ...   \n",
       "2351   2.0942                   4.1885      3.1579  ...   \n",
       "2352   1.2500                   3.1250      0.6173  ...   \n",
       "2353   0.0000                   0.0000      0.0000  ...   \n",
       "2354   1.1628                   2.3256      3.4884  ...   \n",
       "\n",
       "      pct_diabetes_weighted  pct_cancer_weighted  pct_heart_disease_weighted  \\\n",
       "2350                 3.9268               0.3763                      2.2387   \n",
       "2351                10.2654               1.4028                      3.8820   \n",
       "2352                21.7870              10.0665                      8.4887   \n",
       "2353                12.2051               1.4869                      1.3766   \n",
       "2354                23.5848              11.5621                     23.2836   \n",
       "\n",
       "      pct_high_blood_pressure_weighted  pct_asthma_weighted  \\\n",
       "2350                            9.1461              14.0375   \n",
       "2351                           30.0390              14.9271   \n",
       "2352                           59.0565              15.1619   \n",
       "2353                           43.8301              10.7819   \n",
       "2354                           58.7448               7.0642   \n",
       "\n",
       "      pct_chronic_lung_disease_weighted  pct_kidney_disease_weighted  \\\n",
       "2350                             0.0000                       0.0000   \n",
       "2351                             5.7298                       0.0000   \n",
       "2352                            10.5929                       4.0285   \n",
       "2353                             5.8744                       0.0000   \n",
       "2354                             9.1341                       2.4027   \n",
       "\n",
       "      pct_autoimmune_disorder_weighted  \\\n",
       "2350                            3.1909   \n",
       "2351                           10.6853   \n",
       "2352                           12.0755   \n",
       "2353                            5.8113   \n",
       "2354                            6.4712   \n",
       "\n",
       "      pct_no_above_medical_conditions_weighted  \\\n",
       "2350                                   70.0717   \n",
       "2351                                   49.2702   \n",
       "2352                                   21.7587   \n",
       "2353                                   44.2455   \n",
       "2354                                   26.2613   \n",
       "\n",
       "      pct_multiple_medical_conditions_weighted  \n",
       "2350                                    2.2785  \n",
       "2351                                   17.9230  \n",
       "2352                                   40.0636  \n",
       "2353                                   20.2207  \n",
       "2354                                   44.5437  \n",
       "\n",
       "[5 rows x 104 columns]"
      ]
     },
     "execution_count": 3,
     "metadata": {},
     "output_type": "execute_result"
    }
   ],
   "source": [
    "state_data_dropped = state_data.dropna()#na values dropped\n",
    "state_data_dropped.head()"
   ]
  },
  {
   "cell_type": "code",
   "execution_count": 4,
   "metadata": {
    "id": "6PhaHCZh-cqD"
   },
   "outputs": [
    {
     "name": "stdout",
     "output_type": "stream",
     "text": [
      "(76790, 104)\n"
     ]
    }
   ],
   "source": [
    "print (state_data_dropped.shape)# we are not lossing much , we are loosing around 10% of the data"
   ]
  },
  {
   "cell_type": "code",
   "execution_count": 5,
   "metadata": {
    "id": "nDqbN5JnTwGw"
   },
   "outputs": [
    {
     "name": "stdout",
     "output_type": "stream",
     "text": [
      "<class 'pandas.core.frame.DataFrame'>\n",
      "Int64Index: 76790 entries, 2350 to 83398\n",
      "Columns: 104 entries, date to pct_multiple_medical_conditions_weighted\n",
      "dtypes: float64(99), int64(1), object(4)\n",
      "memory usage: 61.5+ MB\n"
     ]
    }
   ],
   "source": [
    "state_data_dropped.info()"
   ]
  },
  {
   "cell_type": "markdown",
   "metadata": {},
   "source": [
    "<h2> target variable <h2>"
   ]
  },
  {
   "cell_type": "code",
   "execution_count": 6,
   "metadata": {},
   "outputs": [],
   "source": [
    "X = state_data_dropped.copy()\n",
    "\n",
    "y= state_data_dropped['pct_tested_and_positive']\n",
    "y_male= X[X['gender']=='male']['pct_tested_and_positive']\n",
    "y_female= X[X['gender']=='female']['pct_tested_and_positive']\n",
    "y_young= X[X['age_bucket']=='18-34']['pct_tested_and_positive']\n",
    "y_mid= X[X['age_bucket']=='35-54']['pct_tested_and_positive']\n",
    "y_old= X[X['age_bucket']=='55+']['pct_tested_and_positive']"
   ]
  },
  {
   "cell_type": "markdown",
   "metadata": {},
   "source": [
    "<h2> prune features </h2>"
   ]
  },
  {
   "cell_type": "code",
   "execution_count": 7,
   "metadata": {},
   "outputs": [
    {
     "data": {
      "text/plain": [
       "Index(['date', 'state_code', 'gender', 'age_bucket', 'n', 'weight_sums',\n",
       "       'pct_cli', 'pct_ili', 'pct_cli_anosmia_ageusia', 'pct_hh_cli',\n",
       "       'pct_cmnty_cli', 'pct_hh_fever', 'pct_hh_sore_throat', 'pct_hh_cough',\n",
       "       'pct_hh_shortness_of_breath', 'pct_hh_difficulty_breathing',\n",
       "       'mean_hh_cli_ct', 'mean_cmnty_cli_ct', 'pct_self_fever',\n",
       "       'pct_self_cough', 'pct_self_shortness_of_breath',\n",
       "       'pct_self_difficulty_breathing', 'pct_self_tiredness_or_exhaustion',\n",
       "       'pct_self_nasal_congestion', 'pct_self_runny_nose',\n",
       "       'pct_self_muscle_joint_aches', 'pct_self_sore_throat',\n",
       "       'pct_self_persistent_pain_pressure_in_chest',\n",
       "       'pct_self_nausea_vomiting', 'pct_self_diarrhea',\n",
       "       'pct_self_anosmia_ageusia', 'pct_self_other', 'pct_self_none_of_above',\n",
       "       'pct_self_multiple_symptoms', 'pct_worked_outside_home',\n",
       "       'pct_avoid_contact_all_or_most_time',\n",
       "       'mean_outside_hh_contact_at_work_ct',\n",
       "       'mean_outside_hh_contact_shopping_ct',\n",
       "       'mean_outside_hh_contact_in_social_gatherings_ct', 'pct_diabetes',\n",
       "       'pct_cancer', 'pct_heart_disease', 'pct_high_blood_pressure',\n",
       "       'pct_asthma', 'pct_chronic_lung_disease', 'pct_kidney_disease',\n",
       "       'pct_autoimmune_disorder', 'pct_no_above_medical_conditions',\n",
       "       'pct_multiple_medical_conditions', 'pct_cli_weighted',\n",
       "       'pct_ili_weighted', 'pct_cli_anosmia_ageusia_weighted',\n",
       "       'pct_hh_cli_weighted', 'pct_cmnty_cli_weighted',\n",
       "       'pct_hh_fever_weighted', 'pct_hh_sore_throat_weighted',\n",
       "       'pct_hh_cough_weighted', 'pct_hh_shortness_of_breath_weighted',\n",
       "       'pct_hh_difficulty_breathing_weighted', 'mean_hh_cli_ct_weighted',\n",
       "       'mean_cmnty_cli_ct_weighted', 'pct_self_fever_weighted',\n",
       "       'pct_self_cough_weighted', 'pct_self_shortness_of_breath_weighted',\n",
       "       'pct_self_difficulty_breathing_weighted',\n",
       "       'pct_self_tiredness_or_exhaustion_weighted',\n",
       "       'pct_self_nasal_congestion_weighted', 'pct_self_runny_nose_weighted',\n",
       "       'pct_self_muscle_joint_aches_weighted', 'pct_self_sore_throat_weighted',\n",
       "       'pct_self_persistent_pain_pressure_in_chest_weighted',\n",
       "       'pct_self_nausea_vomiting_weighted', 'pct_self_diarrhea_weighted',\n",
       "       'pct_self_anosmia_ageusia_weighted', 'pct_self_other_weighted',\n",
       "       'pct_self_none_of_above_weighted',\n",
       "       'pct_self_multiple_symptoms_weighted',\n",
       "       'pct_worked_outside_home_weighted',\n",
       "       'pct_avoid_contact_all_or_most_time_weighted',\n",
       "       'mean_outside_hh_contact_at_work_ct_weighted',\n",
       "       'mean_outside_hh_contact_shopping_ct_weighted',\n",
       "       'mean_outside_hh_contact_in_social_gatherings_ct_weighted',\n",
       "       'pct_diabetes_weighted', 'pct_cancer_weighted',\n",
       "       'pct_heart_disease_weighted', 'pct_high_blood_pressure_weighted',\n",
       "       'pct_asthma_weighted', 'pct_chronic_lung_disease_weighted',\n",
       "       'pct_kidney_disease_weighted', 'pct_autoimmune_disorder_weighted',\n",
       "       'pct_no_above_medical_conditions_weighted',\n",
       "       'pct_multiple_medical_conditions_weighted'],\n",
       "      dtype='object')"
      ]
     },
     "execution_count": 7,
     "metadata": {},
     "output_type": "execute_result"
    }
   ],
   "source": [
    "output_like_variables=['pct_tested_and_positive','pct_tested_and_negative', 'pct_tested_no_result', 'pct_could_not_get_tested', 'pct_did_not_try_to_get_tested',\\\n",
    "                       'pct_tested_and_positive_weighted','pct_contact_covid_positive', 'pct_contact_covid_positive_weighted' ,\\\n",
    "                       'pct_tested_and_negative_weighted',\t'pct_tested_no_result_weighted',\t'pct_could_not_get_tested_weighted',\t'pct_did_not_try_to_get_tested_weighted'] \n",
    "                        \n",
    "X=X.drop(output_like_variables,axis=1)\n",
    "X.columns"
   ]
  },
  {
   "cell_type": "code",
   "execution_count": 8,
   "metadata": {},
   "outputs": [
    {
     "name": "stdout",
     "output_type": "stream",
     "text": [
      "47\n"
     ]
    }
   ],
   "source": [
    "unweighted=['n','weight_sums','pct_cli','pct_ili', 'pct_cli_anosmia_ageusia',\\\n",
    "        'pct_hh_cli', 'pct_cmnty_cli', 'pct_hh_fever', 'pct_hh_sore_throat',\\\n",
    "         'pct_hh_cough', 'pct_hh_shortness_of_breath','pct_hh_difficulty_breathing', 'mean_hh_cli_ct', 'mean_cmnty_cli_ct',\\\n",
    "         'pct_self_fever', 'pct_self_cough', 'pct_self_shortness_of_breath',\\\n",
    "         'pct_self_difficulty_breathing', 'pct_self_tiredness_or_exhaustion',\\\n",
    "         'pct_self_nasal_congestion', 'pct_self_runny_nose',\\\n",
    "         'pct_self_muscle_joint_aches', 'pct_self_sore_throat',\n",
    "       'pct_self_persistent_pain_pressure_in_chest',\\\n",
    "       'pct_self_nausea_vomiting', 'pct_self_diarrhea',\\\n",
    "       'pct_self_anosmia_ageusia', 'pct_self_other', 'pct_self_none_of_above',\\\n",
    "       'pct_self_multiple_symptoms', 'pct_worked_outside_home',\\\n",
    "       'pct_avoid_contact_all_or_most_time',\\\n",
    "       'mean_outside_hh_contact_at_work_ct',\\\n",
    "       'mean_outside_hh_contact_shopping_ct',\\\n",
    "       'mean_outside_hh_contact_in_social_gatherings_ct', 'pct_diabetes',\\\n",
    "       'pct_cancer', 'pct_heart_disease', 'pct_high_blood_pressure', \\\n",
    "       'pct_asthma', 'pct_chronic_lung_disease', 'pct_kidney_disease',\\\n",
    "       'pct_autoimmune_disorder', 'pct_no_above_medical_conditions',\\\n",
    "       'pct_multiple_medical_conditions', ]\n",
    "X=X.drop(unweighted,axis=1)\n",
    "n_features = X.shape[1]\n",
    "print(n_features)"
   ]
  },
  {
   "cell_type": "code",
   "execution_count": 9,
   "metadata": {},
   "outputs": [
    {
     "name": "stdout",
     "output_type": "stream",
     "text": [
      "43\n"
     ]
    }
   ],
   "source": [
    "mean_D = ['mean_outside_hh_contact_in_social_gatherings_ct_weighted','mean_cmnty_cli_ct_weighted',\\\n",
    "        'mean_outside_hh_contact_shopping_ct_weighted','mean_outside_hh_contact_at_work_ct_weighted']\n",
    "X=X.drop(mean_D,axis=1)\n",
    "n_features = X.shape[1]\n",
    "print(n_features)"
   ]
  },
  {
   "cell_type": "code",
   "execution_count": 10,
   "metadata": {},
   "outputs": [
    {
     "name": "stdout",
     "output_type": "stream",
     "text": [
      "40\n"
     ]
    }
   ],
   "source": [
    "derived=['pct_ili_weighted','pct_cli_weighted','pct_cli_anosmia_ageusia_weighted',]\n",
    "X=X.drop(derived,axis=1)\n",
    "n_features = X.shape[1]\n",
    "print(n_features)"
   ]
  },
  {
   "cell_type": "markdown",
   "metadata": {},
   "source": [
    "<h2> create demographic-wise data frames </h2>"
   ]
  },
  {
   "cell_type": "code",
   "execution_count": 11,
   "metadata": {},
   "outputs": [],
   "source": [
    "X_male=X[X['gender']=='male']\n",
    "X_female=X[X['gender']=='female']\n",
    "X_young=X[X['age_bucket']=='18-34']\n",
    "X_mid=X[X['age_bucket']=='35-54']\n",
    "X_old=X[X['age_bucket']=='55+']"
   ]
  },
  {
   "cell_type": "markdown",
   "metadata": {},
   "source": [
    "<h2> drop demographic features </h2>"
   ]
  },
  {
   "cell_type": "code",
   "execution_count": 12,
   "metadata": {},
   "outputs": [
    {
     "name": "stdout",
     "output_type": "stream",
     "text": [
      "36\n"
     ]
    },
    {
     "data": {
      "text/html": [
       "<div>\n",
       "<style scoped>\n",
       "    .dataframe tbody tr th:only-of-type {\n",
       "        vertical-align: middle;\n",
       "    }\n",
       "\n",
       "    .dataframe tbody tr th {\n",
       "        vertical-align: top;\n",
       "    }\n",
       "\n",
       "    .dataframe thead th {\n",
       "        text-align: right;\n",
       "    }\n",
       "</style>\n",
       "<table border=\"1\" class=\"dataframe\">\n",
       "  <thead>\n",
       "    <tr style=\"text-align: right;\">\n",
       "      <th></th>\n",
       "      <th>pct_hh_cli_weighted</th>\n",
       "      <th>pct_cmnty_cli_weighted</th>\n",
       "      <th>pct_hh_fever_weighted</th>\n",
       "      <th>pct_hh_sore_throat_weighted</th>\n",
       "      <th>pct_hh_cough_weighted</th>\n",
       "      <th>pct_hh_shortness_of_breath_weighted</th>\n",
       "      <th>pct_hh_difficulty_breathing_weighted</th>\n",
       "      <th>mean_hh_cli_ct_weighted</th>\n",
       "      <th>pct_self_fever_weighted</th>\n",
       "      <th>pct_self_cough_weighted</th>\n",
       "      <th>...</th>\n",
       "      <th>pct_diabetes_weighted</th>\n",
       "      <th>pct_cancer_weighted</th>\n",
       "      <th>pct_heart_disease_weighted</th>\n",
       "      <th>pct_high_blood_pressure_weighted</th>\n",
       "      <th>pct_asthma_weighted</th>\n",
       "      <th>pct_chronic_lung_disease_weighted</th>\n",
       "      <th>pct_kidney_disease_weighted</th>\n",
       "      <th>pct_autoimmune_disorder_weighted</th>\n",
       "      <th>pct_no_above_medical_conditions_weighted</th>\n",
       "      <th>pct_multiple_medical_conditions_weighted</th>\n",
       "    </tr>\n",
       "  </thead>\n",
       "  <tbody>\n",
       "    <tr>\n",
       "      <th>2350</th>\n",
       "      <td>0.5417</td>\n",
       "      <td>28.4427</td>\n",
       "      <td>0.5417</td>\n",
       "      <td>13.2862</td>\n",
       "      <td>29.7366</td>\n",
       "      <td>6.7456</td>\n",
       "      <td>5.9893</td>\n",
       "      <td>0.2042</td>\n",
       "      <td>0.0000</td>\n",
       "      <td>20.8051</td>\n",
       "      <td>...</td>\n",
       "      <td>3.9268</td>\n",
       "      <td>0.3763</td>\n",
       "      <td>2.2387</td>\n",
       "      <td>9.1461</td>\n",
       "      <td>14.0375</td>\n",
       "      <td>0.0000</td>\n",
       "      <td>0.0000</td>\n",
       "      <td>3.1909</td>\n",
       "      <td>70.0717</td>\n",
       "      <td>2.2785</td>\n",
       "    </tr>\n",
       "    <tr>\n",
       "      <th>2351</th>\n",
       "      <td>3.3287</td>\n",
       "      <td>22.7135</td>\n",
       "      <td>5.1090</td>\n",
       "      <td>9.1873</td>\n",
       "      <td>17.1283</td>\n",
       "      <td>5.8479</td>\n",
       "      <td>3.6074</td>\n",
       "      <td>243.1850</td>\n",
       "      <td>3.3699</td>\n",
       "      <td>14.6460</td>\n",
       "      <td>...</td>\n",
       "      <td>10.2654</td>\n",
       "      <td>1.4028</td>\n",
       "      <td>3.8820</td>\n",
       "      <td>30.0390</td>\n",
       "      <td>14.9271</td>\n",
       "      <td>5.7298</td>\n",
       "      <td>0.0000</td>\n",
       "      <td>10.6853</td>\n",
       "      <td>49.2702</td>\n",
       "      <td>17.9230</td>\n",
       "    </tr>\n",
       "    <tr>\n",
       "      <th>2352</th>\n",
       "      <td>0.7340</td>\n",
       "      <td>11.6848</td>\n",
       "      <td>1.2775</td>\n",
       "      <td>5.2238</td>\n",
       "      <td>18.2007</td>\n",
       "      <td>6.9084</td>\n",
       "      <td>2.6305</td>\n",
       "      <td>0.1186</td>\n",
       "      <td>1.6240</td>\n",
       "      <td>13.8949</td>\n",
       "      <td>...</td>\n",
       "      <td>21.7870</td>\n",
       "      <td>10.0665</td>\n",
       "      <td>8.4887</td>\n",
       "      <td>59.0565</td>\n",
       "      <td>15.1619</td>\n",
       "      <td>10.5929</td>\n",
       "      <td>4.0285</td>\n",
       "      <td>12.0755</td>\n",
       "      <td>21.7587</td>\n",
       "      <td>40.0636</td>\n",
       "    </tr>\n",
       "    <tr>\n",
       "      <th>2353</th>\n",
       "      <td>0.0000</td>\n",
       "      <td>15.4023</td>\n",
       "      <td>0.0000</td>\n",
       "      <td>12.3865</td>\n",
       "      <td>20.0326</td>\n",
       "      <td>9.9593</td>\n",
       "      <td>4.6353</td>\n",
       "      <td>0.1451</td>\n",
       "      <td>0.0000</td>\n",
       "      <td>17.0680</td>\n",
       "      <td>...</td>\n",
       "      <td>12.2051</td>\n",
       "      <td>1.4869</td>\n",
       "      <td>1.3766</td>\n",
       "      <td>43.8301</td>\n",
       "      <td>10.7819</td>\n",
       "      <td>5.8744</td>\n",
       "      <td>0.0000</td>\n",
       "      <td>5.8113</td>\n",
       "      <td>44.2455</td>\n",
       "      <td>20.2207</td>\n",
       "    </tr>\n",
       "    <tr>\n",
       "      <th>2354</th>\n",
       "      <td>3.0909</td>\n",
       "      <td>7.8796</td>\n",
       "      <td>3.0909</td>\n",
       "      <td>2.0401</td>\n",
       "      <td>15.9014</td>\n",
       "      <td>5.9498</td>\n",
       "      <td>2.6902</td>\n",
       "      <td>450.1713</td>\n",
       "      <td>2.0408</td>\n",
       "      <td>8.3941</td>\n",
       "      <td>...</td>\n",
       "      <td>23.5848</td>\n",
       "      <td>11.5621</td>\n",
       "      <td>23.2836</td>\n",
       "      <td>58.7448</td>\n",
       "      <td>7.0642</td>\n",
       "      <td>9.1341</td>\n",
       "      <td>2.4027</td>\n",
       "      <td>6.4712</td>\n",
       "      <td>26.2613</td>\n",
       "      <td>44.5437</td>\n",
       "    </tr>\n",
       "  </tbody>\n",
       "</table>\n",
       "<p>5 rows × 36 columns</p>\n",
       "</div>"
      ],
      "text/plain": [
       "      pct_hh_cli_weighted  pct_cmnty_cli_weighted  pct_hh_fever_weighted  \\\n",
       "2350               0.5417                 28.4427                 0.5417   \n",
       "2351               3.3287                 22.7135                 5.1090   \n",
       "2352               0.7340                 11.6848                 1.2775   \n",
       "2353               0.0000                 15.4023                 0.0000   \n",
       "2354               3.0909                  7.8796                 3.0909   \n",
       "\n",
       "      pct_hh_sore_throat_weighted  pct_hh_cough_weighted  \\\n",
       "2350                      13.2862                29.7366   \n",
       "2351                       9.1873                17.1283   \n",
       "2352                       5.2238                18.2007   \n",
       "2353                      12.3865                20.0326   \n",
       "2354                       2.0401                15.9014   \n",
       "\n",
       "      pct_hh_shortness_of_breath_weighted  \\\n",
       "2350                               6.7456   \n",
       "2351                               5.8479   \n",
       "2352                               6.9084   \n",
       "2353                               9.9593   \n",
       "2354                               5.9498   \n",
       "\n",
       "      pct_hh_difficulty_breathing_weighted  mean_hh_cli_ct_weighted  \\\n",
       "2350                                5.9893                   0.2042   \n",
       "2351                                3.6074                 243.1850   \n",
       "2352                                2.6305                   0.1186   \n",
       "2353                                4.6353                   0.1451   \n",
       "2354                                2.6902                 450.1713   \n",
       "\n",
       "      pct_self_fever_weighted  pct_self_cough_weighted  ...  \\\n",
       "2350                   0.0000                  20.8051  ...   \n",
       "2351                   3.3699                  14.6460  ...   \n",
       "2352                   1.6240                  13.8949  ...   \n",
       "2353                   0.0000                  17.0680  ...   \n",
       "2354                   2.0408                   8.3941  ...   \n",
       "\n",
       "      pct_diabetes_weighted  pct_cancer_weighted  pct_heart_disease_weighted  \\\n",
       "2350                 3.9268               0.3763                      2.2387   \n",
       "2351                10.2654               1.4028                      3.8820   \n",
       "2352                21.7870              10.0665                      8.4887   \n",
       "2353                12.2051               1.4869                      1.3766   \n",
       "2354                23.5848              11.5621                     23.2836   \n",
       "\n",
       "      pct_high_blood_pressure_weighted  pct_asthma_weighted  \\\n",
       "2350                            9.1461              14.0375   \n",
       "2351                           30.0390              14.9271   \n",
       "2352                           59.0565              15.1619   \n",
       "2353                           43.8301              10.7819   \n",
       "2354                           58.7448               7.0642   \n",
       "\n",
       "      pct_chronic_lung_disease_weighted  pct_kidney_disease_weighted  \\\n",
       "2350                             0.0000                       0.0000   \n",
       "2351                             5.7298                       0.0000   \n",
       "2352                            10.5929                       4.0285   \n",
       "2353                             5.8744                       0.0000   \n",
       "2354                             9.1341                       2.4027   \n",
       "\n",
       "      pct_autoimmune_disorder_weighted  \\\n",
       "2350                            3.1909   \n",
       "2351                           10.6853   \n",
       "2352                           12.0755   \n",
       "2353                            5.8113   \n",
       "2354                            6.4712   \n",
       "\n",
       "      pct_no_above_medical_conditions_weighted  \\\n",
       "2350                                   70.0717   \n",
       "2351                                   49.2702   \n",
       "2352                                   21.7587   \n",
       "2353                                   44.2455   \n",
       "2354                                   26.2613   \n",
       "\n",
       "      pct_multiple_medical_conditions_weighted  \n",
       "2350                                    2.2785  \n",
       "2351                                   17.9230  \n",
       "2352                                   40.0636  \n",
       "2353                                   20.2207  \n",
       "2354                                   44.5437  \n",
       "\n",
       "[5 rows x 36 columns]"
      ]
     },
     "execution_count": 12,
     "metadata": {},
     "output_type": "execute_result"
    }
   ],
   "source": [
    "X=X.drop(['state_code','gender','age_bucket', 'date'],axis=1)\n",
    "n_features = X.shape[1]\n",
    "print(n_features)\n",
    "X.head()"
   ]
  },
  {
   "cell_type": "code",
   "execution_count": 13,
   "metadata": {},
   "outputs": [
    {
     "data": {
      "text/plain": [
       "Index(['pct_hh_cli_weighted', 'pct_cmnty_cli_weighted',\n",
       "       'pct_hh_fever_weighted', 'pct_hh_sore_throat_weighted',\n",
       "       'pct_hh_cough_weighted', 'pct_hh_shortness_of_breath_weighted',\n",
       "       'pct_hh_difficulty_breathing_weighted', 'mean_hh_cli_ct_weighted',\n",
       "       'pct_self_fever_weighted', 'pct_self_cough_weighted',\n",
       "       'pct_self_shortness_of_breath_weighted',\n",
       "       'pct_self_difficulty_breathing_weighted',\n",
       "       'pct_self_tiredness_or_exhaustion_weighted',\n",
       "       'pct_self_nasal_congestion_weighted', 'pct_self_runny_nose_weighted',\n",
       "       'pct_self_muscle_joint_aches_weighted', 'pct_self_sore_throat_weighted',\n",
       "       'pct_self_persistent_pain_pressure_in_chest_weighted',\n",
       "       'pct_self_nausea_vomiting_weighted', 'pct_self_diarrhea_weighted',\n",
       "       'pct_self_anosmia_ageusia_weighted', 'pct_self_other_weighted',\n",
       "       'pct_self_none_of_above_weighted',\n",
       "       'pct_self_multiple_symptoms_weighted',\n",
       "       'pct_worked_outside_home_weighted',\n",
       "       'pct_avoid_contact_all_or_most_time_weighted', 'pct_diabetes_weighted',\n",
       "       'pct_cancer_weighted', 'pct_heart_disease_weighted',\n",
       "       'pct_high_blood_pressure_weighted', 'pct_asthma_weighted',\n",
       "       'pct_chronic_lung_disease_weighted', 'pct_kidney_disease_weighted',\n",
       "       'pct_autoimmune_disorder_weighted',\n",
       "       'pct_no_above_medical_conditions_weighted',\n",
       "       'pct_multiple_medical_conditions_weighted'],\n",
       "      dtype='object')"
      ]
     },
     "execution_count": 13,
     "metadata": {},
     "output_type": "execute_result"
    }
   ],
   "source": [
    "X.columns"
   ]
  },
  {
   "cell_type": "code",
   "execution_count": 14,
   "metadata": {
    "id": "3gw1o10qAgfu"
   },
   "outputs": [],
   "source": [
    "X_male=X_male.drop(['state_code','gender','age_bucket', 'date'],axis=1)\n",
    "X_female=X_female.drop(['state_code','gender','age_bucket', 'date'],axis=1)\n",
    "X_young=X_young.drop(['state_code','gender','age_bucket', 'date'],axis=1)\n",
    "X_mid=X_mid.drop(['state_code','gender','age_bucket', 'date'],axis=1)\n",
    "X_old=X_old.drop(['state_code','gender','age_bucket', 'date'],axis=1)\n"
   ]
  },
  {
   "cell_type": "markdown",
   "metadata": {},
   "source": [
    "please note that the results of this code might be slighlty different than the results reported in the paper due to random state"
   ]
  },
  {
   "cell_type": "markdown",
   "metadata": {},
   "source": [
    "<h2> Entire data : feature ranking, n_features vs error</h2>"
   ]
  },
  {
   "cell_type": "code",
   "execution_count": 15,
   "metadata": {
    "id": "YW2X5gwwAH2C",
    "scrolled": true
   },
   "outputs": [
    {
     "name": "stdout",
     "output_type": "stream",
     "text": [
      "pct_cmnty_cli_weighted [14938.48816456]\n",
      "pct_self_anosmia_ageusia_weighted [9498.89229794]\n",
      "pct_hh_cli_weighted [6050.88250153]\n",
      "pct_hh_fever_weighted [5490.15612527]\n",
      "pct_self_fever_weighted [4388.95759983]\n",
      "pct_hh_sore_throat_weighted [1787.42269067]\n",
      "pct_avoid_contact_all_or_most_time_weighted [1494.25038393]\n",
      "pct_hh_difficulty_breathing_weighted [1330.48793481]\n",
      "pct_self_persistent_pain_pressure_in_chest_weighted [1257.78331468]\n",
      "pct_self_runny_nose_weighted [1084.84412662]\n",
      "pct_worked_outside_home_weighted [1023.50285601]\n",
      "pct_self_nausea_vomiting_weighted [1016.94758914]\n",
      "pct_hh_shortness_of_breath_weighted [1004.67944587]\n",
      "pct_self_sore_throat_weighted [975.25614266]\n",
      "pct_self_difficulty_breathing_weighted [723.49150048]\n",
      "pct_asthma_weighted [466.91243179]\n",
      "pct_self_shortness_of_breath_weighted [440.88344033]\n",
      "pct_hh_cough_weighted [322.05679444]\n",
      "pct_self_none_of_above_weighted [241.72819985]\n",
      "pct_self_diarrhea_weighted [228.59465358]\n",
      "pct_chronic_lung_disease_weighted [224.24651285]\n",
      "pct_cancer_weighted [205.19827073]\n",
      "pct_self_other_weighted [158.31567587]\n",
      "pct_self_tiredness_or_exhaustion_weighted [134.36715409]\n",
      "pct_self_cough_weighted [84.66549815]\n",
      "pct_no_above_medical_conditions_weighted [84.40193799]\n",
      "pct_heart_disease_weighted [74.71994609]\n",
      "pct_multiple_medical_conditions_weighted [52.61630823]\n",
      "pct_autoimmune_disorder_weighted [40.8942176]\n",
      "pct_self_nasal_congestion_weighted [33.60170138]\n",
      "pct_kidney_disease_weighted [23.88450351]\n",
      "mean_hh_cli_ct_weighted [14.52969291]\n",
      "pct_self_multiple_symptoms_weighted [12.56805547]\n",
      "pct_self_muscle_joint_aches_weighted [1.72398411]\n",
      "pct_high_blood_pressure_weighted [0.48328156]\n",
      "pct_diabetes_weighted [0.24390025]\n"
     ]
    }
   ],
   "source": [
    "features=[]\n",
    "X_copy=X.copy()\n",
    "for _ in range(n_features):\n",
    "    X_reg_new = SelectKBest(score_func=f_regression, k=1).fit_transform(X_copy,y)\n",
    "    to_comp = np.squeeze(X_reg_new)\n",
    "    cols = X.columns\n",
    "    for c in cols:\n",
    "        cur_col=np.array(X[c])\n",
    "        if np.allclose(to_comp,cur_col):\n",
    "            selected_feature=c\n",
    "            features.append(selected_feature)\n",
    "            print (selected_feature,f_regression(X[[selected_feature]],y)[0])\n",
    "    X_copy=X_copy.drop(selected_feature,axis=1)"
   ]
  },
  {
   "cell_type": "code",
   "execution_count": 16,
   "metadata": {
    "id": "JIAn8bsF5oip",
    "scrolled": true
   },
   "outputs": [
    {
     "name": "stdout",
     "output_type": "stream",
     "text": [
      "1 1.3097044321519902 70.83696620451401\n",
      "2 1.2744905490937342 67.80841495680669\n",
      "3 1.2662324022686333 67.1597723167108\n",
      "4 1.2668949125752034 67.19165940293438\n",
      "5 1.2668978424182762 67.15886604962317\n",
      "6 1.2345473996327496 65.85896175108597\n",
      "7 1.2100762049885516 64.35530584228721\n",
      "8 1.2079035579259378 64.29083013826981\n",
      "9 1.206732559787575 64.26370649385885\n",
      "10 1.1697689221257423 61.87972414852448\n",
      "11 1.1648780009318833 61.670127211067374\n",
      "12 1.163509150939364 61.57060260824253\n",
      "13 1.1636581594503803 61.549972884611904\n",
      "14 1.161014676806029 61.455972138300474\n",
      "15 1.1607282129330978 61.466508067905934\n",
      "16 1.1611785253847342 61.5176665409902\n",
      "17 1.160472498702247 61.48874043074153\n",
      "18 1.1589490038742734 61.342878313467075\n",
      "19 1.1439339264105388 60.875132587449635\n",
      "20 1.143289545741507 60.8599214044199\n",
      "21 1.1433352434764592 60.83514190297471\n",
      "22 1.1431051186670065 60.789110494488355\n",
      "23 1.1430087868835577 60.75753111356642\n",
      "24 1.1437359283269166 60.84907913962249\n",
      "25 1.142909142990814 60.824438558173654\n",
      "26 1.1429129225172645 60.80321048223413\n",
      "27 1.143633094243074 60.81938282471271\n",
      "28 1.1421883068692762 60.731861773102516\n",
      "29 1.141971447298554 60.74019667408914\n",
      "30 1.141343177345178 60.68475017701238\n",
      "31 1.1416284495312605 60.69025101595989\n",
      "32 1.1402589774804994 60.49339698138023\n",
      "33 1.1406087499549882 60.501895185832666\n",
      "34 1.1400039863372164 60.46288190233694\n",
      "35 1.1394478616297419 60.416425577538256\n",
      "36 1.1400022796116172 60.44100820439563\n"
     ]
    }
   ],
   "source": [
    "gb_rel_errors=[]\n",
    "gb_abs_errors=[]\n",
    "for i in range(1,len(features)+1):\n",
    "    X_train, X_test, y_train, y_test = train_test_split(X[features[:i]], y, test_size=0.2, random_state=42)\n",
    "    reg = GradientBoostingRegressor()\n",
    "    reg = reg.fit(X_train,y_train)\n",
    "    y_pred= reg.predict(X_test)\n",
    "    yp_l=list(y_pred)\n",
    "    yt_l=list(y_test)\n",
    "    pct_sm=0\n",
    "    abs_sum = 0\n",
    "    for j in range(len(y_pred)):\n",
    "        diff=abs(yp_l[j]-yt_l[j])\n",
    "        abs_sum += diff\n",
    "        pct= diff/(yt_l[j]+1)\n",
    "        pct_sm+= pct\n",
    "    rel_error=pct_sm/len(y_pred)\n",
    "    abs_error = abs_sum/len(y_pred)\n",
    "    gb_rel_errors.append(rel_error*100)\n",
    "    gb_abs_errors.append(abs_error)\n",
    "    print(i,abs_error,rel_error*100)"
   ]
  },
  {
   "cell_type": "code",
   "execution_count": 17,
   "metadata": {},
   "outputs": [
    {
     "data": {
      "image/png": "[encoded data removed]",
      "text/plain": [
       "<Figure size 432x288 with 1 Axes>"
      ]
     },
     "metadata": {
      "needs_background": "light"
     },
     "output_type": "display_data"
    }
   ],
   "source": [
    "plt.plot(range(1,len(features)+1),gb_abs_errors)\n",
    "plt.xlabel('n features')\n",
    "plt.ylabel('mean absolute error')\n",
    "plt.title('gradient boost on all data')\n",
    "plt.show()"
   ]
  },
  {
   "cell_type": "code",
   "execution_count": 18,
   "metadata": {},
   "outputs": [
    {
     "data": {
      "image/png": "[encoded data removed]",
      "text/plain": [
       "<Figure size 432x288 with 1 Axes>"
      ]
     },
     "metadata": {
      "needs_background": "light"
     },
     "output_type": "display_data"
    }
   ],
   "source": [
    "plt.plot(range(1,len(features)+1),gb_rel_errors)\n",
    "plt.xlabel('n features')\n",
    "plt.ylabel('mean relative error percent')\n",
    "plt.title('gradient boost on all data')\n",
    "plt.show()"
   ]
  },
  {
   "cell_type": "markdown",
   "metadata": {},
   "source": [
    "<h2> Gender-wise data split: feature ranking, n_features vs error</h2>"
   ]
  },
  {
   "cell_type": "code",
   "execution_count": 19,
   "metadata": {
    "scrolled": true
   },
   "outputs": [
    {
     "name": "stdout",
     "output_type": "stream",
     "text": [
      "pct_cmnty_cli_weighted [2407.14229475]\n",
      "pct_self_anosmia_ageusia_weighted [1380.56860526]\n",
      "pct_hh_cli_weighted [1086.75980345]\n",
      "pct_hh_fever_weighted [1012.94190041]\n",
      "pct_self_fever_weighted [859.96872823]\n",
      "pct_self_runny_nose_weighted [408.77778313]\n",
      "pct_avoid_contact_all_or_most_time_weighted [296.26286959]\n",
      "pct_worked_outside_home_weighted [253.57837436]\n",
      "pct_hh_sore_throat_weighted [212.75853187]\n",
      "pct_hh_difficulty_breathing_weighted [195.22571486]\n",
      "pct_self_none_of_above_weighted [181.87446178]\n",
      "pct_self_nausea_vomiting_weighted [159.75266575]\n",
      "pct_hh_shortness_of_breath_weighted [126.68894677]\n",
      "pct_self_persistent_pain_pressure_in_chest_weighted [124.63106422]\n",
      "pct_self_nasal_congestion_weighted [108.27352384]\n",
      "pct_asthma_weighted [102.7759214]\n",
      "pct_self_difficulty_breathing_weighted [93.50802788]\n",
      "pct_self_sore_throat_weighted [76.66660488]\n",
      "pct_self_multiple_symptoms_weighted [71.14029889]\n",
      "pct_self_other_weighted [46.74987607]\n",
      "pct_self_shortness_of_breath_weighted [39.00815985]\n",
      "pct_chronic_lung_disease_weighted [37.2444183]\n",
      "pct_autoimmune_disorder_weighted [21.73934803]\n",
      "pct_self_diarrhea_weighted [21.42429476]\n",
      "pct_self_muscle_joint_aches_weighted [13.55791309]\n",
      "pct_cancer_weighted [13.52883051]\n",
      "mean_hh_cli_ct_weighted [10.98229362]\n",
      "pct_hh_cough_weighted [7.76685889]\n",
      "pct_no_above_medical_conditions_weighted [7.53575042]\n",
      "pct_heart_disease_weighted [6.23389393]\n",
      "pct_multiple_medical_conditions_weighted [5.42003318]\n",
      "pct_self_tiredness_or_exhaustion_weighted [2.094108]\n",
      "pct_self_cough_weighted [0.27242989]\n",
      "pct_kidney_disease_weighted [0.21182826]\n",
      "pct_diabetes_weighted [0.08698275]\n",
      "pct_high_blood_pressure_weighted [0.02779259]\n"
     ]
    }
   ],
   "source": [
    "male_errors=[]\n",
    "male_features=[]\n",
    "X_copy=X_male.copy()\n",
    "for _ in range(n_features):\n",
    "    X_reg_new = SelectKBest(score_func=f_regression, k=1).fit_transform(X_copy,y_male)\n",
    "    to_comp = np.squeeze(X_reg_new)\n",
    "    cols = X_male.columns\n",
    "    for c in cols:\n",
    "        cur_col=np.array(X_male[c])\n",
    "        if np.allclose(to_comp,cur_col):\n",
    "            selected_feature=c\n",
    "            male_features.append(selected_feature)\n",
    "            print (selected_feature,f_regression(X_male[[selected_feature]],y_male)[0])\n",
    "\n",
    "    \n",
    "    X_copy=X_copy.drop(selected_feature,axis=1)"
   ]
  },
  {
   "cell_type": "code",
   "execution_count": 20,
   "metadata": {},
   "outputs": [
    {
     "name": "stdout",
     "output_type": "stream",
     "text": [
      "1 1.5242267394698474 86.14274769393134\n",
      "2 1.4851911804780882 82.5818699516567\n",
      "3 1.4752676839578795 81.90540819786352\n",
      "4 1.4722757965979658 81.77327877304816\n",
      "5 1.4732678978502607 82.0212097635695\n",
      "6 1.4172971684880984 78.86535687394333\n",
      "7 1.4100821886428176 78.51030670763787\n",
      "8 1.4074696574528338 78.57755130831593\n",
      "9 1.4048673736044313 78.44548772731197\n",
      "10 1.4059336584229165 78.48307965495992\n",
      "11 1.3891173993315336 77.69737304635825\n",
      "12 1.389273660641988 77.63803936831977\n",
      "13 1.3900049226942144 77.6594421557655\n",
      "14 1.3909258367640152 77.7331359639622\n",
      "15 1.391354966016801 77.88718800988998\n",
      "16 1.3911173301795978 77.82461131848811\n",
      "17 1.3927733933489352 77.90430243189212\n",
      "18 1.389634735373931 77.6875167525605\n",
      "19 1.3925121904585793 77.91012170573339\n",
      "20 1.3950271439592383 78.07380956435473\n",
      "21 1.3952087583352588 78.11736449224966\n",
      "22 1.3932414820162962 78.0025604201707\n",
      "23 1.3954951267377644 78.15919722786585\n",
      "24 1.3963009298031188 78.28224000815112\n",
      "25 1.3953957202901828 78.20457413456742\n",
      "26 1.3930303859759463 78.08543001918281\n",
      "27 1.38843927150271 77.4812084467115\n",
      "28 1.391014759132353 77.70449211077671\n",
      "29 1.3874850318817509 77.44582014417165\n",
      "30 1.3898743720292384 77.55409851544377\n",
      "31 1.3859423691584383 77.33760661333338\n",
      "32 1.3870688375980378 77.47580687532725\n",
      "33 1.3872140666405934 77.49093501998951\n",
      "34 1.3853847881670565 77.38859242077496\n",
      "35 1.3877088442149497 77.47825516268382\n",
      "36 1.389319403178823 77.67710782313054\n"
     ]
    },
    {
     "data": {
      "image/png": "[encoded data removed]",
      "text/plain": [
       "<Figure size 432x288 with 1 Axes>"
      ]
     },
     "metadata": {
      "needs_background": "light"
     },
     "output_type": "display_data"
    },
    {
     "data": {
      "image/png": "[encoded data removed]",
      "text/plain": [
       "<Figure size 432x288 with 1 Axes>"
      ]
     },
     "metadata": {
      "needs_background": "light"
     },
     "output_type": "display_data"
    }
   ],
   "source": [
    "male_gb_rel_errors=[]\n",
    "male_gb_abs_errors=[]\n",
    "for i in range(1,len(features)+1):\n",
    "    X_train, X_test, y_train, y_test = train_test_split(X_male[male_features[:i]], y_male, test_size=0.2, random_state=42)\n",
    "    reg = GradientBoostingRegressor()\n",
    "    reg = reg.fit(X_train,y_train)\n",
    "    y_pred= reg.predict(X_test)\n",
    "    yp_l=list(y_pred)\n",
    "    yt_l=list(y_test)\n",
    "    pct_sm=0\n",
    "    abs_sum = 0\n",
    "    for j in range(len(y_pred)):\n",
    "        diff=abs(yp_l[j]-yt_l[j])\n",
    "        abs_sum += diff\n",
    "        pct= diff/(yt_l[j]+1)\n",
    "        pct_sm+= pct\n",
    "    rel_error=pct_sm/len(y_pred)\n",
    "    abs_error = abs_sum/len(y_pred)\n",
    "    male_gb_rel_errors.append(rel_error*100)\n",
    "    male_gb_abs_errors.append(abs_error)\n",
    "    print(i,abs_error,rel_error*100)\n",
    "    \n",
    "plt.plot(range(1,len(male_features)+1),male_gb_abs_errors)\n",
    "plt.xlabel('n features')\n",
    "plt.ylabel('mean absolute error')\n",
    "plt.title('gradient boost on male data')\n",
    "plt.show()\n",
    "\n",
    "plt.plot(range(1,len(male_features)+1),male_gb_rel_errors)\n",
    "plt.xlabel('n features')\n",
    "plt.ylabel('mean relative error percent')\n",
    "plt.title('gradient boost on male data')\n",
    "plt.show()"
   ]
  },
  {
   "cell_type": "code",
   "execution_count": 21,
   "metadata": {
    "scrolled": true
   },
   "outputs": [
    {
     "name": "stdout",
     "output_type": "stream",
     "text": [
      "pct_cmnty_cli_weighted [6180.94999881]\n",
      "pct_self_anosmia_ageusia_weighted [4906.29907776]\n",
      "pct_hh_cli_weighted [2640.74596388]\n",
      "pct_hh_fever_weighted [2309.26247761]\n",
      "pct_self_fever_weighted [1788.87628267]\n",
      "pct_hh_sore_throat_weighted [898.56034475]\n",
      "pct_self_persistent_pain_pressure_in_chest_weighted [759.03073481]\n",
      "pct_avoid_contact_all_or_most_time_weighted [700.90150378]\n",
      "pct_hh_difficulty_breathing_weighted [700.74356967]\n",
      "pct_worked_outside_home_weighted [593.26190651]\n",
      "pct_self_sore_throat_weighted [529.52875618]\n",
      "pct_hh_shortness_of_breath_weighted [519.27191616]\n",
      "pct_asthma_weighted [471.02672799]\n",
      "pct_self_nausea_vomiting_weighted [461.36729902]\n",
      "pct_self_difficulty_breathing_weighted [404.58327699]\n",
      "pct_self_runny_nose_weighted [295.17732452]\n",
      "pct_self_shortness_of_breath_weighted [285.17271919]\n",
      "pct_hh_cough_weighted [263.35138725]\n",
      "pct_cancer_weighted [149.72335455]\n",
      "pct_self_cough_weighted [109.0435853]\n",
      "pct_self_diarrhea_weighted [101.97986609]\n",
      "pct_chronic_lung_disease_weighted [100.44782171]\n",
      "pct_autoimmune_disorder_weighted [82.18246587]\n",
      "pct_self_other_weighted [77.7623208]\n",
      "pct_self_tiredness_or_exhaustion_weighted [71.91461481]\n",
      "pct_self_none_of_above_weighted [48.50323225]\n",
      "pct_no_above_medical_conditions_weighted [41.4475446]\n",
      "pct_heart_disease_weighted [25.00049249]\n",
      "pct_multiple_medical_conditions_weighted [23.17712935]\n",
      "pct_kidney_disease_weighted [16.74041258]\n",
      "pct_self_muscle_joint_aches_weighted [3.79335968]\n",
      "pct_diabetes_weighted [3.78487033]\n",
      "pct_high_blood_pressure_weighted [1.19578958]\n",
      "mean_hh_cli_ct_weighted [0.83745739]\n",
      "pct_self_multiple_symptoms_weighted [0.80101917]\n",
      "pct_self_nasal_congestion_weighted [0.40015422]\n"
     ]
    }
   ],
   "source": [
    "female_features=[]\n",
    "X_copy=X_female.copy()\n",
    "for _ in range(n_features):\n",
    "    X_reg_new = SelectKBest(score_func=f_regression, k=1).fit_transform(X_copy,y_female)\n",
    "    to_comp = np.squeeze(X_reg_new)\n",
    "    cols = X_female.columns\n",
    "    for c in cols:\n",
    "        cur_col=np.array(X_female[c])\n",
    "        if np.allclose(to_comp,cur_col):\n",
    "            selected_feature=c\n",
    "            female_features.append(selected_feature)\n",
    "            print (selected_feature,f_regression(X_female[[selected_feature]],y_female)[0])\n",
    "\n",
    "    X_copy=X_copy.drop(selected_feature,axis=1)"
   ]
  },
  {
   "cell_type": "code",
   "execution_count": 22,
   "metadata": {},
   "outputs": [
    {
     "name": "stdout",
     "output_type": "stream",
     "text": [
      "1 1.2955488216710864 69.54484214042775\n",
      "2 1.2377941480089356 65.31793663538265\n",
      "3 1.2340982365705102 65.12655450392143\n",
      "4 1.2338901377456353 65.02681153813727\n",
      "5 1.2343474078283458 65.12872781421783\n",
      "6 1.1972902970568182 63.21317626559926\n",
      "7 1.1974591520408229 63.21468119518641\n",
      "8 1.1759121683169307 62.19393380812066\n",
      "9 1.1777819484179726 62.43228306739687\n",
      "10 1.1681390830838427 61.78683292173459\n",
      "11 1.1604478586574596 61.54496717066098\n",
      "12 1.1591810842341308 61.382946072247826\n",
      "13 1.1493951859413614 60.899875840296325\n",
      "14 1.1456362903470398 60.79025594574634\n",
      "15 1.1505984132818112 61.27019900166992\n",
      "16 1.1263737272970866 59.40668426162045\n",
      "17 1.125091008333057 59.294675334021306\n",
      "18 1.1212160808194755 59.162996752926745\n",
      "19 1.113104817169604 58.56330624764148\n",
      "20 1.113703875905053 58.58453262832938\n",
      "21 1.1136019658629195 58.56847697965398\n",
      "22 1.1165884432258921 58.78138705050464\n",
      "23 1.115450491535979 58.62432311862719\n",
      "24 1.1158006036747417 58.76538572129913\n",
      "25 1.1103545797518295 58.53785875661636\n",
      "26 1.1031378296683254 58.078874102663626\n",
      "27 1.1012367866958226 57.90765842837742\n",
      "28 1.102772839803158 58.06701387832713\n",
      "29 1.1022683501975952 58.051132640412895\n",
      "30 1.1021778561410072 57.995758349210305\n",
      "31 1.1048576599011437 58.25070670380656\n",
      "32 1.1021532415903246 58.01910993772702\n",
      "33 1.1047675852563636 58.297516714337746\n",
      "34 1.1045669064959178 58.186464035171916\n",
      "35 1.100040307502153 57.87062520021428\n",
      "36 1.100349769972846 57.97130075836964\n"
     ]
    },
    {
     "data": {
      "image/png": "[encoded data removed]",
      "text/plain": [
       "<Figure size 432x288 with 1 Axes>"
      ]
     },
     "metadata": {
      "needs_background": "light"
     },
     "output_type": "display_data"
    },
    {
     "data": {
      "image/png": "[encoded data removed]",
      "text/plain": [
       "<Figure size 432x288 with 1 Axes>"
      ]
     },
     "metadata": {
      "needs_background": "light"
     },
     "output_type": "display_data"
    }
   ],
   "source": [
    "female_gb_rel_errors=[]\n",
    "female_gb_abs_errors=[]\n",
    "for i in range(1,len(features)+1):\n",
    "    X_train, X_test, y_train, y_test = train_test_split(X_female[female_features[:i]], y_female, test_size=0.2, random_state=42)\n",
    "    reg = GradientBoostingRegressor()\n",
    "    reg = reg.fit(X_train,y_train)\n",
    "    y_pred= reg.predict(X_test)\n",
    "    yp_l=list(y_pred)\n",
    "    yt_l=list(y_test)\n",
    "    pct_sm=0\n",
    "    abs_sum = 0\n",
    "    for j in range(len(y_pred)):\n",
    "        diff=abs(yp_l[j]-yt_l[j])\n",
    "        abs_sum += diff\n",
    "        pct= diff/(yt_l[j]+1)\n",
    "        pct_sm+= pct\n",
    "    rel_error=pct_sm/len(y_pred)\n",
    "    abs_error = abs_sum/len(y_pred)\n",
    "    female_gb_rel_errors.append(rel_error*100)\n",
    "    female_gb_abs_errors.append(abs_error)\n",
    "    print(i,abs_error,rel_error*100)\n",
    "    \n",
    "plt.plot(range(1,len(female_features)+1),female_gb_abs_errors)\n",
    "plt.xlabel('n features')\n",
    "plt.ylabel('mean absolute error')\n",
    "plt.title('gradient boost on female data')\n",
    "plt.show()\n",
    "\n",
    "plt.plot(range(1,len(female_features)+1),female_gb_rel_errors)\n",
    "plt.xlabel('n features')\n",
    "plt.ylabel('mean relative error percent')\n",
    "plt.title('gradient boost on female data')\n",
    "plt.show()"
   ]
  },
  {
   "cell_type": "markdown",
   "metadata": {},
   "source": [
    "<h2> Age-wise data split: feature ranking, n_features vs error</h2>"
   ]
  },
  {
   "cell_type": "code",
   "execution_count": 23,
   "metadata": {
    "scrolled": true
   },
   "outputs": [
    {
     "name": "stdout",
     "output_type": "stream",
     "text": [
      "pct_cmnty_cli_weighted [3318.92515757]\n",
      "pct_self_anosmia_ageusia_weighted [2948.69825964]\n",
      "pct_hh_cli_weighted [1428.53010568]\n",
      "pct_hh_fever_weighted [1296.02855624]\n",
      "pct_self_fever_weighted [974.5589756]\n",
      "pct_hh_sore_throat_weighted [770.3940817]\n",
      "pct_self_sore_throat_weighted [465.39406616]\n",
      "pct_hh_shortness_of_breath_weighted [455.40303965]\n",
      "pct_hh_difficulty_breathing_weighted [415.94814061]\n",
      "pct_self_persistent_pain_pressure_in_chest_weighted [338.82984984]\n",
      "pct_worked_outside_home_weighted [290.05845681]\n",
      "pct_self_shortness_of_breath_weighted [231.29677857]\n",
      "pct_self_nausea_vomiting_weighted [215.0330387]\n",
      "pct_self_difficulty_breathing_weighted [209.91671484]\n",
      "pct_hh_cough_weighted [206.97630749]\n",
      "pct_avoid_contact_all_or_most_time_weighted [200.8853089]\n",
      "pct_asthma_weighted [193.7692325]\n",
      "pct_self_cough_weighted [127.22996481]\n",
      "pct_self_runny_nose_weighted [109.25272831]\n",
      "pct_self_diarrhea_weighted [70.22480251]\n",
      "pct_no_above_medical_conditions_weighted [65.64830445]\n",
      "pct_diabetes_weighted [39.9523634]\n",
      "pct_self_muscle_joint_aches_weighted [36.62627593]\n",
      "pct_self_tiredness_or_exhaustion_weighted [30.48185903]\n",
      "pct_kidney_disease_weighted [25.85916573]\n",
      "pct_autoimmune_disorder_weighted [22.38223474]\n",
      "pct_high_blood_pressure_weighted [15.45213602]\n",
      "pct_self_none_of_above_weighted [11.86096641]\n",
      "pct_self_multiple_symptoms_weighted [9.80565468]\n",
      "mean_hh_cli_ct_weighted [7.65961164]\n",
      "pct_multiple_medical_conditions_weighted [5.34799122]\n",
      "pct_heart_disease_weighted [2.26685325]\n",
      "pct_self_nasal_congestion_weighted [1.06124005]\n",
      "pct_self_other_weighted [0.44141917]\n",
      "pct_chronic_lung_disease_weighted [0.31445907]\n",
      "pct_cancer_weighted [0.05673093]\n"
     ]
    }
   ],
   "source": [
    "young_features=[]\n",
    "X_copy=X_young.copy()\n",
    "for _ in range(n_features):\n",
    "    X_reg_new = SelectKBest(score_func=f_regression, k=1).fit_transform(X_copy,y_young)\n",
    "    to_comp = np.squeeze(X_reg_new)\n",
    "    cols = X_young.columns\n",
    "    for c in cols:\n",
    "        cur_col=np.array(X_young[c])\n",
    "        if np.allclose(to_comp,cur_col):\n",
    "            selected_feature=c\n",
    "            young_features.append(selected_feature)\n",
    "            print (selected_feature,f_regression(X_young[[selected_feature]],y_young)[0])\n",
    "\n",
    "    \n",
    "\n",
    "    X_copy=X_copy.drop(selected_feature,axis=1)\n"
   ]
  },
  {
   "cell_type": "code",
   "execution_count": 24,
   "metadata": {
    "scrolled": false
   },
   "outputs": [
    {
     "name": "stdout",
     "output_type": "stream",
     "text": [
      "1 1.3724609236413612 76.06208207863962\n",
      "2 1.3115972315122288 71.52034827045678\n",
      "3 1.3049586024417614 71.17094516576972\n",
      "4 1.3014520450062796 70.97878283898554\n",
      "5 1.303619496796496 71.0909940497743\n",
      "6 1.303521520951061 70.97810087268392\n",
      "7 1.2996994949032878 70.97119200064155\n",
      "8 1.2920516557328068 70.35817031655674\n",
      "9 1.291026420777273 70.26696096439589\n",
      "10 1.2954344552158636 70.57487443798294\n",
      "11 1.2798832445720676 69.57853522441467\n",
      "12 1.2810975977582217 69.79136495417897\n",
      "13 1.2809712774159447 69.83326323965817\n",
      "14 1.2808355861062182 69.86404517310474\n",
      "15 1.2681909819336297 68.7840141401725\n",
      "16 1.2556434975918436 68.00341784652984\n",
      "17 1.2565377801611701 68.16396102978875\n",
      "18 1.2581273030005022 68.27463821978098\n",
      "19 1.244454236377818 67.51489834226102\n",
      "20 1.2445308893294535 67.68177962870915\n",
      "21 1.242678443280833 67.49896749523064\n",
      "22 1.2431620141980675 67.41452164823684\n",
      "23 1.2418423968877579 67.53453153071253\n",
      "24 1.241472217020517 67.5062157152028\n",
      "25 1.239042081112669 67.44001512286296\n",
      "26 1.240079969247658 67.3656327481567\n",
      "27 1.2388394371544975 67.29325539496695\n",
      "28 1.2401863345609172 67.73463014892764\n",
      "29 1.2381751386774087 67.60378396630944\n",
      "30 1.2259734406494927 66.55424219316167\n",
      "31 1.2299423941869003 66.87258382845187\n",
      "32 1.2296397083360704 66.92725047312611\n",
      "33 1.2288451203654203 66.75412499167518\n",
      "34 1.2294378537338946 66.8682775439546\n",
      "35 1.2312735870029197 66.87396791907754\n",
      "36 1.2302757274941558 66.93973755467127\n"
     ]
    },
    {
     "data": {
      "image/png": "[encoded data removed]",
      "text/plain": [
       "<Figure size 432x288 with 1 Axes>"
      ]
     },
     "metadata": {
      "needs_background": "light"
     },
     "output_type": "display_data"
    },
    {
     "data": {
      "image/png": "[encoded data removed]",
      "text/plain": [
       "<Figure size 432x288 with 1 Axes>"
      ]
     },
     "metadata": {
      "needs_background": "light"
     },
     "output_type": "display_data"
    }
   ],
   "source": [
    "young_gb_rel_errors=[]\n",
    "young_gb_abs_errors=[]\n",
    "for i in range(1,len(features)+1):\n",
    "    X_train, X_test, y_train, y_test = train_test_split(X_young[young_features[:i]], y_young, test_size=0.2, random_state=42)\n",
    "    reg = GradientBoostingRegressor()\n",
    "    reg = reg.fit(X_train,y_train)\n",
    "    y_pred= reg.predict(X_test)\n",
    "    yp_l=list(y_pred)\n",
    "    yt_l=list(y_test)\n",
    "    pct_sm=0\n",
    "    abs_sum = 0\n",
    "    for j in range(len(y_pred)):\n",
    "        diff=abs(yp_l[j]-yt_l[j])\n",
    "        abs_sum += diff\n",
    "        pct= diff/(yt_l[j]+1)\n",
    "        pct_sm+= pct\n",
    "    rel_error=pct_sm/len(y_pred)\n",
    "    abs_error = abs_sum/len(y_pred)\n",
    "    young_gb_rel_errors.append(rel_error*100)\n",
    "    young_gb_abs_errors.append(abs_error)\n",
    "    print(i,abs_error,rel_error*100)\n",
    "    \n",
    "plt.plot(range(1,len(young_features)+1),young_gb_abs_errors)\n",
    "plt.xlabel('n features')\n",
    "plt.ylabel('mean absolute error')\n",
    "plt.title('gradient boost on 18-34 age data')\n",
    "plt.show()\n",
    "\n",
    "plt.plot(range(1,len(young_features)+1),young_gb_rel_errors)\n",
    "plt.xlabel('n features')\n",
    "plt.ylabel('mean relative error percent')\n",
    "plt.title('gradient boost on 18-34 age data')\n",
    "plt.show()"
   ]
  },
  {
   "cell_type": "code",
   "execution_count": 25,
   "metadata": {
    "scrolled": true
   },
   "outputs": [
    {
     "name": "stdout",
     "output_type": "stream",
     "text": [
      "pct_cmnty_cli_weighted [4372.30838451]\n",
      "pct_self_anosmia_ageusia_weighted [3196.31554783]\n",
      "pct_hh_cli_weighted [1703.16924614]\n",
      "pct_hh_fever_weighted [1545.28689647]\n",
      "pct_self_fever_weighted [1181.11442529]\n",
      "pct_hh_sore_throat_weighted [613.51428372]\n",
      "pct_hh_difficulty_breathing_weighted [539.44569446]\n",
      "pct_self_nausea_vomiting_weighted [450.43221626]\n",
      "pct_hh_shortness_of_breath_weighted [399.57755292]\n",
      "pct_self_persistent_pain_pressure_in_chest_weighted [395.10551402]\n",
      "pct_self_runny_nose_weighted [303.46047507]\n",
      "pct_self_difficulty_breathing_weighted [293.75742224]\n",
      "pct_self_sore_throat_weighted [255.59325861]\n",
      "pct_avoid_contact_all_or_most_time_weighted [238.00686866]\n",
      "pct_self_shortness_of_breath_weighted [204.27626871]\n",
      "pct_asthma_weighted [173.77418671]\n",
      "pct_worked_outside_home_weighted [142.4350348]\n",
      "pct_self_none_of_above_weighted [113.80583431]\n",
      "pct_high_blood_pressure_weighted [112.6235206]\n",
      "pct_hh_cough_weighted [93.52925827]\n",
      "pct_diabetes_weighted [69.37369048]\n",
      "pct_self_nasal_congestion_weighted [45.04996248]\n",
      "pct_self_other_weighted [39.56307594]\n",
      "pct_self_diarrhea_weighted [34.48496354]\n",
      "pct_self_tiredness_or_exhaustion_weighted [26.95327701]\n",
      "pct_multiple_medical_conditions_weighted [16.55465423]\n",
      "pct_chronic_lung_disease_weighted [14.75518207]\n",
      "pct_self_multiple_symptoms_weighted [13.9726092]\n",
      "pct_self_cough_weighted [13.60282084]\n",
      "mean_hh_cli_ct_weighted [7.76310032]\n",
      "pct_cancer_weighted [7.53345051]\n",
      "pct_autoimmune_disorder_weighted [6.63616202]\n",
      "pct_kidney_disease_weighted [5.12410174]\n",
      "pct_self_muscle_joint_aches_weighted [5.05830497]\n",
      "pct_heart_disease_weighted [4.39683873]\n",
      "pct_no_above_medical_conditions_weighted [0.92984027]\n"
     ]
    }
   ],
   "source": [
    "mid_features=[]\n",
    "X_copy=X_mid.copy()\n",
    "for _ in range(n_features):\n",
    "    X_reg_new = SelectKBest(score_func=f_regression, k=1).fit_transform(X_copy,y_mid)\n",
    "    to_comp = np.squeeze(X_reg_new)\n",
    "    cols = X_mid.columns\n",
    "    for c in cols:\n",
    "        cur_col=np.array(X_mid[c])\n",
    "        if np.allclose(to_comp,cur_col):\n",
    "            selected_feature=c\n",
    "            mid_features.append(selected_feature)\n",
    "            print (selected_feature,f_regression(X_mid[[selected_feature]],y_mid)[0])\n",
    "    \n",
    "\n",
    "    X_copy=X_copy.drop(selected_feature,axis=1)"
   ]
  },
  {
   "cell_type": "code",
   "execution_count": 26,
   "metadata": {},
   "outputs": [
    {
     "name": "stdout",
     "output_type": "stream",
     "text": [
      "1 1.4404617390980912 77.20782171241186\n",
      "2 1.392932386846091 73.41028707681716\n",
      "3 1.3894460996156501 72.9997921068835\n",
      "4 1.390239286906838 72.99070929579126\n",
      "5 1.3908848893622048 73.22262936412409\n",
      "6 1.3757959248183171 72.63158953290089\n",
      "7 1.378173321226981 72.6760111654922\n",
      "8 1.3725073075178877 72.33674038099016\n",
      "9 1.3609743560791263 71.64619643606801\n",
      "10 1.3616538961666023 71.80874828539558\n",
      "11 1.3070649268066539 67.87383109155653\n",
      "12 1.3047105377508186 67.77987684745777\n",
      "13 1.3065497104643526 68.07936488776589\n",
      "14 1.3006532342029038 67.7115011766429\n",
      "15 1.3005143681598856 67.78326472662941\n",
      "16 1.3016526974541798 67.95630703787218\n",
      "17 1.3031277546622222 68.09501264507522\n",
      "18 1.2824434596297414 67.20250126995253\n",
      "19 1.2795843011231938 67.00639383689429\n",
      "20 1.2792709807410634 67.065275334206\n",
      "21 1.2828911247430248 67.26918654063431\n",
      "22 1.2800156091606008 67.08022483618171\n",
      "23 1.2773924580920764 67.04748733044318\n",
      "24 1.2754220710538453 66.9006181451184\n",
      "25 1.2740277068019865 66.84655124045695\n",
      "26 1.2761483447845587 66.9896779512749\n",
      "27 1.2786138372264313 67.22387518685505\n",
      "28 1.2787621965471005 67.10607086710245\n",
      "29 1.277902185196782 67.10671897844057\n",
      "30 1.2769845874727965 66.89149523103916\n",
      "31 1.2771465865883438 66.86844645879373\n",
      "32 1.276376620594417 66.86447408901837\n",
      "33 1.2760888548210851 66.64142947546142\n",
      "34 1.277016830917928 66.94759113936323\n",
      "35 1.273251641092201 66.53283522072421\n",
      "36 1.2752601928264589 66.74128724503424\n"
     ]
    },
    {
     "data": {
      "image/png": "[encoded data removed]",
      "text/plain": [
       "<Figure size 432x288 with 1 Axes>"
      ]
     },
     "metadata": {
      "needs_background": "light"
     },
     "output_type": "display_data"
    },
    {
     "data": {
      "image/png": "[encoded data removed]",
      "text/plain": [
       "<Figure size 432x288 with 1 Axes>"
      ]
     },
     "metadata": {
      "needs_background": "light"
     },
     "output_type": "display_data"
    }
   ],
   "source": [
    "mid_gb_rel_errors=[]\n",
    "mid_gb_abs_errors=[]\n",
    "for i in range(1,len(features)+1):\n",
    "    X_train, X_test, y_train, y_test = train_test_split(X_mid[mid_features[:i]], y_mid, test_size=0.2, random_state=42)\n",
    "    reg = GradientBoostingRegressor()\n",
    "    reg = reg.fit(X_train,y_train)\n",
    "    y_pred= reg.predict(X_test)\n",
    "    yp_l=list(y_pred)\n",
    "    yt_l=list(y_test)\n",
    "    pct_sm=0\n",
    "    abs_sum = 0\n",
    "    for j in range(len(y_pred)):\n",
    "        diff=abs(yp_l[j]-yt_l[j])\n",
    "        abs_sum += diff\n",
    "        pct= diff/(yt_l[j]+1)\n",
    "        pct_sm+= pct\n",
    "    rel_error=pct_sm/len(y_pred)\n",
    "    abs_error = abs_sum/len(y_pred)\n",
    "    mid_gb_rel_errors.append(rel_error*100)\n",
    "    mid_gb_abs_errors.append(abs_error)\n",
    "    print(i,abs_error,rel_error*100)\n",
    "    \n",
    "plt.plot(range(1,len(mid_features)+1),mid_gb_abs_errors)\n",
    "plt.xlabel('n features')\n",
    "plt.ylabel('mean absolute error')\n",
    "plt.title('gradient boost on 35-54 age data')\n",
    "plt.show()\n",
    "\n",
    "plt.plot(range(1,len(mid_features)+1),mid_gb_rel_errors)\n",
    "plt.xlabel('n features')\n",
    "plt.ylabel('mean relative error percent')\n",
    "plt.title('gradient boost on 35-54 age data')\n",
    "plt.show()\n",
    "\n"
   ]
  },
  {
   "cell_type": "code",
   "execution_count": 27,
   "metadata": {},
   "outputs": [
    {
     "name": "stdout",
     "output_type": "stream",
     "text": [
      "pct_cmnty_cli_weighted [3817.82412042]\n",
      "pct_hh_cli_weighted [803.5587999]\n",
      "pct_hh_fever_weighted [771.84931559]\n",
      "pct_self_anosmia_ageusia_weighted [739.69055057]\n",
      "pct_self_fever_weighted [592.58811451]\n",
      "pct_avoid_contact_all_or_most_time_weighted [429.38297358]\n",
      "pct_self_runny_nose_weighted [360.59610407]\n",
      "pct_worked_outside_home_weighted [241.22577998]\n",
      "pct_self_none_of_above_weighted [217.82873631]\n",
      "pct_high_blood_pressure_weighted [202.33200623]\n",
      "pct_self_nausea_vomiting_weighted [143.29806828]\n",
      "pct_self_persistent_pain_pressure_in_chest_weighted [92.12333547]\n",
      "pct_asthma_weighted [90.31863097]\n",
      "pct_self_nasal_congestion_weighted [83.20484474]\n",
      "pct_hh_difficulty_breathing_weighted [77.57471734]\n",
      "pct_self_other_weighted [72.86230174]\n",
      "pct_self_multiple_symptoms_weighted [70.85295122]\n",
      "pct_hh_sore_throat_weighted [69.49006658]\n",
      "pct_diabetes_weighted [62.75214528]\n",
      "pct_self_muscle_joint_aches_weighted [50.98048673]\n",
      "pct_hh_shortness_of_breath_weighted [49.17529632]\n",
      "pct_chronic_lung_disease_weighted [46.18173046]\n",
      "pct_self_difficulty_breathing_weighted [42.89928497]\n",
      "pct_no_above_medical_conditions_weighted [33.98731396]\n",
      "pct_multiple_medical_conditions_weighted [27.51653507]\n",
      "pct_cancer_weighted [27.09427854]\n",
      "pct_self_tiredness_or_exhaustion_weighted [22.00232685]\n",
      "pct_self_shortness_of_breath_weighted [19.41825986]\n",
      "pct_self_diarrhea_weighted [14.59628284]\n",
      "pct_self_sore_throat_weighted [14.49104385]\n",
      "pct_heart_disease_weighted [11.13964887]\n",
      "pct_kidney_disease_weighted [9.82602473]\n",
      "pct_autoimmune_disorder_weighted [9.51184545]\n",
      "pct_self_cough_weighted [7.53150323]\n",
      "mean_hh_cli_ct_weighted [0.85817282]\n",
      "pct_hh_cough_weighted [0.19400421]\n"
     ]
    }
   ],
   "source": [
    "old_features=[]\n",
    "X_copy=X_old.copy()\n",
    "for _ in range(n_features):\n",
    "    X_reg_new = SelectKBest(score_func=f_regression, k=1).fit_transform(X_copy,y_old)\n",
    "    to_comp = np.squeeze(X_reg_new)\n",
    "    cols = X_old.columns\n",
    "    for c in cols:\n",
    "        cur_col=np.array(X_old[c])\n",
    "        if np.allclose(to_comp,cur_col):\n",
    "            selected_feature=c\n",
    "            old_features.append(selected_feature)\n",
    "            print (selected_feature,f_regression(X_old[[selected_feature]],y_old)[0])\n",
    "    \n",
    "\n",
    "    X_copy=X_copy.drop(selected_feature,axis=1)"
   ]
  },
  {
   "cell_type": "code",
   "execution_count": 28,
   "metadata": {},
   "outputs": [
    {
     "name": "stdout",
     "output_type": "stream",
     "text": [
      "1 1.261819284194964 70.06915368531249\n",
      "2 1.2484991250198758 69.10736105667638\n",
      "3 1.2477231997051679 68.91621960321181\n",
      "4 1.234691885331677 67.49164480541457\n",
      "5 1.2343356199648705 67.53586026628497\n",
      "6 1.194735709409407 65.4120799147281\n",
      "7 1.1744678064299097 64.11604163790575\n",
      "8 1.1765267680056737 64.31539708639721\n",
      "9 1.173919977396793 64.1178794484923\n",
      "10 1.1739680904649683 64.17123055249387\n",
      "11 1.1760129136839026 64.31455312958843\n",
      "12 1.1766791892234498 64.42693357732732\n",
      "13 1.1791814386316888 64.43790645435303\n",
      "14 1.1777619632058591 64.56164417845109\n",
      "15 1.1797151489465303 64.57169853449895\n",
      "16 1.1779890479388029 64.49454984724461\n",
      "17 1.178932331248289 64.57186798692554\n",
      "18 1.1780361062343292 64.41956320225046\n",
      "19 1.1768804372997022 64.48651313473687\n",
      "20 1.178059117228493 64.57301930558656\n",
      "21 1.1767644362392076 64.5143754830576\n",
      "22 1.1727593122666033 64.23084447378895\n",
      "23 1.1733068382711678 64.24246690565185\n",
      "24 1.1744302463929808 64.41606402994708\n",
      "25 1.1745618469257035 64.48874191290919\n",
      "26 1.1746517553005102 64.35215303036806\n",
      "27 1.17464635707217 64.28569617192781\n",
      "28 1.1726161016612706 64.22987295466211\n",
      "29 1.1749760329441477 64.22907272069044\n",
      "30 1.175405629939899 64.3346770220685\n",
      "31 1.1745132725740464 64.31888976068676\n",
      "32 1.1726920988698708 64.33639965441516\n",
      "33 1.1717627442060843 64.1608071966193\n",
      "34 1.1744466190042446 64.40771787951296\n",
      "35 1.1741995980983488 64.29694774233042\n",
      "36 1.1729083676040573 64.29621104449873\n"
     ]
    },
    {
     "data": {
      "image/png": "[encoded data removed]",
      "text/plain": [
       "<Figure size 432x288 with 1 Axes>"
      ]
     },
     "metadata": {
      "needs_background": "light"
     },
     "output_type": "display_data"
    },
    {
     "data": {
      "image/png": "[encoded data removed]",
      "text/plain": [
       "<Figure size 432x288 with 1 Axes>"
      ]
     },
     "metadata": {
      "needs_background": "light"
     },
     "output_type": "display_data"
    }
   ],
   "source": [
    "old_gb_rel_errors=[]\n",
    "old_gb_abs_errors=[]\n",
    "for i in range(1,len(features)+1):\n",
    "    X_train, X_test, y_train, y_test = train_test_split(X_old[old_features[:i]], y_old, test_size=0.2, random_state=42)\n",
    "    reg = GradientBoostingRegressor()\n",
    "    reg = reg.fit(X_train,y_train)\n",
    "    y_pred= reg.predict(X_test)\n",
    "    yp_l=list(y_pred)\n",
    "    yt_l=list(y_test)\n",
    "    pct_sm=0\n",
    "    abs_sum = 0\n",
    "    for j in range(len(y_pred)):\n",
    "        diff=abs(yp_l[j]-yt_l[j])\n",
    "        abs_sum += diff\n",
    "        pct= diff/(yt_l[j]+1)\n",
    "        pct_sm+= pct\n",
    "    rel_error=pct_sm/len(y_pred)\n",
    "    abs_error = abs_sum/len(y_pred)\n",
    "    old_gb_rel_errors.append(rel_error*100)\n",
    "    old_gb_abs_errors.append(abs_error)\n",
    "    print(i,abs_error,rel_error*100)\n",
    "    \n",
    "plt.plot(range(1,len(old_features)+1),old_gb_abs_errors)\n",
    "plt.xlabel('n features')\n",
    "plt.ylabel('mean absolute error')\n",
    "plt.title('gradient boost on 55+ age data')\n",
    "plt.show()\n",
    "\n",
    "plt.plot(range(1,len(old_features)+1),old_gb_rel_errors)\n",
    "plt.xlabel('n features')\n",
    "plt.ylabel('mean relative error percent')\n",
    "plt.title('gradient boost on 55+ age data')\n",
    "plt.show()"
   ]
  },
  {
   "cell_type": "markdown",
   "metadata": {},
   "source": [
    "<h2> Confidence Intervals </h2>"
   ]
  },
  {
   "cell_type": "code",
   "execution_count": 31,
   "metadata": {},
   "outputs": [],
   "source": [
    "import numpy as np\n",
    "import scipy.stats\n",
    "\n",
    "\n",
    "def mean_confidence_interval(data, confidence=0.95):\n",
    "    a = 1.0 * np.array(data)\n",
    "    n = len(a)\n",
    "    m, se = np.mean(a), scipy.stats.sem(a)\n",
    "    h = se * scipy.stats.t.ppf((1 + confidence) / 2., n-1)\n",
    "    return m, m-h, m+h, se"
   ]
  },
  {
   "cell_type": "code",
   "execution_count": 32,
   "metadata": {},
   "outputs": [
    {
     "name": "stdout",
     "output_type": "stream",
     "text": [
      "1.1258504774678273 59.468324321411295\n",
      "1.1460067246062648 60.13095752862606\n",
      "1.1343314341622317 60.2740405776871\n",
      "1.1418061984339085 60.1797505573946\n",
      "1.1314699982199756 60.26296657033758\n",
      "1.1391873089987643 61.13078583250243\n",
      "1.1489215487098072 60.59782939932895\n",
      "1.131448354512022 59.49804313278142\n",
      "1.153461834624955 60.31130466792401\n",
      "1.1374758175147333 60.95604750162893\n",
      "1.140054426195688 59.56751269840217\n",
      "1.1425019279201187 61.14130140220768\n",
      "1.1422977473731304 60.68321246130108\n",
      "1.1349935555348072 60.46283269150388\n",
      "1.1414098476138912 60.1403433473602\n",
      "1.140526044515934 60.794717645410934\n",
      "1.1258935570940645 59.68578561119503\n",
      "1.1437670199706846 61.304030015403164\n",
      "1.13708805381119 59.672795394530866\n",
      "1.145947038416739 61.43929411276249\n"
     ]
    }
   ],
   "source": [
    "#entire\n",
    "errors = []\n",
    "abs_errors = []\n",
    "for rv in range(20):\n",
    "    X_train, X_test, y_train, y_test = train_test_split(X, y, test_size=0.2, random_state=rv)\n",
    "    reg = GradientBoostingRegressor()\n",
    "    reg = reg.fit(X_train,y_train)\n",
    "    y_pred= reg.predict(X_test)\n",
    "    yp_l=list(y_pred)\n",
    "    yt_l=list(y_test)\n",
    "    pct_sm=0\n",
    "    abs_sum = 0\n",
    "    rel_errors_entire = []\n",
    "    for j in range(len(y_pred)):\n",
    "        diff=abs(yp_l[j]-yt_l[j])\n",
    "        abs_sum += diff\n",
    "        pct= diff/(yt_l[j]+1)\n",
    "        pct_sm+= pct\n",
    "        rel_errors_entire.append(pct*100)\n",
    "    rel_error=pct_sm/len(y_pred)\n",
    "    abs_error = abs_sum/len(y_pred)\n",
    "    print(abs_error,rel_error*100)\n",
    "    errors.append(rel_error*100)\n",
    "    abs_errors.append(abs_error)"
   ]
  },
  {
   "cell_type": "code",
   "execution_count": 33,
   "metadata": {},
   "outputs": [
    {
     "name": "stdout",
     "output_type": "stream",
     "text": [
      "(60.385093773485, 60.096807085830484, 60.67338046113952, 0.13773692043688662)\n",
      "(1.1392219457848367, 1.1358792820660835, 1.14256460950359, 0.0015970498340490266)\n"
     ]
    }
   ],
   "source": [
    "print (mean_confidence_interval(errors))\n",
    "print( mean_confidence_interval(abs_errors))  "
   ]
  },
  {
   "cell_type": "code",
   "execution_count": 34,
   "metadata": {},
   "outputs": [
    {
     "name": "stdout",
     "output_type": "stream",
     "text": [
      "1.3831574094458243 78.73490006531286\n",
      "1.3958746880245276 78.019379560997\n",
      "1.4030101221236295 78.09215431050468\n",
      "1.4057788208304662 78.98760514700214\n",
      "1.410000478679479 76.83871745459314\n",
      "1.381443038415083 79.2951285237397\n",
      "1.3834312280366556 77.9775520800135\n",
      "1.390562261009924 77.83210860058054\n",
      "1.3501460685422193 77.5594319604867\n",
      "1.3918344342088858 79.22369681474973\n",
      "1.3727232176184654 78.06749208461746\n",
      "1.3627240711690798 77.38090391707738\n",
      "1.3901618709229675 80.876551170768\n",
      "1.3610627145340495 78.31070749914986\n",
      "1.3981093954459625 77.80016062635595\n",
      "1.393914386633306 77.18733545382155\n",
      "1.3743925959170145 76.86915704016496\n",
      "1.3975714169874218 77.6248570822084\n",
      "1.3961694246693641 79.51928417578863\n",
      "1.3577246480214422 77.76226253230895\n"
     ]
    }
   ],
   "source": [
    "#male\n",
    "errors = []\n",
    "abs_errors = []\n",
    "for rv in range(20):\n",
    "    X_train, X_test, y_train, y_test = train_test_split(X_male, y_male, test_size=0.2, random_state=rv)\n",
    "    reg = GradientBoostingRegressor()\n",
    "    reg = reg.fit(X_train,y_train)\n",
    "    y_pred= reg.predict(X_test)\n",
    "    yp_l=list(y_pred)\n",
    "    yt_l=list(y_test)\n",
    "    pct_sm=0\n",
    "    abs_sum = 0\n",
    "    rel_errors_entire = []\n",
    "    for j in range(len(y_pred)):\n",
    "        diff=abs(yp_l[j]-yt_l[j])\n",
    "        abs_sum += diff\n",
    "        pct= diff/(yt_l[j]+1)\n",
    "        pct_sm+= pct\n",
    "        rel_errors_entire.append(pct*100)\n",
    "    rel_error=pct_sm/len(y_pred)\n",
    "    abs_error = abs_sum/len(y_pred)\n",
    "    print(abs_error,rel_error*100)\n",
    "    errors.append(rel_error*100)\n",
    "    abs_errors.append(abs_error)"
   ]
  },
  {
   "cell_type": "code",
   "execution_count": 35,
   "metadata": {},
   "outputs": [
    {
     "name": "stdout",
     "output_type": "stream",
     "text": [
      "(78.19796930501205, 77.7332897368029, 78.6626488732212, 0.22201348676832394)\n",
      "(1.3849896145617886, 1.3770649375130268, 1.3929142916105504, 0.0037862331453243844)\n"
     ]
    }
   ],
   "source": [
    "print (mean_confidence_interval(errors))\n",
    "print( mean_confidence_interval(abs_errors))  "
   ]
  },
  {
   "cell_type": "code",
   "execution_count": 36,
   "metadata": {},
   "outputs": [
    {
     "name": "stdout",
     "output_type": "stream",
     "text": [
      "1.089365402979862 57.47710889042848\n",
      "1.0828812171835802 58.23717089636502\n",
      "1.0842390879615142 56.07491165841149\n",
      "1.1086385338272795 58.94736919804625\n",
      "1.1077367340468207 57.61687897176382\n",
      "1.0764486452362645 55.20019669872044\n",
      "1.099955616786719 56.5534574070885\n",
      "1.097080323326607 56.8627039216569\n",
      "1.1181769681948712 56.66854015198912\n",
      "1.1146591979854694 57.39426277065524\n",
      "1.1150172310654172 56.837630096589855\n",
      "1.0838938805310903 56.72858350346151\n",
      "1.115728647462206 57.364784658423474\n",
      "1.094742500485029 56.27395905509961\n",
      "1.0806702597077629 56.78996685598443\n",
      "1.111639174033212 56.377726788591566\n",
      "1.1135941022051086 56.564826207804266\n",
      "1.1054566446107181 57.918151575097944\n",
      "1.0729557443205306 55.52900374368358\n",
      "1.081276646826254 56.01543233077214\n"
     ]
    }
   ],
   "source": [
    "#female\n",
    "errors = []\n",
    "abs_errors = []\n",
    "for rv in range(20):\n",
    "    X_train, X_test, y_train, y_test = train_test_split(X_female, y_female, test_size=0.2, random_state=rv)\n",
    "    reg = GradientBoostingRegressor()\n",
    "    reg = reg.fit(X_train,y_train)\n",
    "    y_pred= reg.predict(X_test)\n",
    "    yp_l=list(y_pred)\n",
    "    yt_l=list(y_test)\n",
    "    pct_sm=0\n",
    "    abs_sum = 0\n",
    "    rel_errors_entire = []\n",
    "    for j in range(len(y_pred)):\n",
    "        diff=abs(yp_l[j]-yt_l[j])\n",
    "        abs_sum += diff\n",
    "        pct= diff/(yt_l[j]+1)\n",
    "        pct_sm+= pct\n",
    "        rel_errors_entire.append(pct*100)\n",
    "    rel_error=pct_sm/len(y_pred)\n",
    "    abs_error = abs_sum/len(y_pred)\n",
    "    print(abs_error,rel_error*100)\n",
    "    errors.append(rel_error*100)\n",
    "    abs_errors.append(abs_error)"
   ]
  },
  {
   "cell_type": "code",
   "execution_count": 37,
   "metadata": {},
   "outputs": [
    {
     "name": "stdout",
     "output_type": "stream",
     "text": [
      "(56.87163326903169, 56.44841011249154, 57.294856425571844, 0.20220654208382177)\n",
      "(1.097707827938816, 1.0906197602680803, 1.1047958956095516, 0.0033865199283337898)\n"
     ]
    }
   ],
   "source": [
    "print (mean_confidence_interval(errors))\n",
    "print( mean_confidence_interval(abs_errors))  "
   ]
  },
  {
   "cell_type": "code",
   "execution_count": 38,
   "metadata": {},
   "outputs": [
    {
     "name": "stdout",
     "output_type": "stream",
     "text": [
      "1.2403293356320002 66.55722991262894\n",
      "1.2282039897566612 67.1278736193008\n",
      "1.2209921918776727 67.49294775231368\n",
      "1.231656859235095 65.68916225828943\n",
      "1.223725709818322 64.62986387619293\n",
      "1.2366641858888756 63.2974834597965\n",
      "1.209977143863436 66.58869422875482\n",
      "1.2836771825452233 68.03024322746307\n",
      "1.2293230948207348 65.51356993955643\n",
      "1.255418287013401 67.04542430039801\n",
      "1.2468717494964214 65.85875989206829\n",
      "1.2187330426781158 63.35943532015001\n",
      "1.2423215418160218 67.38405089608594\n",
      "1.2176232749071072 68.01901683279196\n",
      "1.2085630146457684 67.13530044241038\n",
      "1.2135980428424042 65.81111123634544\n",
      "1.222414058080688 65.51371194308383\n",
      "1.2397260934642336 70.38632262246361\n",
      "1.2205993765332 65.19562059576418\n",
      "1.2322271651141254 67.74771688018949\n"
     ]
    }
   ],
   "source": [
    "#young\n",
    "errors = []\n",
    "abs_errors = []\n",
    "for rv in range(20):\n",
    "    X_train, X_test, y_train, y_test = train_test_split(X_young, y_young, test_size=0.2, random_state=rv)\n",
    "    reg = GradientBoostingRegressor()\n",
    "    reg = reg.fit(X_train,y_train)\n",
    "    y_pred= reg.predict(X_test)\n",
    "    yp_l=list(y_pred)\n",
    "    yt_l=list(y_test)\n",
    "    pct_sm=0\n",
    "    abs_sum = 0\n",
    "    rel_errors_entire = []\n",
    "    for j in range(len(y_pred)):\n",
    "        diff=abs(yp_l[j]-yt_l[j])\n",
    "        abs_sum += diff\n",
    "        pct= diff/(yt_l[j]+1)\n",
    "        pct_sm+= pct\n",
    "        rel_errors_entire.append(pct*100)\n",
    "    rel_error=pct_sm/len(y_pred)\n",
    "    abs_error = abs_sum/len(y_pred)\n",
    "    print(abs_error,rel_error*100)\n",
    "    errors.append(rel_error*100)\n",
    "    abs_errors.append(abs_error)"
   ]
  },
  {
   "cell_type": "code",
   "execution_count": 39,
   "metadata": {},
   "outputs": [
    {
     "name": "stdout",
     "output_type": "stream",
     "text": [
      "(66.41917696180239, 65.63854736802463, 67.19980655558015, 0.3729673302767949)\n",
      "(1.2311322670014755, 1.222905118345395, 1.239359415657556, 0.003930747302570503)\n"
     ]
    }
   ],
   "source": [
    "print (mean_confidence_interval(errors))\n",
    "print( mean_confidence_interval(abs_errors))  "
   ]
  },
  {
   "cell_type": "code",
   "execution_count": 40,
   "metadata": {},
   "outputs": [
    {
     "name": "stdout",
     "output_type": "stream",
     "text": [
      "1.2867410892956026 67.34140698873603\n",
      "1.2746568694526956 68.03731864082538\n",
      "1.2906853807390015 68.7817935985823\n",
      "1.2509734343595231 67.85723603330601\n",
      "1.3077331744876428 68.13255722356024\n",
      "1.3050510035683065 65.45561944032796\n",
      "1.2915483335970663 68.82278216619369\n",
      "1.2695425360817874 66.3594145330629\n",
      "1.299854661561462 69.2614630909271\n",
      "1.3252947152873156 68.61127458054503\n",
      "1.2792357302951485 67.24588196985862\n",
      "1.266270528688429 66.80648697950666\n",
      "1.2878139411049327 67.47173759682923\n",
      "1.2775299213212106 66.6487143816784\n",
      "1.2787548391650414 67.17779438647972\n",
      "1.3024570912273044 67.69152562888725\n",
      "1.2913852238707495 66.72140076509548\n",
      "1.3128877365299523 67.5675023823575\n",
      "1.3015270518774553 67.83911467338967\n",
      "1.2923164495463955 67.99615203415868\n"
     ]
    }
   ],
   "source": [
    "#mid\n",
    "errors = []\n",
    "abs_errors = []\n",
    "for rv in range(20):\n",
    "    X_train, X_test, y_train, y_test = train_test_split(X_mid, y_mid, test_size=0.2, random_state=rv)\n",
    "    reg = GradientBoostingRegressor()\n",
    "    reg = reg.fit(X_train,y_train)\n",
    "    y_pred= reg.predict(X_test)\n",
    "    yp_l=list(y_pred)\n",
    "    yt_l=list(y_test)\n",
    "    pct_sm=0\n",
    "    abs_sum = 0\n",
    "    rel_errors_entire = []\n",
    "    for j in range(len(y_pred)):\n",
    "        diff=abs(yp_l[j]-yt_l[j])\n",
    "        abs_sum += diff\n",
    "        pct= diff/(yt_l[j]+1)\n",
    "        pct_sm+= pct\n",
    "        rel_errors_entire.append(pct*100)\n",
    "    rel_error=pct_sm/len(y_pred)\n",
    "    abs_error = abs_sum/len(y_pred)\n",
    "    print(abs_error,rel_error*100)\n",
    "    errors.append(rel_error*100)\n",
    "    abs_errors.append(abs_error)"
   ]
  },
  {
   "cell_type": "code",
   "execution_count": 41,
   "metadata": {},
   "outputs": [
    {
     "name": "stdout",
     "output_type": "stream",
     "text": [
      "(67.5913588547154, 67.15828414138645, 68.02443356804434, 0.20691339519812268)\n",
      "(1.289612985602851, 1.2813964249561505, 1.2978295462495517, 0.0039256885889080275)\n"
     ]
    }
   ],
   "source": [
    "print (mean_confidence_interval(errors))\n",
    "print( mean_confidence_interval(abs_errors))  "
   ]
  },
  {
   "cell_type": "code",
   "execution_count": 42,
   "metadata": {},
   "outputs": [
    {
     "name": "stdout",
     "output_type": "stream",
     "text": [
      "1.1997038039596815 65.47659778325252\n",
      "1.20359679902714 63.622391196906804\n",
      "1.211221804971327 66.70086462949462\n",
      "1.1773913881926272 66.14482195024088\n",
      "1.1769393633202745 65.47583156185833\n",
      "1.179083678430926 65.51487627603684\n",
      "1.1999143466926283 67.65936555872794\n",
      "1.2101163345220436 66.24260509563624\n",
      "1.174681574687664 65.42185992161048\n",
      "1.2058423817629065 67.63787772684763\n",
      "1.185225547110263 67.9283457215336\n",
      "1.1829622859823072 66.25851164114309\n",
      "1.1959703555346144 67.91147235012349\n",
      "1.1815146647820396 66.36699237786793\n",
      "1.246321264247112 66.55704689427779\n",
      "1.1989399510598522 66.52524473676382\n",
      "1.2130682368967585 66.0920677751097\n",
      "1.218572847831309 65.69482825578385\n",
      "1.1810012167169175 66.8037438039201\n",
      "1.204880845443521 64.52002176609952\n"
     ]
    }
   ],
   "source": [
    "#old\n",
    "errors = []\n",
    "abs_errors = []\n",
    "for rv in range(20):\n",
    "    X_train, X_test, y_train, y_test = train_test_split(X_old, y_old, test_size=0.2, random_state=rv)\n",
    "    reg = GradientBoostingRegressor()\n",
    "    reg = reg.fit(X_train,y_train)\n",
    "    y_pred= reg.predict(X_test)\n",
    "    yp_l=list(y_pred)\n",
    "    yt_l=list(y_test)\n",
    "    pct_sm=0\n",
    "    abs_sum = 0\n",
    "    rel_errors_entire = []\n",
    "    for j in range(len(y_pred)):\n",
    "        diff=abs(yp_l[j]-yt_l[j])\n",
    "        abs_sum += diff\n",
    "        pct= diff/(yt_l[j]+1)\n",
    "        pct_sm+= pct\n",
    "        rel_errors_entire.append(pct*100)\n",
    "    rel_error=pct_sm/len(y_pred)\n",
    "    abs_error = abs_sum/len(y_pred)\n",
    "    print(abs_error,rel_error*100)\n",
    "    errors.append(rel_error*100)\n",
    "    abs_errors.append(abs_error)"
   ]
  },
  {
   "cell_type": "code",
   "execution_count": 43,
   "metadata": {},
   "outputs": [
    {
     "name": "stdout",
     "output_type": "stream",
     "text": [
      "(66.22776835116176, 65.71464806836056, 66.74088863396295, 0.24515737490951345)\n",
      "(1.1973474345585957, 1.1889136199455514, 1.20578124917164, 0.004029487666556557)\n"
     ]
    }
   ],
   "source": [
    "print (mean_confidence_interval(errors))\n",
    "print( mean_confidence_interval(abs_errors))  "
   ]
  },
  {
   "cell_type": "markdown",
   "metadata": {},
   "source": [
    "<h2> plot combined graph </h2> "
   ]
  },
  {
   "cell_type": "code",
   "execution_count": 44,
   "metadata": {},
   "outputs": [],
   "source": [
    "all_error=[70.83696620451401 ,67.80492503904468 ,67.14871707663103 ,67.18744157135723 ,67.16200303621977 ,65.84903723570177 ,64.36469709878692 ,64.28805580492453 ,64.25829387693898 ,61.90471713882282 ,61.66433645306908 ,61.544946589702185 ,61.52693424299138 ,61.454038797524035 ,61.46579989446561 ,61.52545069566092 ,61.49639925430231 ,61.355646346051074 ,60.88954411152556 ,60.86201021324119 ,60.83805217305458 ,60.797229032439716 ,60.76188328359897 ,60.84013075850601 ,60.82307622967659 ,60.81452990098961 ,60.823572689879434 ,60.73696713532174 ,60.73697310023901 ,60.68505060692119 ,60.69900819304055 ,60.482821827379965 ,60.52561650888562 ,60.473091237337826 ,60.42256879339782 ,60.44728227875144]\n",
    "male_error=[86.14274769393134, 82.58669649781739, 81.90564010050754, 81.76646979126261, 81.96268174035602, 78.903105050701, 78.52345590511997, 78.58981575593774, 78.44701730459937, 78.52220956615923, 77.71974615227944, 77.68242085417435, 77.6653681252333, 77.76819812960778, 77.87045332973197, 77.84536927741755, 77.88840825578184, 77.69002364999952, 77.89994200774089, 78.02913973225071, 78.13305970876841, 78.00672111305953, 78.15660230067752, 78.22294617169919, 78.20838406984907, 78.06286482897184, 77.48542169668042, 77.60302932699535, 77.48248203967405, 77.56010916212877, 77.32041263498199, 77.48669184772798, 77.46162494891611, 77.42022557268528, 77.49196306461424, 77.64705193776827]\n",
    "female_error=[69.54484214042775, 65.31749486965755, 65.1292538738487, 65.01696500740151, 65.1297569436514, 63.21602019261881, 63.21243810643642, 62.12267377823989, 62.331480570708564, 61.94498363759999, 61.508559605866076, 61.370670080313786, 60.82254298396196, 60.85296079578716, 61.36581549929973, 59.40493713411078, 59.32789644153507, 59.10473854133769, 58.57865807164481, 58.60726911877645, 58.543960180101315, 58.800929476499334, 58.627209905129384, 58.791034138915464, 58.66058357559313, 57.99889681921792, 57.978775696994425, 57.87138607188297, 58.0102234368625, 57.964978811468036, 58.30957785516229, 58.02849587619625, 58.352026096896935, 58.04968613322698, 57.995355116893755, 57.96248727237396]\n",
    "young_error=[76.06208207863962 ,71.5126542760408 ,71.16526730897493 ,70.97017343802014 ,71.0881235006338 ,70.9655536426594 ,70.96772960419828 ,70.36091999437504 ,70.27283115371552 ,70.56584396926627 ,69.59641075861477 ,69.75679712441568 ,69.81899698551774 ,69.86846573074371 ,68.79030471880331 ,68.01752928033345 ,68.19588622046854 ,68.28492255978819 ,67.55187466746615 ,67.66735860306672 ,67.45616679317712 ,67.48921611689832 ,67.4908152709273 ,67.52985634694801 ,67.43841599188652 ,67.37335761450146 ,67.29177037555733 ,67.76042688625307 ,67.64171522426611 ,66.50125124723687 ,66.88117037431259 ,66.92047558823867 ,66.79860742974422 ,66.84370202758831 ,66.89567864164006 ,66.97579634284686 ]\n",
    "mid_error=[77.20782171241186 ,73.40990810945293 ,73.05233206629268 ,72.99173141926538 ,73.22205109262735 ,72.62478192730481 ,72.6549965851272 ,72.36582722748278 ,71.65099405566602 ,71.79428535474777 ,67.96469210891304 ,67.76969337780633 ,68.04334532162997 ,67.72699954853421 ,67.78693490490959 ,67.98100776379573 ,68.07104154661013 ,67.16632042498406 ,67.06933930051265 ,67.07169109648564 ,67.24155357142253 ,67.01090369000447 ,66.7755822512567 ,67.00514780761071 ,67.0680054688198 ,67.09437066668161 ,67.08834742579978 ,66.98579170833021 ,67.00374310061909 ,66.79393730720881 ,67.07070731950152 ,66.81038624669374 ,66.54073029581691 ,66.91066894386701 ,66.50326648455611 ,66.97047143526952]\n",
    "old_error=[ 70.06915368531249,  69.06045818978748,  68.90552486027545,  67.47942134591032,  67.53612375470497,  65.40830872909994,  64.12575490968452,  64.31014339522598,  64.11882155830429,  64.17107997350216,  64.34756682256261,  64.44944427041571,  64.44103426527731,  64.58311691314711,  64.54997931834873,  64.47684642832667,  64.52405137548747,  64.43546613715483,  64.48833137299545,  64.54521273299677,  64.47764958142224,  64.25014844358616,  64.2897442732202,  64.44069641245156,  64.56125120688165,  64.33746133662522,  64.2939623350239,  64.24028728213136,  64.23583413916049,  64.33758849350806,  64.35445957687811,  64.36836373560683,  64.21668454854165,  64.31104207186672,  64.28646210092587,  64.30459696472715]\n",
    "feat_len = [1+i for i in range(len(all_error))]"
   ]
  },
  {
   "cell_type": "code",
   "execution_count": 45,
   "metadata": {},
   "outputs": [
    {
     "data": {
      "text/plain": [
       "<matplotlib.legend.Legend at 0x27975afbfd0>"
      ]
     },
     "execution_count": 45,
     "metadata": {},
     "output_type": "execute_result"
    },
    {
     "data": {
      "image/png": "[encoded data removed]",
      "text/plain": [
       "<Figure size 640x480 with 1 Axes>"
      ]
     },
     "metadata": {},
     "output_type": "display_data"
    }
   ],
   "source": [
    "#plt.rcParams[\"figure.figsize\"] = (10,10)\n",
    "plt.rcParams.update(plt.rcParamsDefault)\n",
    "plt.plot(feat_len,all_error)\n",
    "plt.plot(feat_len,male_error)\n",
    "plt.plot(feat_len,female_error)\n",
    "plt.plot(feat_len,young_error)\n",
    "plt.plot(feat_len,mid_error)\n",
    "plt.plot(feat_len,old_error)\n",
    "plt.xlabel('number of top features')\n",
    "plt.ylabel('mean relative error percent')\n",
    "plt.title('n features vs mre using gradient boosting for various demographics')\n",
    "plt.yticks(range(56,90,2)) \n",
    "plt.legend(['all','male','female','18-34 age','35-54 age','55+ age'], prop={'size': 8.1})\n",
    "#plt.ylim(ymin* 0.9, ymax *1.2)"
   ]
  },
  {
   "cell_type": "code",
   "execution_count": 46,
   "metadata": {},
   "outputs": [
    {
     "data": {
      "text/plain": [
       "['pct_cmnty_cli_weighted',\n",
       " 'pct_self_anosmia_ageusia_weighted',\n",
       " 'pct_hh_cli_weighted',\n",
       " 'pct_hh_fever_weighted',\n",
       " 'pct_self_fever_weighted',\n",
       " 'pct_hh_sore_throat_weighted',\n",
       " 'pct_avoid_contact_all_or_most_time_weighted',\n",
       " 'pct_hh_difficulty_breathing_weighted',\n",
       " 'pct_self_persistent_pain_pressure_in_chest_weighted',\n",
       " 'pct_self_runny_nose_weighted',\n",
       " 'pct_worked_outside_home_weighted',\n",
       " 'pct_self_nausea_vomiting_weighted',\n",
       " 'pct_hh_shortness_of_breath_weighted',\n",
       " 'pct_self_sore_throat_weighted',\n",
       " 'pct_self_difficulty_breathing_weighted',\n",
       " 'pct_asthma_weighted',\n",
       " 'pct_self_shortness_of_breath_weighted',\n",
       " 'pct_hh_cough_weighted',\n",
       " 'pct_self_none_of_above_weighted',\n",
       " 'pct_self_diarrhea_weighted',\n",
       " 'pct_chronic_lung_disease_weighted',\n",
       " 'pct_cancer_weighted',\n",
       " 'pct_self_other_weighted',\n",
       " 'pct_self_tiredness_or_exhaustion_weighted',\n",
       " 'pct_self_cough_weighted',\n",
       " 'pct_no_above_medical_conditions_weighted',\n",
       " 'pct_heart_disease_weighted',\n",
       " 'pct_multiple_medical_conditions_weighted',\n",
       " 'pct_autoimmune_disorder_weighted',\n",
       " 'pct_self_nasal_congestion_weighted',\n",
       " 'pct_kidney_disease_weighted',\n",
       " 'mean_hh_cli_ct_weighted',\n",
       " 'pct_self_multiple_symptoms_weighted',\n",
       " 'pct_self_muscle_joint_aches_weighted',\n",
       " 'pct_high_blood_pressure_weighted',\n",
       " 'pct_diabetes_weighted']"
      ]
     },
     "execution_count": 46,
     "metadata": {},
     "output_type": "execute_result"
    }
   ],
   "source": [
    "features"
   ]
  },
  {
   "cell_type": "code",
   "execution_count": null,
   "metadata": {},
   "outputs": [],
   "source": []
  }
 ],
 "metadata": {
  "accelerator": "GPU",
  "colab": {
   "collapsed_sections": [],
   "name": "Copy of Feature selection.ipynb",
   "provenance": []
  },
  "kernelspec": {
   "display_name": "Python 3",
   "language": "python",
   "name": "python3"
  },
  "language_info": {
   "codemirror_mode": {
    "name": "ipython",
    "version": 3
   },
   "file_extension": ".py",
   "mimetype": "text/x-python",
   "name": "python",
   "nbconvert_exporter": "python",
   "pygments_lexer": "ipython3",
   "version": "3.7.3"
  }
 },
 "nbformat": 4,
 "nbformat_minor": 1
}
