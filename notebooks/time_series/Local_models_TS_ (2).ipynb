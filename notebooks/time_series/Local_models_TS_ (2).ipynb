{
  "nbformat": 4,
  "nbformat_minor": 0,
  "metadata": {
    "colab": {
      "name": "Local models TS .ipynb",
      "provenance": [],
      "collapsed_sections": []
    },
    "kernelspec": {
      "name": "python3",
      "display_name": "Python 3"
    }
  },
  "cells": [
    {
      "cell_type": "code",
      "metadata": {
        "id": "IG43a6BMQ8C5"
      },
      "source": [
        "import numpy as np\n",
        "import pandas as pd\n",
        "from pandas_profiling import ProfileReport\n",
        "import glob\n",
        "\n",
        "import tensorflow as tf\n",
        "from tensorflow import keras\n",
        "\n",
        "import seaborn as sns\n",
        "from pylab import rcParams\n",
        "import matplotlib.pyplot as plt\n",
        "from matplotlib import rc\n",
        "\n",
        "from keras.models import Sequential\n",
        "from keras.layers import Dense\n",
        "from keras.layers import LSTM\n",
        "from matplotlib import pyplot\n",
        "\n",
        "from keras import backend as K\n",
        "from sklearn.preprocessing import LabelEncoder\n",
        "from sklearn.preprocessing import MinMaxScaler\n",
        "from math import *\n",
        "from sklearn.metrics import mean_squared_error\n",
        "from sklearn.metrics import mean_absolute_error"
      ],
      "execution_count": null,
      "outputs": []
    },
    {
      "cell_type": "code",
      "metadata": {
        "id": "r6kZVL5dRGnG"
      },
      "source": [
        "# Load county data\n",
        "data = pd.DataFrame()\n",
        "\n",
        "# Insert relevant path here\n",
        "state_csv = 'drive/My Drive/CMU/overall-state.csv'\n",
        "data = pd.read_csv(state_csv, low_memory=False)\n",
        "\n",
        "data = data[['date', 'state_code', 'gender', 'age_bucket', 'n', 'weight_sums', 'pct_cli', 'pct_ili', 'pct_cli_anosmia_ageusia', 'pct_hh_cli', 'pct_cmnty_cli', 'pct_hh_fever', 'pct_hh_sore_throat', 'pct_hh_cough', 'pct_hh_shortness_of_breath', 'pct_hh_difficulty_breathing', 'mean_hh_cli_ct', 'mean_cmnty_cli_ct', 'pct_self_fever', 'pct_self_cough', 'pct_self_shortness_of_breath', 'pct_self_difficulty_breathing', 'pct_self_tiredness_or_exhaustion', 'pct_self_nasal_congestion', 'pct_self_runny_nose', 'pct_self_muscle_joint_aches', 'pct_self_sore_throat', 'pct_self_persistent_pain_pressure_in_chest', 'pct_self_nausea_vomiting', 'pct_self_diarrhea', 'pct_self_anosmia_ageusia', 'pct_self_other', 'pct_self_none_of_above', 'pct_self_multiple_symptoms', 'pct_tested_and_positive', 'pct_tested_and_negative', 'pct_tested_no_result', 'pct_could_not_get_tested', 'pct_did_not_try_to_get_tested', 'pct_worked_outside_home', 'pct_avoid_contact_all_or_most_time', 'mean_outside_hh_contact_at_work_ct', 'mean_outside_hh_contact_shopping_ct', 'mean_outside_hh_contact_in_social_gatherings_ct', 'pct_contact_covid_positive', 'pct_diabetes', 'pct_cancer', 'pct_heart_disease', 'pct_high_blood_pressure', 'pct_asthma', 'pct_chronic_lung_disease', 'pct_kidney_disease', 'pct_autoimmune_disorder', 'pct_no_above_medical_conditions', 'pct_multiple_medical_conditions', 'pct_cli_weighted', 'pct_ili_weighted', 'pct_cli_anosmia_ageusia_weighted', 'pct_hh_cli_weighted', 'pct_cmnty_cli_weighted', 'pct_hh_fever_weighted', 'pct_hh_sore_throat_weighted', 'pct_hh_cough_weighted', 'pct_hh_shortness_of_breath_weighted', 'pct_hh_difficulty_breathing_weighted', 'mean_hh_cli_ct_weighted', 'mean_cmnty_cli_ct_weighted', 'pct_self_fever_weighted', 'pct_self_cough_weighted', 'pct_self_shortness_of_breath_weighted', 'pct_self_difficulty_breathing_weighted', 'pct_self_tiredness_or_exhaustion_weighted', 'pct_self_nasal_congestion_weighted', 'pct_self_runny_nose_weighted', 'pct_self_muscle_joint_aches_weighted', 'pct_self_sore_throat_weighted', 'pct_self_persistent_pain_pressure_in_chest_weighted', 'pct_self_nausea_vomiting_weighted', 'pct_self_diarrhea_weighted', 'pct_self_anosmia_ageusia_weighted', 'pct_self_other_weighted', 'pct_self_none_of_above_weighted', 'pct_self_multiple_symptoms_weighted', 'pct_tested_and_positive_weighted', 'pct_tested_and_negative_weighted', 'pct_tested_no_result_weighted', 'pct_could_not_get_tested_weighted', 'pct_did_not_try_to_get_tested_weighted', 'pct_worked_outside_home_weighted', 'pct_avoid_contact_all_or_most_time_weighted', 'mean_outside_hh_contact_at_work_ct_weighted', 'mean_outside_hh_contact_shopping_ct_weighted', 'mean_outside_hh_contact_in_social_gatherings_ct_weighted', 'pct_contact_covid_positive_weighted', 'pct_diabetes_weighted', 'pct_cancer_weighted', 'pct_heart_disease_weighted', 'pct_high_blood_pressure_weighted', 'pct_asthma_weighted', 'pct_chronic_lung_disease_weighted', 'pct_kidney_disease_weighted', 'pct_autoimmune_disorder_weighted', 'pct_no_above_medical_conditions_weighted', 'pct_multiple_medical_conditions_weighted']]\n",
        "\n",
        "           "
      ],
      "execution_count": null,
      "outputs": []
    },
    {
      "cell_type": "markdown",
      "metadata": {
        "id": "KtfpnAA9qP0v"
      },
      "source": [
        "### Loading WHO data (Actual cases)"
      ]
    },
    {
      "cell_type": "code",
      "metadata": {
        "colab": {
          "base_uri": "https://localhost:8080/",
          "height": 195
        },
        "id": "nzlZUQ_bqWAQ",
        "outputId": "a26de96c-ddd1-45ca-9c81-a9fa67fd9fd0"
      },
      "source": [
        "who = pd.read_csv('drive/My Drive/CMU/refined-us-states.csv')\n",
        "who.head()"
      ],
      "execution_count": null,
      "outputs": [
        {
          "output_type": "execute_result",
          "data": {
            "text/html": [
              "<div>\n",
              "<style scoped>\n",
              "    .dataframe tbody tr th:only-of-type {\n",
              "        vertical-align: middle;\n",
              "    }\n",
              "\n",
              "    .dataframe tbody tr th {\n",
              "        vertical-align: top;\n",
              "    }\n",
              "\n",
              "    .dataframe thead th {\n",
              "        text-align: right;\n",
              "    }\n",
              "</style>\n",
              "<table border=\"1\" class=\"dataframe\">\n",
              "  <thead>\n",
              "    <tr style=\"text-align: right;\">\n",
              "      <th></th>\n",
              "      <th>date</th>\n",
              "      <th>state</th>\n",
              "      <th>cases</th>\n",
              "    </tr>\n",
              "  </thead>\n",
              "  <tbody>\n",
              "    <tr>\n",
              "      <th>0</th>\n",
              "      <td>13-03-2020</td>\n",
              "      <td>al</td>\n",
              "      <td>6</td>\n",
              "    </tr>\n",
              "    <tr>\n",
              "      <th>1</th>\n",
              "      <td>14-03-2020</td>\n",
              "      <td>al</td>\n",
              "      <td>12</td>\n",
              "    </tr>\n",
              "    <tr>\n",
              "      <th>2</th>\n",
              "      <td>15-03-2020</td>\n",
              "      <td>al</td>\n",
              "      <td>23</td>\n",
              "    </tr>\n",
              "    <tr>\n",
              "      <th>3</th>\n",
              "      <td>16-03-2020</td>\n",
              "      <td>al</td>\n",
              "      <td>29</td>\n",
              "    </tr>\n",
              "    <tr>\n",
              "      <th>4</th>\n",
              "      <td>17-03-2020</td>\n",
              "      <td>al</td>\n",
              "      <td>39</td>\n",
              "    </tr>\n",
              "  </tbody>\n",
              "</table>\n",
              "</div>"
            ],
            "text/plain": [
              "         date state  cases\n",
              "0  13-03-2020    al      6\n",
              "1  14-03-2020    al     12\n",
              "2  15-03-2020    al     23\n",
              "3  16-03-2020    al     29\n",
              "4  17-03-2020    al     39"
            ]
          },
          "metadata": {
            "tags": []
          },
          "execution_count": 3
        }
      ]
    },
    {
      "cell_type": "code",
      "metadata": {
        "colab": {
          "base_uri": "https://localhost:8080/",
          "height": 328
        },
        "id": "9B3AcGfMqV8P",
        "outputId": "0be3c20f-25bf-4c4c-9e76-1febb866a9ef"
      },
      "source": [
        "who = who.rename(columns={\"state\": \"state_code\"})\n",
        "who['date'] = list(map(lambda x : '-'.join(list(reversed(x.split('-')))) ,list(who['date'])) )\n",
        "who['daily_case'] = who['cases'].diff().fillna(who['cases'].iloc[0])\n",
        "data = pd.merge(data, who,  how='inner', on=['date','state_code'] )\n",
        "data.head()"
      ],
      "execution_count": null,
      "outputs": [
        {
          "output_type": "execute_result",
          "data": {
            "text/html": [
              "<div>\n",
              "<style scoped>\n",
              "    .dataframe tbody tr th:only-of-type {\n",
              "        vertical-align: middle;\n",
              "    }\n",
              "\n",
              "    .dataframe tbody tr th {\n",
              "        vertical-align: top;\n",
              "    }\n",
              "\n",
              "    .dataframe thead th {\n",
              "        text-align: right;\n",
              "    }\n",
              "</style>\n",
              "<table border=\"1\" class=\"dataframe\">\n",
              "  <thead>\n",
              "    <tr style=\"text-align: right;\">\n",
              "      <th></th>\n",
              "      <th>date</th>\n",
              "      <th>state_code</th>\n",
              "      <th>gender</th>\n",
              "      <th>age_bucket</th>\n",
              "      <th>n</th>\n",
              "      <th>weight_sums</th>\n",
              "      <th>pct_cli</th>\n",
              "      <th>pct_ili</th>\n",
              "      <th>pct_cli_anosmia_ageusia</th>\n",
              "      <th>pct_hh_cli</th>\n",
              "      <th>pct_cmnty_cli</th>\n",
              "      <th>pct_hh_fever</th>\n",
              "      <th>pct_hh_sore_throat</th>\n",
              "      <th>pct_hh_cough</th>\n",
              "      <th>pct_hh_shortness_of_breath</th>\n",
              "      <th>pct_hh_difficulty_breathing</th>\n",
              "      <th>mean_hh_cli_ct</th>\n",
              "      <th>mean_cmnty_cli_ct</th>\n",
              "      <th>pct_self_fever</th>\n",
              "      <th>pct_self_cough</th>\n",
              "      <th>pct_self_shortness_of_breath</th>\n",
              "      <th>pct_self_difficulty_breathing</th>\n",
              "      <th>pct_self_tiredness_or_exhaustion</th>\n",
              "      <th>pct_self_nasal_congestion</th>\n",
              "      <th>pct_self_runny_nose</th>\n",
              "      <th>pct_self_muscle_joint_aches</th>\n",
              "      <th>pct_self_sore_throat</th>\n",
              "      <th>pct_self_persistent_pain_pressure_in_chest</th>\n",
              "      <th>pct_self_nausea_vomiting</th>\n",
              "      <th>pct_self_diarrhea</th>\n",
              "      <th>pct_self_anosmia_ageusia</th>\n",
              "      <th>pct_self_other</th>\n",
              "      <th>pct_self_none_of_above</th>\n",
              "      <th>pct_self_multiple_symptoms</th>\n",
              "      <th>pct_tested_and_positive</th>\n",
              "      <th>pct_tested_and_negative</th>\n",
              "      <th>pct_tested_no_result</th>\n",
              "      <th>pct_could_not_get_tested</th>\n",
              "      <th>pct_did_not_try_to_get_tested</th>\n",
              "      <th>pct_worked_outside_home</th>\n",
              "      <th>...</th>\n",
              "      <th>mean_cmnty_cli_ct_weighted</th>\n",
              "      <th>pct_self_fever_weighted</th>\n",
              "      <th>pct_self_cough_weighted</th>\n",
              "      <th>pct_self_shortness_of_breath_weighted</th>\n",
              "      <th>pct_self_difficulty_breathing_weighted</th>\n",
              "      <th>pct_self_tiredness_or_exhaustion_weighted</th>\n",
              "      <th>pct_self_nasal_congestion_weighted</th>\n",
              "      <th>pct_self_runny_nose_weighted</th>\n",
              "      <th>pct_self_muscle_joint_aches_weighted</th>\n",
              "      <th>pct_self_sore_throat_weighted</th>\n",
              "      <th>pct_self_persistent_pain_pressure_in_chest_weighted</th>\n",
              "      <th>pct_self_nausea_vomiting_weighted</th>\n",
              "      <th>pct_self_diarrhea_weighted</th>\n",
              "      <th>pct_self_anosmia_ageusia_weighted</th>\n",
              "      <th>pct_self_other_weighted</th>\n",
              "      <th>pct_self_none_of_above_weighted</th>\n",
              "      <th>pct_self_multiple_symptoms_weighted</th>\n",
              "      <th>pct_tested_and_positive_weighted</th>\n",
              "      <th>pct_tested_and_negative_weighted</th>\n",
              "      <th>pct_tested_no_result_weighted</th>\n",
              "      <th>pct_could_not_get_tested_weighted</th>\n",
              "      <th>pct_did_not_try_to_get_tested_weighted</th>\n",
              "      <th>pct_worked_outside_home_weighted</th>\n",
              "      <th>pct_avoid_contact_all_or_most_time_weighted</th>\n",
              "      <th>mean_outside_hh_contact_at_work_ct_weighted</th>\n",
              "      <th>mean_outside_hh_contact_shopping_ct_weighted</th>\n",
              "      <th>mean_outside_hh_contact_in_social_gatherings_ct_weighted</th>\n",
              "      <th>pct_contact_covid_positive_weighted</th>\n",
              "      <th>pct_diabetes_weighted</th>\n",
              "      <th>pct_cancer_weighted</th>\n",
              "      <th>pct_heart_disease_weighted</th>\n",
              "      <th>pct_high_blood_pressure_weighted</th>\n",
              "      <th>pct_asthma_weighted</th>\n",
              "      <th>pct_chronic_lung_disease_weighted</th>\n",
              "      <th>pct_kidney_disease_weighted</th>\n",
              "      <th>pct_autoimmune_disorder_weighted</th>\n",
              "      <th>pct_no_above_medical_conditions_weighted</th>\n",
              "      <th>pct_multiple_medical_conditions_weighted</th>\n",
              "      <th>cases</th>\n",
              "      <th>daily_case</th>\n",
              "    </tr>\n",
              "  </thead>\n",
              "  <tbody>\n",
              "    <tr>\n",
              "      <th>0</th>\n",
              "      <td>2020-04-06</td>\n",
              "      <td>ak</td>\n",
              "      <td>female</td>\n",
              "      <td>18-34</td>\n",
              "      <td>119</td>\n",
              "      <td>78755.310877</td>\n",
              "      <td>0.8772</td>\n",
              "      <td>0.8772</td>\n",
              "      <td>2.6316</td>\n",
              "      <td>0.8403</td>\n",
              "      <td>NaN</td>\n",
              "      <td>1.6807</td>\n",
              "      <td>10.0840</td>\n",
              "      <td>25.2101</td>\n",
              "      <td>7.5630</td>\n",
              "      <td>5.8824</td>\n",
              "      <td>NaN</td>\n",
              "      <td>NaN</td>\n",
              "      <td>0.8772</td>\n",
              "      <td>21.0526</td>\n",
              "      <td>7.8947</td>\n",
              "      <td>5.2632</td>\n",
              "      <td>24.5614</td>\n",
              "      <td>23.6842</td>\n",
              "      <td>25.4386</td>\n",
              "      <td>17.5439</td>\n",
              "      <td>10.5263</td>\n",
              "      <td>6.1404</td>\n",
              "      <td>3.5088</td>\n",
              "      <td>8.7719</td>\n",
              "      <td>1.7544</td>\n",
              "      <td>5.2632</td>\n",
              "      <td>45.6140</td>\n",
              "      <td>36.1345</td>\n",
              "      <td>0.0</td>\n",
              "      <td>8.0645</td>\n",
              "      <td>1.6129</td>\n",
              "      <td>6.4516</td>\n",
              "      <td>83.8710</td>\n",
              "      <td>41.1765</td>\n",
              "      <td>...</td>\n",
              "      <td>0.0</td>\n",
              "      <td>0.6736</td>\n",
              "      <td>23.3022</td>\n",
              "      <td>7.7638</td>\n",
              "      <td>5.0967</td>\n",
              "      <td>26.1142</td>\n",
              "      <td>23.4845</td>\n",
              "      <td>27.9131</td>\n",
              "      <td>18.2524</td>\n",
              "      <td>10.6775</td>\n",
              "      <td>5.5208</td>\n",
              "      <td>2.6801</td>\n",
              "      <td>8.5647</td>\n",
              "      <td>1.9383</td>\n",
              "      <td>5.4658</td>\n",
              "      <td>40.6652</td>\n",
              "      <td>41.9760</td>\n",
              "      <td>0.0</td>\n",
              "      <td>4.6233</td>\n",
              "      <td>0.9214</td>\n",
              "      <td>2.4356</td>\n",
              "      <td>48.8476</td>\n",
              "      <td>40.8441</td>\n",
              "      <td>74.5504</td>\n",
              "      <td>10.4550</td>\n",
              "      <td>6.3869</td>\n",
              "      <td>0.7958</td>\n",
              "      <td>0.0</td>\n",
              "      <td>3.1304</td>\n",
              "      <td>0.0000</td>\n",
              "      <td>0.0000</td>\n",
              "      <td>7.1685</td>\n",
              "      <td>28.7123</td>\n",
              "      <td>0.0000</td>\n",
              "      <td>0.0</td>\n",
              "      <td>9.3777</td>\n",
              "      <td>63.1666</td>\n",
              "      <td>10.3406</td>\n",
              "      <td>189</td>\n",
              "      <td>6.0</td>\n",
              "    </tr>\n",
              "    <tr>\n",
              "      <th>1</th>\n",
              "      <td>2020-04-06</td>\n",
              "      <td>ak</td>\n",
              "      <td>female</td>\n",
              "      <td>35-54</td>\n",
              "      <td>95</td>\n",
              "      <td>63666.933392</td>\n",
              "      <td>3.2258</td>\n",
              "      <td>3.2258</td>\n",
              "      <td>3.2258</td>\n",
              "      <td>3.1579</td>\n",
              "      <td>NaN</td>\n",
              "      <td>3.1579</td>\n",
              "      <td>14.7368</td>\n",
              "      <td>21.0526</td>\n",
              "      <td>7.3684</td>\n",
              "      <td>4.2105</td>\n",
              "      <td>NaN</td>\n",
              "      <td>NaN</td>\n",
              "      <td>3.2258</td>\n",
              "      <td>18.2796</td>\n",
              "      <td>4.3011</td>\n",
              "      <td>3.2258</td>\n",
              "      <td>19.3548</td>\n",
              "      <td>9.6774</td>\n",
              "      <td>17.2043</td>\n",
              "      <td>9.6774</td>\n",
              "      <td>11.8280</td>\n",
              "      <td>4.3011</td>\n",
              "      <td>3.2258</td>\n",
              "      <td>5.3763</td>\n",
              "      <td>0.0000</td>\n",
              "      <td>10.7527</td>\n",
              "      <td>53.7634</td>\n",
              "      <td>30.5263</td>\n",
              "      <td>0.0</td>\n",
              "      <td>0.0000</td>\n",
              "      <td>0.0000</td>\n",
              "      <td>4.6512</td>\n",
              "      <td>95.3488</td>\n",
              "      <td>29.4737</td>\n",
              "      <td>...</td>\n",
              "      <td>0.0</td>\n",
              "      <td>4.0793</td>\n",
              "      <td>19.8077</td>\n",
              "      <td>5.8325</td>\n",
              "      <td>3.3564</td>\n",
              "      <td>18.1476</td>\n",
              "      <td>10.1597</td>\n",
              "      <td>16.2840</td>\n",
              "      <td>10.5732</td>\n",
              "      <td>14.0980</td>\n",
              "      <td>5.5914</td>\n",
              "      <td>3.1735</td>\n",
              "      <td>5.2914</td>\n",
              "      <td>0.0000</td>\n",
              "      <td>9.8190</td>\n",
              "      <td>54.8124</td>\n",
              "      <td>29.6202</td>\n",
              "      <td>0.0</td>\n",
              "      <td>0.0000</td>\n",
              "      <td>0.0000</td>\n",
              "      <td>2.5222</td>\n",
              "      <td>40.7606</td>\n",
              "      <td>30.1121</td>\n",
              "      <td>81.7592</td>\n",
              "      <td>5.1141</td>\n",
              "      <td>1.4847</td>\n",
              "      <td>0.1233</td>\n",
              "      <td>0.0</td>\n",
              "      <td>9.7745</td>\n",
              "      <td>2.8142</td>\n",
              "      <td>6.9796</td>\n",
              "      <td>33.3235</td>\n",
              "      <td>29.5650</td>\n",
              "      <td>1.4395</td>\n",
              "      <td>0.0</td>\n",
              "      <td>11.1606</td>\n",
              "      <td>46.8402</td>\n",
              "      <td>25.1121</td>\n",
              "      <td>189</td>\n",
              "      <td>6.0</td>\n",
              "    </tr>\n",
              "    <tr>\n",
              "      <th>2</th>\n",
              "      <td>2020-04-06</td>\n",
              "      <td>ak</td>\n",
              "      <td>female</td>\n",
              "      <td>55+</td>\n",
              "      <td>51</td>\n",
              "      <td>52710.069695</td>\n",
              "      <td>0.0000</td>\n",
              "      <td>0.0000</td>\n",
              "      <td>1.9608</td>\n",
              "      <td>0.0000</td>\n",
              "      <td>NaN</td>\n",
              "      <td>0.0000</td>\n",
              "      <td>3.9216</td>\n",
              "      <td>21.5686</td>\n",
              "      <td>7.8431</td>\n",
              "      <td>1.9608</td>\n",
              "      <td>NaN</td>\n",
              "      <td>NaN</td>\n",
              "      <td>0.0000</td>\n",
              "      <td>17.6471</td>\n",
              "      <td>7.8431</td>\n",
              "      <td>0.0000</td>\n",
              "      <td>11.7647</td>\n",
              "      <td>15.6863</td>\n",
              "      <td>13.7255</td>\n",
              "      <td>9.8039</td>\n",
              "      <td>3.9216</td>\n",
              "      <td>5.8824</td>\n",
              "      <td>1.9608</td>\n",
              "      <td>7.8431</td>\n",
              "      <td>1.9608</td>\n",
              "      <td>9.8039</td>\n",
              "      <td>56.8627</td>\n",
              "      <td>25.4902</td>\n",
              "      <td>0.0</td>\n",
              "      <td>4.5455</td>\n",
              "      <td>0.0000</td>\n",
              "      <td>9.0909</td>\n",
              "      <td>86.3636</td>\n",
              "      <td>24.0000</td>\n",
              "      <td>...</td>\n",
              "      <td>0.0</td>\n",
              "      <td>0.0000</td>\n",
              "      <td>15.2620</td>\n",
              "      <td>7.4176</td>\n",
              "      <td>0.0000</td>\n",
              "      <td>10.6149</td>\n",
              "      <td>15.1401</td>\n",
              "      <td>17.2272</td>\n",
              "      <td>11.4370</td>\n",
              "      <td>3.3577</td>\n",
              "      <td>4.3787</td>\n",
              "      <td>1.1577</td>\n",
              "      <td>6.1265</td>\n",
              "      <td>1.1577</td>\n",
              "      <td>12.8193</td>\n",
              "      <td>52.2573</td>\n",
              "      <td>25.9567</td>\n",
              "      <td>0.0</td>\n",
              "      <td>1.3725</td>\n",
              "      <td>0.0000</td>\n",
              "      <td>3.0342</td>\n",
              "      <td>43.3359</td>\n",
              "      <td>19.1636</td>\n",
              "      <td>90.0037</td>\n",
              "      <td>0.2934</td>\n",
              "      <td>1.0323</td>\n",
              "      <td>0.0000</td>\n",
              "      <td>0.0</td>\n",
              "      <td>6.9947</td>\n",
              "      <td>19.3862</td>\n",
              "      <td>1.9712</td>\n",
              "      <td>26.1060</td>\n",
              "      <td>18.2128</td>\n",
              "      <td>6.3439</td>\n",
              "      <td>0.0</td>\n",
              "      <td>8.1722</td>\n",
              "      <td>35.4451</td>\n",
              "      <td>22.9556</td>\n",
              "      <td>189</td>\n",
              "      <td>6.0</td>\n",
              "    </tr>\n",
              "    <tr>\n",
              "      <th>3</th>\n",
              "      <td>2020-04-06</td>\n",
              "      <td>ak</td>\n",
              "      <td>female</td>\n",
              "      <td>overall</td>\n",
              "      <td>265</td>\n",
              "      <td>195132.313964</td>\n",
              "      <td>1.5504</td>\n",
              "      <td>1.5504</td>\n",
              "      <td>2.7132</td>\n",
              "      <td>1.5094</td>\n",
              "      <td>NaN</td>\n",
              "      <td>1.8868</td>\n",
              "      <td>10.5660</td>\n",
              "      <td>23.0189</td>\n",
              "      <td>7.5472</td>\n",
              "      <td>4.5283</td>\n",
              "      <td>NaN</td>\n",
              "      <td>NaN</td>\n",
              "      <td>1.5504</td>\n",
              "      <td>19.3798</td>\n",
              "      <td>6.5891</td>\n",
              "      <td>3.4884</td>\n",
              "      <td>20.1550</td>\n",
              "      <td>17.0543</td>\n",
              "      <td>20.1550</td>\n",
              "      <td>13.1783</td>\n",
              "      <td>9.6899</td>\n",
              "      <td>5.4264</td>\n",
              "      <td>3.1008</td>\n",
              "      <td>7.3643</td>\n",
              "      <td>1.1628</td>\n",
              "      <td>8.1395</td>\n",
              "      <td>50.7752</td>\n",
              "      <td>32.0755</td>\n",
              "      <td>0.0</td>\n",
              "      <td>4.7244</td>\n",
              "      <td>0.7874</td>\n",
              "      <td>6.2992</td>\n",
              "      <td>88.1890</td>\n",
              "      <td>33.7121</td>\n",
              "      <td>...</td>\n",
              "      <td>0.0</td>\n",
              "      <td>1.6028</td>\n",
              "      <td>19.9902</td>\n",
              "      <td>7.0401</td>\n",
              "      <td>3.1522</td>\n",
              "      <td>19.3281</td>\n",
              "      <td>16.8829</td>\n",
              "      <td>21.2323</td>\n",
              "      <td>13.9059</td>\n",
              "      <td>9.8163</td>\n",
              "      <td>5.2353</td>\n",
              "      <td>2.4298</td>\n",
              "      <td>6.8381</td>\n",
              "      <td>1.0950</td>\n",
              "      <td>8.8725</td>\n",
              "      <td>48.4124</td>\n",
              "      <td>33.6174</td>\n",
              "      <td>0.0</td>\n",
              "      <td>2.2367</td>\n",
              "      <td>0.3719</td>\n",
              "      <td>2.6256</td>\n",
              "      <td>44.7202</td>\n",
              "      <td>31.4861</td>\n",
              "      <td>81.0768</td>\n",
              "      <td>5.9675</td>\n",
              "      <td>3.3410</td>\n",
              "      <td>0.3614</td>\n",
              "      <td>0.0</td>\n",
              "      <td>6.3420</td>\n",
              "      <td>6.1549</td>\n",
              "      <td>2.8098</td>\n",
              "      <td>20.8177</td>\n",
              "      <td>26.1543</td>\n",
              "      <td>2.1833</td>\n",
              "      <td>0.0</td>\n",
              "      <td>9.6338</td>\n",
              "      <td>50.3514</td>\n",
              "      <td>18.5678</td>\n",
              "      <td>189</td>\n",
              "      <td>6.0</td>\n",
              "    </tr>\n",
              "    <tr>\n",
              "      <th>4</th>\n",
              "      <td>2020-04-06</td>\n",
              "      <td>ak</td>\n",
              "      <td>male</td>\n",
              "      <td>overall</td>\n",
              "      <td>101</td>\n",
              "      <td>195353.374921</td>\n",
              "      <td>0.9901</td>\n",
              "      <td>0.9901</td>\n",
              "      <td>2.9703</td>\n",
              "      <td>0.9901</td>\n",
              "      <td>NaN</td>\n",
              "      <td>0.9901</td>\n",
              "      <td>7.9208</td>\n",
              "      <td>22.7723</td>\n",
              "      <td>5.9406</td>\n",
              "      <td>2.9703</td>\n",
              "      <td>NaN</td>\n",
              "      <td>NaN</td>\n",
              "      <td>0.9901</td>\n",
              "      <td>15.8416</td>\n",
              "      <td>5.9406</td>\n",
              "      <td>1.9802</td>\n",
              "      <td>9.9010</td>\n",
              "      <td>15.8416</td>\n",
              "      <td>16.8317</td>\n",
              "      <td>7.9208</td>\n",
              "      <td>4.9505</td>\n",
              "      <td>0.9901</td>\n",
              "      <td>0.9901</td>\n",
              "      <td>7.9208</td>\n",
              "      <td>1.9802</td>\n",
              "      <td>3.9604</td>\n",
              "      <td>58.4158</td>\n",
              "      <td>20.7921</td>\n",
              "      <td>0.0</td>\n",
              "      <td>2.3810</td>\n",
              "      <td>2.3810</td>\n",
              "      <td>7.1429</td>\n",
              "      <td>88.0952</td>\n",
              "      <td>47.5248</td>\n",
              "      <td>...</td>\n",
              "      <td>0.0</td>\n",
              "      <td>2.1033</td>\n",
              "      <td>16.1581</td>\n",
              "      <td>4.9044</td>\n",
              "      <td>1.8847</td>\n",
              "      <td>9.9089</td>\n",
              "      <td>16.2289</td>\n",
              "      <td>18.1819</td>\n",
              "      <td>7.7512</td>\n",
              "      <td>7.4669</td>\n",
              "      <td>0.8910</td>\n",
              "      <td>0.9937</td>\n",
              "      <td>7.6545</td>\n",
              "      <td>2.5349</td>\n",
              "      <td>3.1659</td>\n",
              "      <td>57.0629</td>\n",
              "      <td>19.2950</td>\n",
              "      <td>0.0</td>\n",
              "      <td>0.9937</td>\n",
              "      <td>0.8910</td>\n",
              "      <td>4.2020</td>\n",
              "      <td>36.8504</td>\n",
              "      <td>48.8763</td>\n",
              "      <td>72.1882</td>\n",
              "      <td>18.0299</td>\n",
              "      <td>90.3207</td>\n",
              "      <td>0.1120</td>\n",
              "      <td>0.0</td>\n",
              "      <td>6.3321</td>\n",
              "      <td>0.8910</td>\n",
              "      <td>3.4980</td>\n",
              "      <td>28.3594</td>\n",
              "      <td>10.9061</td>\n",
              "      <td>3.6907</td>\n",
              "      <td>0.0</td>\n",
              "      <td>4.2732</td>\n",
              "      <td>60.9484</td>\n",
              "      <td>13.9579</td>\n",
              "      <td>189</td>\n",
              "      <td>6.0</td>\n",
              "    </tr>\n",
              "  </tbody>\n",
              "</table>\n",
              "<p>5 rows × 106 columns</p>\n",
              "</div>"
            ],
            "text/plain": [
              "         date state_code  ... cases daily_case\n",
              "0  2020-04-06         ak  ...   189        6.0\n",
              "1  2020-04-06         ak  ...   189        6.0\n",
              "2  2020-04-06         ak  ...   189        6.0\n",
              "3  2020-04-06         ak  ...   189        6.0\n",
              "4  2020-04-06         ak  ...   189        6.0\n",
              "\n",
              "[5 rows x 106 columns]"
            ]
          },
          "metadata": {
            "tags": []
          },
          "execution_count": 4
        }
      ]
    },
    {
      "cell_type": "code",
      "metadata": {
        "id": "BIL23wbQqV5T"
      },
      "source": [
        ""
      ],
      "execution_count": null,
      "outputs": []
    },
    {
      "cell_type": "markdown",
      "metadata": {
        "id": "Af6IswyTRYju"
      },
      "source": [
        "Time Series Data Preparation"
      ]
    },
    {
      "cell_type": "code",
      "metadata": {
        "id": "0qhdeaowRRUw"
      },
      "source": [
        "# comment the lines 9 and 10 in order to get a combined data irrespectice of the demographics of the\n",
        "# respondents.\n",
        "\n",
        "data_time = data[['date', 'state_code', 'gender', 'age_bucket', 'n', 'weight_sums', 'pct_cli', 'pct_ili', 'pct_cli_anosmia_ageusia', 'pct_hh_cli', 'pct_cmnty_cli', 'pct_hh_fever', 'pct_hh_sore_throat', 'pct_hh_cough', 'pct_hh_shortness_of_breath', 'pct_hh_difficulty_breathing', 'mean_hh_cli_ct', 'mean_cmnty_cli_ct', 'pct_self_fever', 'pct_self_cough', 'pct_self_shortness_of_breath', 'pct_self_difficulty_breathing', 'pct_self_tiredness_or_exhaustion', 'pct_self_nasal_congestion', 'pct_self_runny_nose', 'pct_self_muscle_joint_aches', 'pct_self_sore_throat', 'pct_self_persistent_pain_pressure_in_chest', 'pct_self_nausea_vomiting', 'pct_self_diarrhea', 'pct_self_anosmia_ageusia', 'pct_self_other', 'pct_self_none_of_above', 'pct_self_multiple_symptoms', 'pct_tested_and_positive', 'pct_tested_and_negative', 'pct_tested_no_result', 'pct_could_not_get_tested', 'pct_did_not_try_to_get_tested', 'pct_worked_outside_home', 'pct_avoid_contact_all_or_most_time', 'mean_outside_hh_contact_at_work_ct', 'mean_outside_hh_contact_shopping_ct', 'mean_outside_hh_contact_in_social_gatherings_ct', 'pct_contact_covid_positive', 'pct_diabetes', 'pct_cancer', 'pct_heart_disease', 'pct_high_blood_pressure', 'pct_asthma', 'pct_chronic_lung_disease', 'pct_kidney_disease', 'pct_autoimmune_disorder', 'pct_no_above_medical_conditions', 'pct_multiple_medical_conditions', 'pct_cli_weighted', 'pct_ili_weighted', 'pct_cli_anosmia_ageusia_weighted', 'pct_hh_cli_weighted', 'pct_cmnty_cli_weighted', 'pct_hh_fever_weighted', 'pct_hh_sore_throat_weighted', 'pct_hh_cough_weighted', 'pct_hh_shortness_of_breath_weighted', 'pct_hh_difficulty_breathing_weighted', 'mean_hh_cli_ct_weighted', 'mean_cmnty_cli_ct_weighted', 'pct_self_fever_weighted', 'pct_self_cough_weighted', 'pct_self_shortness_of_breath_weighted', 'pct_self_difficulty_breathing_weighted', 'pct_self_tiredness_or_exhaustion_weighted', 'pct_self_nasal_congestion_weighted', 'pct_self_runny_nose_weighted', 'pct_self_muscle_joint_aches_weighted', 'pct_self_sore_throat_weighted', 'pct_self_persistent_pain_pressure_in_chest_weighted', 'pct_self_nausea_vomiting_weighted', 'pct_self_diarrhea_weighted', 'pct_self_anosmia_ageusia_weighted', 'pct_self_other_weighted', 'pct_self_none_of_above_weighted', 'pct_self_multiple_symptoms_weighted', 'pct_tested_and_positive_weighted', 'pct_tested_and_negative_weighted', 'pct_tested_no_result_weighted', 'pct_could_not_get_tested_weighted', 'pct_did_not_try_to_get_tested_weighted', 'pct_worked_outside_home_weighted', 'pct_avoid_contact_all_or_most_time_weighted', 'mean_outside_hh_contact_at_work_ct_weighted', 'mean_outside_hh_contact_shopping_ct_weighted', 'mean_outside_hh_contact_in_social_gatherings_ct_weighted', 'pct_contact_covid_positive_weighted', 'pct_diabetes_weighted', 'pct_cancer_weighted', 'pct_heart_disease_weighted', 'pct_high_blood_pressure_weighted', 'pct_asthma_weighted', 'pct_chronic_lung_disease_weighted', 'pct_kidney_disease_weighted', 'pct_autoimmune_disorder_weighted', 'pct_no_above_medical_conditions_weighted', 'pct_multiple_medical_conditions_weighted', 'daily_case']]\n",
        "\n",
        "data_time['bucket']  = data_time.apply(lambda x: x['gender'] + '||' + x['age_bucket'], axis = 1)\n",
        "\n",
        "# data_time = data_time.groupby(['date','state_code']).mean()\n",
        "# data_time = data_time.reset_index()\n"
      ],
      "execution_count": null,
      "outputs": []
    },
    {
      "cell_type": "markdown",
      "metadata": {
        "id": "r21cMuNAUF0V"
      },
      "source": [
        "LSTM Data Preparation"
      ]
    },
    {
      "cell_type": "code",
      "metadata": {
        "id": "NrKvTObyUFgo"
      },
      "source": [
        "def series_to_supervised(data, n_in=1, n_out=1, dropnan=True):\n",
        "\tn_vars = 1 if type(data) is list else data.shape[1]\n",
        "\tdf = pd.DataFrame(data)\n",
        "\tcols, names = list(), list()\n",
        "\t# input sequence (t-n, ... t-1)\n",
        "\tfor i in range(n_in, 0, -1):\n",
        "\t\tcols.append(df.shift(i))\n",
        "\t\tnames += [('var%d(t-%d)' % (j+1, i)) for j in range(n_vars)]\n",
        "\t# forecast sequence (t, t+1, ... t+n)\n",
        "\tfor i in range(0, n_out):\n",
        "\t\tcols.append(df.shift(-i))\n",
        "\t\tif i == 0:\n",
        "\t\t\tnames += [('var%d(t)' % (j+1)) for j in range(n_vars)]\n",
        "\t\telse:\n",
        "\t\t\tnames += [('var%d(t+%d)' % (j+1, i)) for j in range(n_vars)]\n",
        "\t# put it all together\n",
        "\tagg = pd.concat(cols, axis=1)\n",
        "\tagg.columns = names\n",
        "\t# drop rows with NaN values\n",
        "\tif dropnan:\n",
        "\t\tagg.dropna(inplace=True)\n",
        "\treturn agg\n",
        "\n",
        "\n",
        "def root_mean_squared_error(y_true, y_pred):\n",
        "        return K.sqrt(K.mean(K.square(y_pred - y_true))) \n",
        "\n",
        "error_dict = {}\n",
        "for i in data_time['state_code'].unique():\n",
        "  error_dict[i] = None\n",
        "\n",
        "def relative_error_dl(pred,valid):\n",
        "  err = 0\n",
        "  diff = abs(pred - valid)\n",
        "  rel_err = diff/(valid + 1)\n",
        "  return (rel_err.mean()*100)"
      ],
      "execution_count": null,
      "outputs": []
    },
    {
      "cell_type": "code",
      "metadata": {
        "colab": {
          "base_uri": "https://localhost:8080/"
        },
        "id": "nsqXKIIupp_m",
        "outputId": "cc98b9e7-81e0-41c9-a21e-efd01540227b"
      },
      "source": [
        "train_all = []\n",
        "# train_Y_all = []\n",
        "\n",
        "for region_of_interest in data_time['state_code'].unique():\n",
        "  data_time['date'] = pd.to_datetime(data_time.date)\n",
        "  data_ = data_time.drop(['date'], axis=1)\n",
        "  data_.index = data_time.date\n",
        "  data_ = data_[(data_.state_code == region_of_interest)]\n",
        "  # data_ = data_.drop(columns = ['state_code', 'gender', 'age_bucket', 'bucket'])\n",
        "  data_ = data_.drop(columns = ['state_code'])\n",
        "\n",
        "  data_ = data_.dropna()\n",
        "\n",
        "\n",
        "  data_ = data_[['pct_cmnty_cli_weighted','pct_self_anosmia_ageusia_weighted','pct_hh_cli_weighted',\\\n",
        "    'pct_hh_fever_weighted', 'pct_self_fever_weighted', 'pct_hh_sore_throat_weighted', 'pct_avoid_contact_all_or_most_time_weighted',\\\n",
        "    'pct_hh_difficulty_breathing_weighted','pct_self_persistent_pain_pressure_in_chest_weighted', 'pct_self_runny_nose_weighted','pct_tested_and_positive_weighted', 'daily_case']]\n",
        "#     'pct_worked_outside_home_weighted',\n",
        "#     'pct_cli_weighted']]\n",
        "  values = data_.values\n",
        "  values = values.astype('float32')\n",
        "  reframed = series_to_supervised(values, 1, 1)\n",
        "\n",
        "  n_train_hours = -30 \n",
        "  train = values[:n_train_hours, :]\n",
        "  test = values[n_train_hours:, :]\n",
        "\n",
        "  train_all.append(train)\n",
        "\n",
        "  # split into input and outputs\n",
        "  train_X, train_y = train[:, :-1], train[:, -1]\n",
        "  test_X, test_y = test[:, :-1], test[:, -1]\n",
        "\n",
        "  # reshape input to be 3D [samples, timesteps, features]\n",
        "  train_X = train_X.reshape((train_X.shape[0], 1, train_X.shape[1]))\n",
        "  test_X = test_X.reshape((test_X.shape[0], 1, test_X.shape[1]))\n",
        "  print(train_X.shape, train_y.shape, test_X.shape, test_y.shape)\n"
      ],
      "execution_count": null,
      "outputs": [
        {
          "output_type": "stream",
          "text": [
            "(687, 1, 11) (687,) (30, 1, 11) (30,)\n",
            "(1664, 1, 11) (1664,) (30, 1, 11) (30,)\n",
            "(1550, 1, 11) (1550,) (30, 1, 11) (30,)\n",
            "(1704, 1, 11) (1704,) (30, 1, 11) (30,)\n",
            "(1722, 1, 11) (1722,) (30, 1, 11) (30,)\n",
            "(3456, 1, 11) (3456,) (30, 1, 11) (30,)\n",
            "(267, 1, 11) (267,) (30, 1, 11) (30,)\n",
            "(1017, 1, 11) (1017,) (30, 1, 11) (30,)\n",
            "(1721, 1, 11) (1721,) (30, 1, 11) (30,)\n",
            "(1717, 1, 11) (1717,) (30, 1, 11) (30,)\n",
            "(933, 1, 11) (933,) (30, 1, 11) (30,)\n",
            "(1683, 1, 11) (1683,) (30, 1, 11) (30,)\n",
            "(1419, 1, 11) (1419,) (30, 1, 11) (30,)\n",
            "(1722, 1, 11) (1722,) (30, 1, 11) (30,)\n",
            "(1717, 1, 11) (1717,) (30, 1, 11) (30,)\n",
            "(1618, 1, 11) (1618,) (30, 1, 11) (30,)\n",
            "(1678, 1, 11) (1678,) (30, 1, 11) (30,)\n",
            "(1660, 1, 11) (1660,) (30, 1, 11) (30,)\n",
            "(1711, 1, 11) (1711,) (30, 1, 11) (30,)\n",
            "(1680, 1, 11) (1680,) (30, 1, 11) (30,)\n",
            "(1380, 1, 11) (1380,) (30, 1, 11) (30,)\n",
            "(1726, 1, 11) (1726,) (30, 1, 11) (30,)\n",
            "(1705, 1, 11) (1705,) (30, 1, 11) (30,)\n",
            "(1706, 1, 11) (1706,) (30, 1, 11) (30,)\n",
            "(1514, 1, 11) (1514,) (30, 1, 11) (30,)\n",
            "(1169, 1, 11) (1169,) (30, 1, 11) (30,)\n",
            "(1721, 1, 11) (1721,) (30, 1, 11) (30,)\n",
            "(689, 1, 11) (689,) (30, 1, 11) (30,)\n",
            "(1468, 1, 11) (1468,) (30, 1, 11) (30,)\n",
            "(1366, 1, 11) (1366,) (30, 1, 11) (30,)\n",
            "(1716, 1, 11) (1716,) (30, 1, 11) (30,)\n",
            "(1338, 1, 11) (1338,) (30, 1, 11) (30,)\n",
            "(1479, 1, 11) (1479,) (30, 1, 11) (30,)\n",
            "(1722, 1, 11) (1722,) (30, 1, 11) (30,)\n",
            "(1722, 1, 11) (1722,) (30, 1, 11) (30,)\n",
            "(1674, 1, 11) (1674,) (30, 1, 11) (30,)\n",
            "(1664, 1, 11) (1664,) (30, 1, 11) (30,)\n",
            "(1722, 1, 11) (1722,) (30, 1, 11) (30,)\n",
            "(1009, 1, 11) (1009,) (30, 1, 11) (30,)\n",
            "(1692, 1, 11) (1692,) (30, 1, 11) (30,)\n",
            "(884, 1, 11) (884,) (30, 1, 11) (30,)\n",
            "(1710, 1, 11) (1710,) (30, 1, 11) (30,)\n",
            "(1722, 1, 11) (1722,) (30, 1, 11) (30,)\n",
            "(1655, 1, 11) (1655,) (30, 1, 11) (30,)\n",
            "(1724, 1, 11) (1724,) (30, 1, 11) (30,)\n",
            "(732, 1, 11) (732,) (30, 1, 11) (30,)\n",
            "(1717, 1, 11) (1717,) (30, 1, 11) (30,)\n",
            "(1717, 1, 11) (1717,) (30, 1, 11) (30,)\n",
            "(1467, 1, 11) (1467,) (30, 1, 11) (30,)\n",
            "(523, 1, 11) (523,) (30, 1, 11) (30,)\n"
          ],
          "name": "stdout"
        }
      ]
    },
    {
      "cell_type": "code",
      "metadata": {
        "id": "RmY8xs79qeN9"
      },
      "source": [
        "train_all_flat = [item for sublist in train_all for item in sublist]\n",
        "train_all_flat = np.array(train_all_flat)\n",
        "# [x for x in ]"
      ],
      "execution_count": null,
      "outputs": []
    },
    {
      "cell_type": "code",
      "metadata": {
        "colab": {
          "base_uri": "https://localhost:8080/",
          "height": 349
        },
        "id": "8APH34DLv3xq",
        "outputId": "b55f609f-f5a5-45d6-c13c-06f830678139"
      },
      "source": [
        "# n_train_hours = -30 \n",
        "# train = values[:n_train_hours, :]\n",
        "# test = values[n_train_hours:, :]\n",
        "\n",
        "  # split into input and outputs\n",
        "train_X, train_y = train_all_flat[:, :-1],  train_all_flat[:, -1]\n",
        "# test_X, test_y = test[:, :-1], test[:, -1]\n",
        "\n",
        "  # reshape input to be 3D [samples, timesteps, features]\n",
        "train_X = train_X.reshape((train_X.shape[0], 1, train_X.shape[1]))\n",
        "# test_X = test_X.reshape((test_X.shape[0], 1, test_X.shape[1]))\n",
        "print(train_X.shape, train_y.shape)\n",
        "\n",
        "\n",
        "\n",
        "model = Sequential()\n",
        "model.add(LSTM(5, input_shape=(train_X.shape[1], train_X.shape[2])))\n",
        "# model.add(LSTM(500,return_sequences=True ))\n",
        "# model.add(LSTM(500, ))\n",
        "model.add(Dense(1))\n",
        "model.compile(loss= root_mean_squared_error, optimizer='adam')\n",
        "\n",
        "history = model.fit(train_X, train_y, epochs=2, batch_size=72, \n",
        "                    verbose=2, shuffle=False)\n",
        "# plot history\n",
        "pyplot.plot(history.history['loss'], label='train')\n",
        "# pyplot.plot(history.history['val_loss'], label='test')\n",
        "pyplot.legend()\n",
        "pyplot.show()\n",
        "\n",
        "\n",
        "# yhat = model.predict(test_X)\n",
        "# yhat = yhat.reshape(-1)\n",
        "# if np.isnan(yhat).any():\n",
        "#   continue\n",
        "# print(\"Region of Interest\", region_of_interest)\n",
        "# print(\"RMSE is - \", sqrt(mean_squared_error(test_y, yhat)))\n",
        "# print('mae is : ', mean_absolute_error(test_y, yhat))\n",
        "# print('mean relative error is : ',relative_error_dl(yhat, test_y), \n",
        "#           \"for a forecast of \", len(yhat), \" days.\")\n",
        "  \n",
        "# rmse = sqrt(mean_squared_error(test_y, yhat))\n",
        "# mae = mean_absolute_error(test_y, yhat)\n",
        "# mre = relative_error_dl(yhat, test_y)\n",
        "# error = [rmse, mae, mre]\n",
        "# error_dict[region_of_interest] = error\n",
        "# print(error)\n"
      ],
      "execution_count": null,
      "outputs": [
        {
          "output_type": "stream",
          "text": [
            "(75359, 1, 11) (75359,)\n",
            "Epoch 1/2\n",
            "1047/1047 - 3s - loss: 911.1246\n",
            "Epoch 2/2\n",
            "1047/1047 - 2s - loss: 907.6671\n"
          ],
          "name": "stdout"
        },
        {
          "output_type": "display_data",
          "data": {
            "image/png": "[encoded data removed]",
            "text/plain": [
              "<Figure size 432x288 with 1 Axes>"
            ]
          },
          "metadata": {
            "tags": [],
            "needs_background": "light"
          }
        }
      ]
    },
    {
      "cell_type": "code",
      "metadata": {
        "colab": {
          "base_uri": "https://localhost:8080/"
        },
        "id": "4oNAtIVTBf8s",
        "outputId": "80f90618-68bc-44d8-f55c-f3ae739903c8"
      },
      "source": [
        "model.save('/content/drive/MyDrive/CMU/global_model_actual_cases')"
      ],
      "execution_count": null,
      "outputs": [
        {
          "output_type": "stream",
          "text": [
            "WARNING:absl:Found untraced functions such as lstm_cell_layer_call_fn, lstm_cell_layer_call_and_return_conditional_losses, lstm_cell_layer_call_fn, lstm_cell_layer_call_and_return_conditional_losses, lstm_cell_layer_call_and_return_conditional_losses while saving (showing 5 of 5). These functions will not be directly callable after loading.\n",
            "WARNING:absl:Found untraced functions such as lstm_cell_layer_call_fn, lstm_cell_layer_call_and_return_conditional_losses, lstm_cell_layer_call_fn, lstm_cell_layer_call_and_return_conditional_losses, lstm_cell_layer_call_and_return_conditional_losses while saving (showing 5 of 5). These functions will not be directly callable after loading.\n"
          ],
          "name": "stderr"
        },
        {
          "output_type": "stream",
          "text": [
            "INFO:tensorflow:Assets written to: /content/drive/MyDrive/CMU/global_model_actual_cases/assets\n"
          ],
          "name": "stdout"
        },
        {
          "output_type": "stream",
          "text": [
            "INFO:tensorflow:Assets written to: /content/drive/MyDrive/CMU/global_model_actual_cases/assets\n"
          ],
          "name": "stderr"
        }
      ]
    },
    {
      "cell_type": "code",
      "metadata": {
        "id": "5ecrXsSzBj5A"
      },
      "source": [
        "# copy = keras.models.load_model('/content/drive/MyDrive/CMU/global_model', \n",
        "#                                custom_objects= {'root_mean_squared_error':root_mean_squared_error})"
      ],
      "execution_count": null,
      "outputs": []
    },
    {
      "cell_type": "code",
      "metadata": {
        "colab": {
          "base_uri": "https://localhost:8080/",
          "height": 1000
        },
        "id": "8TNmZlv9BjgN",
        "outputId": "c749e86b-646a-4f23-e0ed-37a8600d82d5"
      },
      "source": [
        "for region_of_interest in data_time['state_code'].unique():\n",
        "  data_time['date'] = pd.to_datetime(data_time.date)\n",
        "  data_ = data_time.drop(['date'], axis=1)\n",
        "  data_.index = data_time.date\n",
        "  data_ = data_[(data_.state_code == region_of_interest)]\n",
        "  # data_ = data_.drop(columns = ['state_code', 'gender', 'age_bucket', 'bucket'])\n",
        "  data_ = data_.drop(columns = ['state_code'])\n",
        "\n",
        "  data_ = data_.dropna()\n",
        "\n",
        "\n",
        "  data_ = data_[['pct_cmnty_cli_weighted','pct_self_anosmia_ageusia_weighted','pct_hh_cli_weighted',\\\n",
        "    'pct_hh_fever_weighted', 'pct_self_fever_weighted', 'pct_hh_sore_throat_weighted', 'pct_avoid_contact_all_or_most_time_weighted',\\\n",
        "    'pct_hh_difficulty_breathing_weighted','pct_self_persistent_pain_pressure_in_chest_weighted', 'pct_self_runny_nose_weighted','pct_tested_and_positive_weighted', 'daily_case']]\n",
        "#     'pct_worked_outside_home_weighted',\n",
        "#     'pct_cli_weighted']]\n",
        "  values = data_.values\n",
        "  values = values.astype('float32')\n",
        "  reframed = series_to_supervised(values, 1, 1)\n",
        "\n",
        "  n_train_hours = -30 \n",
        "  train = values[:n_train_hours, :]\n",
        "  test = values[n_train_hours:, :]\n",
        "\n",
        "  # split into input and outputs\n",
        "  train_X, train_y = train[:, :-1], train[:, -1]\n",
        "  test_X, test_y = test[:, :-1], test[:, -1]\n",
        "\n",
        "  # reshape input to be 3D [samples, timesteps, features]\n",
        "  train_X = train_X.reshape((train_X.shape[0], 1, train_X.shape[1]))\n",
        "  test_X = test_X.reshape((test_X.shape[0], 1, test_X.shape[1]))\n",
        "  print(train_X.shape, train_y.shape, test_X.shape, test_y.shape)\n",
        "\n",
        "\n",
        "  print(data_.shape)\n",
        "  print(values.shape)\n",
        "\n",
        "  model = Sequential()\n",
        "  model.add(LSTM(5, input_shape=(train_X.shape[1], train_X.shape[2])))\n",
        "  model.add(Dense(1))\n",
        "  model.compile(loss= root_mean_squared_error, optimizer='adam')\n",
        "  # model = keras.models.load_model('/content/drive/MyDrive/CMU/global_model_actual_cases', \n",
        "  #                              custom_objects= {'root_mean_squared_error':root_mean_squared_error})\n",
        "  history = model.fit(train_X, train_y, epochs=2, batch_size=72, \n",
        "                    validation_data=(test_X, test_y), verbose=2, shuffle=False)\n",
        "# plot history\n",
        "  pyplot.plot(history.history['loss'], label='train')\n",
        "  pyplot.plot(history.history['val_loss'], label='test')\n",
        "  pyplot.legend()\n",
        "  pyplot.show()\n",
        "\n",
        "\n",
        "  yhat = model.predict(test_X)\n",
        "  yhat = yhat.reshape(-1)\n",
        "  if np.isnan(yhat).any():\n",
        "    continue\n",
        "  print(\"Region of Interest\", region_of_interest)\n",
        "  print(\"RMSE is - \", sqrt(mean_squared_error(test_y, yhat)))\n",
        "  print('mae is : ', mean_absolute_error(test_y, yhat))\n",
        "  print('mean relative error is : ',relative_error_dl(yhat, test_y), \n",
        "          \"for a forecast of \", len(yhat), \" days.\")\n",
        "  \n",
        "  rmse = sqrt(mean_squared_error(test_y, yhat))\n",
        "  mae = mean_absolute_error(test_y, yhat)\n",
        "  mre = relative_error_dl(yhat, test_y)\n",
        "  error = [rmse, mae, mre]\n",
        "  error_dict[region_of_interest] = error\n",
        "  print(error)\n"
      ],
      "execution_count": null,
      "outputs": [
        {
          "output_type": "stream",
          "text": [
            "(687, 1, 11) (687,) (30, 1, 11) (30,)\n",
            "(717, 12)\n",
            "(717, 12)\n",
            "Epoch 1/2\n",
            "WARNING:tensorflow:6 out of the last 11 calls to <function Model.make_test_function.<locals>.test_function at 0x7f0df0982a60> triggered tf.function retracing. Tracing is expensive and the excessive number of tracings could be due to (1) creating @tf.function repeatedly in a loop, (2) passing tensors with different shapes, (3) passing Python objects instead of tensors. For (1), please define your @tf.function outside of the loop. For (2), @tf.function has experimental_relax_shapes=True option that relaxes argument shapes that can avoid unnecessary retracing. For (3), please refer to https://www.tensorflow.org/guide/function#controlling_retracing and https://www.tensorflow.org/api_docs/python/tf/function for  more details.\n"
          ],
          "name": "stdout"
        },
        {
          "output_type": "stream",
          "text": [
            "WARNING:tensorflow:6 out of the last 11 calls to <function Model.make_test_function.<locals>.test_function at 0x7f0df0982a60> triggered tf.function retracing. Tracing is expensive and the excessive number of tracings could be due to (1) creating @tf.function repeatedly in a loop, (2) passing tensors with different shapes, (3) passing Python objects instead of tensors. For (1), please define your @tf.function outside of the loop. For (2), @tf.function has experimental_relax_shapes=True option that relaxes argument shapes that can avoid unnecessary retracing. For (3), please refer to https://www.tensorflow.org/guide/function#controlling_retracing and https://www.tensorflow.org/api_docs/python/tf/function for  more details.\n"
          ],
          "name": "stderr"
        },
        {
          "output_type": "stream",
          "text": [
            "10/10 - 2s - loss: 41.2099 - val_loss: 76.0686\n",
            "Epoch 2/2\n",
            "10/10 - 0s - loss: 41.1422 - val_loss: 75.9947\n"
          ],
          "name": "stdout"
        },
        {
          "output_type": "display_data",
          "data": {
            "image/png": "[encoded data removed]",
            "text/plain": [
              "<Figure size 432x288 with 1 Axes>"
            ]
          },
          "metadata": {
            "tags": [],
            "needs_background": "light"
          }
        },
        {
          "output_type": "stream",
          "text": [
            "Region of Interest ak\n",
            "RMSE is -  75.99469939369126\n",
            "mae is :  67.85472\n",
            "mean relative error is :  89.57613706588745 for a forecast of  30  days.\n",
            "[75.99469939369126, 67.85472, 89.57613706588745]\n",
            "(1664, 1, 11) (1664,) (30, 1, 11) (30,)\n",
            "(1694, 12)\n",
            "(1694, 12)\n",
            "Epoch 1/2\n",
            "WARNING:tensorflow:6 out of the last 11 calls to <function Model.make_test_function.<locals>.test_function at 0x7f0df0ee0598> triggered tf.function retracing. Tracing is expensive and the excessive number of tracings could be due to (1) creating @tf.function repeatedly in a loop, (2) passing tensors with different shapes, (3) passing Python objects instead of tensors. For (1), please define your @tf.function outside of the loop. For (2), @tf.function has experimental_relax_shapes=True option that relaxes argument shapes that can avoid unnecessary retracing. For (3), please refer to https://www.tensorflow.org/guide/function#controlling_retracing and https://www.tensorflow.org/api_docs/python/tf/function for  more details.\n"
          ],
          "name": "stdout"
        },
        {
          "output_type": "stream",
          "text": [
            "WARNING:tensorflow:6 out of the last 11 calls to <function Model.make_test_function.<locals>.test_function at 0x7f0df0ee0598> triggered tf.function retracing. Tracing is expensive and the excessive number of tracings could be due to (1) creating @tf.function repeatedly in a loop, (2) passing tensors with different shapes, (3) passing Python objects instead of tensors. For (1), please define your @tf.function outside of the loop. For (2), @tf.function has experimental_relax_shapes=True option that relaxes argument shapes that can avoid unnecessary retracing. For (3), please refer to https://www.tensorflow.org/guide/function#controlling_retracing and https://www.tensorflow.org/api_docs/python/tf/function for  more details.\n"
          ],
          "name": "stderr"
        },
        {
          "output_type": "stream",
          "text": [
            "24/24 - 2s - loss: 922.1733 - val_loss: 654.6964\n",
            "Epoch 2/2\n",
            "24/24 - 0s - loss: 921.7828 - val_loss: 654.4963\n"
          ],
          "name": "stdout"
        },
        {
          "output_type": "display_data",
          "data": {
            "image/png": "[encoded data removed]",
            "text/plain": [
              "<Figure size 432x288 with 1 Axes>"
            ]
          },
          "metadata": {
            "tags": [],
            "needs_background": "light"
          }
        },
        {
          "output_type": "stream",
          "text": [
            "Region of Interest al\n",
            "RMSE is -  654.4963951390413\n",
            "mae is :  649.72034\n",
            "mean relative error is :  99.79415535926819 for a forecast of  30  days.\n",
            "[654.4963951390413, 649.72034, 99.79415535926819]\n",
            "(1550, 1, 11) (1550,) (30, 1, 11) (30,)\n",
            "(1580, 12)\n",
            "(1580, 12)\n",
            "Epoch 1/2\n",
            "WARNING:tensorflow:6 out of the last 11 calls to <function Model.make_test_function.<locals>.test_function at 0x7f0df8dc2048> triggered tf.function retracing. Tracing is expensive and the excessive number of tracings could be due to (1) creating @tf.function repeatedly in a loop, (2) passing tensors with different shapes, (3) passing Python objects instead of tensors. For (1), please define your @tf.function outside of the loop. For (2), @tf.function has experimental_relax_shapes=True option that relaxes argument shapes that can avoid unnecessary retracing. For (3), please refer to https://www.tensorflow.org/guide/function#controlling_retracing and https://www.tensorflow.org/api_docs/python/tf/function for  more details.\n"
          ],
          "name": "stdout"
        },
        {
          "output_type": "stream",
          "text": [
            "WARNING:tensorflow:6 out of the last 11 calls to <function Model.make_test_function.<locals>.test_function at 0x7f0df8dc2048> triggered tf.function retracing. Tracing is expensive and the excessive number of tracings could be due to (1) creating @tf.function repeatedly in a loop, (2) passing tensors with different shapes, (3) passing Python objects instead of tensors. For (1), please define your @tf.function outside of the loop. For (2), @tf.function has experimental_relax_shapes=True option that relaxes argument shapes that can avoid unnecessary retracing. For (3), please refer to https://www.tensorflow.org/guide/function#controlling_retracing and https://www.tensorflow.org/api_docs/python/tf/function for  more details.\n"
          ],
          "name": "stderr"
        },
        {
          "output_type": "stream",
          "text": [
            "22/22 - 2s - loss: 467.5088 - val_loss: 523.7567\n",
            "Epoch 2/2\n",
            "22/22 - 0s - loss: 467.3876 - val_loss: 523.6417\n"
          ],
          "name": "stdout"
        },
        {
          "output_type": "display_data",
          "data": {
            "image/png": "[encoded data removed]",
            "text/plain": [
              "<Figure size 432x288 with 1 Axes>"
            ]
          },
          "metadata": {
            "tags": [],
            "needs_background": "light"
          }
        },
        {
          "output_type": "stream",
          "text": [
            "Region of Interest ar\n",
            "RMSE is -  523.6416355676848\n",
            "mae is :  505.26962\n",
            "mean relative error is :  99.77432489395142 for a forecast of  30  days.\n",
            "[523.6416355676848, 505.26962, 99.77432489395142]\n",
            "(1704, 1, 11) (1704,) (30, 1, 11) (30,)\n",
            "(1734, 12)\n",
            "(1734, 12)\n",
            "Epoch 1/2\n",
            "WARNING:tensorflow:6 out of the last 11 calls to <function Model.make_test_function.<locals>.test_function at 0x7f0df21ec9d8> triggered tf.function retracing. Tracing is expensive and the excessive number of tracings could be due to (1) creating @tf.function repeatedly in a loop, (2) passing tensors with different shapes, (3) passing Python objects instead of tensors. For (1), please define your @tf.function outside of the loop. For (2), @tf.function has experimental_relax_shapes=True option that relaxes argument shapes that can avoid unnecessary retracing. For (3), please refer to https://www.tensorflow.org/guide/function#controlling_retracing and https://www.tensorflow.org/api_docs/python/tf/function for  more details.\n"
          ],
          "name": "stdout"
        },
        {
          "output_type": "stream",
          "text": [
            "WARNING:tensorflow:6 out of the last 11 calls to <function Model.make_test_function.<locals>.test_function at 0x7f0df21ec9d8> triggered tf.function retracing. Tracing is expensive and the excessive number of tracings could be due to (1) creating @tf.function repeatedly in a loop, (2) passing tensors with different shapes, (3) passing Python objects instead of tensors. For (1), please define your @tf.function outside of the loop. For (2), @tf.function has experimental_relax_shapes=True option that relaxes argument shapes that can avoid unnecessary retracing. For (3), please refer to https://www.tensorflow.org/guide/function#controlling_retracing and https://www.tensorflow.org/api_docs/python/tf/function for  more details.\n"
          ],
          "name": "stderr"
        },
        {
          "output_type": "stream",
          "text": [
            "24/24 - 2s - loss: 1470.1497 - val_loss: 184.0162\n",
            "Epoch 2/2\n",
            "24/24 - 0s - loss: 1470.1061 - val_loss: 183.9690\n"
          ],
          "name": "stdout"
        },
        {
          "output_type": "display_data",
          "data": {
            "image/png": "[encoded data removed]",
            "text/plain": [
              "<Figure size 432x288 with 1 Axes>"
            ]
          },
          "metadata": {
            "tags": [],
            "needs_background": "light"
          }
        },
        {
          "output_type": "stream",
          "text": [
            "WARNING:tensorflow:5 out of the last 55 calls to <function Model.make_predict_function.<locals>.predict_function at 0x7f0df168dea0> triggered tf.function retracing. Tracing is expensive and the excessive number of tracings could be due to (1) creating @tf.function repeatedly in a loop, (2) passing tensors with different shapes, (3) passing Python objects instead of tensors. For (1), please define your @tf.function outside of the loop. For (2), @tf.function has experimental_relax_shapes=True option that relaxes argument shapes that can avoid unnecessary retracing. For (3), please refer to https://www.tensorflow.org/guide/function#controlling_retracing and https://www.tensorflow.org/api_docs/python/tf/function for  more details.\n"
          ],
          "name": "stdout"
        },
        {
          "output_type": "stream",
          "text": [
            "WARNING:tensorflow:5 out of the last 55 calls to <function Model.make_predict_function.<locals>.predict_function at 0x7f0df168dea0> triggered tf.function retracing. Tracing is expensive and the excessive number of tracings could be due to (1) creating @tf.function repeatedly in a loop, (2) passing tensors with different shapes, (3) passing Python objects instead of tensors. For (1), please define your @tf.function outside of the loop. For (2), @tf.function has experimental_relax_shapes=True option that relaxes argument shapes that can avoid unnecessary retracing. For (3), please refer to https://www.tensorflow.org/guide/function#controlling_retracing and https://www.tensorflow.org/api_docs/python/tf/function for  more details.\n"
          ],
          "name": "stderr"
        },
        {
          "output_type": "stream",
          "text": [
            "Region of Interest az\n",
            "RMSE is -  183.96903399417522\n",
            "mae is :  168.74129\n",
            "mean relative error is :  99.0653932094574 for a forecast of  30  days.\n",
            "[183.96903399417522, 168.74129, 99.0653932094574]\n",
            "(1722, 1, 11) (1722,) (30, 1, 11) (30,)\n",
            "(1752, 12)\n",
            "(1752, 12)\n",
            "Epoch 1/2\n",
            "WARNING:tensorflow:6 out of the last 11 calls to <function Model.make_test_function.<locals>.test_function at 0x7f0df8fdd048> triggered tf.function retracing. Tracing is expensive and the excessive number of tracings could be due to (1) creating @tf.function repeatedly in a loop, (2) passing tensors with different shapes, (3) passing Python objects instead of tensors. For (1), please define your @tf.function outside of the loop. For (2), @tf.function has experimental_relax_shapes=True option that relaxes argument shapes that can avoid unnecessary retracing. For (3), please refer to https://www.tensorflow.org/guide/function#controlling_retracing and https://www.tensorflow.org/api_docs/python/tf/function for  more details.\n"
          ],
          "name": "stdout"
        },
        {
          "output_type": "stream",
          "text": [
            "WARNING:tensorflow:6 out of the last 11 calls to <function Model.make_test_function.<locals>.test_function at 0x7f0df8fdd048> triggered tf.function retracing. Tracing is expensive and the excessive number of tracings could be due to (1) creating @tf.function repeatedly in a loop, (2) passing tensors with different shapes, (3) passing Python objects instead of tensors. For (1), please define your @tf.function outside of the loop. For (2), @tf.function has experimental_relax_shapes=True option that relaxes argument shapes that can avoid unnecessary retracing. For (3), please refer to https://www.tensorflow.org/guide/function#controlling_retracing and https://www.tensorflow.org/api_docs/python/tf/function for  more details.\n"
          ],
          "name": "stderr"
        },
        {
          "output_type": "stream",
          "text": [
            "24/24 - 2s - loss: 5026.3125 - val_loss: 3016.7065\n",
            "Epoch 2/2\n",
            "24/24 - 0s - loss: 5026.1895 - val_loss: 3016.6211\n"
          ],
          "name": "stdout"
        },
        {
          "output_type": "display_data",
          "data": {
            "image/png": "[encoded data removed]",
            "text/plain": [
              "<Figure size 432x288 with 1 Axes>"
            ]
          },
          "metadata": {
            "tags": [],
            "needs_background": "light"
          }
        },
        {
          "output_type": "stream",
          "text": [
            "WARNING:tensorflow:6 out of the last 56 calls to <function Model.make_predict_function.<locals>.predict_function at 0x7f0ded187f28> triggered tf.function retracing. Tracing is expensive and the excessive number of tracings could be due to (1) creating @tf.function repeatedly in a loop, (2) passing tensors with different shapes, (3) passing Python objects instead of tensors. For (1), please define your @tf.function outside of the loop. For (2), @tf.function has experimental_relax_shapes=True option that relaxes argument shapes that can avoid unnecessary retracing. For (3), please refer to https://www.tensorflow.org/guide/function#controlling_retracing and https://www.tensorflow.org/api_docs/python/tf/function for  more details.\n"
          ],
          "name": "stdout"
        },
        {
          "output_type": "stream",
          "text": [
            "WARNING:tensorflow:6 out of the last 56 calls to <function Model.make_predict_function.<locals>.predict_function at 0x7f0ded187f28> triggered tf.function retracing. Tracing is expensive and the excessive number of tracings could be due to (1) creating @tf.function repeatedly in a loop, (2) passing tensors with different shapes, (3) passing Python objects instead of tensors. For (1), please define your @tf.function outside of the loop. For (2), @tf.function has experimental_relax_shapes=True option that relaxes argument shapes that can avoid unnecessary retracing. For (3), please refer to https://www.tensorflow.org/guide/function#controlling_retracing and https://www.tensorflow.org/api_docs/python/tf/function for  more details.\n"
          ],
          "name": "stderr"
        },
        {
          "output_type": "stream",
          "text": [
            "Region of Interest ca\n",
            "RMSE is -  3016.6212887931424\n",
            "mae is :  2984.0835\n",
            "mean relative error is :  99.96799230575562 for a forecast of  30  days.\n",
            "[3016.6212887931424, 2984.0835, 99.96799230575562]\n",
            "(3456, 1, 11) (3456,) (30, 1, 11) (30,)\n",
            "(3486, 12)\n",
            "(3486, 12)\n",
            "Epoch 1/2\n",
            "WARNING:tensorflow:6 out of the last 11 calls to <function Model.make_test_function.<locals>.test_function at 0x7f0df21fe158> triggered tf.function retracing. Tracing is expensive and the excessive number of tracings could be due to (1) creating @tf.function repeatedly in a loop, (2) passing tensors with different shapes, (3) passing Python objects instead of tensors. For (1), please define your @tf.function outside of the loop. For (2), @tf.function has experimental_relax_shapes=True option that relaxes argument shapes that can avoid unnecessary retracing. For (3), please refer to https://www.tensorflow.org/guide/function#controlling_retracing and https://www.tensorflow.org/api_docs/python/tf/function for  more details.\n"
          ],
          "name": "stdout"
        },
        {
          "output_type": "stream",
          "text": [
            "WARNING:tensorflow:6 out of the last 11 calls to <function Model.make_test_function.<locals>.test_function at 0x7f0df21fe158> triggered tf.function retracing. Tracing is expensive and the excessive number of tracings could be due to (1) creating @tf.function repeatedly in a loop, (2) passing tensors with different shapes, (3) passing Python objects instead of tensors. For (1), please define your @tf.function outside of the loop. For (2), @tf.function has experimental_relax_shapes=True option that relaxes argument shapes that can avoid unnecessary retracing. For (3), please refer to https://www.tensorflow.org/guide/function#controlling_retracing and https://www.tensorflow.org/api_docs/python/tf/function for  more details.\n"
          ],
          "name": "stderr"
        },
        {
          "output_type": "stream",
          "text": [
            "48/48 - 2s - loss: 358.8868 - val_loss: 293.5552\n",
            "Epoch 2/2\n",
            "48/48 - 0s - loss: 358.7522 - val_loss: 293.4283\n"
          ],
          "name": "stdout"
        },
        {
          "output_type": "display_data",
          "data": {
            "image/png": "[encoded data removed]",
            "text/plain": [
              "<Figure size 432x288 with 1 Axes>"
            ]
          },
          "metadata": {
            "tags": [],
            "needs_background": "light"
          }
        },
        {
          "output_type": "stream",
          "text": [
            "WARNING:tensorflow:7 out of the last 57 calls to <function Model.make_predict_function.<locals>.predict_function at 0x7f0deefb1d08> triggered tf.function retracing. Tracing is expensive and the excessive number of tracings could be due to (1) creating @tf.function repeatedly in a loop, (2) passing tensors with different shapes, (3) passing Python objects instead of tensors. For (1), please define your @tf.function outside of the loop. For (2), @tf.function has experimental_relax_shapes=True option that relaxes argument shapes that can avoid unnecessary retracing. For (3), please refer to https://www.tensorflow.org/guide/function#controlling_retracing and https://www.tensorflow.org/api_docs/python/tf/function for  more details.\n"
          ],
          "name": "stdout"
        },
        {
          "output_type": "stream",
          "text": [
            "WARNING:tensorflow:7 out of the last 57 calls to <function Model.make_predict_function.<locals>.predict_function at 0x7f0deefb1d08> triggered tf.function retracing. Tracing is expensive and the excessive number of tracings could be due to (1) creating @tf.function repeatedly in a loop, (2) passing tensors with different shapes, (3) passing Python objects instead of tensors. For (1), please define your @tf.function outside of the loop. For (2), @tf.function has experimental_relax_shapes=True option that relaxes argument shapes that can avoid unnecessary retracing. For (3), please refer to https://www.tensorflow.org/guide/function#controlling_retracing and https://www.tensorflow.org/api_docs/python/tf/function for  more details.\n"
          ],
          "name": "stderr"
        },
        {
          "output_type": "stream",
          "text": [
            "Region of Interest co\n",
            "RMSE is -  293.4283078964945\n",
            "mae is :  258.00986\n",
            "mean relative error is :  90.46803712844849 for a forecast of  30  days.\n",
            "[293.4283078964945, 258.00986, 90.46803712844849]\n",
            "(267, 1, 11) (267,) (30, 1, 11) (30,)\n",
            "(297, 12)\n",
            "(297, 12)\n",
            "Epoch 1/2\n",
            "WARNING:tensorflow:6 out of the last 11 calls to <function Model.make_test_function.<locals>.test_function at 0x7f0deece3048> triggered tf.function retracing. Tracing is expensive and the excessive number of tracings could be due to (1) creating @tf.function repeatedly in a loop, (2) passing tensors with different shapes, (3) passing Python objects instead of tensors. For (1), please define your @tf.function outside of the loop. For (2), @tf.function has experimental_relax_shapes=True option that relaxes argument shapes that can avoid unnecessary retracing. For (3), please refer to https://www.tensorflow.org/guide/function#controlling_retracing and https://www.tensorflow.org/api_docs/python/tf/function for  more details.\n"
          ],
          "name": "stdout"
        },
        {
          "output_type": "stream",
          "text": [
            "WARNING:tensorflow:6 out of the last 11 calls to <function Model.make_test_function.<locals>.test_function at 0x7f0deece3048> triggered tf.function retracing. Tracing is expensive and the excessive number of tracings could be due to (1) creating @tf.function repeatedly in a loop, (2) passing tensors with different shapes, (3) passing Python objects instead of tensors. For (1), please define your @tf.function outside of the loop. For (2), @tf.function has experimental_relax_shapes=True option that relaxes argument shapes that can avoid unnecessary retracing. For (3), please refer to https://www.tensorflow.org/guide/function#controlling_retracing and https://www.tensorflow.org/api_docs/python/tf/function for  more details.\n"
          ],
          "name": "stderr"
        },
        {
          "output_type": "stream",
          "text": [
            "4/4 - 2s - loss: 82.1950 - val_loss: 114.5326\n",
            "Epoch 2/2\n",
            "4/4 - 0s - loss: 82.1894 - val_loss: 114.5275\n"
          ],
          "name": "stdout"
        },
        {
          "output_type": "display_data",
          "data": {
            "image/png": "[encoded data removed]",
            "text/plain": [
              "<Figure size 432x288 with 1 Axes>"
            ]
          },
          "metadata": {
            "tags": [],
            "needs_background": "light"
          }
        },
        {
          "output_type": "stream",
          "text": [
            "WARNING:tensorflow:8 out of the last 58 calls to <function Model.make_predict_function.<locals>.predict_function at 0x7f0df09aaf28> triggered tf.function retracing. Tracing is expensive and the excessive number of tracings could be due to (1) creating @tf.function repeatedly in a loop, (2) passing tensors with different shapes, (3) passing Python objects instead of tensors. For (1), please define your @tf.function outside of the loop. For (2), @tf.function has experimental_relax_shapes=True option that relaxes argument shapes that can avoid unnecessary retracing. For (3), please refer to https://www.tensorflow.org/guide/function#controlling_retracing and https://www.tensorflow.org/api_docs/python/tf/function for  more details.\n"
          ],
          "name": "stdout"
        },
        {
          "output_type": "stream",
          "text": [
            "WARNING:tensorflow:8 out of the last 58 calls to <function Model.make_predict_function.<locals>.predict_function at 0x7f0df09aaf28> triggered tf.function retracing. Tracing is expensive and the excessive number of tracings could be due to (1) creating @tf.function repeatedly in a loop, (2) passing tensors with different shapes, (3) passing Python objects instead of tensors. For (1), please define your @tf.function outside of the loop. For (2), @tf.function has experimental_relax_shapes=True option that relaxes argument shapes that can avoid unnecessary retracing. For (3), please refer to https://www.tensorflow.org/guide/function#controlling_retracing and https://www.tensorflow.org/api_docs/python/tf/function for  more details.\n"
          ],
          "name": "stderr"
        },
        {
          "output_type": "stream",
          "text": [
            "Region of Interest dc\n",
            "RMSE is -  114.52746838913798\n",
            "mae is :  100.88117\n",
            "mean relative error is :  98.59934449195862 for a forecast of  30  days.\n",
            "[114.52746838913798, 100.88117, 98.59934449195862]\n",
            "(1017, 1, 11) (1017,) (30, 1, 11) (30,)\n",
            "(1047, 12)\n",
            "(1047, 12)\n",
            "Epoch 1/2\n",
            "WARNING:tensorflow:6 out of the last 11 calls to <function Model.make_test_function.<locals>.test_function at 0x7f0df0dc7bf8> triggered tf.function retracing. Tracing is expensive and the excessive number of tracings could be due to (1) creating @tf.function repeatedly in a loop, (2) passing tensors with different shapes, (3) passing Python objects instead of tensors. For (1), please define your @tf.function outside of the loop. For (2), @tf.function has experimental_relax_shapes=True option that relaxes argument shapes that can avoid unnecessary retracing. For (3), please refer to https://www.tensorflow.org/guide/function#controlling_retracing and https://www.tensorflow.org/api_docs/python/tf/function for  more details.\n"
          ],
          "name": "stdout"
        },
        {
          "output_type": "stream",
          "text": [
            "WARNING:tensorflow:6 out of the last 11 calls to <function Model.make_test_function.<locals>.test_function at 0x7f0df0dc7bf8> triggered tf.function retracing. Tracing is expensive and the excessive number of tracings could be due to (1) creating @tf.function repeatedly in a loop, (2) passing tensors with different shapes, (3) passing Python objects instead of tensors. For (1), please define your @tf.function outside of the loop. For (2), @tf.function has experimental_relax_shapes=True option that relaxes argument shapes that can avoid unnecessary retracing. For (3), please refer to https://www.tensorflow.org/guide/function#controlling_retracing and https://www.tensorflow.org/api_docs/python/tf/function for  more details.\n"
          ],
          "name": "stderr"
        },
        {
          "output_type": "stream",
          "text": [
            "15/15 - 2s - loss: 131.0468 - val_loss: 83.6589\n",
            "Epoch 2/2\n",
            "15/15 - 0s - loss: 131.0170 - val_loss: 83.6320\n"
          ],
          "name": "stdout"
        },
        {
          "output_type": "display_data",
          "data": {
            "image/png": "[encoded data removed]",
            "text/plain": [
              "<Figure size 432x288 with 1 Axes>"
            ]
          },
          "metadata": {
            "tags": [],
            "needs_background": "light"
          }
        },
        {
          "output_type": "stream",
          "text": [
            "WARNING:tensorflow:9 out of the last 59 calls to <function Model.make_predict_function.<locals>.predict_function at 0x7f0df21fec80> triggered tf.function retracing. Tracing is expensive and the excessive number of tracings could be due to (1) creating @tf.function repeatedly in a loop, (2) passing tensors with different shapes, (3) passing Python objects instead of tensors. For (1), please define your @tf.function outside of the loop. For (2), @tf.function has experimental_relax_shapes=True option that relaxes argument shapes that can avoid unnecessary retracing. For (3), please refer to https://www.tensorflow.org/guide/function#controlling_retracing and https://www.tensorflow.org/api_docs/python/tf/function for  more details.\n"
          ],
          "name": "stdout"
        },
        {
          "output_type": "stream",
          "text": [
            "WARNING:tensorflow:9 out of the last 59 calls to <function Model.make_predict_function.<locals>.predict_function at 0x7f0df21fec80> triggered tf.function retracing. Tracing is expensive and the excessive number of tracings could be due to (1) creating @tf.function repeatedly in a loop, (2) passing tensors with different shapes, (3) passing Python objects instead of tensors. For (1), please define your @tf.function outside of the loop. For (2), @tf.function has experimental_relax_shapes=True option that relaxes argument shapes that can avoid unnecessary retracing. For (3), please refer to https://www.tensorflow.org/guide/function#controlling_retracing and https://www.tensorflow.org/api_docs/python/tf/function for  more details.\n"
          ],
          "name": "stderr"
        },
        {
          "output_type": "stream",
          "text": [
            "Region of Interest de\n",
            "RMSE is -  83.63198015991699\n",
            "mae is :  61.807095\n",
            "mean relative error is :  30.04709780216217 for a forecast of  30  days.\n",
            "[83.63198015991699, 61.807095, 30.04709780216217]\n",
            "(1721, 1, 11) (1721,) (30, 1, 11) (30,)\n",
            "(1751, 12)\n",
            "(1751, 12)\n",
            "Epoch 1/2\n",
            "WARNING:tensorflow:6 out of the last 11 calls to <function Model.make_test_function.<locals>.test_function at 0x7f0def033510> triggered tf.function retracing. Tracing is expensive and the excessive number of tracings could be due to (1) creating @tf.function repeatedly in a loop, (2) passing tensors with different shapes, (3) passing Python objects instead of tensors. For (1), please define your @tf.function outside of the loop. For (2), @tf.function has experimental_relax_shapes=True option that relaxes argument shapes that can avoid unnecessary retracing. For (3), please refer to https://www.tensorflow.org/guide/function#controlling_retracing and https://www.tensorflow.org/api_docs/python/tf/function for  more details.\n"
          ],
          "name": "stdout"
        },
        {
          "output_type": "stream",
          "text": [
            "WARNING:tensorflow:6 out of the last 11 calls to <function Model.make_test_function.<locals>.test_function at 0x7f0def033510> triggered tf.function retracing. Tracing is expensive and the excessive number of tracings could be due to (1) creating @tf.function repeatedly in a loop, (2) passing tensors with different shapes, (3) passing Python objects instead of tensors. For (1), please define your @tf.function outside of the loop. For (2), @tf.function has experimental_relax_shapes=True option that relaxes argument shapes that can avoid unnecessary retracing. For (3), please refer to https://www.tensorflow.org/guide/function#controlling_retracing and https://www.tensorflow.org/api_docs/python/tf/function for  more details.\n"
          ],
          "name": "stderr"
        },
        {
          "output_type": "stream",
          "text": [
            "24/24 - 2s - loss: 4451.2905 - val_loss: 1998.0519\n",
            "Epoch 2/2\n",
            "24/24 - 0s - loss: 4451.1992 - val_loss: 1997.9669\n"
          ],
          "name": "stdout"
        },
        {
          "output_type": "display_data",
          "data": {
            "image/png": "[encoded data removed]",
            "text/plain": [
              "<Figure size 432x288 with 1 Axes>"
            ]
          },
          "metadata": {
            "tags": [],
            "needs_background": "light"
          }
        },
        {
          "output_type": "stream",
          "text": [
            "WARNING:tensorflow:10 out of the last 60 calls to <function Model.make_predict_function.<locals>.predict_function at 0x7f0decb9cd90> triggered tf.function retracing. Tracing is expensive and the excessive number of tracings could be due to (1) creating @tf.function repeatedly in a loop, (2) passing tensors with different shapes, (3) passing Python objects instead of tensors. For (1), please define your @tf.function outside of the loop. For (2), @tf.function has experimental_relax_shapes=True option that relaxes argument shapes that can avoid unnecessary retracing. For (3), please refer to https://www.tensorflow.org/guide/function#controlling_retracing and https://www.tensorflow.org/api_docs/python/tf/function for  more details.\n"
          ],
          "name": "stdout"
        },
        {
          "output_type": "stream",
          "text": [
            "WARNING:tensorflow:10 out of the last 60 calls to <function Model.make_predict_function.<locals>.predict_function at 0x7f0decb9cd90> triggered tf.function retracing. Tracing is expensive and the excessive number of tracings could be due to (1) creating @tf.function repeatedly in a loop, (2) passing tensors with different shapes, (3) passing Python objects instead of tensors. For (1), please define your @tf.function outside of the loop. For (2), @tf.function has experimental_relax_shapes=True option that relaxes argument shapes that can avoid unnecessary retracing. For (3), please refer to https://www.tensorflow.org/guide/function#controlling_retracing and https://www.tensorflow.org/api_docs/python/tf/function for  more details.\n"
          ],
          "name": "stderr"
        },
        {
          "output_type": "stream",
          "text": [
            "Region of Interest fl\n",
            "RMSE is -  1997.9669041302961\n",
            "mae is :  1976.2965\n",
            "mean relative error is :  99.90205764770508 for a forecast of  30  days.\n",
            "[1997.9669041302961, 1976.2965, 99.90205764770508]\n",
            "(1717, 1, 11) (1717,) (30, 1, 11) (30,)\n",
            "(1747, 12)\n",
            "(1747, 12)\n",
            "Epoch 1/2\n",
            "WARNING:tensorflow:6 out of the last 11 calls to <function Model.make_test_function.<locals>.test_function at 0x7f0deadd1620> triggered tf.function retracing. Tracing is expensive and the excessive number of tracings could be due to (1) creating @tf.function repeatedly in a loop, (2) passing tensors with different shapes, (3) passing Python objects instead of tensors. For (1), please define your @tf.function outside of the loop. For (2), @tf.function has experimental_relax_shapes=True option that relaxes argument shapes that can avoid unnecessary retracing. For (3), please refer to https://www.tensorflow.org/guide/function#controlling_retracing and https://www.tensorflow.org/api_docs/python/tf/function for  more details.\n"
          ],
          "name": "stdout"
        },
        {
          "output_type": "stream",
          "text": [
            "WARNING:tensorflow:6 out of the last 11 calls to <function Model.make_test_function.<locals>.test_function at 0x7f0deadd1620> triggered tf.function retracing. Tracing is expensive and the excessive number of tracings could be due to (1) creating @tf.function repeatedly in a loop, (2) passing tensors with different shapes, (3) passing Python objects instead of tensors. For (1), please define your @tf.function outside of the loop. For (2), @tf.function has experimental_relax_shapes=True option that relaxes argument shapes that can avoid unnecessary retracing. For (3), please refer to https://www.tensorflow.org/guide/function#controlling_retracing and https://www.tensorflow.org/api_docs/python/tf/function for  more details.\n"
          ],
          "name": "stderr"
        },
        {
          "output_type": "stream",
          "text": [
            "24/24 - 3s - loss: 1802.9569 - val_loss: 1180.5920\n",
            "Epoch 2/2\n",
            "24/24 - 0s - loss: 1802.8407 - val_loss: 1180.5034\n"
          ],
          "name": "stdout"
        },
        {
          "output_type": "display_data",
          "data": {
            "image/png": "[encoded data removed]",
            "text/plain": [
              "<Figure size 432x288 with 1 Axes>"
            ]
          },
          "metadata": {
            "tags": [],
            "needs_background": "light"
          }
        },
        {
          "output_type": "stream",
          "text": [
            "WARNING:tensorflow:11 out of the last 61 calls to <function Model.make_predict_function.<locals>.predict_function at 0x7f0df1e66ae8> triggered tf.function retracing. Tracing is expensive and the excessive number of tracings could be due to (1) creating @tf.function repeatedly in a loop, (2) passing tensors with different shapes, (3) passing Python objects instead of tensors. For (1), please define your @tf.function outside of the loop. For (2), @tf.function has experimental_relax_shapes=True option that relaxes argument shapes that can avoid unnecessary retracing. For (3), please refer to https://www.tensorflow.org/guide/function#controlling_retracing and https://www.tensorflow.org/api_docs/python/tf/function for  more details.\n"
          ],
          "name": "stdout"
        },
        {
          "output_type": "stream",
          "text": [
            "WARNING:tensorflow:11 out of the last 61 calls to <function Model.make_predict_function.<locals>.predict_function at 0x7f0df1e66ae8> triggered tf.function retracing. Tracing is expensive and the excessive number of tracings could be due to (1) creating @tf.function repeatedly in a loop, (2) passing tensors with different shapes, (3) passing Python objects instead of tensors. For (1), please define your @tf.function outside of the loop. For (2), @tf.function has experimental_relax_shapes=True option that relaxes argument shapes that can avoid unnecessary retracing. For (3), please refer to https://www.tensorflow.org/guide/function#controlling_retracing and https://www.tensorflow.org/api_docs/python/tf/function for  more details.\n"
          ],
          "name": "stderr"
        },
        {
          "output_type": "stream",
          "text": [
            "Region of Interest ga\n",
            "RMSE is -  1180.5033883898852\n",
            "mae is :  1088.8813\n",
            "mean relative error is :  99.85209703445435 for a forecast of  30  days.\n",
            "[1180.5033883898852, 1088.8813, 99.85209703445435]\n",
            "(933, 1, 11) (933,) (30, 1, 11) (30,)\n",
            "(963, 12)\n",
            "(963, 12)\n",
            "Epoch 1/2\n",
            "WARNING:tensorflow:6 out of the last 11 calls to <function Model.make_test_function.<locals>.test_function at 0x7f0df09aab70> triggered tf.function retracing. Tracing is expensive and the excessive number of tracings could be due to (1) creating @tf.function repeatedly in a loop, (2) passing tensors with different shapes, (3) passing Python objects instead of tensors. For (1), please define your @tf.function outside of the loop. For (2), @tf.function has experimental_relax_shapes=True option that relaxes argument shapes that can avoid unnecessary retracing. For (3), please refer to https://www.tensorflow.org/guide/function#controlling_retracing and https://www.tensorflow.org/api_docs/python/tf/function for  more details.\n"
          ],
          "name": "stdout"
        },
        {
          "output_type": "stream",
          "text": [
            "WARNING:tensorflow:6 out of the last 11 calls to <function Model.make_test_function.<locals>.test_function at 0x7f0df09aab70> triggered tf.function retracing. Tracing is expensive and the excessive number of tracings could be due to (1) creating @tf.function repeatedly in a loop, (2) passing tensors with different shapes, (3) passing Python objects instead of tensors. For (1), please define your @tf.function outside of the loop. For (2), @tf.function has experimental_relax_shapes=True option that relaxes argument shapes that can avoid unnecessary retracing. For (3), please refer to https://www.tensorflow.org/guide/function#controlling_retracing and https://www.tensorflow.org/api_docs/python/tf/function for  more details.\n"
          ],
          "name": "stderr"
        },
        {
          "output_type": "stream",
          "text": [
            "13/13 - 2s - loss: 58.9385 - val_loss: 211.3613\n",
            "Epoch 2/2\n",
            "13/13 - 0s - loss: 58.8320 - val_loss: 211.2487\n"
          ],
          "name": "stdout"
        },
        {
          "output_type": "display_data",
          "data": {
            "image/png": "[encoded data removed]",
            "text/plain": [
              "<Figure size 432x288 with 1 Axes>"
            ]
          },
          "metadata": {
            "tags": [],
            "needs_background": "light"
          }
        },
        {
          "output_type": "stream",
          "text": [
            "WARNING:tensorflow:11 out of the last 11 calls to <function Model.make_predict_function.<locals>.predict_function at 0x7f0df181dea0> triggered tf.function retracing. Tracing is expensive and the excessive number of tracings could be due to (1) creating @tf.function repeatedly in a loop, (2) passing tensors with different shapes, (3) passing Python objects instead of tensors. For (1), please define your @tf.function outside of the loop. For (2), @tf.function has experimental_relax_shapes=True option that relaxes argument shapes that can avoid unnecessary retracing. For (3), please refer to https://www.tensorflow.org/guide/function#controlling_retracing and https://www.tensorflow.org/api_docs/python/tf/function for  more details.\n"
          ],
          "name": "stdout"
        },
        {
          "output_type": "stream",
          "text": [
            "WARNING:tensorflow:11 out of the last 11 calls to <function Model.make_predict_function.<locals>.predict_function at 0x7f0df181dea0> triggered tf.function retracing. Tracing is expensive and the excessive number of tracings could be due to (1) creating @tf.function repeatedly in a loop, (2) passing tensors with different shapes, (3) passing Python objects instead of tensors. For (1), please define your @tf.function outside of the loop. For (2), @tf.function has experimental_relax_shapes=True option that relaxes argument shapes that can avoid unnecessary retracing. For (3), please refer to https://www.tensorflow.org/guide/function#controlling_retracing and https://www.tensorflow.org/api_docs/python/tf/function for  more details.\n"
          ],
          "name": "stderr"
        },
        {
          "output_type": "stream",
          "text": [
            "Region of Interest hi\n",
            "RMSE is -  211.2487333541908\n",
            "mae is :  202.17253\n",
            "mean relative error is :  99.48399662971497 for a forecast of  30  days.\n",
            "[211.2487333541908, 202.17253, 99.48399662971497]\n",
            "(1683, 1, 11) (1683,) (30, 1, 11) (30,)\n",
            "(1713, 12)\n",
            "(1713, 12)\n",
            "Epoch 1/2\n",
            "WARNING:tensorflow:6 out of the last 11 calls to <function Model.make_test_function.<locals>.test_function at 0x7f0def033840> triggered tf.function retracing. Tracing is expensive and the excessive number of tracings could be due to (1) creating @tf.function repeatedly in a loop, (2) passing tensors with different shapes, (3) passing Python objects instead of tensors. For (1), please define your @tf.function outside of the loop. For (2), @tf.function has experimental_relax_shapes=True option that relaxes argument shapes that can avoid unnecessary retracing. For (3), please refer to https://www.tensorflow.org/guide/function#controlling_retracing and https://www.tensorflow.org/api_docs/python/tf/function for  more details.\n"
          ],
          "name": "stdout"
        },
        {
          "output_type": "stream",
          "text": [
            "WARNING:tensorflow:6 out of the last 11 calls to <function Model.make_test_function.<locals>.test_function at 0x7f0def033840> triggered tf.function retracing. Tracing is expensive and the excessive number of tracings could be due to (1) creating @tf.function repeatedly in a loop, (2) passing tensors with different shapes, (3) passing Python objects instead of tensors. For (1), please define your @tf.function outside of the loop. For (2), @tf.function has experimental_relax_shapes=True option that relaxes argument shapes that can avoid unnecessary retracing. For (3), please refer to https://www.tensorflow.org/guide/function#controlling_retracing and https://www.tensorflow.org/api_docs/python/tf/function for  more details.\n"
          ],
          "name": "stderr"
        },
        {
          "output_type": "stream",
          "text": [
            "24/24 - 2s - loss: 503.1452 - val_loss: 442.8633\n",
            "Epoch 2/2\n",
            "24/24 - 0s - loss: 502.9088 - val_loss: 442.6053\n"
          ],
          "name": "stdout"
        },
        {
          "output_type": "display_data",
          "data": {
            "image/png": "[encoded data removed]",
            "text/plain": [
              "<Figure size 432x288 with 1 Axes>"
            ]
          },
          "metadata": {
            "tags": [],
            "needs_background": "light"
          }
        },
        {
          "output_type": "stream",
          "text": [
            "WARNING:tensorflow:11 out of the last 11 calls to <function Model.make_predict_function.<locals>.predict_function at 0x7f0dedc5c158> triggered tf.function retracing. Tracing is expensive and the excessive number of tracings could be due to (1) creating @tf.function repeatedly in a loop, (2) passing tensors with different shapes, (3) passing Python objects instead of tensors. For (1), please define your @tf.function outside of the loop. For (2), @tf.function has experimental_relax_shapes=True option that relaxes argument shapes that can avoid unnecessary retracing. For (3), please refer to https://www.tensorflow.org/guide/function#controlling_retracing and https://www.tensorflow.org/api_docs/python/tf/function for  more details.\n"
          ],
          "name": "stdout"
        },
        {
          "output_type": "stream",
          "text": [
            "WARNING:tensorflow:11 out of the last 11 calls to <function Model.make_predict_function.<locals>.predict_function at 0x7f0dedc5c158> triggered tf.function retracing. Tracing is expensive and the excessive number of tracings could be due to (1) creating @tf.function repeatedly in a loop, (2) passing tensors with different shapes, (3) passing Python objects instead of tensors. For (1), please define your @tf.function outside of the loop. For (2), @tf.function has experimental_relax_shapes=True option that relaxes argument shapes that can avoid unnecessary retracing. For (3), please refer to https://www.tensorflow.org/guide/function#controlling_retracing and https://www.tensorflow.org/api_docs/python/tf/function for  more details.\n"
          ],
          "name": "stderr"
        },
        {
          "output_type": "stream",
          "text": [
            "Region of Interest ia\n",
            "RMSE is -  442.6053546897055\n",
            "mae is :  434.6489\n",
            "mean relative error is :  99.6926486492157 for a forecast of  30  days.\n",
            "[442.6053546897055, 434.6489, 99.6926486492157]\n",
            "(1419, 1, 11) (1419,) (30, 1, 11) (30,)\n",
            "(1449, 12)\n",
            "(1449, 12)\n",
            "Epoch 1/2\n",
            "WARNING:tensorflow:6 out of the last 11 calls to <function Model.make_test_function.<locals>.test_function at 0x7f0df8fd4378> triggered tf.function retracing. Tracing is expensive and the excessive number of tracings could be due to (1) creating @tf.function repeatedly in a loop, (2) passing tensors with different shapes, (3) passing Python objects instead of tensors. For (1), please define your @tf.function outside of the loop. For (2), @tf.function has experimental_relax_shapes=True option that relaxes argument shapes that can avoid unnecessary retracing. For (3), please refer to https://www.tensorflow.org/guide/function#controlling_retracing and https://www.tensorflow.org/api_docs/python/tf/function for  more details.\n"
          ],
          "name": "stdout"
        },
        {
          "output_type": "stream",
          "text": [
            "WARNING:tensorflow:6 out of the last 11 calls to <function Model.make_test_function.<locals>.test_function at 0x7f0df8fd4378> triggered tf.function retracing. Tracing is expensive and the excessive number of tracings could be due to (1) creating @tf.function repeatedly in a loop, (2) passing tensors with different shapes, (3) passing Python objects instead of tensors. For (1), please define your @tf.function outside of the loop. For (2), @tf.function has experimental_relax_shapes=True option that relaxes argument shapes that can avoid unnecessary retracing. For (3), please refer to https://www.tensorflow.org/guide/function#controlling_retracing and https://www.tensorflow.org/api_docs/python/tf/function for  more details.\n"
          ],
          "name": "stderr"
        },
        {
          "output_type": "stream",
          "text": [
            "20/20 - 2s - loss: 229.5304 - val_loss: 208.6687\n",
            "Epoch 2/2\n",
            "20/20 - 0s - loss: 229.3579 - val_loss: 208.5070\n"
          ],
          "name": "stdout"
        },
        {
          "output_type": "display_data",
          "data": {
            "image/png": "[encoded data removed]",
            "text/plain": [
              "<Figure size 432x288 with 1 Axes>"
            ]
          },
          "metadata": {
            "tags": [],
            "needs_background": "light"
          }
        },
        {
          "output_type": "stream",
          "text": [
            "WARNING:tensorflow:11 out of the last 11 calls to <function Model.make_predict_function.<locals>.predict_function at 0x7f0df8dc2268> triggered tf.function retracing. Tracing is expensive and the excessive number of tracings could be due to (1) creating @tf.function repeatedly in a loop, (2) passing tensors with different shapes, (3) passing Python objects instead of tensors. For (1), please define your @tf.function outside of the loop. For (2), @tf.function has experimental_relax_shapes=True option that relaxes argument shapes that can avoid unnecessary retracing. For (3), please refer to https://www.tensorflow.org/guide/function#controlling_retracing and https://www.tensorflow.org/api_docs/python/tf/function for  more details.\n"
          ],
          "name": "stdout"
        },
        {
          "output_type": "stream",
          "text": [
            "WARNING:tensorflow:11 out of the last 11 calls to <function Model.make_predict_function.<locals>.predict_function at 0x7f0df8dc2268> triggered tf.function retracing. Tracing is expensive and the excessive number of tracings could be due to (1) creating @tf.function repeatedly in a loop, (2) passing tensors with different shapes, (3) passing Python objects instead of tensors. For (1), please define your @tf.function outside of the loop. For (2), @tf.function has experimental_relax_shapes=True option that relaxes argument shapes that can avoid unnecessary retracing. For (3), please refer to https://www.tensorflow.org/guide/function#controlling_retracing and https://www.tensorflow.org/api_docs/python/tf/function for  more details.\n"
          ],
          "name": "stderr"
        },
        {
          "output_type": "stream",
          "text": [
            "Region of Interest id\n",
            "RMSE is -  208.50700677675079\n",
            "mae is :  185.2622\n",
            "mean relative error is :  99.30018782615662 for a forecast of  30  days.\n",
            "[208.50700677675079, 185.2622, 99.30018782615662]\n",
            "(1722, 1, 11) (1722,) (30, 1, 11) (30,)\n",
            "(1752, 12)\n",
            "(1752, 12)\n",
            "Epoch 1/2\n",
            "WARNING:tensorflow:6 out of the last 11 calls to <function Model.make_test_function.<locals>.test_function at 0x7f0df1f189d8> triggered tf.function retracing. Tracing is expensive and the excessive number of tracings could be due to (1) creating @tf.function repeatedly in a loop, (2) passing tensors with different shapes, (3) passing Python objects instead of tensors. For (1), please define your @tf.function outside of the loop. For (2), @tf.function has experimental_relax_shapes=True option that relaxes argument shapes that can avoid unnecessary retracing. For (3), please refer to https://www.tensorflow.org/guide/function#controlling_retracing and https://www.tensorflow.org/api_docs/python/tf/function for  more details.\n"
          ],
          "name": "stdout"
        },
        {
          "output_type": "stream",
          "text": [
            "WARNING:tensorflow:6 out of the last 11 calls to <function Model.make_test_function.<locals>.test_function at 0x7f0df1f189d8> triggered tf.function retracing. Tracing is expensive and the excessive number of tracings could be due to (1) creating @tf.function repeatedly in a loop, (2) passing tensors with different shapes, (3) passing Python objects instead of tensors. For (1), please define your @tf.function outside of the loop. For (2), @tf.function has experimental_relax_shapes=True option that relaxes argument shapes that can avoid unnecessary retracing. For (3), please refer to https://www.tensorflow.org/guide/function#controlling_retracing and https://www.tensorflow.org/api_docs/python/tf/function for  more details.\n"
          ],
          "name": "stderr"
        },
        {
          "output_type": "stream",
          "text": [
            "24/24 - 2s - loss: 1622.7709 - val_loss: 1457.5706\n",
            "Epoch 2/2\n",
            "24/24 - 0s - loss: 1622.5627 - val_loss: 1457.4479\n"
          ],
          "name": "stdout"
        },
        {
          "output_type": "display_data",
          "data": {
            "image/png": "[encoded data removed]",
            "text/plain": [
              "<Figure size 432x288 with 1 Axes>"
            ]
          },
          "metadata": {
            "tags": [],
            "needs_background": "light"
          }
        },
        {
          "output_type": "stream",
          "text": [
            "WARNING:tensorflow:11 out of the last 11 calls to <function Model.make_predict_function.<locals>.predict_function at 0x7f0decaf7bf8> triggered tf.function retracing. Tracing is expensive and the excessive number of tracings could be due to (1) creating @tf.function repeatedly in a loop, (2) passing tensors with different shapes, (3) passing Python objects instead of tensors. For (1), please define your @tf.function outside of the loop. For (2), @tf.function has experimental_relax_shapes=True option that relaxes argument shapes that can avoid unnecessary retracing. For (3), please refer to https://www.tensorflow.org/guide/function#controlling_retracing and https://www.tensorflow.org/api_docs/python/tf/function for  more details.\n"
          ],
          "name": "stdout"
        },
        {
          "output_type": "stream",
          "text": [
            "WARNING:tensorflow:11 out of the last 11 calls to <function Model.make_predict_function.<locals>.predict_function at 0x7f0decaf7bf8> triggered tf.function retracing. Tracing is expensive and the excessive number of tracings could be due to (1) creating @tf.function repeatedly in a loop, (2) passing tensors with different shapes, (3) passing Python objects instead of tensors. For (1), please define your @tf.function outside of the loop. For (2), @tf.function has experimental_relax_shapes=True option that relaxes argument shapes that can avoid unnecessary retracing. For (3), please refer to https://www.tensorflow.org/guide/function#controlling_retracing and https://www.tensorflow.org/api_docs/python/tf/function for  more details.\n"
          ],
          "name": "stderr"
        },
        {
          "output_type": "stream",
          "text": [
            "Region of Interest il\n",
            "RMSE is -  1457.4478549848704\n",
            "mae is :  1453.5101\n",
            "mean relative error is :  99.89694952964783 for a forecast of  30  days.\n",
            "[1457.4478549848704, 1453.5101, 99.89694952964783]\n",
            "(1717, 1, 11) (1717,) (30, 1, 11) (30,)\n",
            "(1747, 12)\n",
            "(1747, 12)\n",
            "Epoch 1/2\n",
            "WARNING:tensorflow:6 out of the last 11 calls to <function Model.make_test_function.<locals>.test_function at 0x7f0df8f1d620> triggered tf.function retracing. Tracing is expensive and the excessive number of tracings could be due to (1) creating @tf.function repeatedly in a loop, (2) passing tensors with different shapes, (3) passing Python objects instead of tensors. For (1), please define your @tf.function outside of the loop. For (2), @tf.function has experimental_relax_shapes=True option that relaxes argument shapes that can avoid unnecessary retracing. For (3), please refer to https://www.tensorflow.org/guide/function#controlling_retracing and https://www.tensorflow.org/api_docs/python/tf/function for  more details.\n"
          ],
          "name": "stdout"
        },
        {
          "output_type": "stream",
          "text": [
            "WARNING:tensorflow:6 out of the last 11 calls to <function Model.make_test_function.<locals>.test_function at 0x7f0df8f1d620> triggered tf.function retracing. Tracing is expensive and the excessive number of tracings could be due to (1) creating @tf.function repeatedly in a loop, (2) passing tensors with different shapes, (3) passing Python objects instead of tensors. For (1), please define your @tf.function outside of the loop. For (2), @tf.function has experimental_relax_shapes=True option that relaxes argument shapes that can avoid unnecessary retracing. For (3), please refer to https://www.tensorflow.org/guide/function#controlling_retracing and https://www.tensorflow.org/api_docs/python/tf/function for  more details.\n"
          ],
          "name": "stderr"
        },
        {
          "output_type": "stream",
          "text": [
            "24/24 - 2s - loss: 656.9733 - val_loss: 584.7013\n",
            "Epoch 2/2\n",
            "24/24 - 0s - loss: 656.8917 - val_loss: 584.6028\n"
          ],
          "name": "stdout"
        },
        {
          "output_type": "display_data",
          "data": {
            "image/png": "[encoded data removed]",
            "text/plain": [
              "<Figure size 432x288 with 1 Axes>"
            ]
          },
          "metadata": {
            "tags": [],
            "needs_background": "light"
          }
        },
        {
          "output_type": "stream",
          "text": [
            "WARNING:tensorflow:11 out of the last 11 calls to <function Model.make_predict_function.<locals>.predict_function at 0x7f0df1d17840> triggered tf.function retracing. Tracing is expensive and the excessive number of tracings could be due to (1) creating @tf.function repeatedly in a loop, (2) passing tensors with different shapes, (3) passing Python objects instead of tensors. For (1), please define your @tf.function outside of the loop. For (2), @tf.function has experimental_relax_shapes=True option that relaxes argument shapes that can avoid unnecessary retracing. For (3), please refer to https://www.tensorflow.org/guide/function#controlling_retracing and https://www.tensorflow.org/api_docs/python/tf/function for  more details.\n"
          ],
          "name": "stdout"
        },
        {
          "output_type": "stream",
          "text": [
            "WARNING:tensorflow:11 out of the last 11 calls to <function Model.make_predict_function.<locals>.predict_function at 0x7f0df1d17840> triggered tf.function retracing. Tracing is expensive and the excessive number of tracings could be due to (1) creating @tf.function repeatedly in a loop, (2) passing tensors with different shapes, (3) passing Python objects instead of tensors. For (1), please define your @tf.function outside of the loop. For (2), @tf.function has experimental_relax_shapes=True option that relaxes argument shapes that can avoid unnecessary retracing. For (3), please refer to https://www.tensorflow.org/guide/function#controlling_retracing and https://www.tensorflow.org/api_docs/python/tf/function for  more details.\n"
          ],
          "name": "stderr"
        },
        {
          "output_type": "stream",
          "text": [
            "Region of Interest in\n",
            "RMSE is -  584.602856647143\n",
            "mae is :  560.22046\n",
            "mean relative error is :  99.7370719909668 for a forecast of  30  days.\n",
            "[584.602856647143, 560.22046, 99.7370719909668]\n",
            "(1618, 1, 11) (1618,) (30, 1, 11) (30,)\n",
            "(1648, 12)\n",
            "(1648, 12)\n",
            "Epoch 1/2\n",
            "WARNING:tensorflow:6 out of the last 11 calls to <function Model.make_test_function.<locals>.test_function at 0x7f0df0ed9e18> triggered tf.function retracing. Tracing is expensive and the excessive number of tracings could be due to (1) creating @tf.function repeatedly in a loop, (2) passing tensors with different shapes, (3) passing Python objects instead of tensors. For (1), please define your @tf.function outside of the loop. For (2), @tf.function has experimental_relax_shapes=True option that relaxes argument shapes that can avoid unnecessary retracing. For (3), please refer to https://www.tensorflow.org/guide/function#controlling_retracing and https://www.tensorflow.org/api_docs/python/tf/function for  more details.\n"
          ],
          "name": "stdout"
        },
        {
          "output_type": "stream",
          "text": [
            "WARNING:tensorflow:6 out of the last 11 calls to <function Model.make_test_function.<locals>.test_function at 0x7f0df0ed9e18> triggered tf.function retracing. Tracing is expensive and the excessive number of tracings could be due to (1) creating @tf.function repeatedly in a loop, (2) passing tensors with different shapes, (3) passing Python objects instead of tensors. For (1), please define your @tf.function outside of the loop. For (2), @tf.function has experimental_relax_shapes=True option that relaxes argument shapes that can avoid unnecessary retracing. For (3), please refer to https://www.tensorflow.org/guide/function#controlling_retracing and https://www.tensorflow.org/api_docs/python/tf/function for  more details.\n"
          ],
          "name": "stderr"
        },
        {
          "output_type": "stream",
          "text": [
            "23/23 - 2s - loss: 396.6778 - val_loss: 834.6654\n",
            "Epoch 2/2\n",
            "23/23 - 0s - loss: 396.4706 - val_loss: 834.5651\n"
          ],
          "name": "stdout"
        },
        {
          "output_type": "display_data",
          "data": {
            "image/png": "[encoded data removed]",
            "text/plain": [
              "<Figure size 432x288 with 1 Axes>"
            ]
          },
          "metadata": {
            "tags": [],
            "needs_background": "light"
          }
        },
        {
          "output_type": "stream",
          "text": [
            "WARNING:tensorflow:11 out of the last 11 calls to <function Model.make_predict_function.<locals>.predict_function at 0x7f0df1d15f28> triggered tf.function retracing. Tracing is expensive and the excessive number of tracings could be due to (1) creating @tf.function repeatedly in a loop, (2) passing tensors with different shapes, (3) passing Python objects instead of tensors. For (1), please define your @tf.function outside of the loop. For (2), @tf.function has experimental_relax_shapes=True option that relaxes argument shapes that can avoid unnecessary retracing. For (3), please refer to https://www.tensorflow.org/guide/function#controlling_retracing and https://www.tensorflow.org/api_docs/python/tf/function for  more details.\n"
          ],
          "name": "stdout"
        },
        {
          "output_type": "stream",
          "text": [
            "WARNING:tensorflow:11 out of the last 11 calls to <function Model.make_predict_function.<locals>.predict_function at 0x7f0df1d15f28> triggered tf.function retracing. Tracing is expensive and the excessive number of tracings could be due to (1) creating @tf.function repeatedly in a loop, (2) passing tensors with different shapes, (3) passing Python objects instead of tensors. For (1), please define your @tf.function outside of the loop. For (2), @tf.function has experimental_relax_shapes=True option that relaxes argument shapes that can avoid unnecessary retracing. For (3), please refer to https://www.tensorflow.org/guide/function#controlling_retracing and https://www.tensorflow.org/api_docs/python/tf/function for  more details.\n"
          ],
          "name": "stderr"
        },
        {
          "output_type": "stream",
          "text": [
            "Region of Interest ks\n",
            "RMSE is -  834.5651187894208\n",
            "mae is :  714.3482\n",
            "mean relative error is :  99.6307909488678 for a forecast of  30  days.\n",
            "[834.5651187894208, 714.3482, 99.6307909488678]\n",
            "(1678, 1, 11) (1678,) (30, 1, 11) (30,)\n",
            "(1708, 12)\n",
            "(1708, 12)\n",
            "Epoch 1/2\n",
            "WARNING:tensorflow:6 out of the last 11 calls to <function Model.make_test_function.<locals>.test_function at 0x7f0df1545510> triggered tf.function retracing. Tracing is expensive and the excessive number of tracings could be due to (1) creating @tf.function repeatedly in a loop, (2) passing tensors with different shapes, (3) passing Python objects instead of tensors. For (1), please define your @tf.function outside of the loop. For (2), @tf.function has experimental_relax_shapes=True option that relaxes argument shapes that can avoid unnecessary retracing. For (3), please refer to https://www.tensorflow.org/guide/function#controlling_retracing and https://www.tensorflow.org/api_docs/python/tf/function for  more details.\n"
          ],
          "name": "stdout"
        },
        {
          "output_type": "stream",
          "text": [
            "WARNING:tensorflow:6 out of the last 11 calls to <function Model.make_test_function.<locals>.test_function at 0x7f0df1545510> triggered tf.function retracing. Tracing is expensive and the excessive number of tracings could be due to (1) creating @tf.function repeatedly in a loop, (2) passing tensors with different shapes, (3) passing Python objects instead of tensors. For (1), please define your @tf.function outside of the loop. For (2), @tf.function has experimental_relax_shapes=True option that relaxes argument shapes that can avoid unnecessary retracing. For (3), please refer to https://www.tensorflow.org/guide/function#controlling_retracing and https://www.tensorflow.org/api_docs/python/tf/function for  more details.\n"
          ],
          "name": "stderr"
        },
        {
          "output_type": "stream",
          "text": [
            "24/24 - 2s - loss: 397.7533 - val_loss: 312.3850\n",
            "Epoch 2/2\n",
            "24/24 - 0s - loss: 397.6715 - val_loss: 312.2990\n"
          ],
          "name": "stdout"
        },
        {
          "output_type": "display_data",
          "data": {
            "image/png": "[encoded data removed]",
            "text/plain": [
              "<Figure size 432x288 with 1 Axes>"
            ]
          },
          "metadata": {
            "tags": [],
            "needs_background": "light"
          }
        },
        {
          "output_type": "stream",
          "text": [
            "WARNING:tensorflow:11 out of the last 11 calls to <function Model.make_predict_function.<locals>.predict_function at 0x7f0df0e63620> triggered tf.function retracing. Tracing is expensive and the excessive number of tracings could be due to (1) creating @tf.function repeatedly in a loop, (2) passing tensors with different shapes, (3) passing Python objects instead of tensors. For (1), please define your @tf.function outside of the loop. For (2), @tf.function has experimental_relax_shapes=True option that relaxes argument shapes that can avoid unnecessary retracing. For (3), please refer to https://www.tensorflow.org/guide/function#controlling_retracing and https://www.tensorflow.org/api_docs/python/tf/function for  more details.\n"
          ],
          "name": "stdout"
        },
        {
          "output_type": "stream",
          "text": [
            "WARNING:tensorflow:11 out of the last 11 calls to <function Model.make_predict_function.<locals>.predict_function at 0x7f0df0e63620> triggered tf.function retracing. Tracing is expensive and the excessive number of tracings could be due to (1) creating @tf.function repeatedly in a loop, (2) passing tensors with different shapes, (3) passing Python objects instead of tensors. For (1), please define your @tf.function outside of the loop. For (2), @tf.function has experimental_relax_shapes=True option that relaxes argument shapes that can avoid unnecessary retracing. For (3), please refer to https://www.tensorflow.org/guide/function#controlling_retracing and https://www.tensorflow.org/api_docs/python/tf/function for  more details.\n"
          ],
          "name": "stderr"
        },
        {
          "output_type": "stream",
          "text": [
            "Region of Interest ky\n",
            "RMSE is -  312.2989603328836\n",
            "mae is :  299.43515\n",
            "mean relative error is :  99.35876131057739 for a forecast of  30  days.\n",
            "[312.2989603328836, 299.43515, 99.35876131057739]\n",
            "(1660, 1, 11) (1660,) (30, 1, 11) (30,)\n",
            "(1690, 12)\n",
            "(1690, 12)\n",
            "Epoch 1/2\n",
            "WARNING:tensorflow:6 out of the last 11 calls to <function Model.make_test_function.<locals>.test_function at 0x7f0ded40a7b8> triggered tf.function retracing. Tracing is expensive and the excessive number of tracings could be due to (1) creating @tf.function repeatedly in a loop, (2) passing tensors with different shapes, (3) passing Python objects instead of tensors. For (1), please define your @tf.function outside of the loop. For (2), @tf.function has experimental_relax_shapes=True option that relaxes argument shapes that can avoid unnecessary retracing. For (3), please refer to https://www.tensorflow.org/guide/function#controlling_retracing and https://www.tensorflow.org/api_docs/python/tf/function for  more details.\n"
          ],
          "name": "stdout"
        },
        {
          "output_type": "stream",
          "text": [
            "WARNING:tensorflow:6 out of the last 11 calls to <function Model.make_test_function.<locals>.test_function at 0x7f0ded40a7b8> triggered tf.function retracing. Tracing is expensive and the excessive number of tracings could be due to (1) creating @tf.function repeatedly in a loop, (2) passing tensors with different shapes, (3) passing Python objects instead of tensors. For (1), please define your @tf.function outside of the loop. For (2), @tf.function has experimental_relax_shapes=True option that relaxes argument shapes that can avoid unnecessary retracing. For (3), please refer to https://www.tensorflow.org/guide/function#controlling_retracing and https://www.tensorflow.org/api_docs/python/tf/function for  more details.\n"
          ],
          "name": "stderr"
        },
        {
          "output_type": "stream",
          "text": [
            "24/24 - 2s - loss: 1040.8287 - val_loss: 760.5978\n",
            "Epoch 2/2\n",
            "24/24 - 0s - loss: 1040.6923 - val_loss: 760.4418\n"
          ],
          "name": "stdout"
        },
        {
          "output_type": "display_data",
          "data": {
            "image/png": "[encoded data removed]",
            "text/plain": [
              "<Figure size 432x288 with 1 Axes>"
            ]
          },
          "metadata": {
            "tags": [],
            "needs_background": "light"
          }
        },
        {
          "output_type": "stream",
          "text": [
            "WARNING:tensorflow:11 out of the last 11 calls to <function Model.make_predict_function.<locals>.predict_function at 0x7f0df0ed9b70> triggered tf.function retracing. Tracing is expensive and the excessive number of tracings could be due to (1) creating @tf.function repeatedly in a loop, (2) passing tensors with different shapes, (3) passing Python objects instead of tensors. For (1), please define your @tf.function outside of the loop. For (2), @tf.function has experimental_relax_shapes=True option that relaxes argument shapes that can avoid unnecessary retracing. For (3), please refer to https://www.tensorflow.org/guide/function#controlling_retracing and https://www.tensorflow.org/api_docs/python/tf/function for  more details.\n"
          ],
          "name": "stdout"
        },
        {
          "output_type": "stream",
          "text": [
            "WARNING:tensorflow:11 out of the last 11 calls to <function Model.make_predict_function.<locals>.predict_function at 0x7f0df0ed9b70> triggered tf.function retracing. Tracing is expensive and the excessive number of tracings could be due to (1) creating @tf.function repeatedly in a loop, (2) passing tensors with different shapes, (3) passing Python objects instead of tensors. For (1), please define your @tf.function outside of the loop. For (2), @tf.function has experimental_relax_shapes=True option that relaxes argument shapes that can avoid unnecessary retracing. For (3), please refer to https://www.tensorflow.org/guide/function#controlling_retracing and https://www.tensorflow.org/api_docs/python/tf/function for  more details.\n"
          ],
          "name": "stderr"
        },
        {
          "output_type": "stream",
          "text": [
            "Region of Interest la\n",
            "RMSE is -  760.4417712750925\n",
            "mae is :  579.2216\n",
            "mean relative error is :  99.70008134841919 for a forecast of  30  days.\n",
            "[760.4417712750925, 579.2216, 99.70008134841919]\n",
            "(1711, 1, 11) (1711,) (30, 1, 11) (30,)\n",
            "(1741, 12)\n",
            "(1741, 12)\n",
            "Epoch 1/2\n",
            "WARNING:tensorflow:6 out of the last 11 calls to <function Model.make_test_function.<locals>.test_function at 0x7f0df1d0b378> triggered tf.function retracing. Tracing is expensive and the excessive number of tracings could be due to (1) creating @tf.function repeatedly in a loop, (2) passing tensors with different shapes, (3) passing Python objects instead of tensors. For (1), please define your @tf.function outside of the loop. For (2), @tf.function has experimental_relax_shapes=True option that relaxes argument shapes that can avoid unnecessary retracing. For (3), please refer to https://www.tensorflow.org/guide/function#controlling_retracing and https://www.tensorflow.org/api_docs/python/tf/function for  more details.\n"
          ],
          "name": "stdout"
        },
        {
          "output_type": "stream",
          "text": [
            "WARNING:tensorflow:6 out of the last 11 calls to <function Model.make_test_function.<locals>.test_function at 0x7f0df1d0b378> triggered tf.function retracing. Tracing is expensive and the excessive number of tracings could be due to (1) creating @tf.function repeatedly in a loop, (2) passing tensors with different shapes, (3) passing Python objects instead of tensors. For (1), please define your @tf.function outside of the loop. For (2), @tf.function has experimental_relax_shapes=True option that relaxes argument shapes that can avoid unnecessary retracing. For (3), please refer to https://www.tensorflow.org/guide/function#controlling_retracing and https://www.tensorflow.org/api_docs/python/tf/function for  more details.\n"
          ],
          "name": "stderr"
        },
        {
          "output_type": "stream",
          "text": [
            "24/24 - 2s - loss: 851.7037 - val_loss: 243.3792\n",
            "Epoch 2/2\n",
            "24/24 - 0s - loss: 851.6614 - val_loss: 243.3062\n"
          ],
          "name": "stdout"
        },
        {
          "output_type": "display_data",
          "data": {
            "image/png": "[encoded data removed]",
            "text/plain": [
              "<Figure size 432x288 with 1 Axes>"
            ]
          },
          "metadata": {
            "tags": [],
            "needs_background": "light"
          }
        },
        {
          "output_type": "stream",
          "text": [
            "WARNING:tensorflow:11 out of the last 11 calls to <function Model.make_predict_function.<locals>.predict_function at 0x7f0df1a66f28> triggered tf.function retracing. Tracing is expensive and the excessive number of tracings could be due to (1) creating @tf.function repeatedly in a loop, (2) passing tensors with different shapes, (3) passing Python objects instead of tensors. For (1), please define your @tf.function outside of the loop. For (2), @tf.function has experimental_relax_shapes=True option that relaxes argument shapes that can avoid unnecessary retracing. For (3), please refer to https://www.tensorflow.org/guide/function#controlling_retracing and https://www.tensorflow.org/api_docs/python/tf/function for  more details.\n"
          ],
          "name": "stdout"
        },
        {
          "output_type": "stream",
          "text": [
            "WARNING:tensorflow:11 out of the last 11 calls to <function Model.make_predict_function.<locals>.predict_function at 0x7f0df1a66f28> triggered tf.function retracing. Tracing is expensive and the excessive number of tracings could be due to (1) creating @tf.function repeatedly in a loop, (2) passing tensors with different shapes, (3) passing Python objects instead of tensors. For (1), please define your @tf.function outside of the loop. For (2), @tf.function has experimental_relax_shapes=True option that relaxes argument shapes that can avoid unnecessary retracing. For (3), please refer to https://www.tensorflow.org/guide/function#controlling_retracing and https://www.tensorflow.org/api_docs/python/tf/function for  more details.\n"
          ],
          "name": "stderr"
        },
        {
          "output_type": "stream",
          "text": [
            "Region of Interest ma\n",
            "RMSE is -  243.306214599011\n",
            "mae is :  232.65332\n",
            "mean relative error is :  99.29799437522888 for a forecast of  30  days.\n",
            "[243.306214599011, 232.65332, 99.29799437522888]\n",
            "(1680, 1, 11) (1680,) (30, 1, 11) (30,)\n",
            "(1710, 12)\n",
            "(1710, 12)\n",
            "Epoch 1/2\n",
            "WARNING:tensorflow:6 out of the last 11 calls to <function Model.make_test_function.<locals>.test_function at 0x7f0df1ee2ea0> triggered tf.function retracing. Tracing is expensive and the excessive number of tracings could be due to (1) creating @tf.function repeatedly in a loop, (2) passing tensors with different shapes, (3) passing Python objects instead of tensors. For (1), please define your @tf.function outside of the loop. For (2), @tf.function has experimental_relax_shapes=True option that relaxes argument shapes that can avoid unnecessary retracing. For (3), please refer to https://www.tensorflow.org/guide/function#controlling_retracing and https://www.tensorflow.org/api_docs/python/tf/function for  more details.\n"
          ],
          "name": "stdout"
        },
        {
          "output_type": "stream",
          "text": [
            "WARNING:tensorflow:6 out of the last 11 calls to <function Model.make_test_function.<locals>.test_function at 0x7f0df1ee2ea0> triggered tf.function retracing. Tracing is expensive and the excessive number of tracings could be due to (1) creating @tf.function repeatedly in a loop, (2) passing tensors with different shapes, (3) passing Python objects instead of tensors. For (1), please define your @tf.function outside of the loop. For (2), @tf.function has experimental_relax_shapes=True option that relaxes argument shapes that can avoid unnecessary retracing. For (3), please refer to https://www.tensorflow.org/guide/function#controlling_retracing and https://www.tensorflow.org/api_docs/python/tf/function for  more details.\n"
          ],
          "name": "stderr"
        },
        {
          "output_type": "stream",
          "text": [
            "24/24 - 2s - loss: 731.4595 - val_loss: 590.1127\n",
            "Epoch 2/2\n",
            "24/24 - 0s - loss: 731.4153 - val_loss: 590.0407\n"
          ],
          "name": "stdout"
        },
        {
          "output_type": "display_data",
          "data": {
            "image/png": "[encoded data removed]",
            "text/plain": [
              "<Figure size 432x288 with 1 Axes>"
            ]
          },
          "metadata": {
            "tags": [],
            "needs_background": "light"
          }
        },
        {
          "output_type": "stream",
          "text": [
            "WARNING:tensorflow:11 out of the last 11 calls to <function Model.make_predict_function.<locals>.predict_function at 0x7f0df2369048> triggered tf.function retracing. Tracing is expensive and the excessive number of tracings could be due to (1) creating @tf.function repeatedly in a loop, (2) passing tensors with different shapes, (3) passing Python objects instead of tensors. For (1), please define your @tf.function outside of the loop. For (2), @tf.function has experimental_relax_shapes=True option that relaxes argument shapes that can avoid unnecessary retracing. For (3), please refer to https://www.tensorflow.org/guide/function#controlling_retracing and https://www.tensorflow.org/api_docs/python/tf/function for  more details.\n"
          ],
          "name": "stdout"
        },
        {
          "output_type": "stream",
          "text": [
            "WARNING:tensorflow:11 out of the last 11 calls to <function Model.make_predict_function.<locals>.predict_function at 0x7f0df2369048> triggered tf.function retracing. Tracing is expensive and the excessive number of tracings could be due to (1) creating @tf.function repeatedly in a loop, (2) passing tensors with different shapes, (3) passing Python objects instead of tensors. For (1), please define your @tf.function outside of the loop. For (2), @tf.function has experimental_relax_shapes=True option that relaxes argument shapes that can avoid unnecessary retracing. For (3), please refer to https://www.tensorflow.org/guide/function#controlling_retracing and https://www.tensorflow.org/api_docs/python/tf/function for  more details.\n"
          ],
          "name": "stderr"
        },
        {
          "output_type": "stream",
          "text": [
            "Region of Interest md\n",
            "RMSE is -  590.0407295263608\n",
            "mae is :  552.16656\n",
            "mean relative error is :  99.74731206893921 for a forecast of  30  days.\n",
            "[590.0407295263608, 552.16656, 99.74731206893921]\n",
            "(1380, 1, 11) (1380,) (30, 1, 11) (30,)\n",
            "(1410, 12)\n",
            "(1410, 12)\n",
            "Epoch 1/2\n",
            "WARNING:tensorflow:6 out of the last 11 calls to <function Model.make_test_function.<locals>.test_function at 0x7f0df0e63d08> triggered tf.function retracing. Tracing is expensive and the excessive number of tracings could be due to (1) creating @tf.function repeatedly in a loop, (2) passing tensors with different shapes, (3) passing Python objects instead of tensors. For (1), please define your @tf.function outside of the loop. For (2), @tf.function has experimental_relax_shapes=True option that relaxes argument shapes that can avoid unnecessary retracing. For (3), please refer to https://www.tensorflow.org/guide/function#controlling_retracing and https://www.tensorflow.org/api_docs/python/tf/function for  more details.\n"
          ],
          "name": "stdout"
        },
        {
          "output_type": "stream",
          "text": [
            "WARNING:tensorflow:6 out of the last 11 calls to <function Model.make_test_function.<locals>.test_function at 0x7f0df0e63d08> triggered tf.function retracing. Tracing is expensive and the excessive number of tracings could be due to (1) creating @tf.function repeatedly in a loop, (2) passing tensors with different shapes, (3) passing Python objects instead of tensors. For (1), please define your @tf.function outside of the loop. For (2), @tf.function has experimental_relax_shapes=True option that relaxes argument shapes that can avoid unnecessary retracing. For (3), please refer to https://www.tensorflow.org/guide/function#controlling_retracing and https://www.tensorflow.org/api_docs/python/tf/function for  more details.\n"
          ],
          "name": "stderr"
        },
        {
          "output_type": "stream",
          "text": [
            "20/20 - 2s - loss: 29.0261 - val_loss: 23.0756\n",
            "Epoch 2/2\n",
            "20/20 - 0s - loss: 28.7777 - val_loss: 22.8684\n"
          ],
          "name": "stdout"
        },
        {
          "output_type": "display_data",
          "data": {
            "image/png": "[encoded data removed]",
            "text/plain": [
              "<Figure size 432x288 with 1 Axes>"
            ]
          },
          "metadata": {
            "tags": [],
            "needs_background": "light"
          }
        },
        {
          "output_type": "stream",
          "text": [
            "WARNING:tensorflow:11 out of the last 11 calls to <function Model.make_predict_function.<locals>.predict_function at 0x7f0df1d9bae8> triggered tf.function retracing. Tracing is expensive and the excessive number of tracings could be due to (1) creating @tf.function repeatedly in a loop, (2) passing tensors with different shapes, (3) passing Python objects instead of tensors. For (1), please define your @tf.function outside of the loop. For (2), @tf.function has experimental_relax_shapes=True option that relaxes argument shapes that can avoid unnecessary retracing. For (3), please refer to https://www.tensorflow.org/guide/function#controlling_retracing and https://www.tensorflow.org/api_docs/python/tf/function for  more details.\n"
          ],
          "name": "stdout"
        },
        {
          "output_type": "stream",
          "text": [
            "WARNING:tensorflow:11 out of the last 11 calls to <function Model.make_predict_function.<locals>.predict_function at 0x7f0df1d9bae8> triggered tf.function retracing. Tracing is expensive and the excessive number of tracings could be due to (1) creating @tf.function repeatedly in a loop, (2) passing tensors with different shapes, (3) passing Python objects instead of tensors. For (1), please define your @tf.function outside of the loop. For (2), @tf.function has experimental_relax_shapes=True option that relaxes argument shapes that can avoid unnecessary retracing. For (3), please refer to https://www.tensorflow.org/guide/function#controlling_retracing and https://www.tensorflow.org/api_docs/python/tf/function for  more details.\n"
          ],
          "name": "stderr"
        },
        {
          "output_type": "stream",
          "text": [
            "Region of Interest me\n",
            "RMSE is -  22.868365883970043\n",
            "mae is :  20.222681\n",
            "mean relative error is :  88.71918320655823 for a forecast of  30  days.\n",
            "[22.868365883970043, 20.222681, 88.71918320655823]\n",
            "(1726, 1, 11) (1726,) (30, 1, 11) (30,)\n",
            "(1756, 12)\n",
            "(1756, 12)\n",
            "Epoch 1/2\n",
            "WARNING:tensorflow:6 out of the last 11 calls to <function Model.make_test_function.<locals>.test_function at 0x7f0dedc5c2f0> triggered tf.function retracing. Tracing is expensive and the excessive number of tracings could be due to (1) creating @tf.function repeatedly in a loop, (2) passing tensors with different shapes, (3) passing Python objects instead of tensors. For (1), please define your @tf.function outside of the loop. For (2), @tf.function has experimental_relax_shapes=True option that relaxes argument shapes that can avoid unnecessary retracing. For (3), please refer to https://www.tensorflow.org/guide/function#controlling_retracing and https://www.tensorflow.org/api_docs/python/tf/function for  more details.\n"
          ],
          "name": "stdout"
        },
        {
          "output_type": "stream",
          "text": [
            "WARNING:tensorflow:6 out of the last 11 calls to <function Model.make_test_function.<locals>.test_function at 0x7f0dedc5c2f0> triggered tf.function retracing. Tracing is expensive and the excessive number of tracings could be due to (1) creating @tf.function repeatedly in a loop, (2) passing tensors with different shapes, (3) passing Python objects instead of tensors. For (1), please define your @tf.function outside of the loop. For (2), @tf.function has experimental_relax_shapes=True option that relaxes argument shapes that can avoid unnecessary retracing. For (3), please refer to https://www.tensorflow.org/guide/function#controlling_retracing and https://www.tensorflow.org/api_docs/python/tf/function for  more details.\n"
          ],
          "name": "stderr"
        },
        {
          "output_type": "stream",
          "text": [
            "24/24 - 2s - loss: 684.9277 - val_loss: 822.9430\n",
            "Epoch 2/2\n",
            "24/24 - 0s - loss: 684.6540 - val_loss: 822.7176\n"
          ],
          "name": "stdout"
        },
        {
          "output_type": "display_data",
          "data": {
            "image/png": "[encoded data removed]",
            "text/plain": [
              "<Figure size 432x288 with 1 Axes>"
            ]
          },
          "metadata": {
            "tags": [],
            "needs_background": "light"
          }
        },
        {
          "output_type": "stream",
          "text": [
            "WARNING:tensorflow:11 out of the last 11 calls to <function Model.make_predict_function.<locals>.predict_function at 0x7f0df1a2c7b8> triggered tf.function retracing. Tracing is expensive and the excessive number of tracings could be due to (1) creating @tf.function repeatedly in a loop, (2) passing tensors with different shapes, (3) passing Python objects instead of tensors. For (1), please define your @tf.function outside of the loop. For (2), @tf.function has experimental_relax_shapes=True option that relaxes argument shapes that can avoid unnecessary retracing. For (3), please refer to https://www.tensorflow.org/guide/function#controlling_retracing and https://www.tensorflow.org/api_docs/python/tf/function for  more details.\n"
          ],
          "name": "stdout"
        },
        {
          "output_type": "stream",
          "text": [
            "WARNING:tensorflow:11 out of the last 11 calls to <function Model.make_predict_function.<locals>.predict_function at 0x7f0df1a2c7b8> triggered tf.function retracing. Tracing is expensive and the excessive number of tracings could be due to (1) creating @tf.function repeatedly in a loop, (2) passing tensors with different shapes, (3) passing Python objects instead of tensors. For (1), please define your @tf.function outside of the loop. For (2), @tf.function has experimental_relax_shapes=True option that relaxes argument shapes that can avoid unnecessary retracing. For (3), please refer to https://www.tensorflow.org/guide/function#controlling_retracing and https://www.tensorflow.org/api_docs/python/tf/function for  more details.\n"
          ],
          "name": "stderr"
        },
        {
          "output_type": "stream",
          "text": [
            "Region of Interest mi\n",
            "RMSE is -  822.7176383790492\n",
            "mae is :  768.99805\n",
            "mean relative error is :  99.49032664299011 for a forecast of  30  days.\n",
            "[822.7176383790492, 768.99805, 99.49032664299011]\n",
            "(1705, 1, 11) (1705,) (30, 1, 11) (30,)\n",
            "(1735, 12)\n",
            "(1735, 12)\n",
            "Epoch 1/2\n",
            "WARNING:tensorflow:6 out of the last 11 calls to <function Model.make_test_function.<locals>.test_function at 0x7f0ded8e2730> triggered tf.function retracing. Tracing is expensive and the excessive number of tracings could be due to (1) creating @tf.function repeatedly in a loop, (2) passing tensors with different shapes, (3) passing Python objects instead of tensors. For (1), please define your @tf.function outside of the loop. For (2), @tf.function has experimental_relax_shapes=True option that relaxes argument shapes that can avoid unnecessary retracing. For (3), please refer to https://www.tensorflow.org/guide/function#controlling_retracing and https://www.tensorflow.org/api_docs/python/tf/function for  more details.\n"
          ],
          "name": "stdout"
        },
        {
          "output_type": "stream",
          "text": [
            "WARNING:tensorflow:6 out of the last 11 calls to <function Model.make_test_function.<locals>.test_function at 0x7f0ded8e2730> triggered tf.function retracing. Tracing is expensive and the excessive number of tracings could be due to (1) creating @tf.function repeatedly in a loop, (2) passing tensors with different shapes, (3) passing Python objects instead of tensors. For (1), please define your @tf.function outside of the loop. For (2), @tf.function has experimental_relax_shapes=True option that relaxes argument shapes that can avoid unnecessary retracing. For (3), please refer to https://www.tensorflow.org/guide/function#controlling_retracing and https://www.tensorflow.org/api_docs/python/tf/function for  more details.\n"
          ],
          "name": "stderr"
        },
        {
          "output_type": "stream",
          "text": [
            "24/24 - 2s - loss: 559.4493 - val_loss: 579.8409\n",
            "Epoch 2/2\n",
            "24/24 - 0s - loss: 559.2128 - val_loss: 579.6451\n"
          ],
          "name": "stdout"
        },
        {
          "output_type": "display_data",
          "data": {
            "image/png": "[encoded data removed]",
            "text/plain": [
              "<Figure size 432x288 with 1 Axes>"
            ]
          },
          "metadata": {
            "tags": [],
            "needs_background": "light"
          }
        },
        {
          "output_type": "stream",
          "text": [
            "WARNING:tensorflow:11 out of the last 11 calls to <function Model.make_predict_function.<locals>.predict_function at 0x7f0df1ffe378> triggered tf.function retracing. Tracing is expensive and the excessive number of tracings could be due to (1) creating @tf.function repeatedly in a loop, (2) passing tensors with different shapes, (3) passing Python objects instead of tensors. For (1), please define your @tf.function outside of the loop. For (2), @tf.function has experimental_relax_shapes=True option that relaxes argument shapes that can avoid unnecessary retracing. For (3), please refer to https://www.tensorflow.org/guide/function#controlling_retracing and https://www.tensorflow.org/api_docs/python/tf/function for  more details.\n"
          ],
          "name": "stdout"
        },
        {
          "output_type": "stream",
          "text": [
            "WARNING:tensorflow:11 out of the last 11 calls to <function Model.make_predict_function.<locals>.predict_function at 0x7f0df1ffe378> triggered tf.function retracing. Tracing is expensive and the excessive number of tracings could be due to (1) creating @tf.function repeatedly in a loop, (2) passing tensors with different shapes, (3) passing Python objects instead of tensors. For (1), please define your @tf.function outside of the loop. For (2), @tf.function has experimental_relax_shapes=True option that relaxes argument shapes that can avoid unnecessary retracing. For (3), please refer to https://www.tensorflow.org/guide/function#controlling_retracing and https://www.tensorflow.org/api_docs/python/tf/function for  more details.\n"
          ],
          "name": "stderr"
        },
        {
          "output_type": "stream",
          "text": [
            "Region of Interest mn\n",
            "RMSE is -  579.6450961579852\n",
            "mae is :  562.6194\n",
            "mean relative error is :  99.76040720939636 for a forecast of  30  days.\n",
            "[579.6450961579852, 562.6194, 99.76040720939636]\n",
            "(1706, 1, 11) (1706,) (30, 1, 11) (30,)\n",
            "(1736, 12)\n",
            "(1736, 12)\n",
            "Epoch 1/2\n",
            "WARNING:tensorflow:6 out of the last 11 calls to <function Model.make_test_function.<locals>.test_function at 0x7f0df1ff4840> triggered tf.function retracing. Tracing is expensive and the excessive number of tracings could be due to (1) creating @tf.function repeatedly in a loop, (2) passing tensors with different shapes, (3) passing Python objects instead of tensors. For (1), please define your @tf.function outside of the loop. For (2), @tf.function has experimental_relax_shapes=True option that relaxes argument shapes that can avoid unnecessary retracing. For (3), please refer to https://www.tensorflow.org/guide/function#controlling_retracing and https://www.tensorflow.org/api_docs/python/tf/function for  more details.\n"
          ],
          "name": "stdout"
        },
        {
          "output_type": "stream",
          "text": [
            "WARNING:tensorflow:6 out of the last 11 calls to <function Model.make_test_function.<locals>.test_function at 0x7f0df1ff4840> triggered tf.function retracing. Tracing is expensive and the excessive number of tracings could be due to (1) creating @tf.function repeatedly in a loop, (2) passing tensors with different shapes, (3) passing Python objects instead of tensors. For (1), please define your @tf.function outside of the loop. For (2), @tf.function has experimental_relax_shapes=True option that relaxes argument shapes that can avoid unnecessary retracing. For (3), please refer to https://www.tensorflow.org/guide/function#controlling_retracing and https://www.tensorflow.org/api_docs/python/tf/function for  more details.\n"
          ],
          "name": "stderr"
        },
        {
          "output_type": "stream",
          "text": [
            "24/24 - 2s - loss: 635.9297 - val_loss: 1115.5284\n",
            "Epoch 2/2\n",
            "24/24 - 0s - loss: 635.7796 - val_loss: 1115.3827\n"
          ],
          "name": "stdout"
        },
        {
          "output_type": "display_data",
          "data": {
            "image/png": "[encoded data removed]",
            "text/plain": [
              "<Figure size 432x288 with 1 Axes>"
            ]
          },
          "metadata": {
            "tags": [],
            "needs_background": "light"
          }
        },
        {
          "output_type": "stream",
          "text": [
            "WARNING:tensorflow:11 out of the last 11 calls to <function Model.make_predict_function.<locals>.predict_function at 0x7f0df2152d90> triggered tf.function retracing. Tracing is expensive and the excessive number of tracings could be due to (1) creating @tf.function repeatedly in a loop, (2) passing tensors with different shapes, (3) passing Python objects instead of tensors. For (1), please define your @tf.function outside of the loop. For (2), @tf.function has experimental_relax_shapes=True option that relaxes argument shapes that can avoid unnecessary retracing. For (3), please refer to https://www.tensorflow.org/guide/function#controlling_retracing and https://www.tensorflow.org/api_docs/python/tf/function for  more details.\n"
          ],
          "name": "stdout"
        },
        {
          "output_type": "stream",
          "text": [
            "WARNING:tensorflow:11 out of the last 11 calls to <function Model.make_predict_function.<locals>.predict_function at 0x7f0df2152d90> triggered tf.function retracing. Tracing is expensive and the excessive number of tracings could be due to (1) creating @tf.function repeatedly in a loop, (2) passing tensors with different shapes, (3) passing Python objects instead of tensors. For (1), please define your @tf.function outside of the loop. For (2), @tf.function has experimental_relax_shapes=True option that relaxes argument shapes that can avoid unnecessary retracing. For (3), please refer to https://www.tensorflow.org/guide/function#controlling_retracing and https://www.tensorflow.org/api_docs/python/tf/function for  more details.\n"
          ],
          "name": "stderr"
        },
        {
          "output_type": "stream",
          "text": [
            "Region of Interest mo\n",
            "RMSE is -  1115.3826697595762\n",
            "mae is :  1101.5182\n",
            "mean relative error is :  99.8940646648407 for a forecast of  30  days.\n",
            "[1115.3826697595762, 1101.5182, 99.8940646648407]\n",
            "(1514, 1, 11) (1514,) (30, 1, 11) (30,)\n",
            "(1544, 12)\n",
            "(1544, 12)\n",
            "Epoch 1/2\n",
            "WARNING:tensorflow:6 out of the last 11 calls to <function Model.make_test_function.<locals>.test_function at 0x7f0df1f23c80> triggered tf.function retracing. Tracing is expensive and the excessive number of tracings could be due to (1) creating @tf.function repeatedly in a loop, (2) passing tensors with different shapes, (3) passing Python objects instead of tensors. For (1), please define your @tf.function outside of the loop. For (2), @tf.function has experimental_relax_shapes=True option that relaxes argument shapes that can avoid unnecessary retracing. For (3), please refer to https://www.tensorflow.org/guide/function#controlling_retracing and https://www.tensorflow.org/api_docs/python/tf/function for  more details.\n"
          ],
          "name": "stdout"
        },
        {
          "output_type": "stream",
          "text": [
            "WARNING:tensorflow:6 out of the last 11 calls to <function Model.make_test_function.<locals>.test_function at 0x7f0df1f23c80> triggered tf.function retracing. Tracing is expensive and the excessive number of tracings could be due to (1) creating @tf.function repeatedly in a loop, (2) passing tensors with different shapes, (3) passing Python objects instead of tensors. For (1), please define your @tf.function outside of the loop. For (2), @tf.function has experimental_relax_shapes=True option that relaxes argument shapes that can avoid unnecessary retracing. For (3), please refer to https://www.tensorflow.org/guide/function#controlling_retracing and https://www.tensorflow.org/api_docs/python/tf/function for  more details.\n"
          ],
          "name": "stderr"
        },
        {
          "output_type": "stream",
          "text": [
            "22/22 - 3s - loss: 609.4904 - val_loss: 325.6989\n",
            "Epoch 2/2\n",
            "22/22 - 0s - loss: 609.2828 - val_loss: 325.4892\n"
          ],
          "name": "stdout"
        },
        {
          "output_type": "display_data",
          "data": {
            "image/png": "[encoded data removed]",
            "text/plain": [
              "<Figure size 432x288 with 1 Axes>"
            ]
          },
          "metadata": {
            "tags": [],
            "needs_background": "light"
          }
        },
        {
          "output_type": "stream",
          "text": [
            "WARNING:tensorflow:11 out of the last 11 calls to <function Model.make_predict_function.<locals>.predict_function at 0x7f0df0ee0950> triggered tf.function retracing. Tracing is expensive and the excessive number of tracings could be due to (1) creating @tf.function repeatedly in a loop, (2) passing tensors with different shapes, (3) passing Python objects instead of tensors. For (1), please define your @tf.function outside of the loop. For (2), @tf.function has experimental_relax_shapes=True option that relaxes argument shapes that can avoid unnecessary retracing. For (3), please refer to https://www.tensorflow.org/guide/function#controlling_retracing and https://www.tensorflow.org/api_docs/python/tf/function for  more details.\n"
          ],
          "name": "stdout"
        },
        {
          "output_type": "stream",
          "text": [
            "WARNING:tensorflow:11 out of the last 11 calls to <function Model.make_predict_function.<locals>.predict_function at 0x7f0df0ee0950> triggered tf.function retracing. Tracing is expensive and the excessive number of tracings could be due to (1) creating @tf.function repeatedly in a loop, (2) passing tensors with different shapes, (3) passing Python objects instead of tensors. For (1), please define your @tf.function outside of the loop. For (2), @tf.function has experimental_relax_shapes=True option that relaxes argument shapes that can avoid unnecessary retracing. For (3), please refer to https://www.tensorflow.org/guide/function#controlling_retracing and https://www.tensorflow.org/api_docs/python/tf/function for  more details.\n"
          ],
          "name": "stderr"
        },
        {
          "output_type": "stream",
          "text": [
            "Region of Interest ms\n",
            "RMSE is -  325.48913912371944\n",
            "mae is :  315.3913\n",
            "mean relative error is :  99.48481917381287 for a forecast of  30  days.\n",
            "[325.48913912371944, 315.3913, 99.48481917381287]\n",
            "(1169, 1, 11) (1169,) (30, 1, 11) (30,)\n",
            "(1199, 12)\n",
            "(1199, 12)\n",
            "Epoch 1/2\n",
            "WARNING:tensorflow:6 out of the last 11 calls to <function Model.make_test_function.<locals>.test_function at 0x7f0ded28c7b8> triggered tf.function retracing. Tracing is expensive and the excessive number of tracings could be due to (1) creating @tf.function repeatedly in a loop, (2) passing tensors with different shapes, (3) passing Python objects instead of tensors. For (1), please define your @tf.function outside of the loop. For (2), @tf.function has experimental_relax_shapes=True option that relaxes argument shapes that can avoid unnecessary retracing. For (3), please refer to https://www.tensorflow.org/guide/function#controlling_retracing and https://www.tensorflow.org/api_docs/python/tf/function for  more details.\n"
          ],
          "name": "stdout"
        },
        {
          "output_type": "stream",
          "text": [
            "WARNING:tensorflow:6 out of the last 11 calls to <function Model.make_test_function.<locals>.test_function at 0x7f0ded28c7b8> triggered tf.function retracing. Tracing is expensive and the excessive number of tracings could be due to (1) creating @tf.function repeatedly in a loop, (2) passing tensors with different shapes, (3) passing Python objects instead of tensors. For (1), please define your @tf.function outside of the loop. For (2), @tf.function has experimental_relax_shapes=True option that relaxes argument shapes that can avoid unnecessary retracing. For (3), please refer to https://www.tensorflow.org/guide/function#controlling_retracing and https://www.tensorflow.org/api_docs/python/tf/function for  more details.\n"
          ],
          "name": "stderr"
        },
        {
          "output_type": "stream",
          "text": [
            "17/17 - 2s - loss: 51.7789 - val_loss: 92.7001\n",
            "Epoch 2/2\n",
            "17/17 - 0s - loss: 51.7086 - val_loss: 92.6153\n"
          ],
          "name": "stdout"
        },
        {
          "output_type": "display_data",
          "data": {
            "image/png": "[encoded data removed]",
            "text/plain": [
              "<Figure size 432x288 with 1 Axes>"
            ]
          },
          "metadata": {
            "tags": [],
            "needs_background": "light"
          }
        },
        {
          "output_type": "stream",
          "text": [
            "WARNING:tensorflow:11 out of the last 11 calls to <function Model.make_predict_function.<locals>.predict_function at 0x7f0df20d08c8> triggered tf.function retracing. Tracing is expensive and the excessive number of tracings could be due to (1) creating @tf.function repeatedly in a loop, (2) passing tensors with different shapes, (3) passing Python objects instead of tensors. For (1), please define your @tf.function outside of the loop. For (2), @tf.function has experimental_relax_shapes=True option that relaxes argument shapes that can avoid unnecessary retracing. For (3), please refer to https://www.tensorflow.org/guide/function#controlling_retracing and https://www.tensorflow.org/api_docs/python/tf/function for  more details.\n"
          ],
          "name": "stdout"
        },
        {
          "output_type": "stream",
          "text": [
            "WARNING:tensorflow:11 out of the last 11 calls to <function Model.make_predict_function.<locals>.predict_function at 0x7f0df20d08c8> triggered tf.function retracing. Tracing is expensive and the excessive number of tracings could be due to (1) creating @tf.function repeatedly in a loop, (2) passing tensors with different shapes, (3) passing Python objects instead of tensors. For (1), please define your @tf.function outside of the loop. For (2), @tf.function has experimental_relax_shapes=True option that relaxes argument shapes that can avoid unnecessary retracing. For (3), please refer to https://www.tensorflow.org/guide/function#controlling_retracing and https://www.tensorflow.org/api_docs/python/tf/function for  more details.\n"
          ],
          "name": "stderr"
        },
        {
          "output_type": "stream",
          "text": [
            "Region of Interest mt\n",
            "RMSE is -  92.61533666697703\n",
            "mae is :  79.696\n",
            "mean relative error is :  94.3798840045929 for a forecast of  30  days.\n",
            "[92.61533666697703, 79.696, 94.3798840045929]\n",
            "(1721, 1, 11) (1721,) (30, 1, 11) (30,)\n",
            "(1751, 12)\n",
            "(1751, 12)\n",
            "Epoch 1/2\n",
            "WARNING:tensorflow:6 out of the last 11 calls to <function Model.make_test_function.<locals>.test_function at 0x7f0df07f5d90> triggered tf.function retracing. Tracing is expensive and the excessive number of tracings could be due to (1) creating @tf.function repeatedly in a loop, (2) passing tensors with different shapes, (3) passing Python objects instead of tensors. For (1), please define your @tf.function outside of the loop. For (2), @tf.function has experimental_relax_shapes=True option that relaxes argument shapes that can avoid unnecessary retracing. For (3), please refer to https://www.tensorflow.org/guide/function#controlling_retracing and https://www.tensorflow.org/api_docs/python/tf/function for  more details.\n"
          ],
          "name": "stdout"
        },
        {
          "output_type": "stream",
          "text": [
            "WARNING:tensorflow:6 out of the last 11 calls to <function Model.make_test_function.<locals>.test_function at 0x7f0df07f5d90> triggered tf.function retracing. Tracing is expensive and the excessive number of tracings could be due to (1) creating @tf.function repeatedly in a loop, (2) passing tensors with different shapes, (3) passing Python objects instead of tensors. For (1), please define your @tf.function outside of the loop. For (2), @tf.function has experimental_relax_shapes=True option that relaxes argument shapes that can avoid unnecessary retracing. For (3), please refer to https://www.tensorflow.org/guide/function#controlling_retracing and https://www.tensorflow.org/api_docs/python/tf/function for  more details.\n"
          ],
          "name": "stderr"
        },
        {
          "output_type": "stream",
          "text": [
            "24/24 - 2s - loss: 1220.0012 - val_loss: 1008.0646\n",
            "Epoch 2/2\n",
            "24/24 - 0s - loss: 1219.6974 - val_loss: 1007.7567\n"
          ],
          "name": "stdout"
        },
        {
          "output_type": "display_data",
          "data": {
            "image/png": "[encoded data removed]",
            "text/plain": [
              "<Figure size 432x288 with 1 Axes>"
            ]
          },
          "metadata": {
            "tags": [],
            "needs_background": "light"
          }
        },
        {
          "output_type": "stream",
          "text": [
            "WARNING:tensorflow:11 out of the last 11 calls to <function Model.make_predict_function.<locals>.predict_function at 0x7f0df236ebf8> triggered tf.function retracing. Tracing is expensive and the excessive number of tracings could be due to (1) creating @tf.function repeatedly in a loop, (2) passing tensors with different shapes, (3) passing Python objects instead of tensors. For (1), please define your @tf.function outside of the loop. For (2), @tf.function has experimental_relax_shapes=True option that relaxes argument shapes that can avoid unnecessary retracing. For (3), please refer to https://www.tensorflow.org/guide/function#controlling_retracing and https://www.tensorflow.org/api_docs/python/tf/function for  more details.\n"
          ],
          "name": "stdout"
        },
        {
          "output_type": "stream",
          "text": [
            "WARNING:tensorflow:11 out of the last 11 calls to <function Model.make_predict_function.<locals>.predict_function at 0x7f0df236ebf8> triggered tf.function retracing. Tracing is expensive and the excessive number of tracings could be due to (1) creating @tf.function repeatedly in a loop, (2) passing tensors with different shapes, (3) passing Python objects instead of tensors. For (1), please define your @tf.function outside of the loop. For (2), @tf.function has experimental_relax_shapes=True option that relaxes argument shapes that can avoid unnecessary retracing. For (3), please refer to https://www.tensorflow.org/guide/function#controlling_retracing and https://www.tensorflow.org/api_docs/python/tf/function for  more details.\n"
          ],
          "name": "stderr"
        },
        {
          "output_type": "stream",
          "text": [
            "Region of Interest nc\n",
            "RMSE is -  1007.7566050391334\n",
            "mae is :  1005.9881\n",
            "mean relative error is :  99.79979395866394 for a forecast of  30  days.\n",
            "[1007.7566050391334, 1005.9881, 99.79979395866394]\n",
            "(689, 1, 11) (689,) (30, 1, 11) (30,)\n",
            "(719, 12)\n",
            "(719, 12)\n",
            "Epoch 1/2\n",
            "WARNING:tensorflow:6 out of the last 11 calls to <function Model.make_test_function.<locals>.test_function at 0x7f0df236e950> triggered tf.function retracing. Tracing is expensive and the excessive number of tracings could be due to (1) creating @tf.function repeatedly in a loop, (2) passing tensors with different shapes, (3) passing Python objects instead of tensors. For (1), please define your @tf.function outside of the loop. For (2), @tf.function has experimental_relax_shapes=True option that relaxes argument shapes that can avoid unnecessary retracing. For (3), please refer to https://www.tensorflow.org/guide/function#controlling_retracing and https://www.tensorflow.org/api_docs/python/tf/function for  more details.\n"
          ],
          "name": "stdout"
        },
        {
          "output_type": "stream",
          "text": [
            "WARNING:tensorflow:6 out of the last 11 calls to <function Model.make_test_function.<locals>.test_function at 0x7f0df236e950> triggered tf.function retracing. Tracing is expensive and the excessive number of tracings could be due to (1) creating @tf.function repeatedly in a loop, (2) passing tensors with different shapes, (3) passing Python objects instead of tensors. For (1), please define your @tf.function outside of the loop. For (2), @tf.function has experimental_relax_shapes=True option that relaxes argument shapes that can avoid unnecessary retracing. For (3), please refer to https://www.tensorflow.org/guide/function#controlling_retracing and https://www.tensorflow.org/api_docs/python/tf/function for  more details.\n"
          ],
          "name": "stderr"
        },
        {
          "output_type": "stream",
          "text": [
            "10/10 - 2s - loss: 76.1078 - val_loss: 225.9153\n",
            "Epoch 2/2\n",
            "10/10 - 0s - loss: 76.0825 - val_loss: 225.8960\n"
          ],
          "name": "stdout"
        },
        {
          "output_type": "display_data",
          "data": {
            "image/png": "[encoded data removed]",
            "text/plain": [
              "<Figure size 432x288 with 1 Axes>"
            ]
          },
          "metadata": {
            "tags": [],
            "needs_background": "light"
          }
        },
        {
          "output_type": "stream",
          "text": [
            "WARNING:tensorflow:11 out of the last 11 calls to <function Model.make_predict_function.<locals>.predict_function at 0x7f0df21cd1e0> triggered tf.function retracing. Tracing is expensive and the excessive number of tracings could be due to (1) creating @tf.function repeatedly in a loop, (2) passing tensors with different shapes, (3) passing Python objects instead of tensors. For (1), please define your @tf.function outside of the loop. For (2), @tf.function has experimental_relax_shapes=True option that relaxes argument shapes that can avoid unnecessary retracing. For (3), please refer to https://www.tensorflow.org/guide/function#controlling_retracing and https://www.tensorflow.org/api_docs/python/tf/function for  more details.\n"
          ],
          "name": "stdout"
        },
        {
          "output_type": "stream",
          "text": [
            "WARNING:tensorflow:11 out of the last 11 calls to <function Model.make_predict_function.<locals>.predict_function at 0x7f0df21cd1e0> triggered tf.function retracing. Tracing is expensive and the excessive number of tracings could be due to (1) creating @tf.function repeatedly in a loop, (2) passing tensors with different shapes, (3) passing Python objects instead of tensors. For (1), please define your @tf.function outside of the loop. For (2), @tf.function has experimental_relax_shapes=True option that relaxes argument shapes that can avoid unnecessary retracing. For (3), please refer to https://www.tensorflow.org/guide/function#controlling_retracing and https://www.tensorflow.org/api_docs/python/tf/function for  more details.\n"
          ],
          "name": "stderr"
        },
        {
          "output_type": "stream",
          "text": [
            "Region of Interest nd\n",
            "RMSE is -  225.8960110592925\n",
            "mae is :  204.7714\n",
            "mean relative error is :  99.34026598930359 for a forecast of  30  days.\n",
            "[225.8960110592925, 204.7714, 99.34026598930359]\n",
            "(1468, 1, 11) (1468,) (30, 1, 11) (30,)\n",
            "(1498, 12)\n",
            "(1498, 12)\n",
            "Epoch 1/2\n",
            "WARNING:tensorflow:6 out of the last 11 calls to <function Model.make_test_function.<locals>.test_function at 0x7f0df19490d0> triggered tf.function retracing. Tracing is expensive and the excessive number of tracings could be due to (1) creating @tf.function repeatedly in a loop, (2) passing tensors with different shapes, (3) passing Python objects instead of tensors. For (1), please define your @tf.function outside of the loop. For (2), @tf.function has experimental_relax_shapes=True option that relaxes argument shapes that can avoid unnecessary retracing. For (3), please refer to https://www.tensorflow.org/guide/function#controlling_retracing and https://www.tensorflow.org/api_docs/python/tf/function for  more details.\n"
          ],
          "name": "stdout"
        },
        {
          "output_type": "stream",
          "text": [
            "WARNING:tensorflow:6 out of the last 11 calls to <function Model.make_test_function.<locals>.test_function at 0x7f0df19490d0> triggered tf.function retracing. Tracing is expensive and the excessive number of tracings could be due to (1) creating @tf.function repeatedly in a loop, (2) passing tensors with different shapes, (3) passing Python objects instead of tensors. For (1), please define your @tf.function outside of the loop. For (2), @tf.function has experimental_relax_shapes=True option that relaxes argument shapes that can avoid unnecessary retracing. For (3), please refer to https://www.tensorflow.org/guide/function#controlling_retracing and https://www.tensorflow.org/api_docs/python/tf/function for  more details.\n"
          ],
          "name": "stderr"
        },
        {
          "output_type": "stream",
          "text": [
            "21/21 - 2s - loss: 250.2237 - val_loss: 374.9374\n",
            "Epoch 2/2\n",
            "21/21 - 0s - loss: 249.9869 - val_loss: 374.7925\n"
          ],
          "name": "stdout"
        },
        {
          "output_type": "display_data",
          "data": {
            "image/png": "[encoded data removed]",
            "text/plain": [
              "<Figure size 432x288 with 1 Axes>"
            ]
          },
          "metadata": {
            "tags": [],
            "needs_background": "light"
          }
        },
        {
          "output_type": "stream",
          "text": [
            "WARNING:tensorflow:11 out of the last 11 calls to <function Model.make_predict_function.<locals>.predict_function at 0x7f0df152f950> triggered tf.function retracing. Tracing is expensive and the excessive number of tracings could be due to (1) creating @tf.function repeatedly in a loop, (2) passing tensors with different shapes, (3) passing Python objects instead of tensors. For (1), please define your @tf.function outside of the loop. For (2), @tf.function has experimental_relax_shapes=True option that relaxes argument shapes that can avoid unnecessary retracing. For (3), please refer to https://www.tensorflow.org/guide/function#controlling_retracing and https://www.tensorflow.org/api_docs/python/tf/function for  more details.\n"
          ],
          "name": "stdout"
        },
        {
          "output_type": "stream",
          "text": [
            "WARNING:tensorflow:11 out of the last 11 calls to <function Model.make_predict_function.<locals>.predict_function at 0x7f0df152f950> triggered tf.function retracing. Tracing is expensive and the excessive number of tracings could be due to (1) creating @tf.function repeatedly in a loop, (2) passing tensors with different shapes, (3) passing Python objects instead of tensors. For (1), please define your @tf.function outside of the loop. For (2), @tf.function has experimental_relax_shapes=True option that relaxes argument shapes that can avoid unnecessary retracing. For (3), please refer to https://www.tensorflow.org/guide/function#controlling_retracing and https://www.tensorflow.org/api_docs/python/tf/function for  more details.\n"
          ],
          "name": "stderr"
        },
        {
          "output_type": "stream",
          "text": [
            "Region of Interest ne\n",
            "RMSE is -  374.79252593935223\n",
            "mae is :  292.1815\n",
            "mean relative error is :  98.70203733444214 for a forecast of  30  days.\n",
            "[374.79252593935223, 292.1815, 98.70203733444214]\n",
            "(1366, 1, 11) (1366,) (30, 1, 11) (30,)\n",
            "(1396, 12)\n",
            "(1396, 12)\n",
            "Epoch 1/2\n",
            "WARNING:tensorflow:6 out of the last 11 calls to <function Model.make_test_function.<locals>.test_function at 0x7f0df152f268> triggered tf.function retracing. Tracing is expensive and the excessive number of tracings could be due to (1) creating @tf.function repeatedly in a loop, (2) passing tensors with different shapes, (3) passing Python objects instead of tensors. For (1), please define your @tf.function outside of the loop. For (2), @tf.function has experimental_relax_shapes=True option that relaxes argument shapes that can avoid unnecessary retracing. For (3), please refer to https://www.tensorflow.org/guide/function#controlling_retracing and https://www.tensorflow.org/api_docs/python/tf/function for  more details.\n"
          ],
          "name": "stdout"
        },
        {
          "output_type": "stream",
          "text": [
            "WARNING:tensorflow:6 out of the last 11 calls to <function Model.make_test_function.<locals>.test_function at 0x7f0df152f268> triggered tf.function retracing. Tracing is expensive and the excessive number of tracings could be due to (1) creating @tf.function repeatedly in a loop, (2) passing tensors with different shapes, (3) passing Python objects instead of tensors. For (1), please define your @tf.function outside of the loop. For (2), @tf.function has experimental_relax_shapes=True option that relaxes argument shapes that can avoid unnecessary retracing. For (3), please refer to https://www.tensorflow.org/guide/function#controlling_retracing and https://www.tensorflow.org/api_docs/python/tf/function for  more details.\n"
          ],
          "name": "stderr"
        },
        {
          "output_type": "stream",
          "text": [
            "19/19 - 2s - loss: 48.6479 - val_loss: 41.9622\n",
            "Epoch 2/2\n",
            "19/19 - 0s - loss: 48.5266 - val_loss: 41.8191\n"
          ],
          "name": "stdout"
        },
        {
          "output_type": "display_data",
          "data": {
            "image/png": "[encoded data removed]",
            "text/plain": [
              "<Figure size 432x288 with 1 Axes>"
            ]
          },
          "metadata": {
            "tags": [],
            "needs_background": "light"
          }
        },
        {
          "output_type": "stream",
          "text": [
            "WARNING:tensorflow:11 out of the last 11 calls to <function Model.make_predict_function.<locals>.predict_function at 0x7f0df8f0ee18> triggered tf.function retracing. Tracing is expensive and the excessive number of tracings could be due to (1) creating @tf.function repeatedly in a loop, (2) passing tensors with different shapes, (3) passing Python objects instead of tensors. For (1), please define your @tf.function outside of the loop. For (2), @tf.function has experimental_relax_shapes=True option that relaxes argument shapes that can avoid unnecessary retracing. For (3), please refer to https://www.tensorflow.org/guide/function#controlling_retracing and https://www.tensorflow.org/api_docs/python/tf/function for  more details.\n"
          ],
          "name": "stdout"
        },
        {
          "output_type": "stream",
          "text": [
            "WARNING:tensorflow:11 out of the last 11 calls to <function Model.make_predict_function.<locals>.predict_function at 0x7f0df8f0ee18> triggered tf.function retracing. Tracing is expensive and the excessive number of tracings could be due to (1) creating @tf.function repeatedly in a loop, (2) passing tensors with different shapes, (3) passing Python objects instead of tensors. For (1), please define your @tf.function outside of the loop. For (2), @tf.function has experimental_relax_shapes=True option that relaxes argument shapes that can avoid unnecessary retracing. For (3), please refer to https://www.tensorflow.org/guide/function#controlling_retracing and https://www.tensorflow.org/api_docs/python/tf/function for  more details.\n"
          ],
          "name": "stderr"
        },
        {
          "output_type": "stream",
          "text": [
            "Region of Interest nh\n",
            "RMSE is -  41.81910331826533\n",
            "mae is :  34.04503\n",
            "mean relative error is :  97.98277020454407 for a forecast of  30  days.\n",
            "[41.81910331826533, 34.04503, 97.98277020454407]\n",
            "(1716, 1, 11) (1716,) (30, 1, 11) (30,)\n",
            "(1746, 12)\n",
            "(1746, 12)\n",
            "Epoch 1/2\n",
            "WARNING:tensorflow:6 out of the last 11 calls to <function Model.make_test_function.<locals>.test_function at 0x7f0ded40a6a8> triggered tf.function retracing. Tracing is expensive and the excessive number of tracings could be due to (1) creating @tf.function repeatedly in a loop, (2) passing tensors with different shapes, (3) passing Python objects instead of tensors. For (1), please define your @tf.function outside of the loop. For (2), @tf.function has experimental_relax_shapes=True option that relaxes argument shapes that can avoid unnecessary retracing. For (3), please refer to https://www.tensorflow.org/guide/function#controlling_retracing and https://www.tensorflow.org/api_docs/python/tf/function for  more details.\n"
          ],
          "name": "stdout"
        },
        {
          "output_type": "stream",
          "text": [
            "WARNING:tensorflow:6 out of the last 11 calls to <function Model.make_test_function.<locals>.test_function at 0x7f0ded40a6a8> triggered tf.function retracing. Tracing is expensive and the excessive number of tracings could be due to (1) creating @tf.function repeatedly in a loop, (2) passing tensors with different shapes, (3) passing Python objects instead of tensors. For (1), please define your @tf.function outside of the loop. For (2), @tf.function has experimental_relax_shapes=True option that relaxes argument shapes that can avoid unnecessary retracing. For (3), please refer to https://www.tensorflow.org/guide/function#controlling_retracing and https://www.tensorflow.org/api_docs/python/tf/function for  more details.\n"
          ],
          "name": "stderr"
        },
        {
          "output_type": "stream",
          "text": [
            "24/24 - 2s - loss: 904.5121 - val_loss: 306.5905\n",
            "Epoch 2/2\n",
            "24/24 - 0s - loss: 904.3264 - val_loss: 306.3876\n"
          ],
          "name": "stdout"
        },
        {
          "output_type": "display_data",
          "data": {
            "image/png": "[encoded data removed]",
            "text/plain": [
              "<Figure size 432x288 with 1 Axes>"
            ]
          },
          "metadata": {
            "tags": [],
            "needs_background": "light"
          }
        },
        {
          "output_type": "stream",
          "text": [
            "WARNING:tensorflow:11 out of the last 11 calls to <function Model.make_predict_function.<locals>.predict_function at 0x7f0df8ee9f28> triggered tf.function retracing. Tracing is expensive and the excessive number of tracings could be due to (1) creating @tf.function repeatedly in a loop, (2) passing tensors with different shapes, (3) passing Python objects instead of tensors. For (1), please define your @tf.function outside of the loop. For (2), @tf.function has experimental_relax_shapes=True option that relaxes argument shapes that can avoid unnecessary retracing. For (3), please refer to https://www.tensorflow.org/guide/function#controlling_retracing and https://www.tensorflow.org/api_docs/python/tf/function for  more details.\n"
          ],
          "name": "stdout"
        },
        {
          "output_type": "stream",
          "text": [
            "WARNING:tensorflow:11 out of the last 11 calls to <function Model.make_predict_function.<locals>.predict_function at 0x7f0df8ee9f28> triggered tf.function retracing. Tracing is expensive and the excessive number of tracings could be due to (1) creating @tf.function repeatedly in a loop, (2) passing tensors with different shapes, (3) passing Python objects instead of tensors. For (1), please define your @tf.function outside of the loop. For (2), @tf.function has experimental_relax_shapes=True option that relaxes argument shapes that can avoid unnecessary retracing. For (3), please refer to https://www.tensorflow.org/guide/function#controlling_retracing and https://www.tensorflow.org/api_docs/python/tf/function for  more details.\n"
          ],
          "name": "stderr"
        },
        {
          "output_type": "stream",
          "text": [
            "Region of Interest nj\n",
            "RMSE is -  306.38763488838777\n",
            "mae is :  305.38474\n",
            "mean relative error is :  99.53470230102539 for a forecast of  30  days.\n",
            "[306.38763488838777, 305.38474, 99.53470230102539]\n",
            "(1338, 1, 11) (1338,) (30, 1, 11) (30,)\n",
            "(1368, 12)\n",
            "(1368, 12)\n",
            "Epoch 1/2\n",
            "WARNING:tensorflow:6 out of the last 11 calls to <function Model.make_test_function.<locals>.test_function at 0x7f0df8f0e378> triggered tf.function retracing. Tracing is expensive and the excessive number of tracings could be due to (1) creating @tf.function repeatedly in a loop, (2) passing tensors with different shapes, (3) passing Python objects instead of tensors. For (1), please define your @tf.function outside of the loop. For (2), @tf.function has experimental_relax_shapes=True option that relaxes argument shapes that can avoid unnecessary retracing. For (3), please refer to https://www.tensorflow.org/guide/function#controlling_retracing and https://www.tensorflow.org/api_docs/python/tf/function for  more details.\n"
          ],
          "name": "stdout"
        },
        {
          "output_type": "stream",
          "text": [
            "WARNING:tensorflow:6 out of the last 11 calls to <function Model.make_test_function.<locals>.test_function at 0x7f0df8f0e378> triggered tf.function retracing. Tracing is expensive and the excessive number of tracings could be due to (1) creating @tf.function repeatedly in a loop, (2) passing tensors with different shapes, (3) passing Python objects instead of tensors. For (1), please define your @tf.function outside of the loop. For (2), @tf.function has experimental_relax_shapes=True option that relaxes argument shapes that can avoid unnecessary retracing. For (3), please refer to https://www.tensorflow.org/guide/function#controlling_retracing and https://www.tensorflow.org/api_docs/python/tf/function for  more details.\n"
          ],
          "name": "stderr"
        },
        {
          "output_type": "stream",
          "text": [
            "19/19 - 2s - loss: 179.6557 - val_loss: 79.0735\n",
            "Epoch 2/2\n",
            "19/19 - 0s - loss: 179.5390 - val_loss: 78.9406\n"
          ],
          "name": "stdout"
        },
        {
          "output_type": "display_data",
          "data": {
            "image/png": "[encoded data removed]",
            "text/plain": [
              "<Figure size 432x288 with 1 Axes>"
            ]
          },
          "metadata": {
            "tags": [],
            "needs_background": "light"
          }
        },
        {
          "output_type": "stream",
          "text": [
            "WARNING:tensorflow:11 out of the last 11 calls to <function Model.make_predict_function.<locals>.predict_function at 0x7f0df1e7f488> triggered tf.function retracing. Tracing is expensive and the excessive number of tracings could be due to (1) creating @tf.function repeatedly in a loop, (2) passing tensors with different shapes, (3) passing Python objects instead of tensors. For (1), please define your @tf.function outside of the loop. For (2), @tf.function has experimental_relax_shapes=True option that relaxes argument shapes that can avoid unnecessary retracing. For (3), please refer to https://www.tensorflow.org/guide/function#controlling_retracing and https://www.tensorflow.org/api_docs/python/tf/function for  more details.\n"
          ],
          "name": "stdout"
        },
        {
          "output_type": "stream",
          "text": [
            "WARNING:tensorflow:11 out of the last 11 calls to <function Model.make_predict_function.<locals>.predict_function at 0x7f0df1e7f488> triggered tf.function retracing. Tracing is expensive and the excessive number of tracings could be due to (1) creating @tf.function repeatedly in a loop, (2) passing tensors with different shapes, (3) passing Python objects instead of tensors. For (1), please define your @tf.function outside of the loop. For (2), @tf.function has experimental_relax_shapes=True option that relaxes argument shapes that can avoid unnecessary retracing. For (3), please refer to https://www.tensorflow.org/guide/function#controlling_retracing and https://www.tensorflow.org/api_docs/python/tf/function for  more details.\n"
          ],
          "name": "stderr"
        },
        {
          "output_type": "stream",
          "text": [
            "Region of Interest nm\n",
            "RMSE is -  78.94060205207299\n",
            "mae is :  66.756516\n",
            "mean relative error is :  97.3510205745697 for a forecast of  30  days.\n",
            "[78.94060205207299, 66.756516, 97.3510205745697]\n",
            "(1479, 1, 11) (1479,) (30, 1, 11) (30,)\n",
            "(1509, 12)\n",
            "(1509, 12)\n",
            "Epoch 1/2\n",
            "WARNING:tensorflow:6 out of the last 11 calls to <function Model.make_test_function.<locals>.test_function at 0x7f0df8fd41e0> triggered tf.function retracing. Tracing is expensive and the excessive number of tracings could be due to (1) creating @tf.function repeatedly in a loop, (2) passing tensors with different shapes, (3) passing Python objects instead of tensors. For (1), please define your @tf.function outside of the loop. For (2), @tf.function has experimental_relax_shapes=True option that relaxes argument shapes that can avoid unnecessary retracing. For (3), please refer to https://www.tensorflow.org/guide/function#controlling_retracing and https://www.tensorflow.org/api_docs/python/tf/function for  more details.\n"
          ],
          "name": "stdout"
        },
        {
          "output_type": "stream",
          "text": [
            "WARNING:tensorflow:6 out of the last 11 calls to <function Model.make_test_function.<locals>.test_function at 0x7f0df8fd41e0> triggered tf.function retracing. Tracing is expensive and the excessive number of tracings could be due to (1) creating @tf.function repeatedly in a loop, (2) passing tensors with different shapes, (3) passing Python objects instead of tensors. For (1), please define your @tf.function outside of the loop. For (2), @tf.function has experimental_relax_shapes=True option that relaxes argument shapes that can avoid unnecessary retracing. For (3), please refer to https://www.tensorflow.org/guide/function#controlling_retracing and https://www.tensorflow.org/api_docs/python/tf/function for  more details.\n"
          ],
          "name": "stderr"
        },
        {
          "output_type": "stream",
          "text": [
            "21/21 - 2s - loss: 493.5304 - val_loss: 352.1505\n",
            "Epoch 2/2\n",
            "21/21 - 0s - loss: 493.3619 - val_loss: 352.0561\n"
          ],
          "name": "stdout"
        },
        {
          "output_type": "display_data",
          "data": {
            "image/png": "[encoded data removed]",
            "text/plain": [
              "<Figure size 432x288 with 1 Axes>"
            ]
          },
          "metadata": {
            "tags": [],
            "needs_background": "light"
          }
        },
        {
          "output_type": "stream",
          "text": [
            "WARNING:tensorflow:11 out of the last 11 calls to <function Model.make_predict_function.<locals>.predict_function at 0x7f0df19d3c80> triggered tf.function retracing. Tracing is expensive and the excessive number of tracings could be due to (1) creating @tf.function repeatedly in a loop, (2) passing tensors with different shapes, (3) passing Python objects instead of tensors. For (1), please define your @tf.function outside of the loop. For (2), @tf.function has experimental_relax_shapes=True option that relaxes argument shapes that can avoid unnecessary retracing. For (3), please refer to https://www.tensorflow.org/guide/function#controlling_retracing and https://www.tensorflow.org/api_docs/python/tf/function for  more details.\n"
          ],
          "name": "stdout"
        },
        {
          "output_type": "stream",
          "text": [
            "WARNING:tensorflow:11 out of the last 11 calls to <function Model.make_predict_function.<locals>.predict_function at 0x7f0df19d3c80> triggered tf.function retracing. Tracing is expensive and the excessive number of tracings could be due to (1) creating @tf.function repeatedly in a loop, (2) passing tensors with different shapes, (3) passing Python objects instead of tensors. For (1), please define your @tf.function outside of the loop. For (2), @tf.function has experimental_relax_shapes=True option that relaxes argument shapes that can avoid unnecessary retracing. For (3), please refer to https://www.tensorflow.org/guide/function#controlling_retracing and https://www.tensorflow.org/api_docs/python/tf/function for  more details.\n"
          ],
          "name": "stderr"
        },
        {
          "output_type": "stream",
          "text": [
            "Region of Interest nv\n",
            "RMSE is -  352.05609238798866\n",
            "mae is :  313.60095\n",
            "mean relative error is :  99.21522736549377 for a forecast of  30  days.\n",
            "[352.05609238798866, 313.60095, 99.21522736549377]\n",
            "(1722, 1, 11) (1722,) (30, 1, 11) (30,)\n",
            "(1752, 12)\n",
            "(1752, 12)\n",
            "Epoch 1/2\n",
            "WARNING:tensorflow:6 out of the last 11 calls to <function Model.make_test_function.<locals>.test_function at 0x7f0df0ee02f0> triggered tf.function retracing. Tracing is expensive and the excessive number of tracings could be due to (1) creating @tf.function repeatedly in a loop, (2) passing tensors with different shapes, (3) passing Python objects instead of tensors. For (1), please define your @tf.function outside of the loop. For (2), @tf.function has experimental_relax_shapes=True option that relaxes argument shapes that can avoid unnecessary retracing. For (3), please refer to https://www.tensorflow.org/guide/function#controlling_retracing and https://www.tensorflow.org/api_docs/python/tf/function for  more details.\n"
          ],
          "name": "stdout"
        },
        {
          "output_type": "stream",
          "text": [
            "WARNING:tensorflow:6 out of the last 11 calls to <function Model.make_test_function.<locals>.test_function at 0x7f0df0ee02f0> triggered tf.function retracing. Tracing is expensive and the excessive number of tracings could be due to (1) creating @tf.function repeatedly in a loop, (2) passing tensors with different shapes, (3) passing Python objects instead of tensors. For (1), please define your @tf.function outside of the loop. For (2), @tf.function has experimental_relax_shapes=True option that relaxes argument shapes that can avoid unnecessary retracing. For (3), please refer to https://www.tensorflow.org/guide/function#controlling_retracing and https://www.tensorflow.org/api_docs/python/tf/function for  more details.\n"
          ],
          "name": "stderr"
        },
        {
          "output_type": "stream",
          "text": [
            "24/24 - 2s - loss: 1614.3121 - val_loss: 583.5000\n",
            "Epoch 2/2\n",
            "24/24 - 0s - loss: 1614.2378 - val_loss: 583.3165\n"
          ],
          "name": "stdout"
        },
        {
          "output_type": "display_data",
          "data": {
            "image/png": "[encoded data removed]",
            "text/plain": [
              "<Figure size 432x288 with 1 Axes>"
            ]
          },
          "metadata": {
            "tags": [],
            "needs_background": "light"
          }
        },
        {
          "output_type": "stream",
          "text": [
            "WARNING:tensorflow:11 out of the last 11 calls to <function Model.make_predict_function.<locals>.predict_function at 0x7f0df1ca1ea0> triggered tf.function retracing. Tracing is expensive and the excessive number of tracings could be due to (1) creating @tf.function repeatedly in a loop, (2) passing tensors with different shapes, (3) passing Python objects instead of tensors. For (1), please define your @tf.function outside of the loop. For (2), @tf.function has experimental_relax_shapes=True option that relaxes argument shapes that can avoid unnecessary retracing. For (3), please refer to https://www.tensorflow.org/guide/function#controlling_retracing and https://www.tensorflow.org/api_docs/python/tf/function for  more details.\n"
          ],
          "name": "stdout"
        },
        {
          "output_type": "stream",
          "text": [
            "WARNING:tensorflow:11 out of the last 11 calls to <function Model.make_predict_function.<locals>.predict_function at 0x7f0df1ca1ea0> triggered tf.function retracing. Tracing is expensive and the excessive number of tracings could be due to (1) creating @tf.function repeatedly in a loop, (2) passing tensors with different shapes, (3) passing Python objects instead of tensors. For (1), please define your @tf.function outside of the loop. For (2), @tf.function has experimental_relax_shapes=True option that relaxes argument shapes that can avoid unnecessary retracing. For (3), please refer to https://www.tensorflow.org/guide/function#controlling_retracing and https://www.tensorflow.org/api_docs/python/tf/function for  more details.\n"
          ],
          "name": "stderr"
        },
        {
          "output_type": "stream",
          "text": [
            "Region of Interest ny\n",
            "RMSE is -  583.3165146384937\n",
            "mae is :  578.2658\n",
            "mean relative error is :  99.76562261581421 for a forecast of  30  days.\n",
            "[583.3165146384937, 578.2658, 99.76562261581421]\n",
            "(1722, 1, 11) (1722,) (30, 1, 11) (30,)\n",
            "(1752, 12)\n",
            "(1752, 12)\n",
            "Epoch 1/2\n",
            "WARNING:tensorflow:6 out of the last 11 calls to <function Model.make_test_function.<locals>.test_function at 0x7f0df0a2d158> triggered tf.function retracing. Tracing is expensive and the excessive number of tracings could be due to (1) creating @tf.function repeatedly in a loop, (2) passing tensors with different shapes, (3) passing Python objects instead of tensors. For (1), please define your @tf.function outside of the loop. For (2), @tf.function has experimental_relax_shapes=True option that relaxes argument shapes that can avoid unnecessary retracing. For (3), please refer to https://www.tensorflow.org/guide/function#controlling_retracing and https://www.tensorflow.org/api_docs/python/tf/function for  more details.\n"
          ],
          "name": "stdout"
        },
        {
          "output_type": "stream",
          "text": [
            "WARNING:tensorflow:6 out of the last 11 calls to <function Model.make_test_function.<locals>.test_function at 0x7f0df0a2d158> triggered tf.function retracing. Tracing is expensive and the excessive number of tracings could be due to (1) creating @tf.function repeatedly in a loop, (2) passing tensors with different shapes, (3) passing Python objects instead of tensors. For (1), please define your @tf.function outside of the loop. For (2), @tf.function has experimental_relax_shapes=True option that relaxes argument shapes that can avoid unnecessary retracing. For (3), please refer to https://www.tensorflow.org/guide/function#controlling_retracing and https://www.tensorflow.org/api_docs/python/tf/function for  more details.\n"
          ],
          "name": "stderr"
        },
        {
          "output_type": "stream",
          "text": [
            "24/24 - 3s - loss: 866.1914 - val_loss: 730.2186\n",
            "Epoch 2/2\n",
            "24/24 - 0s - loss: 865.9760 - val_loss: 729.8282\n"
          ],
          "name": "stdout"
        },
        {
          "output_type": "display_data",
          "data": {
            "image/png": "[encoded data removed]",
            "text/plain": [
              "<Figure size 432x288 with 1 Axes>"
            ]
          },
          "metadata": {
            "tags": [],
            "needs_background": "light"
          }
        },
        {
          "output_type": "stream",
          "text": [
            "WARNING:tensorflow:11 out of the last 11 calls to <function Model.make_predict_function.<locals>.predict_function at 0x7f0df19d30d0> triggered tf.function retracing. Tracing is expensive and the excessive number of tracings could be due to (1) creating @tf.function repeatedly in a loop, (2) passing tensors with different shapes, (3) passing Python objects instead of tensors. For (1), please define your @tf.function outside of the loop. For (2), @tf.function has experimental_relax_shapes=True option that relaxes argument shapes that can avoid unnecessary retracing. For (3), please refer to https://www.tensorflow.org/guide/function#controlling_retracing and https://www.tensorflow.org/api_docs/python/tf/function for  more details.\n"
          ],
          "name": "stdout"
        },
        {
          "output_type": "stream",
          "text": [
            "WARNING:tensorflow:11 out of the last 11 calls to <function Model.make_predict_function.<locals>.predict_function at 0x7f0df19d30d0> triggered tf.function retracing. Tracing is expensive and the excessive number of tracings could be due to (1) creating @tf.function repeatedly in a loop, (2) passing tensors with different shapes, (3) passing Python objects instead of tensors. For (1), please define your @tf.function outside of the loop. For (2), @tf.function has experimental_relax_shapes=True option that relaxes argument shapes that can avoid unnecessary retracing. For (3), please refer to https://www.tensorflow.org/guide/function#controlling_retracing and https://www.tensorflow.org/api_docs/python/tf/function for  more details.\n"
          ],
          "name": "stderr"
        },
        {
          "output_type": "stream",
          "text": [
            "Region of Interest oh\n",
            "RMSE is -  729.8281903982607\n",
            "mae is :  727.42975\n",
            "mean relative error is :  99.75396990776062 for a forecast of  30  days.\n",
            "[729.8281903982607, 727.42975, 99.75396990776062]\n",
            "(1674, 1, 11) (1674,) (30, 1, 11) (30,)\n",
            "(1704, 12)\n",
            "(1704, 12)\n",
            "Epoch 1/2\n",
            "WARNING:tensorflow:6 out of the last 11 calls to <function Model.make_test_function.<locals>.test_function at 0x7f0df1dfbe18> triggered tf.function retracing. Tracing is expensive and the excessive number of tracings could be due to (1) creating @tf.function repeatedly in a loop, (2) passing tensors with different shapes, (3) passing Python objects instead of tensors. For (1), please define your @tf.function outside of the loop. For (2), @tf.function has experimental_relax_shapes=True option that relaxes argument shapes that can avoid unnecessary retracing. For (3), please refer to https://www.tensorflow.org/guide/function#controlling_retracing and https://www.tensorflow.org/api_docs/python/tf/function for  more details.\n"
          ],
          "name": "stdout"
        },
        {
          "output_type": "stream",
          "text": [
            "WARNING:tensorflow:6 out of the last 11 calls to <function Model.make_test_function.<locals>.test_function at 0x7f0df1dfbe18> triggered tf.function retracing. Tracing is expensive and the excessive number of tracings could be due to (1) creating @tf.function repeatedly in a loop, (2) passing tensors with different shapes, (3) passing Python objects instead of tensors. For (1), please define your @tf.function outside of the loop. For (2), @tf.function has experimental_relax_shapes=True option that relaxes argument shapes that can avoid unnecessary retracing. For (3), please refer to https://www.tensorflow.org/guide/function#controlling_retracing and https://www.tensorflow.org/api_docs/python/tf/function for  more details.\n"
          ],
          "name": "stderr"
        },
        {
          "output_type": "stream",
          "text": [
            "24/24 - 2s - loss: 442.1997 - val_loss: 662.0345\n",
            "Epoch 2/2\n",
            "24/24 - 0s - loss: 442.0741 - val_loss: 661.8705\n"
          ],
          "name": "stdout"
        },
        {
          "output_type": "display_data",
          "data": {
            "image/png": "[encoded data removed]",
            "text/plain": [
              "<Figure size 432x288 with 1 Axes>"
            ]
          },
          "metadata": {
            "tags": [],
            "needs_background": "light"
          }
        },
        {
          "output_type": "stream",
          "text": [
            "WARNING:tensorflow:11 out of the last 11 calls to <function Model.make_predict_function.<locals>.predict_function at 0x7f0def5a7bf8> triggered tf.function retracing. Tracing is expensive and the excessive number of tracings could be due to (1) creating @tf.function repeatedly in a loop, (2) passing tensors with different shapes, (3) passing Python objects instead of tensors. For (1), please define your @tf.function outside of the loop. For (2), @tf.function has experimental_relax_shapes=True option that relaxes argument shapes that can avoid unnecessary retracing. For (3), please refer to https://www.tensorflow.org/guide/function#controlling_retracing and https://www.tensorflow.org/api_docs/python/tf/function for  more details.\n"
          ],
          "name": "stdout"
        },
        {
          "output_type": "stream",
          "text": [
            "WARNING:tensorflow:11 out of the last 11 calls to <function Model.make_predict_function.<locals>.predict_function at 0x7f0def5a7bf8> triggered tf.function retracing. Tracing is expensive and the excessive number of tracings could be due to (1) creating @tf.function repeatedly in a loop, (2) passing tensors with different shapes, (3) passing Python objects instead of tensors. For (1), please define your @tf.function outside of the loop. For (2), @tf.function has experimental_relax_shapes=True option that relaxes argument shapes that can avoid unnecessary retracing. For (3), please refer to https://www.tensorflow.org/guide/function#controlling_retracing and https://www.tensorflow.org/api_docs/python/tf/function for  more details.\n"
          ],
          "name": "stderr"
        },
        {
          "output_type": "stream",
          "text": [
            "Region of Interest ok\n",
            "RMSE is -  661.870597246924\n",
            "mae is :  641.3053\n",
            "mean relative error is :  99.68715906143188 for a forecast of  30  days.\n",
            "[661.870597246924, 641.3053, 99.68715906143188]\n",
            "(1664, 1, 11) (1664,) (30, 1, 11) (30,)\n",
            "(1694, 12)\n",
            "(1694, 12)\n",
            "Epoch 1/2\n",
            "WARNING:tensorflow:6 out of the last 11 calls to <function Model.make_test_function.<locals>.test_function at 0x7f0deece30d0> triggered tf.function retracing. Tracing is expensive and the excessive number of tracings could be due to (1) creating @tf.function repeatedly in a loop, (2) passing tensors with different shapes, (3) passing Python objects instead of tensors. For (1), please define your @tf.function outside of the loop. For (2), @tf.function has experimental_relax_shapes=True option that relaxes argument shapes that can avoid unnecessary retracing. For (3), please refer to https://www.tensorflow.org/guide/function#controlling_retracing and https://www.tensorflow.org/api_docs/python/tf/function for  more details.\n"
          ],
          "name": "stdout"
        },
        {
          "output_type": "stream",
          "text": [
            "WARNING:tensorflow:6 out of the last 11 calls to <function Model.make_test_function.<locals>.test_function at 0x7f0deece30d0> triggered tf.function retracing. Tracing is expensive and the excessive number of tracings could be due to (1) creating @tf.function repeatedly in a loop, (2) passing tensors with different shapes, (3) passing Python objects instead of tensors. For (1), please define your @tf.function outside of the loop. For (2), @tf.function has experimental_relax_shapes=True option that relaxes argument shapes that can avoid unnecessary retracing. For (3), please refer to https://www.tensorflow.org/guide/function#controlling_retracing and https://www.tensorflow.org/api_docs/python/tf/function for  more details.\n"
          ],
          "name": "stderr"
        },
        {
          "output_type": "stream",
          "text": [
            "24/24 - 3s - loss: 187.3746 - val_loss: 164.7345\n",
            "Epoch 2/2\n",
            "24/24 - 0s - loss: 187.2454 - val_loss: 164.6103\n"
          ],
          "name": "stdout"
        },
        {
          "output_type": "display_data",
          "data": {
            "image/png": "[encoded data removed]",
            "text/plain": [
              "<Figure size 432x288 with 1 Axes>"
            ]
          },
          "metadata": {
            "tags": [],
            "needs_background": "light"
          }
        },
        {
          "output_type": "stream",
          "text": [
            "WARNING:tensorflow:11 out of the last 11 calls to <function Model.make_predict_function.<locals>.predict_function at 0x7f0df19d3268> triggered tf.function retracing. Tracing is expensive and the excessive number of tracings could be due to (1) creating @tf.function repeatedly in a loop, (2) passing tensors with different shapes, (3) passing Python objects instead of tensors. For (1), please define your @tf.function outside of the loop. For (2), @tf.function has experimental_relax_shapes=True option that relaxes argument shapes that can avoid unnecessary retracing. For (3), please refer to https://www.tensorflow.org/guide/function#controlling_retracing and https://www.tensorflow.org/api_docs/python/tf/function for  more details.\n"
          ],
          "name": "stdout"
        },
        {
          "output_type": "stream",
          "text": [
            "WARNING:tensorflow:11 out of the last 11 calls to <function Model.make_predict_function.<locals>.predict_function at 0x7f0df19d3268> triggered tf.function retracing. Tracing is expensive and the excessive number of tracings could be due to (1) creating @tf.function repeatedly in a loop, (2) passing tensors with different shapes, (3) passing Python objects instead of tensors. For (1), please define your @tf.function outside of the loop. For (2), @tf.function has experimental_relax_shapes=True option that relaxes argument shapes that can avoid unnecessary retracing. For (3), please refer to https://www.tensorflow.org/guide/function#controlling_retracing and https://www.tensorflow.org/api_docs/python/tf/function for  more details.\n"
          ],
          "name": "stderr"
        },
        {
          "output_type": "stream",
          "text": [
            "Region of Interest or\n",
            "RMSE is -  164.61029380972806\n",
            "mae is :  163.7806\n",
            "mean relative error is :  99.37554597854614 for a forecast of  30  days.\n",
            "[164.61029380972806, 163.7806, 99.37554597854614]\n",
            "(1722, 1, 11) (1722,) (30, 1, 11) (30,)\n",
            "(1752, 12)\n",
            "(1752, 12)\n",
            "Epoch 1/2\n",
            "WARNING:tensorflow:6 out of the last 11 calls to <function Model.make_test_function.<locals>.test_function at 0x7f0df13a8ea0> triggered tf.function retracing. Tracing is expensive and the excessive number of tracings could be due to (1) creating @tf.function repeatedly in a loop, (2) passing tensors with different shapes, (3) passing Python objects instead of tensors. For (1), please define your @tf.function outside of the loop. For (2), @tf.function has experimental_relax_shapes=True option that relaxes argument shapes that can avoid unnecessary retracing. For (3), please refer to https://www.tensorflow.org/guide/function#controlling_retracing and https://www.tensorflow.org/api_docs/python/tf/function for  more details.\n"
          ],
          "name": "stdout"
        },
        {
          "output_type": "stream",
          "text": [
            "WARNING:tensorflow:6 out of the last 11 calls to <function Model.make_test_function.<locals>.test_function at 0x7f0df13a8ea0> triggered tf.function retracing. Tracing is expensive and the excessive number of tracings could be due to (1) creating @tf.function repeatedly in a loop, (2) passing tensors with different shapes, (3) passing Python objects instead of tensors. For (1), please define your @tf.function outside of the loop. For (2), @tf.function has experimental_relax_shapes=True option that relaxes argument shapes that can avoid unnecessary retracing. For (3), please refer to https://www.tensorflow.org/guide/function#controlling_retracing and https://www.tensorflow.org/api_docs/python/tf/function for  more details.\n"
          ],
          "name": "stderr"
        },
        {
          "output_type": "stream",
          "text": [
            "24/24 - 2s - loss: 831.2144 - val_loss: 643.9973\n",
            "Epoch 2/2\n",
            "24/24 - 0s - loss: 831.1548 - val_loss: 643.9142\n"
          ],
          "name": "stdout"
        },
        {
          "output_type": "display_data",
          "data": {
            "image/png": "[encoded data removed]",
            "text/plain": [
              "<Figure size 432x288 with 1 Axes>"
            ]
          },
          "metadata": {
            "tags": [],
            "needs_background": "light"
          }
        },
        {
          "output_type": "stream",
          "text": [
            "WARNING:tensorflow:11 out of the last 11 calls to <function Model.make_predict_function.<locals>.predict_function at 0x7f0df07f5a60> triggered tf.function retracing. Tracing is expensive and the excessive number of tracings could be due to (1) creating @tf.function repeatedly in a loop, (2) passing tensors with different shapes, (3) passing Python objects instead of tensors. For (1), please define your @tf.function outside of the loop. For (2), @tf.function has experimental_relax_shapes=True option that relaxes argument shapes that can avoid unnecessary retracing. For (3), please refer to https://www.tensorflow.org/guide/function#controlling_retracing and https://www.tensorflow.org/api_docs/python/tf/function for  more details.\n"
          ],
          "name": "stdout"
        },
        {
          "output_type": "stream",
          "text": [
            "WARNING:tensorflow:11 out of the last 11 calls to <function Model.make_predict_function.<locals>.predict_function at 0x7f0df07f5a60> triggered tf.function retracing. Tracing is expensive and the excessive number of tracings could be due to (1) creating @tf.function repeatedly in a loop, (2) passing tensors with different shapes, (3) passing Python objects instead of tensors. For (1), please define your @tf.function outside of the loop. For (2), @tf.function has experimental_relax_shapes=True option that relaxes argument shapes that can avoid unnecessary retracing. For (3), please refer to https://www.tensorflow.org/guide/function#controlling_retracing and https://www.tensorflow.org/api_docs/python/tf/function for  more details.\n"
          ],
          "name": "stderr"
        },
        {
          "output_type": "stream",
          "text": [
            "Region of Interest pa\n",
            "RMSE is -  643.9141780936338\n",
            "mae is :  635.906\n",
            "mean relative error is :  99.85602498054504 for a forecast of  30  days.\n",
            "[643.9141780936338, 635.906, 99.85602498054504]\n",
            "(1009, 1, 11) (1009,) (30, 1, 11) (30,)\n",
            "(1039, 12)\n",
            "(1039, 12)\n",
            "Epoch 1/2\n",
            "WARNING:tensorflow:6 out of the last 11 calls to <function Model.make_test_function.<locals>.test_function at 0x7f0df152f620> triggered tf.function retracing. Tracing is expensive and the excessive number of tracings could be due to (1) creating @tf.function repeatedly in a loop, (2) passing tensors with different shapes, (3) passing Python objects instead of tensors. For (1), please define your @tf.function outside of the loop. For (2), @tf.function has experimental_relax_shapes=True option that relaxes argument shapes that can avoid unnecessary retracing. For (3), please refer to https://www.tensorflow.org/guide/function#controlling_retracing and https://www.tensorflow.org/api_docs/python/tf/function for  more details.\n"
          ],
          "name": "stdout"
        },
        {
          "output_type": "stream",
          "text": [
            "WARNING:tensorflow:6 out of the last 11 calls to <function Model.make_test_function.<locals>.test_function at 0x7f0df152f620> triggered tf.function retracing. Tracing is expensive and the excessive number of tracings could be due to (1) creating @tf.function repeatedly in a loop, (2) passing tensors with different shapes, (3) passing Python objects instead of tensors. For (1), please define your @tf.function outside of the loop. For (2), @tf.function has experimental_relax_shapes=True option that relaxes argument shapes that can avoid unnecessary retracing. For (3), please refer to https://www.tensorflow.org/guide/function#controlling_retracing and https://www.tensorflow.org/api_docs/python/tf/function for  more details.\n"
          ],
          "name": "stderr"
        },
        {
          "output_type": "stream",
          "text": [
            "15/15 - 2s - loss: 156.6344 - val_loss: 129.5026\n",
            "Epoch 2/2\n",
            "15/15 - 0s - loss: 156.6131 - val_loss: 129.4571\n"
          ],
          "name": "stdout"
        },
        {
          "output_type": "display_data",
          "data": {
            "image/png": "[encoded data removed]",
            "text/plain": [
              "<Figure size 432x288 with 1 Axes>"
            ]
          },
          "metadata": {
            "tags": [],
            "needs_background": "light"
          }
        },
        {
          "output_type": "stream",
          "text": [
            "WARNING:tensorflow:11 out of the last 11 calls to <function Model.make_predict_function.<locals>.predict_function at 0x7f0df207af28> triggered tf.function retracing. Tracing is expensive and the excessive number of tracings could be due to (1) creating @tf.function repeatedly in a loop, (2) passing tensors with different shapes, (3) passing Python objects instead of tensors. For (1), please define your @tf.function outside of the loop. For (2), @tf.function has experimental_relax_shapes=True option that relaxes argument shapes that can avoid unnecessary retracing. For (3), please refer to https://www.tensorflow.org/guide/function#controlling_retracing and https://www.tensorflow.org/api_docs/python/tf/function for  more details.\n"
          ],
          "name": "stdout"
        },
        {
          "output_type": "stream",
          "text": [
            "WARNING:tensorflow:11 out of the last 11 calls to <function Model.make_predict_function.<locals>.predict_function at 0x7f0df207af28> triggered tf.function retracing. Tracing is expensive and the excessive number of tracings could be due to (1) creating @tf.function repeatedly in a loop, (2) passing tensors with different shapes, (3) passing Python objects instead of tensors. For (1), please define your @tf.function outside of the loop. For (2), @tf.function has experimental_relax_shapes=True option that relaxes argument shapes that can avoid unnecessary retracing. For (3), please refer to https://www.tensorflow.org/guide/function#controlling_retracing and https://www.tensorflow.org/api_docs/python/tf/function for  more details.\n"
          ],
          "name": "stderr"
        },
        {
          "output_type": "stream",
          "text": [
            "Region of Interest ri\n",
            "RMSE is -  129.45710709777583\n",
            "mae is :  72.72704\n",
            "mean relative error is :  52.412062883377075 for a forecast of  30  days.\n",
            "[129.45710709777583, 72.72704, 52.412062883377075]\n",
            "(1692, 1, 11) (1692,) (30, 1, 11) (30,)\n",
            "(1722, 12)\n",
            "(1722, 12)\n",
            "Epoch 1/2\n",
            "WARNING:tensorflow:6 out of the last 11 calls to <function Model.make_test_function.<locals>.test_function at 0x7f0df0a4c400> triggered tf.function retracing. Tracing is expensive and the excessive number of tracings could be due to (1) creating @tf.function repeatedly in a loop, (2) passing tensors with different shapes, (3) passing Python objects instead of tensors. For (1), please define your @tf.function outside of the loop. For (2), @tf.function has experimental_relax_shapes=True option that relaxes argument shapes that can avoid unnecessary retracing. For (3), please refer to https://www.tensorflow.org/guide/function#controlling_retracing and https://www.tensorflow.org/api_docs/python/tf/function for  more details.\n"
          ],
          "name": "stdout"
        },
        {
          "output_type": "stream",
          "text": [
            "WARNING:tensorflow:6 out of the last 11 calls to <function Model.make_test_function.<locals>.test_function at 0x7f0df0a4c400> triggered tf.function retracing. Tracing is expensive and the excessive number of tracings could be due to (1) creating @tf.function repeatedly in a loop, (2) passing tensors with different shapes, (3) passing Python objects instead of tensors. For (1), please define your @tf.function outside of the loop. For (2), @tf.function has experimental_relax_shapes=True option that relaxes argument shapes that can avoid unnecessary retracing. For (3), please refer to https://www.tensorflow.org/guide/function#controlling_retracing and https://www.tensorflow.org/api_docs/python/tf/function for  more details.\n"
          ],
          "name": "stderr"
        },
        {
          "output_type": "stream",
          "text": [
            "24/24 - 2s - loss: 860.0487 - val_loss: 554.4601\n",
            "Epoch 2/2\n",
            "24/24 - 0s - loss: 859.9410 - val_loss: 554.3181\n"
          ],
          "name": "stdout"
        },
        {
          "output_type": "display_data",
          "data": {
            "image/png": "[encoded data removed]",
            "text/plain": [
              "<Figure size 432x288 with 1 Axes>"
            ]
          },
          "metadata": {
            "tags": [],
            "needs_background": "light"
          }
        },
        {
          "output_type": "stream",
          "text": [
            "WARNING:tensorflow:11 out of the last 11 calls to <function Model.make_predict_function.<locals>.predict_function at 0x7f0df207aa60> triggered tf.function retracing. Tracing is expensive and the excessive number of tracings could be due to (1) creating @tf.function repeatedly in a loop, (2) passing tensors with different shapes, (3) passing Python objects instead of tensors. For (1), please define your @tf.function outside of the loop. For (2), @tf.function has experimental_relax_shapes=True option that relaxes argument shapes that can avoid unnecessary retracing. For (3), please refer to https://www.tensorflow.org/guide/function#controlling_retracing and https://www.tensorflow.org/api_docs/python/tf/function for  more details.\n"
          ],
          "name": "stdout"
        },
        {
          "output_type": "stream",
          "text": [
            "WARNING:tensorflow:11 out of the last 11 calls to <function Model.make_predict_function.<locals>.predict_function at 0x7f0df207aa60> triggered tf.function retracing. Tracing is expensive and the excessive number of tracings could be due to (1) creating @tf.function repeatedly in a loop, (2) passing tensors with different shapes, (3) passing Python objects instead of tensors. For (1), please define your @tf.function outside of the loop. For (2), @tf.function has experimental_relax_shapes=True option that relaxes argument shapes that can avoid unnecessary retracing. For (3), please refer to https://www.tensorflow.org/guide/function#controlling_retracing and https://www.tensorflow.org/api_docs/python/tf/function for  more details.\n"
          ],
          "name": "stderr"
        },
        {
          "output_type": "stream",
          "text": [
            "Region of Interest sc\n",
            "RMSE is -  554.3181340620204\n",
            "mae is :  526.82056\n",
            "mean relative error is :  99.65566396713257 for a forecast of  30  days.\n",
            "[554.3181340620204, 526.82056, 99.65566396713257]\n",
            "(884, 1, 11) (884,) (30, 1, 11) (30,)\n",
            "(914, 12)\n",
            "(914, 12)\n",
            "Epoch 1/2\n",
            "WARNING:tensorflow:6 out of the last 11 calls to <function Model.make_test_function.<locals>.test_function at 0x7f0df1e7f2f0> triggered tf.function retracing. Tracing is expensive and the excessive number of tracings could be due to (1) creating @tf.function repeatedly in a loop, (2) passing tensors with different shapes, (3) passing Python objects instead of tensors. For (1), please define your @tf.function outside of the loop. For (2), @tf.function has experimental_relax_shapes=True option that relaxes argument shapes that can avoid unnecessary retracing. For (3), please refer to https://www.tensorflow.org/guide/function#controlling_retracing and https://www.tensorflow.org/api_docs/python/tf/function for  more details.\n"
          ],
          "name": "stdout"
        },
        {
          "output_type": "stream",
          "text": [
            "WARNING:tensorflow:6 out of the last 11 calls to <function Model.make_test_function.<locals>.test_function at 0x7f0df1e7f2f0> triggered tf.function retracing. Tracing is expensive and the excessive number of tracings could be due to (1) creating @tf.function repeatedly in a loop, (2) passing tensors with different shapes, (3) passing Python objects instead of tensors. For (1), please define your @tf.function outside of the loop. For (2), @tf.function has experimental_relax_shapes=True option that relaxes argument shapes that can avoid unnecessary retracing. For (3), please refer to https://www.tensorflow.org/guide/function#controlling_retracing and https://www.tensorflow.org/api_docs/python/tf/function for  more details.\n"
          ],
          "name": "stderr"
        },
        {
          "output_type": "stream",
          "text": [
            "13/13 - 2s - loss: 87.7568 - val_loss: 231.6100\n",
            "Epoch 2/2\n",
            "13/13 - 0s - loss: 87.6053 - val_loss: 231.4019\n"
          ],
          "name": "stdout"
        },
        {
          "output_type": "display_data",
          "data": {
            "image/png": "[encoded data removed]",
            "text/plain": [
              "<Figure size 432x288 with 1 Axes>"
            ]
          },
          "metadata": {
            "tags": [],
            "needs_background": "light"
          }
        },
        {
          "output_type": "stream",
          "text": [
            "WARNING:tensorflow:11 out of the last 11 calls to <function Model.make_predict_function.<locals>.predict_function at 0x7f0decb8cf28> triggered tf.function retracing. Tracing is expensive and the excessive number of tracings could be due to (1) creating @tf.function repeatedly in a loop, (2) passing tensors with different shapes, (3) passing Python objects instead of tensors. For (1), please define your @tf.function outside of the loop. For (2), @tf.function has experimental_relax_shapes=True option that relaxes argument shapes that can avoid unnecessary retracing. For (3), please refer to https://www.tensorflow.org/guide/function#controlling_retracing and https://www.tensorflow.org/api_docs/python/tf/function for  more details.\n"
          ],
          "name": "stdout"
        },
        {
          "output_type": "stream",
          "text": [
            "WARNING:tensorflow:11 out of the last 11 calls to <function Model.make_predict_function.<locals>.predict_function at 0x7f0decb8cf28> triggered tf.function retracing. Tracing is expensive and the excessive number of tracings could be due to (1) creating @tf.function repeatedly in a loop, (2) passing tensors with different shapes, (3) passing Python objects instead of tensors. For (1), please define your @tf.function outside of the loop. For (2), @tf.function has experimental_relax_shapes=True option that relaxes argument shapes that can avoid unnecessary retracing. For (3), please refer to https://www.tensorflow.org/guide/function#controlling_retracing and https://www.tensorflow.org/api_docs/python/tf/function for  more details.\n"
          ],
          "name": "stderr"
        },
        {
          "output_type": "stream",
          "text": [
            "Region of Interest sd\n",
            "RMSE is -  231.40191800469157\n",
            "mae is :  220.34056\n",
            "mean relative error is :  99.08145070075989 for a forecast of  30  days.\n",
            "[231.40191800469157, 220.34056, 99.08145070075989]\n",
            "(1710, 1, 11) (1710,) (30, 1, 11) (30,)\n",
            "(1740, 12)\n",
            "(1740, 12)\n",
            "Epoch 1/2\n",
            "WARNING:tensorflow:6 out of the last 11 calls to <function Model.make_test_function.<locals>.test_function at 0x7f0ded3fbe18> triggered tf.function retracing. Tracing is expensive and the excessive number of tracings could be due to (1) creating @tf.function repeatedly in a loop, (2) passing tensors with different shapes, (3) passing Python objects instead of tensors. For (1), please define your @tf.function outside of the loop. For (2), @tf.function has experimental_relax_shapes=True option that relaxes argument shapes that can avoid unnecessary retracing. For (3), please refer to https://www.tensorflow.org/guide/function#controlling_retracing and https://www.tensorflow.org/api_docs/python/tf/function for  more details.\n"
          ],
          "name": "stdout"
        },
        {
          "output_type": "stream",
          "text": [
            "WARNING:tensorflow:6 out of the last 11 calls to <function Model.make_test_function.<locals>.test_function at 0x7f0ded3fbe18> triggered tf.function retracing. Tracing is expensive and the excessive number of tracings could be due to (1) creating @tf.function repeatedly in a loop, (2) passing tensors with different shapes, (3) passing Python objects instead of tensors. For (1), please define your @tf.function outside of the loop. For (2), @tf.function has experimental_relax_shapes=True option that relaxes argument shapes that can avoid unnecessary retracing. For (3), please refer to https://www.tensorflow.org/guide/function#controlling_retracing and https://www.tensorflow.org/api_docs/python/tf/function for  more details.\n"
          ],
          "name": "stderr"
        },
        {
          "output_type": "stream",
          "text": [
            "24/24 - 2s - loss: 1117.7081 - val_loss: 1048.1185\n",
            "Epoch 2/2\n",
            "24/24 - 0s - loss: 1117.6272 - val_loss: 1048.0337\n"
          ],
          "name": "stdout"
        },
        {
          "output_type": "display_data",
          "data": {
            "image/png": "[encoded data removed]",
            "text/plain": [
              "<Figure size 432x288 with 1 Axes>"
            ]
          },
          "metadata": {
            "tags": [],
            "needs_background": "light"
          }
        },
        {
          "output_type": "stream",
          "text": [
            "WARNING:tensorflow:11 out of the last 11 calls to <function Model.make_predict_function.<locals>.predict_function at 0x7f0df207a1e0> triggered tf.function retracing. Tracing is expensive and the excessive number of tracings could be due to (1) creating @tf.function repeatedly in a loop, (2) passing tensors with different shapes, (3) passing Python objects instead of tensors. For (1), please define your @tf.function outside of the loop. For (2), @tf.function has experimental_relax_shapes=True option that relaxes argument shapes that can avoid unnecessary retracing. For (3), please refer to https://www.tensorflow.org/guide/function#controlling_retracing and https://www.tensorflow.org/api_docs/python/tf/function for  more details.\n"
          ],
          "name": "stdout"
        },
        {
          "output_type": "stream",
          "text": [
            "WARNING:tensorflow:11 out of the last 11 calls to <function Model.make_predict_function.<locals>.predict_function at 0x7f0df207a1e0> triggered tf.function retracing. Tracing is expensive and the excessive number of tracings could be due to (1) creating @tf.function repeatedly in a loop, (2) passing tensors with different shapes, (3) passing Python objects instead of tensors. For (1), please define your @tf.function outside of the loop. For (2), @tf.function has experimental_relax_shapes=True option that relaxes argument shapes that can avoid unnecessary retracing. For (3), please refer to https://www.tensorflow.org/guide/function#controlling_retracing and https://www.tensorflow.org/api_docs/python/tf/function for  more details.\n"
          ],
          "name": "stderr"
        },
        {
          "output_type": "stream",
          "text": [
            "Region of Interest tn\n",
            "RMSE is -  1048.0336945919248\n",
            "mae is :  975.40393\n",
            "mean relative error is :  99.85857605934143 for a forecast of  30  days.\n",
            "[1048.0336945919248, 975.40393, 99.85857605934143]\n",
            "(1722, 1, 11) (1722,) (30, 1, 11) (30,)\n",
            "(1752, 12)\n",
            "(1752, 12)\n",
            "Epoch 1/2\n",
            "WARNING:tensorflow:6 out of the last 11 calls to <function Model.make_test_function.<locals>.test_function at 0x7f0df1dfbbf8> triggered tf.function retracing. Tracing is expensive and the excessive number of tracings could be due to (1) creating @tf.function repeatedly in a loop, (2) passing tensors with different shapes, (3) passing Python objects instead of tensors. For (1), please define your @tf.function outside of the loop. For (2), @tf.function has experimental_relax_shapes=True option that relaxes argument shapes that can avoid unnecessary retracing. For (3), please refer to https://www.tensorflow.org/guide/function#controlling_retracing and https://www.tensorflow.org/api_docs/python/tf/function for  more details.\n"
          ],
          "name": "stdout"
        },
        {
          "output_type": "stream",
          "text": [
            "WARNING:tensorflow:6 out of the last 11 calls to <function Model.make_test_function.<locals>.test_function at 0x7f0df1dfbbf8> triggered tf.function retracing. Tracing is expensive and the excessive number of tracings could be due to (1) creating @tf.function repeatedly in a loop, (2) passing tensors with different shapes, (3) passing Python objects instead of tensors. For (1), please define your @tf.function outside of the loop. For (2), @tf.function has experimental_relax_shapes=True option that relaxes argument shapes that can avoid unnecessary retracing. For (3), please refer to https://www.tensorflow.org/guide/function#controlling_retracing and https://www.tensorflow.org/api_docs/python/tf/function for  more details.\n"
          ],
          "name": "stderr"
        },
        {
          "output_type": "stream",
          "text": [
            "24/24 - 2s - loss: 4617.3203 - val_loss: 2879.9341\n",
            "Epoch 2/2\n",
            "24/24 - 0s - loss: 4617.2344 - val_loss: 2879.7961\n"
          ],
          "name": "stdout"
        },
        {
          "output_type": "display_data",
          "data": {
            "image/png": "[encoded data removed]",
            "text/plain": [
              "<Figure size 432x288 with 1 Axes>"
            ]
          },
          "metadata": {
            "tags": [],
            "needs_background": "light"
          }
        },
        {
          "output_type": "stream",
          "text": [
            "WARNING:tensorflow:11 out of the last 11 calls to <function Model.make_predict_function.<locals>.predict_function at 0x7f0decb02ae8> triggered tf.function retracing. Tracing is expensive and the excessive number of tracings could be due to (1) creating @tf.function repeatedly in a loop, (2) passing tensors with different shapes, (3) passing Python objects instead of tensors. For (1), please define your @tf.function outside of the loop. For (2), @tf.function has experimental_relax_shapes=True option that relaxes argument shapes that can avoid unnecessary retracing. For (3), please refer to https://www.tensorflow.org/guide/function#controlling_retracing and https://www.tensorflow.org/api_docs/python/tf/function for  more details.\n"
          ],
          "name": "stdout"
        },
        {
          "output_type": "stream",
          "text": [
            "WARNING:tensorflow:11 out of the last 11 calls to <function Model.make_predict_function.<locals>.predict_function at 0x7f0decb02ae8> triggered tf.function retracing. Tracing is expensive and the excessive number of tracings could be due to (1) creating @tf.function repeatedly in a loop, (2) passing tensors with different shapes, (3) passing Python objects instead of tensors. For (1), please define your @tf.function outside of the loop. For (2), @tf.function has experimental_relax_shapes=True option that relaxes argument shapes that can avoid unnecessary retracing. For (3), please refer to https://www.tensorflow.org/guide/function#controlling_retracing and https://www.tensorflow.org/api_docs/python/tf/function for  more details.\n"
          ],
          "name": "stderr"
        },
        {
          "output_type": "stream",
          "text": [
            "Region of Interest tx\n",
            "RMSE is -  2879.796260154527\n",
            "mae is :  2453.4136\n",
            "mean relative error is :  99.8883605003357 for a forecast of  30  days.\n",
            "[2879.796260154527, 2453.4136, 99.8883605003357]\n",
            "(1655, 1, 11) (1655,) (30, 1, 11) (30,)\n",
            "(1685, 12)\n",
            "(1685, 12)\n",
            "Epoch 1/2\n",
            "WARNING:tensorflow:6 out of the last 11 calls to <function Model.make_test_function.<locals>.test_function at 0x7f0df8fd4730> triggered tf.function retracing. Tracing is expensive and the excessive number of tracings could be due to (1) creating @tf.function repeatedly in a loop, (2) passing tensors with different shapes, (3) passing Python objects instead of tensors. For (1), please define your @tf.function outside of the loop. For (2), @tf.function has experimental_relax_shapes=True option that relaxes argument shapes that can avoid unnecessary retracing. For (3), please refer to https://www.tensorflow.org/guide/function#controlling_retracing and https://www.tensorflow.org/api_docs/python/tf/function for  more details.\n"
          ],
          "name": "stdout"
        },
        {
          "output_type": "stream",
          "text": [
            "WARNING:tensorflow:6 out of the last 11 calls to <function Model.make_test_function.<locals>.test_function at 0x7f0df8fd4730> triggered tf.function retracing. Tracing is expensive and the excessive number of tracings could be due to (1) creating @tf.function repeatedly in a loop, (2) passing tensors with different shapes, (3) passing Python objects instead of tensors. For (1), please define your @tf.function outside of the loop. For (2), @tf.function has experimental_relax_shapes=True option that relaxes argument shapes that can avoid unnecessary retracing. For (3), please refer to https://www.tensorflow.org/guide/function#controlling_retracing and https://www.tensorflow.org/api_docs/python/tf/function for  more details.\n"
          ],
          "name": "stderr"
        },
        {
          "output_type": "stream",
          "text": [
            "23/23 - 2s - loss: 373.8461 - val_loss: 344.0784\n",
            "Epoch 2/2\n",
            "23/23 - 0s - loss: 373.7640 - val_loss: 343.9485\n"
          ],
          "name": "stdout"
        },
        {
          "output_type": "display_data",
          "data": {
            "image/png": "[encoded data removed]",
            "text/plain": [
              "<Figure size 432x288 with 1 Axes>"
            ]
          },
          "metadata": {
            "tags": [],
            "needs_background": "light"
          }
        },
        {
          "output_type": "stream",
          "text": [
            "WARNING:tensorflow:11 out of the last 11 calls to <function Model.make_predict_function.<locals>.predict_function at 0x7f0df0ecabf8> triggered tf.function retracing. Tracing is expensive and the excessive number of tracings could be due to (1) creating @tf.function repeatedly in a loop, (2) passing tensors with different shapes, (3) passing Python objects instead of tensors. For (1), please define your @tf.function outside of the loop. For (2), @tf.function has experimental_relax_shapes=True option that relaxes argument shapes that can avoid unnecessary retracing. For (3), please refer to https://www.tensorflow.org/guide/function#controlling_retracing and https://www.tensorflow.org/api_docs/python/tf/function for  more details.\n"
          ],
          "name": "stdout"
        },
        {
          "output_type": "stream",
          "text": [
            "WARNING:tensorflow:11 out of the last 11 calls to <function Model.make_predict_function.<locals>.predict_function at 0x7f0df0ecabf8> triggered tf.function retracing. Tracing is expensive and the excessive number of tracings could be due to (1) creating @tf.function repeatedly in a loop, (2) passing tensors with different shapes, (3) passing Python objects instead of tensors. For (1), please define your @tf.function outside of the loop. For (2), @tf.function has experimental_relax_shapes=True option that relaxes argument shapes that can avoid unnecessary retracing. For (3), please refer to https://www.tensorflow.org/guide/function#controlling_retracing and https://www.tensorflow.org/api_docs/python/tf/function for  more details.\n"
          ],
          "name": "stderr"
        },
        {
          "output_type": "stream",
          "text": [
            "Region of Interest ut\n",
            "RMSE is -  343.94851086318135\n",
            "mae is :  335.67737\n",
            "mean relative error is :  99.70728754997253 for a forecast of  30  days.\n",
            "[343.94851086318135, 335.67737, 99.70728754997253]\n",
            "(1724, 1, 11) (1724,) (30, 1, 11) (30,)\n",
            "(1754, 12)\n",
            "(1754, 12)\n",
            "Epoch 1/2\n",
            "WARNING:tensorflow:6 out of the last 11 calls to <function Model.make_test_function.<locals>.test_function at 0x7f0ded187bf8> triggered tf.function retracing. Tracing is expensive and the excessive number of tracings could be due to (1) creating @tf.function repeatedly in a loop, (2) passing tensors with different shapes, (3) passing Python objects instead of tensors. For (1), please define your @tf.function outside of the loop. For (2), @tf.function has experimental_relax_shapes=True option that relaxes argument shapes that can avoid unnecessary retracing. For (3), please refer to https://www.tensorflow.org/guide/function#controlling_retracing and https://www.tensorflow.org/api_docs/python/tf/function for  more details.\n"
          ],
          "name": "stdout"
        },
        {
          "output_type": "stream",
          "text": [
            "WARNING:tensorflow:6 out of the last 11 calls to <function Model.make_test_function.<locals>.test_function at 0x7f0ded187bf8> triggered tf.function retracing. Tracing is expensive and the excessive number of tracings could be due to (1) creating @tf.function repeatedly in a loop, (2) passing tensors with different shapes, (3) passing Python objects instead of tensors. For (1), please define your @tf.function outside of the loop. For (2), @tf.function has experimental_relax_shapes=True option that relaxes argument shapes that can avoid unnecessary retracing. For (3), please refer to https://www.tensorflow.org/guide/function#controlling_retracing and https://www.tensorflow.org/api_docs/python/tf/function for  more details.\n"
          ],
          "name": "stderr"
        },
        {
          "output_type": "stream",
          "text": [
            "24/24 - 2s - loss: 855.8760 - val_loss: 841.4160\n",
            "Epoch 2/2\n",
            "24/24 - 0s - loss: 855.8137 - val_loss: 841.3521\n"
          ],
          "name": "stdout"
        },
        {
          "output_type": "display_data",
          "data": {
            "image/png": "[encoded data removed]",
            "text/plain": [
              "<Figure size 432x288 with 1 Axes>"
            ]
          },
          "metadata": {
            "tags": [],
            "needs_background": "light"
          }
        },
        {
          "output_type": "stream",
          "text": [
            "WARNING:tensorflow:11 out of the last 11 calls to <function Model.make_predict_function.<locals>.predict_function at 0x7f0df20a3378> triggered tf.function retracing. Tracing is expensive and the excessive number of tracings could be due to (1) creating @tf.function repeatedly in a loop, (2) passing tensors with different shapes, (3) passing Python objects instead of tensors. For (1), please define your @tf.function outside of the loop. For (2), @tf.function has experimental_relax_shapes=True option that relaxes argument shapes that can avoid unnecessary retracing. For (3), please refer to https://www.tensorflow.org/guide/function#controlling_retracing and https://www.tensorflow.org/api_docs/python/tf/function for  more details.\n"
          ],
          "name": "stdout"
        },
        {
          "output_type": "stream",
          "text": [
            "WARNING:tensorflow:11 out of the last 11 calls to <function Model.make_predict_function.<locals>.predict_function at 0x7f0df20a3378> triggered tf.function retracing. Tracing is expensive and the excessive number of tracings could be due to (1) creating @tf.function repeatedly in a loop, (2) passing tensors with different shapes, (3) passing Python objects instead of tensors. For (1), please define your @tf.function outside of the loop. For (2), @tf.function has experimental_relax_shapes=True option that relaxes argument shapes that can avoid unnecessary retracing. For (3), please refer to https://www.tensorflow.org/guide/function#controlling_retracing and https://www.tensorflow.org/api_docs/python/tf/function for  more details.\n"
          ],
          "name": "stderr"
        },
        {
          "output_type": "stream",
          "text": [
            "Region of Interest va\n",
            "RMSE is -  841.352074045105\n",
            "mae is :  821.20496\n",
            "mean relative error is :  99.90130662918091 for a forecast of  30  days.\n",
            "[841.352074045105, 821.20496, 99.90130662918091]\n",
            "(732, 1, 11) (732,) (30, 1, 11) (30,)\n",
            "(762, 12)\n",
            "(762, 12)\n",
            "Epoch 1/2\n",
            "WARNING:tensorflow:6 out of the last 11 calls to <function Model.make_test_function.<locals>.test_function at 0x7f0df114bb70> triggered tf.function retracing. Tracing is expensive and the excessive number of tracings could be due to (1) creating @tf.function repeatedly in a loop, (2) passing tensors with different shapes, (3) passing Python objects instead of tensors. For (1), please define your @tf.function outside of the loop. For (2), @tf.function has experimental_relax_shapes=True option that relaxes argument shapes that can avoid unnecessary retracing. For (3), please refer to https://www.tensorflow.org/guide/function#controlling_retracing and https://www.tensorflow.org/api_docs/python/tf/function for  more details.\n"
          ],
          "name": "stdout"
        },
        {
          "output_type": "stream",
          "text": [
            "WARNING:tensorflow:6 out of the last 11 calls to <function Model.make_test_function.<locals>.test_function at 0x7f0df114bb70> triggered tf.function retracing. Tracing is expensive and the excessive number of tracings could be due to (1) creating @tf.function repeatedly in a loop, (2) passing tensors with different shapes, (3) passing Python objects instead of tensors. For (1), please define your @tf.function outside of the loop. For (2), @tf.function has experimental_relax_shapes=True option that relaxes argument shapes that can avoid unnecessary retracing. For (3), please refer to https://www.tensorflow.org/guide/function#controlling_retracing and https://www.tensorflow.org/api_docs/python/tf/function for  more details.\n"
          ],
          "name": "stderr"
        },
        {
          "output_type": "stream",
          "text": [
            "11/11 - 2s - loss: 7.3641 - val_loss: 6.7580\n",
            "Epoch 2/2\n",
            "11/11 - 0s - loss: 7.2747 - val_loss: 6.6928\n"
          ],
          "name": "stdout"
        },
        {
          "output_type": "display_data",
          "data": {
            "image/png": "[encoded data removed]",
            "text/plain": [
              "<Figure size 432x288 with 1 Axes>"
            ]
          },
          "metadata": {
            "tags": [],
            "needs_background": "light"
          }
        },
        {
          "output_type": "stream",
          "text": [
            "WARNING:tensorflow:11 out of the last 11 calls to <function Model.make_predict_function.<locals>.predict_function at 0x7f0df0c7df28> triggered tf.function retracing. Tracing is expensive and the excessive number of tracings could be due to (1) creating @tf.function repeatedly in a loop, (2) passing tensors with different shapes, (3) passing Python objects instead of tensors. For (1), please define your @tf.function outside of the loop. For (2), @tf.function has experimental_relax_shapes=True option that relaxes argument shapes that can avoid unnecessary retracing. For (3), please refer to https://www.tensorflow.org/guide/function#controlling_retracing and https://www.tensorflow.org/api_docs/python/tf/function for  more details.\n"
          ],
          "name": "stdout"
        },
        {
          "output_type": "stream",
          "text": [
            "WARNING:tensorflow:11 out of the last 11 calls to <function Model.make_predict_function.<locals>.predict_function at 0x7f0df0c7df28> triggered tf.function retracing. Tracing is expensive and the excessive number of tracings could be due to (1) creating @tf.function repeatedly in a loop, (2) passing tensors with different shapes, (3) passing Python objects instead of tensors. For (1), please define your @tf.function outside of the loop. For (2), @tf.function has experimental_relax_shapes=True option that relaxes argument shapes that can avoid unnecessary retracing. For (3), please refer to https://www.tensorflow.org/guide/function#controlling_retracing and https://www.tensorflow.org/api_docs/python/tf/function for  more details.\n"
          ],
          "name": "stderr"
        },
        {
          "output_type": "stream",
          "text": [
            "Region of Interest vt\n",
            "RMSE is -  6.69284613995608\n",
            "mae is :  4.9540386\n",
            "mean relative error is :  66.4908766746521 for a forecast of  30  days.\n",
            "[6.69284613995608, 4.9540386, 66.4908766746521]\n",
            "(1717, 1, 11) (1717,) (30, 1, 11) (30,)\n",
            "(1747, 12)\n",
            "(1747, 12)\n",
            "Epoch 1/2\n",
            "WARNING:tensorflow:6 out of the last 11 calls to <function Model.make_test_function.<locals>.test_function at 0x7f0df1751e18> triggered tf.function retracing. Tracing is expensive and the excessive number of tracings could be due to (1) creating @tf.function repeatedly in a loop, (2) passing tensors with different shapes, (3) passing Python objects instead of tensors. For (1), please define your @tf.function outside of the loop. For (2), @tf.function has experimental_relax_shapes=True option that relaxes argument shapes that can avoid unnecessary retracing. For (3), please refer to https://www.tensorflow.org/guide/function#controlling_retracing and https://www.tensorflow.org/api_docs/python/tf/function for  more details.\n"
          ],
          "name": "stdout"
        },
        {
          "output_type": "stream",
          "text": [
            "WARNING:tensorflow:6 out of the last 11 calls to <function Model.make_test_function.<locals>.test_function at 0x7f0df1751e18> triggered tf.function retracing. Tracing is expensive and the excessive number of tracings could be due to (1) creating @tf.function repeatedly in a loop, (2) passing tensors with different shapes, (3) passing Python objects instead of tensors. For (1), please define your @tf.function outside of the loop. For (2), @tf.function has experimental_relax_shapes=True option that relaxes argument shapes that can avoid unnecessary retracing. For (3), please refer to https://www.tensorflow.org/guide/function#controlling_retracing and https://www.tensorflow.org/api_docs/python/tf/function for  more details.\n"
          ],
          "name": "stderr"
        },
        {
          "output_type": "stream",
          "text": [
            "24/24 - 3s - loss: 505.8977 - val_loss: 419.8710\n",
            "Epoch 2/2\n",
            "24/24 - 0s - loss: 505.8493 - val_loss: 419.7876\n"
          ],
          "name": "stdout"
        },
        {
          "output_type": "display_data",
          "data": {
            "image/png": "[encoded data removed]",
            "text/plain": [
              "<Figure size 432x288 with 1 Axes>"
            ]
          },
          "metadata": {
            "tags": [],
            "needs_background": "light"
          }
        },
        {
          "output_type": "stream",
          "text": [
            "WARNING:tensorflow:11 out of the last 11 calls to <function Model.make_predict_function.<locals>.predict_function at 0x7f0ded187400> triggered tf.function retracing. Tracing is expensive and the excessive number of tracings could be due to (1) creating @tf.function repeatedly in a loop, (2) passing tensors with different shapes, (3) passing Python objects instead of tensors. For (1), please define your @tf.function outside of the loop. For (2), @tf.function has experimental_relax_shapes=True option that relaxes argument shapes that can avoid unnecessary retracing. For (3), please refer to https://www.tensorflow.org/guide/function#controlling_retracing and https://www.tensorflow.org/api_docs/python/tf/function for  more details.\n"
          ],
          "name": "stdout"
        },
        {
          "output_type": "stream",
          "text": [
            "WARNING:tensorflow:11 out of the last 11 calls to <function Model.make_predict_function.<locals>.predict_function at 0x7f0ded187400> triggered tf.function retracing. Tracing is expensive and the excessive number of tracings could be due to (1) creating @tf.function repeatedly in a loop, (2) passing tensors with different shapes, (3) passing Python objects instead of tensors. For (1), please define your @tf.function outside of the loop. For (2), @tf.function has experimental_relax_shapes=True option that relaxes argument shapes that can avoid unnecessary retracing. For (3), please refer to https://www.tensorflow.org/guide/function#controlling_retracing and https://www.tensorflow.org/api_docs/python/tf/function for  more details.\n"
          ],
          "name": "stderr"
        },
        {
          "output_type": "stream",
          "text": [
            "Region of Interest wa\n",
            "RMSE is -  419.78761371079065\n",
            "mae is :  365.41522\n",
            "mean relative error is :  99.51712489128113 for a forecast of  30  days.\n",
            "[419.78761371079065, 365.41522, 99.51712489128113]\n",
            "(1717, 1, 11) (1717,) (30, 1, 11) (30,)\n",
            "(1747, 12)\n",
            "(1747, 12)\n",
            "Epoch 1/2\n",
            "WARNING:tensorflow:6 out of the last 11 calls to <function Model.make_test_function.<locals>.test_function at 0x7f0df2369c80> triggered tf.function retracing. Tracing is expensive and the excessive number of tracings could be due to (1) creating @tf.function repeatedly in a loop, (2) passing tensors with different shapes, (3) passing Python objects instead of tensors. For (1), please define your @tf.function outside of the loop. For (2), @tf.function has experimental_relax_shapes=True option that relaxes argument shapes that can avoid unnecessary retracing. For (3), please refer to https://www.tensorflow.org/guide/function#controlling_retracing and https://www.tensorflow.org/api_docs/python/tf/function for  more details.\n"
          ],
          "name": "stdout"
        },
        {
          "output_type": "stream",
          "text": [
            "WARNING:tensorflow:6 out of the last 11 calls to <function Model.make_test_function.<locals>.test_function at 0x7f0df2369c80> triggered tf.function retracing. Tracing is expensive and the excessive number of tracings could be due to (1) creating @tf.function repeatedly in a loop, (2) passing tensors with different shapes, (3) passing Python objects instead of tensors. For (1), please define your @tf.function outside of the loop. For (2), @tf.function has experimental_relax_shapes=True option that relaxes argument shapes that can avoid unnecessary retracing. For (3), please refer to https://www.tensorflow.org/guide/function#controlling_retracing and https://www.tensorflow.org/api_docs/python/tf/function for  more details.\n"
          ],
          "name": "stderr"
        },
        {
          "output_type": "stream",
          "text": [
            "24/24 - 2s - loss: 603.2259 - val_loss: 717.3422\n",
            "Epoch 2/2\n",
            "24/24 - 0s - loss: 603.1656 - val_loss: 717.2457\n"
          ],
          "name": "stdout"
        },
        {
          "output_type": "display_data",
          "data": {
            "image/png": "[encoded data removed]",
            "text/plain": [
              "<Figure size 432x288 with 1 Axes>"
            ]
          },
          "metadata": {
            "tags": [],
            "needs_background": "light"
          }
        },
        {
          "output_type": "stream",
          "text": [
            "WARNING:tensorflow:11 out of the last 11 calls to <function Model.make_predict_function.<locals>.predict_function at 0x7f0df1797e18> triggered tf.function retracing. Tracing is expensive and the excessive number of tracings could be due to (1) creating @tf.function repeatedly in a loop, (2) passing tensors with different shapes, (3) passing Python objects instead of tensors. For (1), please define your @tf.function outside of the loop. For (2), @tf.function has experimental_relax_shapes=True option that relaxes argument shapes that can avoid unnecessary retracing. For (3), please refer to https://www.tensorflow.org/guide/function#controlling_retracing and https://www.tensorflow.org/api_docs/python/tf/function for  more details.\n"
          ],
          "name": "stdout"
        },
        {
          "output_type": "stream",
          "text": [
            "WARNING:tensorflow:11 out of the last 11 calls to <function Model.make_predict_function.<locals>.predict_function at 0x7f0df1797e18> triggered tf.function retracing. Tracing is expensive and the excessive number of tracings could be due to (1) creating @tf.function repeatedly in a loop, (2) passing tensors with different shapes, (3) passing Python objects instead of tensors. For (1), please define your @tf.function outside of the loop. For (2), @tf.function has experimental_relax_shapes=True option that relaxes argument shapes that can avoid unnecessary retracing. For (3), please refer to https://www.tensorflow.org/guide/function#controlling_retracing and https://www.tensorflow.org/api_docs/python/tf/function for  more details.\n"
          ],
          "name": "stderr"
        },
        {
          "output_type": "stream",
          "text": [
            "Region of Interest wi\n",
            "RMSE is -  717.2457084221558\n",
            "mae is :  707.21454\n",
            "mean relative error is :  99.82951879501343 for a forecast of  30  days.\n",
            "[717.2457084221558, 707.21454, 99.82951879501343]\n",
            "(1467, 1, 11) (1467,) (30, 1, 11) (30,)\n",
            "(1497, 12)\n",
            "(1497, 12)\n",
            "Epoch 1/2\n",
            "WARNING:tensorflow:6 out of the last 11 calls to <function Model.make_test_function.<locals>.test_function at 0x7f0ded5261e0> triggered tf.function retracing. Tracing is expensive and the excessive number of tracings could be due to (1) creating @tf.function repeatedly in a loop, (2) passing tensors with different shapes, (3) passing Python objects instead of tensors. For (1), please define your @tf.function outside of the loop. For (2), @tf.function has experimental_relax_shapes=True option that relaxes argument shapes that can avoid unnecessary retracing. For (3), please refer to https://www.tensorflow.org/guide/function#controlling_retracing and https://www.tensorflow.org/api_docs/python/tf/function for  more details.\n"
          ],
          "name": "stdout"
        },
        {
          "output_type": "stream",
          "text": [
            "WARNING:tensorflow:6 out of the last 11 calls to <function Model.make_test_function.<locals>.test_function at 0x7f0ded5261e0> triggered tf.function retracing. Tracing is expensive and the excessive number of tracings could be due to (1) creating @tf.function repeatedly in a loop, (2) passing tensors with different shapes, (3) passing Python objects instead of tensors. For (1), please define your @tf.function outside of the loop. For (2), @tf.function has experimental_relax_shapes=True option that relaxes argument shapes that can avoid unnecessary retracing. For (3), please refer to https://www.tensorflow.org/guide/function#controlling_retracing and https://www.tensorflow.org/api_docs/python/tf/function for  more details.\n"
          ],
          "name": "stderr"
        },
        {
          "output_type": "stream",
          "text": [
            "21/21 - 2s - loss: 74.2056 - val_loss: 153.4426\n",
            "Epoch 2/2\n",
            "21/21 - 0s - loss: 73.8375 - val_loss: 153.1303\n"
          ],
          "name": "stdout"
        },
        {
          "output_type": "display_data",
          "data": {
            "image/png": "[encoded data removed]",
            "text/plain": [
              "<Figure size 432x288 with 1 Axes>"
            ]
          },
          "metadata": {
            "tags": [],
            "needs_background": "light"
          }
        },
        {
          "output_type": "stream",
          "text": [
            "WARNING:tensorflow:11 out of the last 11 calls to <function Model.make_predict_function.<locals>.predict_function at 0x7f0debf19e18> triggered tf.function retracing. Tracing is expensive and the excessive number of tracings could be due to (1) creating @tf.function repeatedly in a loop, (2) passing tensors with different shapes, (3) passing Python objects instead of tensors. For (1), please define your @tf.function outside of the loop. For (2), @tf.function has experimental_relax_shapes=True option that relaxes argument shapes that can avoid unnecessary retracing. For (3), please refer to https://www.tensorflow.org/guide/function#controlling_retracing and https://www.tensorflow.org/api_docs/python/tf/function for  more details.\n"
          ],
          "name": "stdout"
        },
        {
          "output_type": "stream",
          "text": [
            "WARNING:tensorflow:11 out of the last 11 calls to <function Model.make_predict_function.<locals>.predict_function at 0x7f0debf19e18> triggered tf.function retracing. Tracing is expensive and the excessive number of tracings could be due to (1) creating @tf.function repeatedly in a loop, (2) passing tensors with different shapes, (3) passing Python objects instead of tensors. For (1), please define your @tf.function outside of the loop. For (2), @tf.function has experimental_relax_shapes=True option that relaxes argument shapes that can avoid unnecessary retracing. For (3), please refer to https://www.tensorflow.org/guide/function#controlling_retracing and https://www.tensorflow.org/api_docs/python/tf/function for  more details.\n"
          ],
          "name": "stderr"
        },
        {
          "output_type": "stream",
          "text": [
            "Region of Interest wv\n",
            "RMSE is -  153.13035067182142\n",
            "mae is :  142.42952\n",
            "mean relative error is :  97.94042110443115 for a forecast of  30  days.\n",
            "[153.13035067182142, 142.42952, 97.94042110443115]\n",
            "(523, 1, 11) (523,) (30, 1, 11) (30,)\n",
            "(553, 12)\n",
            "(553, 12)\n",
            "Epoch 1/2\n",
            "WARNING:tensorflow:6 out of the last 11 calls to <function Model.make_test_function.<locals>.test_function at 0x7f0ded8e2ae8> triggered tf.function retracing. Tracing is expensive and the excessive number of tracings could be due to (1) creating @tf.function repeatedly in a loop, (2) passing tensors with different shapes, (3) passing Python objects instead of tensors. For (1), please define your @tf.function outside of the loop. For (2), @tf.function has experimental_relax_shapes=True option that relaxes argument shapes that can avoid unnecessary retracing. For (3), please refer to https://www.tensorflow.org/guide/function#controlling_retracing and https://www.tensorflow.org/api_docs/python/tf/function for  more details.\n"
          ],
          "name": "stdout"
        },
        {
          "output_type": "stream",
          "text": [
            "WARNING:tensorflow:6 out of the last 11 calls to <function Model.make_test_function.<locals>.test_function at 0x7f0ded8e2ae8> triggered tf.function retracing. Tracing is expensive and the excessive number of tracings could be due to (1) creating @tf.function repeatedly in a loop, (2) passing tensors with different shapes, (3) passing Python objects instead of tensors. For (1), please define your @tf.function outside of the loop. For (2), @tf.function has experimental_relax_shapes=True option that relaxes argument shapes that can avoid unnecessary retracing. For (3), please refer to https://www.tensorflow.org/guide/function#controlling_retracing and https://www.tensorflow.org/api_docs/python/tf/function for  more details.\n"
          ],
          "name": "stderr"
        },
        {
          "output_type": "stream",
          "text": [
            "8/8 - 2s - loss: 23.2089 - val_loss: 35.5240\n",
            "Epoch 2/2\n",
            "8/8 - 0s - loss: 23.1235 - val_loss: 35.4012\n"
          ],
          "name": "stdout"
        },
        {
          "output_type": "display_data",
          "data": {
            "image/png": "[encoded data removed]",
            "text/plain": [
              "<Figure size 432x288 with 1 Axes>"
            ]
          },
          "metadata": {
            "tags": [],
            "needs_background": "light"
          }
        },
        {
          "output_type": "stream",
          "text": [
            "WARNING:tensorflow:11 out of the last 11 calls to <function Model.make_predict_function.<locals>.predict_function at 0x7f0df1e7f268> triggered tf.function retracing. Tracing is expensive and the excessive number of tracings could be due to (1) creating @tf.function repeatedly in a loop, (2) passing tensors with different shapes, (3) passing Python objects instead of tensors. For (1), please define your @tf.function outside of the loop. For (2), @tf.function has experimental_relax_shapes=True option that relaxes argument shapes that can avoid unnecessary retracing. For (3), please refer to https://www.tensorflow.org/guide/function#controlling_retracing and https://www.tensorflow.org/api_docs/python/tf/function for  more details.\n"
          ],
          "name": "stdout"
        },
        {
          "output_type": "stream",
          "text": [
            "WARNING:tensorflow:11 out of the last 11 calls to <function Model.make_predict_function.<locals>.predict_function at 0x7f0df1e7f268> triggered tf.function retracing. Tracing is expensive and the excessive number of tracings could be due to (1) creating @tf.function repeatedly in a loop, (2) passing tensors with different shapes, (3) passing Python objects instead of tensors. For (1), please define your @tf.function outside of the loop. For (2), @tf.function has experimental_relax_shapes=True option that relaxes argument shapes that can avoid unnecessary retracing. For (3), please refer to https://www.tensorflow.org/guide/function#controlling_retracing and https://www.tensorflow.org/api_docs/python/tf/function for  more details.\n"
          ],
          "name": "stderr"
        },
        {
          "output_type": "stream",
          "text": [
            "Region of Interest wy\n",
            "RMSE is -  35.4011573731619\n",
            "mae is :  31.510523\n",
            "mean relative error is :  93.11860203742981 for a forecast of  30  days.\n",
            "[35.4011573731619, 31.510523, 93.11860203742981]\n"
          ],
          "name": "stdout"
        }
      ]
    },
    {
      "cell_type": "code",
      "metadata": {
        "colab": {
          "base_uri": "https://localhost:8080/"
        },
        "id": "_dyijqF2Tl1c",
        "outputId": "fb6e37bb-e947-4bbc-e2d5-0b00abec029e"
      },
      "source": [
        "# for region_of_interest in data_time['state_code'].unique():\n",
        "#   data_time['date'] = pd.to_datetime(data_time.date)\n",
        "#   data_ = data_time.drop(['date'], axis=1)\n",
        "#   data_.index = data_time.date\n",
        "#   data_ = data_[(data_.state_code == region_of_interest)]\n",
        "#   # data_ = data_.drop(columns = ['state_code', 'gender', 'age_bucket', 'bucket'])\n",
        "#   data_ = data_.drop(columns = ['state_code'])\n",
        "\n",
        "#   data_ = data_.dropna()\n",
        "\n",
        "\n",
        "#   data_ = data_[['pct_cmnty_cli_weighted','pct_self_anosmia_ageusia_weighted','pct_hh_cli_weighted',\\\n",
        "#     'pct_hh_fever_weighted', 'pct_self_fever_weighted', 'pct_hh_sore_throat_weighted', 'pct_avoid_contact_all_or_most_time_weighted',\\\n",
        "#     'pct_hh_difficulty_breathing_weighted','pct_self_persistent_pain_pressure_in_chest_weighted', 'pct_self_runny_nose_weighted','pct_tested_and_positive_weighted']]\n",
        "# #     'pct_worked_outside_home_weighted',\n",
        "# #     'pct_cli_weighted']]\n",
        "#   values = data_.values\n",
        "#   values = values.astype('float32')\n",
        "#   reframed = series_to_supervised(values, 1, 1)\n",
        "\n",
        "#   n_train_hours = -30 \n",
        "#   train = values[:n_train_hours, :]\n",
        "#   test = values[n_train_hours:, :]\n",
        "\n",
        "#   # split into input and outputs\n",
        "#   train_X, train_y = train[:, :-1], train[:, -1]\n",
        "#   test_X, test_y = test[:, :-1], test[:, -1]\n",
        "\n",
        "#   # reshape input to be 3D [samples, timesteps, features]\n",
        "#   train_X = train_X.reshape((train_X.shape[0], 1, train_X.shape[1]))\n",
        "#   test_X = test_X.reshape((test_X.shape[0], 1, test_X.shape[1]))\n",
        "#   print(train_X.shape, train_y.shape, test_X.shape, test_y.shape)\n",
        "\n",
        "\n",
        "#   print(data_.shape)\n",
        "#   print(values.shape)\n",
        "\n",
        "#   # model = Sequential()\n",
        "#   # model.add(LSTM(5, input_shape=(train_X.shape[1], train_X.shape[2])))\n",
        "#   # model.add(Dense(1))\n",
        "#   # model.compile(loss= root_mean_squared_error, optimizer='adam')\n",
        "\n",
        "#   # history = model.fit(train_X, train_y, epochs=2, batch_size=72, \n",
        "#   #                   validation_data=(test_X, test_y), verbose=2, shuffle=False)\n",
        "# # plot history\n",
        "#   # pyplot.plot(history.history['loss'], label='train')\n",
        "#   # pyplot.plot(history.history['val_loss'], label='test')\n",
        "#   # pyplot.legend()\n",
        "#   # pyplot.show()\n",
        "\n",
        "\n",
        "#   yhat = model.predict(test_X)\n",
        "#   yhat = yhat.reshape(-1)\n",
        "#   if np.isnan(yhat).any():\n",
        "#     continue\n",
        "#   print(\"Region of Interest\", region_of_interest)\n",
        "#   print(\"RMSE is - \", sqrt(mean_squared_error(test_y, yhat)))\n",
        "#   print('mae is : ', mean_absolute_error(test_y, yhat))\n",
        "#   print('mean relative error is : ',relative_error_dl(yhat, test_y), \n",
        "#           \"for a forecast of \", len(yhat), \" days.\")\n",
        "  \n",
        "#   rmse = sqrt(mean_squared_error(test_y, yhat))\n",
        "#   mae = mean_absolute_error(test_y, yhat)\n",
        "#   mre = relative_error_dl(yhat, test_y)\n",
        "#   error = [rmse, mae, mre]\n",
        "#   error_dict[region_of_interest] = error\n",
        "#   print(error)\n"
      ],
      "execution_count": null,
      "outputs": [
        {
          "output_type": "stream",
          "text": [
            "(687, 1, 10) (687,) (30, 1, 10) (30,)\n",
            "(717, 11)\n",
            "(717, 11)\n",
            "Region of Interest ak\n",
            "RMSE is -  0.8229573436936675\n",
            "mae is :  0.6169894\n",
            "mean relative error is :  34.85947251319885 for a forecast of  30  days.\n",
            "[0.8229573436936675, 0.6169894, 34.85947251319885]\n",
            "(1664, 1, 10) (1664,) (30, 1, 10) (30,)\n",
            "(1694, 11)\n",
            "(1694, 11)\n",
            "Region of Interest al\n",
            "RMSE is -  1.3930003848845531\n",
            "mae is :  1.1665858\n",
            "mean relative error is :  36.470964550971985 for a forecast of  30  days.\n",
            "[1.3930003848845531, 1.1665858, 36.470964550971985]\n",
            "(1550, 1, 10) (1550,) (30, 1, 10) (30,)\n",
            "(1580, 11)\n",
            "(1580, 11)\n",
            "Region of Interest ar\n",
            "RMSE is -  0.7537759460740856\n",
            "mae is :  0.53903836\n",
            "mean relative error is :  24.095669388771057 for a forecast of  30  days.\n",
            "[0.7537759460740856, 0.53903836, 24.095669388771057]\n",
            "(1704, 1, 10) (1704,) (30, 1, 10) (30,)\n",
            "(1734, 11)\n",
            "(1734, 11)\n",
            "Region of Interest az\n",
            "RMSE is -  0.8231482763337586\n",
            "mae is :  0.71015817\n",
            "mean relative error is :  32.76030123233795 for a forecast of  30  days.\n",
            "[0.8231482763337586, 0.71015817, 32.76030123233795]\n",
            "(1722, 1, 10) (1722,) (30, 1, 10) (30,)\n",
            "(1752, 11)\n",
            "(1752, 11)\n",
            "Region of Interest ca\n",
            "RMSE is -  0.6498762737407701\n",
            "mae is :  0.6159466\n",
            "mean relative error is :  31.165963411331177 for a forecast of  30  days.\n",
            "[0.6498762737407701, 0.6159466, 31.165963411331177]\n",
            "(1713, 1, 10) (1713,) (30, 1, 10) (30,)\n",
            "(1743, 11)\n",
            "(1743, 11)\n",
            "Region of Interest co\n",
            "RMSE is -  0.4479465382248169\n",
            "mae is :  0.37974226\n",
            "mean relative error is :  22.88483828306198 for a forecast of  30  days.\n",
            "[0.4479465382248169, 0.37974226, 22.88483828306198]\n",
            "(1648, 1, 10) (1648,) (30, 1, 10) (30,)\n",
            "(1678, 11)\n",
            "(1678, 11)\n",
            "Region of Interest ct\n",
            "RMSE is -  0.435403244216259\n",
            "mae is :  0.32728967\n",
            "mean relative error is :  21.00689262151718 for a forecast of  30  days.\n",
            "[0.435403244216259, 0.32728967, 21.00689262151718]\n",
            "(267, 1, 10) (267,) (30, 1, 10) (30,)\n",
            "(297, 11)\n",
            "(297, 11)\n",
            "Region of Interest dc\n",
            "RMSE is -  0.7783609377263252\n",
            "mae is :  0.3993642\n",
            "mean relative error is :  21.153031289577484 for a forecast of  30  days.\n",
            "[0.7783609377263252, 0.3993642, 21.153031289577484]\n",
            "(1017, 1, 10) (1017,) (30, 1, 10) (30,)\n",
            "(1047, 11)\n",
            "(1047, 11)\n",
            "Region of Interest de\n",
            "RMSE is -  1.1498043723192621\n",
            "mae is :  0.57630867\n",
            "mean relative error is :  24.633902311325073 for a forecast of  30  days.\n",
            "[1.1498043723192621, 0.57630867, 24.633902311325073]\n",
            "(1721, 1, 10) (1721,) (30, 1, 10) (30,)\n",
            "(1751, 11)\n",
            "(1751, 11)\n",
            "Region of Interest fl\n",
            "RMSE is -  0.9398322024630892\n",
            "mae is :  0.84801203\n",
            "mean relative error is :  35.17104089260101 for a forecast of  30  days.\n",
            "[0.9398322024630892, 0.84801203, 35.17104089260101]\n",
            "(1717, 1, 10) (1717,) (30, 1, 10) (30,)\n",
            "(1747, 11)\n",
            "(1747, 11)\n",
            "Region of Interest ga\n",
            "RMSE is -  1.1677794031889452\n",
            "mae is :  1.0973448\n",
            "mean relative error is :  38.15407156944275 for a forecast of  30  days.\n",
            "[1.1677794031889452, 1.0973448, 38.15407156944275]\n",
            "(933, 1, 10) (933,) (30, 1, 10) (30,)\n",
            "(963, 11)\n",
            "(963, 11)\n",
            "Region of Interest hi\n",
            "RMSE is -  0.7962943186620391\n",
            "mae is :  0.51156664\n",
            "mean relative error is :  25.85855722427368 for a forecast of  30  days.\n",
            "[0.7962943186620391, 0.51156664, 25.85855722427368]\n",
            "(1683, 1, 10) (1683,) (30, 1, 10) (30,)\n",
            "(1713, 11)\n",
            "(1713, 11)\n",
            "Region of Interest ia\n",
            "RMSE is -  0.662132667874469\n",
            "mae is :  0.5529167\n",
            "mean relative error is :  23.1259748339653 for a forecast of  30  days.\n",
            "[0.662132667874469, 0.5529167, 23.1259748339653]\n",
            "(1419, 1, 10) (1419,) (30, 1, 10) (30,)\n",
            "(1449, 11)\n",
            "(1449, 11)\n",
            "Region of Interest id\n",
            "RMSE is -  0.9554103593303397\n",
            "mae is :  0.7197823\n",
            "mean relative error is :  26.687845587730408 for a forecast of  30  days.\n",
            "[0.9554103593303397, 0.7197823, 26.687845587730408]\n",
            "(1722, 1, 10) (1722,) (30, 1, 10) (30,)\n",
            "(1752, 11)\n",
            "(1752, 11)\n",
            "Region of Interest il\n",
            "RMSE is -  0.7569448478845422\n",
            "mae is :  0.704207\n",
            "mean relative error is :  34.636715054512024 for a forecast of  30  days.\n",
            "[0.7569448478845422, 0.704207, 34.636715054512024]\n",
            "(1717, 1, 10) (1717,) (30, 1, 10) (30,)\n",
            "(1747, 11)\n",
            "(1747, 11)\n",
            "Region of Interest in\n",
            "RMSE is -  0.4064543100265798\n",
            "mae is :  0.32498616\n",
            "mean relative error is :  17.703035473823547 for a forecast of  30  days.\n",
            "[0.4064543100265798, 0.32498616, 17.703035473823547]\n",
            "(1618, 1, 10) (1618,) (30, 1, 10) (30,)\n",
            "(1648, 11)\n",
            "(1648, 11)\n",
            "Region of Interest ks\n",
            "RMSE is -  0.7851637654870021\n",
            "mae is :  0.6029646\n",
            "mean relative error is :  26.076313853263855 for a forecast of  30  days.\n",
            "[0.7851637654870021, 0.6029646, 26.076313853263855]\n",
            "(1678, 1, 10) (1678,) (30, 1, 10) (30,)\n",
            "(1708, 11)\n",
            "(1708, 11)\n",
            "Region of Interest ky\n",
            "RMSE is -  0.6286085146678383\n",
            "mae is :  0.48866406\n",
            "mean relative error is :  25.349172949790955 for a forecast of  30  days.\n",
            "[0.6286085146678383, 0.48866406, 25.349172949790955]\n",
            "(1660, 1, 10) (1660,) (30, 1, 10) (30,)\n",
            "(1690, 11)\n",
            "(1690, 11)\n",
            "Region of Interest la\n",
            "RMSE is -  1.5360739103108358\n",
            "mae is :  1.3473858\n",
            "mean relative error is :  42.862269282341 for a forecast of  30  days.\n",
            "[1.5360739103108358, 1.3473858, 42.862269282341]\n",
            "(1711, 1, 10) (1711,) (30, 1, 10) (30,)\n",
            "(1741, 11)\n",
            "(1741, 11)\n",
            "Region of Interest ma\n",
            "RMSE is -  0.2884610982274095\n",
            "mae is :  0.22744544\n",
            "mean relative error is :  15.997293591499329 for a forecast of  30  days.\n",
            "[0.2884610982274095, 0.22744544, 15.997293591499329]\n",
            "(1680, 1, 10) (1680,) (30, 1, 10) (30,)\n",
            "(1710, 11)\n",
            "(1710, 11)\n",
            "Region of Interest md\n",
            "RMSE is -  0.5370596290439726\n",
            "mae is :  0.4664135\n",
            "mean relative error is :  26.348158717155457 for a forecast of  30  days.\n",
            "[0.5370596290439726, 0.4664135, 26.348158717155457]\n",
            "(1380, 1, 10) (1380,) (30, 1, 10) (30,)\n",
            "(1410, 11)\n",
            "(1410, 11)\n",
            "Region of Interest me\n",
            "RMSE is -  0.3488055637321357\n",
            "mae is :  0.21973993\n",
            "mean relative error is :  15.513743460178375 for a forecast of  30  days.\n",
            "[0.3488055637321357, 0.21973993, 15.513743460178375]\n",
            "(1726, 1, 10) (1726,) (30, 1, 10) (30,)\n",
            "(1756, 11)\n",
            "(1756, 11)\n",
            "Region of Interest mi\n",
            "RMSE is -  0.38037027106728666\n",
            "mae is :  0.33934703\n",
            "mean relative error is :  21.716544032096863 for a forecast of  30  days.\n",
            "[0.38037027106728666, 0.33934703, 21.716544032096863]\n",
            "(1705, 1, 10) (1705,) (30, 1, 10) (30,)\n",
            "(1735, 11)\n",
            "(1735, 11)\n",
            "Region of Interest mn\n",
            "RMSE is -  0.553359389347527\n",
            "mae is :  0.43798465\n",
            "mean relative error is :  24.307823181152344 for a forecast of  30  days.\n",
            "[0.553359389347527, 0.43798465, 24.307823181152344]\n",
            "(1706, 1, 10) (1706,) (30, 1, 10) (30,)\n",
            "(1736, 11)\n",
            "(1736, 11)\n",
            "Region of Interest mo\n",
            "RMSE is -  0.7419833655459243\n",
            "mae is :  0.6241614\n",
            "mean relative error is :  25.817981362342834 for a forecast of  30  days.\n",
            "[0.7419833655459243, 0.6241614, 25.817981362342834]\n",
            "(1514, 1, 10) (1514,) (30, 1, 10) (30,)\n",
            "(1544, 11)\n",
            "(1544, 11)\n",
            "Region of Interest ms\n",
            "RMSE is -  1.6808271223693287\n",
            "mae is :  1.45173\n",
            "mean relative error is :  43.11591386795044 for a forecast of  30  days.\n",
            "[1.6808271223693287, 1.45173, 43.11591386795044]\n",
            "(1169, 1, 10) (1169,) (30, 1, 10) (30,)\n",
            "(1199, 11)\n",
            "(1199, 11)\n",
            "Region of Interest mt\n",
            "RMSE is -  0.7811428378042174\n",
            "mae is :  0.5694769\n",
            "mean relative error is :  28.26366126537323 for a forecast of  30  days.\n",
            "[0.7811428378042174, 0.5694769, 28.26366126537323]\n",
            "(1721, 1, 10) (1721,) (30, 1, 10) (30,)\n",
            "(1751, 11)\n",
            "(1751, 11)\n",
            "Region of Interest nc\n",
            "RMSE is -  0.5065364651164119\n",
            "mae is :  0.4437472\n",
            "mean relative error is :  23.755519092082977 for a forecast of  30  days.\n",
            "[0.5065364651164119, 0.4437472, 23.755519092082977]\n",
            "(689, 1, 10) (689,) (30, 1, 10) (30,)\n",
            "(719, 11)\n",
            "(719, 11)\n",
            "Region of Interest nd\n",
            "RMSE is -  0.8572030450772177\n",
            "mae is :  0.58907664\n",
            "mean relative error is :  33.854278922080994 for a forecast of  30  days.\n",
            "[0.8572030450772177, 0.58907664, 33.854278922080994]\n",
            "(1468, 1, 10) (1468,) (30, 1, 10) (30,)\n",
            "(1498, 11)\n",
            "(1498, 11)\n",
            "Region of Interest ne\n",
            "RMSE is -  0.704291224232208\n",
            "mae is :  0.50899017\n",
            "mean relative error is :  23.58381897211075 for a forecast of  30  days.\n",
            "[0.704291224232208, 0.50899017, 23.58381897211075]\n",
            "(1366, 1, 10) (1366,) (30, 1, 10) (30,)\n",
            "(1396, 11)\n",
            "(1396, 11)\n",
            "Region of Interest nh\n",
            "RMSE is -  0.42604008078182815\n",
            "mae is :  0.27490485\n",
            "mean relative error is :  19.21565532684326 for a forecast of  30  days.\n",
            "[0.42604008078182815, 0.27490485, 19.21565532684326]\n",
            "(1716, 1, 10) (1716,) (30, 1, 10) (30,)\n",
            "(1746, 11)\n",
            "(1746, 11)\n",
            "Region of Interest nj\n",
            "RMSE is -  0.4775160177400289\n",
            "mae is :  0.39044482\n",
            "mean relative error is :  23.689064383506775 for a forecast of  30  days.\n",
            "[0.4775160177400289, 0.39044482, 23.689064383506775]\n",
            "(1338, 1, 10) (1338,) (30, 1, 10) (30,)\n",
            "(1368, 11)\n",
            "(1368, 11)\n",
            "Region of Interest nm\n",
            "RMSE is -  0.6003080143679027\n",
            "mae is :  0.4039857\n",
            "mean relative error is :  23.38753342628479 for a forecast of  30  days.\n",
            "[0.6003080143679027, 0.4039857, 23.38753342628479]\n",
            "(1479, 1, 10) (1479,) (30, 1, 10) (30,)\n",
            "(1509, 11)\n",
            "(1509, 11)\n",
            "Region of Interest nv\n",
            "RMSE is -  0.773616924089028\n",
            "mae is :  0.62195534\n",
            "mean relative error is :  28.192833065986633 for a forecast of  30  days.\n",
            "[0.773616924089028, 0.62195534, 28.192833065986633]\n",
            "(1722, 1, 10) (1722,) (30, 1, 10) (30,)\n",
            "(1752, 11)\n",
            "(1752, 11)\n",
            "Region of Interest ny\n",
            "RMSE is -  0.4007674700057867\n",
            "mae is :  0.3529035\n",
            "mean relative error is :  22.97763228416443 for a forecast of  30  days.\n",
            "[0.4007674700057867, 0.3529035, 22.97763228416443]\n",
            "(1722, 1, 10) (1722,) (30, 1, 10) (30,)\n",
            "(1752, 11)\n",
            "(1752, 11)\n",
            "Region of Interest oh\n",
            "RMSE is -  0.4551927806836542\n",
            "mae is :  0.40159062\n",
            "mean relative error is :  23.92931580543518 for a forecast of  30  days.\n",
            "[0.4551927806836542, 0.40159062, 23.92931580543518]\n",
            "(1674, 1, 10) (1674,) (30, 1, 10) (30,)\n",
            "(1704, 11)\n",
            "(1704, 11)\n",
            "Region of Interest ok\n",
            "RMSE is -  0.7823301858642266\n",
            "mae is :  0.65752524\n",
            "mean relative error is :  28.496816754341125 for a forecast of  30  days.\n",
            "[0.7823301858642266, 0.65752524, 28.496816754341125]\n",
            "(1664, 1, 10) (1664,) (30, 1, 10) (30,)\n",
            "(1694, 11)\n",
            "(1694, 11)\n",
            "Region of Interest or\n",
            "RMSE is -  0.3124262603543563\n",
            "mae is :  0.26920572\n",
            "mean relative error is :  18.46955418586731 for a forecast of  30  days.\n",
            "[0.3124262603543563, 0.26920572, 18.46955418586731]\n",
            "(1722, 1, 10) (1722,) (30, 1, 10) (30,)\n",
            "(1752, 11)\n",
            "(1752, 11)\n",
            "Region of Interest pa\n",
            "RMSE is -  0.2980397364810188\n",
            "mae is :  0.253033\n",
            "mean relative error is :  17.095178365707397 for a forecast of  30  days.\n",
            "[0.2980397364810188, 0.253033, 17.095178365707397]\n",
            "(1009, 1, 10) (1009,) (30, 1, 10) (30,)\n",
            "(1039, 11)\n",
            "(1039, 11)\n",
            "Region of Interest ri\n",
            "RMSE is -  0.5212938339226562\n",
            "mae is :  0.32722238\n",
            "mean relative error is :  21.62441313266754 for a forecast of  30  days.\n",
            "[0.5212938339226562, 0.32722238, 21.62441313266754]\n",
            "(1692, 1, 10) (1692,) (30, 1, 10) (30,)\n",
            "(1722, 11)\n",
            "(1722, 11)\n",
            "Region of Interest sc\n",
            "RMSE is -  0.8935687955149075\n",
            "mae is :  0.77929425\n",
            "mean relative error is :  33.13882052898407 for a forecast of  30  days.\n",
            "[0.8935687955149075, 0.77929425, 33.13882052898407]\n",
            "(884, 1, 10) (884,) (30, 1, 10) (30,)\n",
            "(914, 11)\n",
            "(914, 11)\n",
            "Region of Interest sd\n",
            "RMSE is -  1.3094386319742812\n",
            "mae is :  0.88029504\n",
            "mean relative error is :  34.1935008764267 for a forecast of  30  days.\n",
            "[1.3094386319742812, 0.88029504, 34.1935008764267]\n",
            "(1710, 1, 10) (1710,) (30, 1, 10) (30,)\n",
            "(1740, 11)\n",
            "(1740, 11)\n",
            "Region of Interest tn\n",
            "RMSE is -  0.8167551198728236\n",
            "mae is :  0.7161687\n",
            "mean relative error is :  28.85168194770813 for a forecast of  30  days.\n",
            "[0.8167551198728236, 0.7161687, 28.85168194770813]\n",
            "(1722, 1, 10) (1722,) (30, 1, 10) (30,)\n",
            "(1752, 11)\n",
            "(1752, 11)\n",
            "Region of Interest tx\n",
            "RMSE is -  1.0849962615023427\n",
            "mae is :  1.0452315\n",
            "mean relative error is :  41.946837306022644 for a forecast of  30  days.\n",
            "[1.0849962615023427, 1.0452315, 41.946837306022644]\n",
            "(1655, 1, 10) (1655,) (30, 1, 10) (30,)\n",
            "(1685, 11)\n",
            "(1685, 11)\n",
            "Region of Interest ut\n",
            "RMSE is -  0.8001188562434731\n",
            "mae is :  0.6424835\n",
            "mean relative error is :  27.675968408584595 for a forecast of  30  days.\n",
            "[0.8001188562434731, 0.6424835, 27.675968408584595]\n",
            "(1724, 1, 10) (1724,) (30, 1, 10) (30,)\n",
            "(1754, 11)\n",
            "(1754, 11)\n",
            "Region of Interest va\n",
            "RMSE is -  0.46421328833829684\n",
            "mae is :  0.39974862\n",
            "mean relative error is :  23.05350750684738 for a forecast of  30  days.\n",
            "[0.46421328833829684, 0.39974862, 23.05350750684738]\n",
            "(732, 1, 10) (732,) (30, 1, 10) (30,)\n",
            "(762, 11)\n",
            "(762, 11)\n",
            "Region of Interest vt\n",
            "RMSE is -  0.42281993368850107\n",
            "mae is :  0.23740287\n",
            "mean relative error is :  16.526712477207184 for a forecast of  30  days.\n",
            "[0.42281993368850107, 0.23740287, 16.526712477207184]\n",
            "(1717, 1, 10) (1717,) (30, 1, 10) (30,)\n",
            "(1747, 11)\n",
            "(1747, 11)\n",
            "Region of Interest wa\n",
            "RMSE is -  0.4572594390873058\n",
            "mae is :  0.36817738\n",
            "mean relative error is :  21.45766168832779 for a forecast of  30  days.\n",
            "[0.4572594390873058, 0.36817738, 21.45766168832779]\n",
            "(1717, 1, 10) (1717,) (30, 1, 10) (30,)\n",
            "(1747, 11)\n",
            "(1747, 11)\n",
            "Region of Interest wi\n",
            "RMSE is -  0.5803397516642118\n",
            "mae is :  0.47677857\n",
            "mean relative error is :  25.090274214744568 for a forecast of  30  days.\n",
            "[0.5803397516642118, 0.47677857, 25.090274214744568]\n",
            "(1467, 1, 10) (1467,) (30, 1, 10) (30,)\n",
            "(1497, 11)\n",
            "(1497, 11)\n",
            "Region of Interest wv\n",
            "RMSE is -  0.570826494797817\n",
            "mae is :  0.36441958\n",
            "mean relative error is :  20.975854992866516 for a forecast of  30  days.\n",
            "[0.570826494797817, 0.36441958, 20.975854992866516]\n",
            "(523, 1, 10) (523,) (30, 1, 10) (30,)\n",
            "(553, 11)\n",
            "(553, 11)\n",
            "Region of Interest wy\n",
            "RMSE is -  0.45735232168909307\n",
            "mae is :  0.40557316\n",
            "mean relative error is :  39.37569260597229 for a forecast of  30  days.\n",
            "[0.45735232168909307, 0.40557316, 39.37569260597229]\n"
          ],
          "name": "stdout"
        }
      ]
    },
    {
      "cell_type": "code",
      "metadata": {
        "id": "VzzaD4Tmx1-M"
      },
      "source": [
        ""
      ],
      "execution_count": null,
      "outputs": []
    },
    {
      "cell_type": "code",
      "metadata": {
        "colab": {
          "base_uri": "https://localhost:8080/",
          "height": 1000
        },
        "id": "4qFAIe838NKT",
        "outputId": "651fd4ae-d056-470f-8a89-e7da979b6b3a"
      },
      "source": [
        "Error_captured = pd.DataFrame.from_dict(error_dict).transpose()\n",
        "# Error_captured"
      ],
      "execution_count": null,
      "outputs": [
        {
          "output_type": "execute_result",
          "data": {
            "text/html": [
              "<div>\n",
              "<style scoped>\n",
              "    .dataframe tbody tr th:only-of-type {\n",
              "        vertical-align: middle;\n",
              "    }\n",
              "\n",
              "    .dataframe tbody tr th {\n",
              "        vertical-align: top;\n",
              "    }\n",
              "\n",
              "    .dataframe thead th {\n",
              "        text-align: right;\n",
              "    }\n",
              "</style>\n",
              "<table border=\"1\" class=\"dataframe\">\n",
              "  <thead>\n",
              "    <tr style=\"text-align: right;\">\n",
              "      <th></th>\n",
              "      <th>0</th>\n",
              "      <th>1</th>\n",
              "      <th>2</th>\n",
              "    </tr>\n",
              "  </thead>\n",
              "  <tbody>\n",
              "    <tr>\n",
              "      <th>ak</th>\n",
              "      <td>68.765950</td>\n",
              "      <td>60.170765</td>\n",
              "      <td>69.016069</td>\n",
              "    </tr>\n",
              "    <tr>\n",
              "      <th>al</th>\n",
              "      <td>646.393045</td>\n",
              "      <td>641.558777</td>\n",
              "      <td>98.522669</td>\n",
              "    </tr>\n",
              "    <tr>\n",
              "      <th>ar</th>\n",
              "      <td>515.427887</td>\n",
              "      <td>496.761017</td>\n",
              "      <td>97.969568</td>\n",
              "    </tr>\n",
              "    <tr>\n",
              "      <th>az</th>\n",
              "      <td>176.240181</td>\n",
              "      <td>160.334869</td>\n",
              "      <td>92.743796</td>\n",
              "    </tr>\n",
              "    <tr>\n",
              "      <th>ca</th>\n",
              "      <td>3008.006316</td>\n",
              "      <td>2975.388184</td>\n",
              "      <td>99.670333</td>\n",
              "    </tr>\n",
              "    <tr>\n",
              "      <th>co</th>\n",
              "      <td>286.556713</td>\n",
              "      <td>251.778091</td>\n",
              "      <td>172.891009</td>\n",
              "    </tr>\n",
              "    <tr>\n",
              "      <th>dc</th>\n",
              "      <td>107.012124</td>\n",
              "      <td>92.264908</td>\n",
              "      <td>86.805516</td>\n",
              "    </tr>\n",
              "    <tr>\n",
              "      <th>de</th>\n",
              "      <td>77.717880</td>\n",
              "      <td>58.756294</td>\n",
              "      <td>-29.147321</td>\n",
              "    </tr>\n",
              "    <tr>\n",
              "      <th>fl</th>\n",
              "      <td>1990.321582</td>\n",
              "      <td>1968.566162</td>\n",
              "      <td>99.504071</td>\n",
              "    </tr>\n",
              "    <tr>\n",
              "      <th>ga</th>\n",
              "      <td>1172.878990</td>\n",
              "      <td>1080.570923</td>\n",
              "      <td>98.880535</td>\n",
              "    </tr>\n",
              "    <tr>\n",
              "      <th>hi</th>\n",
              "      <td>202.938809</td>\n",
              "      <td>193.485580</td>\n",
              "      <td>94.732672</td>\n",
              "    </tr>\n",
              "    <tr>\n",
              "      <th>ia</th>\n",
              "      <td>434.529793</td>\n",
              "      <td>426.410767</td>\n",
              "      <td>97.720128</td>\n",
              "    </tr>\n",
              "    <tr>\n",
              "      <th>id</th>\n",
              "      <td>200.927080</td>\n",
              "      <td>176.522049</td>\n",
              "      <td>91.390252</td>\n",
              "    </tr>\n",
              "    <tr>\n",
              "      <th>il</th>\n",
              "      <td>1449.327603</td>\n",
              "      <td>1445.368774</td>\n",
              "      <td>99.334490</td>\n",
              "    </tr>\n",
              "    <tr>\n",
              "      <th>in</th>\n",
              "      <td>576.723829</td>\n",
              "      <td>551.975159</td>\n",
              "      <td>98.136497</td>\n",
              "    </tr>\n",
              "    <tr>\n",
              "      <th>ks</th>\n",
              "      <td>827.541275</td>\n",
              "      <td>706.084167</td>\n",
              "      <td>97.448903</td>\n",
              "    </tr>\n",
              "    <tr>\n",
              "      <th>ky</th>\n",
              "      <td>304.689353</td>\n",
              "      <td>291.503265</td>\n",
              "      <td>96.369499</td>\n",
              "    </tr>\n",
              "    <tr>\n",
              "      <th>la</th>\n",
              "      <td>753.699418</td>\n",
              "      <td>570.554382</td>\n",
              "      <td>97.310555</td>\n",
              "    </tr>\n",
              "    <tr>\n",
              "      <th>ma</th>\n",
              "      <td>235.600579</td>\n",
              "      <td>224.554214</td>\n",
              "      <td>95.552355</td>\n",
              "    </tr>\n",
              "    <tr>\n",
              "      <th>md</th>\n",
              "      <td>582.130838</td>\n",
              "      <td>543.732056</td>\n",
              "      <td>98.014754</td>\n",
              "    </tr>\n",
              "    <tr>\n",
              "      <th>me</th>\n",
              "      <td>16.686563</td>\n",
              "      <td>12.728979</td>\n",
              "      <td>48.322764</td>\n",
              "    </tr>\n",
              "    <tr>\n",
              "      <th>mi</th>\n",
              "      <td>815.557248</td>\n",
              "      <td>761.344421</td>\n",
              "      <td>97.404438</td>\n",
              "    </tr>\n",
              "    <tr>\n",
              "      <th>mn</th>\n",
              "      <td>571.568866</td>\n",
              "      <td>554.277405</td>\n",
              "      <td>98.167485</td>\n",
              "    </tr>\n",
              "    <tr>\n",
              "      <th>mo</th>\n",
              "      <td>1107.027665</td>\n",
              "      <td>1093.043823</td>\n",
              "      <td>99.102318</td>\n",
              "    </tr>\n",
              "    <tr>\n",
              "      <th>ms</th>\n",
              "      <td>317.593576</td>\n",
              "      <td>307.265137</td>\n",
              "      <td>96.764910</td>\n",
              "    </tr>\n",
              "    <tr>\n",
              "      <th>mt</th>\n",
              "      <td>85.521710</td>\n",
              "      <td>72.352341</td>\n",
              "      <td>82.171267</td>\n",
              "    </tr>\n",
              "    <tr>\n",
              "      <th>nc</th>\n",
              "      <td>1000.147270</td>\n",
              "      <td>998.364563</td>\n",
              "      <td>99.040705</td>\n",
              "    </tr>\n",
              "    <tr>\n",
              "      <th>nd</th>\n",
              "      <td>218.232540</td>\n",
              "      <td>196.264114</td>\n",
              "      <td>93.852359</td>\n",
              "    </tr>\n",
              "    <tr>\n",
              "      <th>ne</th>\n",
              "      <td>368.106876</td>\n",
              "      <td>283.989166</td>\n",
              "      <td>93.193650</td>\n",
              "    </tr>\n",
              "    <tr>\n",
              "      <th>nh</th>\n",
              "      <td>34.782059</td>\n",
              "      <td>24.926493</td>\n",
              "      <td>64.657110</td>\n",
              "    </tr>\n",
              "    <tr>\n",
              "      <th>nj</th>\n",
              "      <td>298.191646</td>\n",
              "      <td>297.164032</td>\n",
              "      <td>96.838343</td>\n",
              "    </tr>\n",
              "    <tr>\n",
              "      <th>nm</th>\n",
              "      <td>72.079617</td>\n",
              "      <td>58.504139</td>\n",
              "      <td>81.562489</td>\n",
              "    </tr>\n",
              "    <tr>\n",
              "      <th>nv</th>\n",
              "      <td>345.094609</td>\n",
              "      <td>305.740631</td>\n",
              "      <td>95.502257</td>\n",
              "    </tr>\n",
              "    <tr>\n",
              "      <th>ny</th>\n",
              "      <td>575.081978</td>\n",
              "      <td>569.964417</td>\n",
              "      <td>98.312545</td>\n",
              "    </tr>\n",
              "    <tr>\n",
              "      <th>oh</th>\n",
              "      <td>721.981626</td>\n",
              "      <td>719.569031</td>\n",
              "      <td>98.670304</td>\n",
              "    </tr>\n",
              "    <tr>\n",
              "      <th>ok</th>\n",
              "      <td>654.406673</td>\n",
              "      <td>633.574890</td>\n",
              "      <td>98.391896</td>\n",
              "    </tr>\n",
              "    <tr>\n",
              "      <th>or</th>\n",
              "      <td>156.160950</td>\n",
              "      <td>155.285889</td>\n",
              "      <td>94.169438</td>\n",
              "    </tr>\n",
              "    <tr>\n",
              "      <th>pa</th>\n",
              "      <td>635.304725</td>\n",
              "      <td>627.191284</td>\n",
              "      <td>98.454010</td>\n",
              "    </tr>\n",
              "    <tr>\n",
              "      <th>ri</th>\n",
              "      <td>124.972837</td>\n",
              "      <td>72.802048</td>\n",
              "      <td>476.664829</td>\n",
              "    </tr>\n",
              "    <tr>\n",
              "      <th>sc</th>\n",
              "      <td>546.550289</td>\n",
              "      <td>518.701599</td>\n",
              "      <td>97.905827</td>\n",
              "    </tr>\n",
              "    <tr>\n",
              "      <th>sd</th>\n",
              "      <td>223.994158</td>\n",
              "      <td>212.594681</td>\n",
              "      <td>95.111191</td>\n",
              "    </tr>\n",
              "    <tr>\n",
              "      <th>tn</th>\n",
              "      <td>1040.171681</td>\n",
              "      <td>966.982422</td>\n",
              "      <td>98.887521</td>\n",
              "    </tr>\n",
              "    <tr>\n",
              "      <th>tx</th>\n",
              "      <td>2872.817084</td>\n",
              "      <td>2445.367676</td>\n",
              "      <td>99.374658</td>\n",
              "    </tr>\n",
              "    <tr>\n",
              "      <th>ut</th>\n",
              "      <td>335.650709</td>\n",
              "      <td>327.107300</td>\n",
              "      <td>96.948332</td>\n",
              "    </tr>\n",
              "    <tr>\n",
              "      <th>va</th>\n",
              "      <td>833.514172</td>\n",
              "      <td>812.942749</td>\n",
              "      <td>98.826230</td>\n",
              "    </tr>\n",
              "    <tr>\n",
              "      <th>vt</th>\n",
              "      <td>5.670508</td>\n",
              "      <td>5.198823</td>\n",
              "      <td>193.417740</td>\n",
              "    </tr>\n",
              "    <tr>\n",
              "      <th>wa</th>\n",
              "      <td>412.340765</td>\n",
              "      <td>356.853729</td>\n",
              "      <td>95.628268</td>\n",
              "    </tr>\n",
              "    <tr>\n",
              "      <th>wi</th>\n",
              "      <td>708.948936</td>\n",
              "      <td>698.789612</td>\n",
              "      <td>98.603839</td>\n",
              "    </tr>\n",
              "    <tr>\n",
              "      <th>wv</th>\n",
              "      <td>146.668758</td>\n",
              "      <td>135.450851</td>\n",
              "      <td>92.426360</td>\n",
              "    </tr>\n",
              "    <tr>\n",
              "      <th>wy</th>\n",
              "      <td>28.308362</td>\n",
              "      <td>24.242725</td>\n",
              "      <td>121.324146</td>\n",
              "    </tr>\n",
              "  </tbody>\n",
              "</table>\n",
              "</div>"
            ],
            "text/plain": [
              "              0            1           2\n",
              "ak    68.765950    60.170765   69.016069\n",
              "al   646.393045   641.558777   98.522669\n",
              "ar   515.427887   496.761017   97.969568\n",
              "az   176.240181   160.334869   92.743796\n",
              "ca  3008.006316  2975.388184   99.670333\n",
              "co   286.556713   251.778091  172.891009\n",
              "dc   107.012124    92.264908   86.805516\n",
              "de    77.717880    58.756294  -29.147321\n",
              "fl  1990.321582  1968.566162   99.504071\n",
              "ga  1172.878990  1080.570923   98.880535\n",
              "hi   202.938809   193.485580   94.732672\n",
              "ia   434.529793   426.410767   97.720128\n",
              "id   200.927080   176.522049   91.390252\n",
              "il  1449.327603  1445.368774   99.334490\n",
              "in   576.723829   551.975159   98.136497\n",
              "ks   827.541275   706.084167   97.448903\n",
              "ky   304.689353   291.503265   96.369499\n",
              "la   753.699418   570.554382   97.310555\n",
              "ma   235.600579   224.554214   95.552355\n",
              "md   582.130838   543.732056   98.014754\n",
              "me    16.686563    12.728979   48.322764\n",
              "mi   815.557248   761.344421   97.404438\n",
              "mn   571.568866   554.277405   98.167485\n",
              "mo  1107.027665  1093.043823   99.102318\n",
              "ms   317.593576   307.265137   96.764910\n",
              "mt    85.521710    72.352341   82.171267\n",
              "nc  1000.147270   998.364563   99.040705\n",
              "nd   218.232540   196.264114   93.852359\n",
              "ne   368.106876   283.989166   93.193650\n",
              "nh    34.782059    24.926493   64.657110\n",
              "nj   298.191646   297.164032   96.838343\n",
              "nm    72.079617    58.504139   81.562489\n",
              "nv   345.094609   305.740631   95.502257\n",
              "ny   575.081978   569.964417   98.312545\n",
              "oh   721.981626   719.569031   98.670304\n",
              "ok   654.406673   633.574890   98.391896\n",
              "or   156.160950   155.285889   94.169438\n",
              "pa   635.304725   627.191284   98.454010\n",
              "ri   124.972837    72.802048  476.664829\n",
              "sc   546.550289   518.701599   97.905827\n",
              "sd   223.994158   212.594681   95.111191\n",
              "tn  1040.171681   966.982422   98.887521\n",
              "tx  2872.817084  2445.367676   99.374658\n",
              "ut   335.650709   327.107300   96.948332\n",
              "va   833.514172   812.942749   98.826230\n",
              "vt     5.670508     5.198823  193.417740\n",
              "wa   412.340765   356.853729   95.628268\n",
              "wi   708.948936   698.789612   98.603839\n",
              "wv   146.668758   135.450851   92.426360\n",
              "wy    28.308362    24.242725  121.324146"
            ]
          },
          "metadata": {
            "tags": []
          },
          "execution_count": 18
        }
      ]
    },
    {
      "cell_type": "code",
      "metadata": {
        "id": "SUqbWwZ5FotE"
      },
      "source": [
        "Error_captured = pd.DataFrame.from_dict(error_dict).transpose()\n",
        "# Error_captured\n",
        "\n",
        "data_count_per_state = pd.DataFrame(data_time['state_code'].value_counts()).reset_index()\n",
        "data_count_per_state.columns = ['state_code','count']\n",
        "\n",
        "Error_captured = Error_captured.reset_index()\n",
        "Error_captured.columns = ['state_code', 'rmse', 'mae', 'mre']\n",
        "\n",
        "pd.merge(Error_captured, data_count_per_state, on = 'state_code').sort_values(by = 'count', \n",
        "                                                                              ascending = False).to_csv('./errors_state_wise_local_model_actual_cases.csv', \n",
        "                                                                                                        index=False)"
      ],
      "execution_count": null,
      "outputs": []
    },
    {
      "cell_type": "code",
      "metadata": {
        "id": "KiVeRCXAIui6"
      },
      "source": [
        "pd.merge(Error_captured, data_count_per_state, \n",
        "         on = 'state_code').sort_values(by = 'count', ascending = False).to_csv('/content/drive/MyDrive/CMU/errors_state_wise_meta_model.csv', \n",
        "                                                                                index=False)"
      ],
      "execution_count": null,
      "outputs": []
    },
    {
      "cell_type": "code",
      "metadata": {
        "id": "Gh6eP6GjI-HT"
      },
      "source": [
        ""
      ],
      "execution_count": null,
      "outputs": []
    },
    {
      "cell_type": "code",
      "metadata": {
        "id": "SYJSHK8LOXKi"
      },
      "source": [
        ""
      ],
      "execution_count": null,
      "outputs": []
    },
    {
      "cell_type": "markdown",
      "metadata": {
        "id": "k4s7J6HuOXjn"
      },
      "source": [
        "### Run only till here!"
      ]
    },
    {
      "cell_type": "code",
      "metadata": {
        "colab": {
          "base_uri": "https://localhost:8080/"
        },
        "id": "zyGp-piM62q5",
        "outputId": "5b6c0c52-224c-4cc8-8ba1-3f7d1bc4a443"
      },
      "source": [
        "# model.predict(test_X)\n",
        "# train_y"
      ],
      "execution_count": null,
      "outputs": [
        {
          "output_type": "execute_result",
          "data": {
            "text/plain": [
              "array([ 4.0267, 13.4495, 32.6639, ..., 17.8822, 16.5618, 16.5877],\n",
              "      dtype=float32)"
            ]
          },
          "metadata": {
            "tags": []
          },
          "execution_count": 14
        }
      ]
    },
    {
      "cell_type": "code",
      "metadata": {
        "id": "32ZW9W5L9azO"
      },
      "source": [
        ""
      ],
      "execution_count": null,
      "outputs": []
    },
    {
      "cell_type": "code",
      "metadata": {
        "id": "wzJJLT2qRcFz"
      },
      "source": [
        "\n",
        "# data_ = data_[(data_.bucket == bucket_of_interest)]\n",
        "# data_ = data_.drop(columns = ['state_code','bucket', 'age_bucket', 'gender'])\n",
        "\n",
        "\n"
      ],
      "execution_count": null,
      "outputs": []
    },
    {
      "cell_type": "markdown",
      "metadata": {
        "id": "wGz2__rLZCzt"
      },
      "source": [
        "## Global Model"
      ]
    },
    {
      "cell_type": "code",
      "metadata": {
        "id": "pRLb0x4NZwj4",
        "colab": {
          "base_uri": "https://localhost:8080/",
          "height": 450
        },
        "outputId": "c5669b22-d7d0-4366-f978-83c734ff86e0"
      },
      "source": [
        "  # region_of_interest = 'ca'\n",
        "  data_time['date'] = pd.to_datetime(data_time.date)\n",
        "  data_ = data_time.drop(['date'], axis=1)\n",
        "  data_.index = data_time.date\n",
        "  # data_ = data_[(data_.state_code == region_of_interest)]\n",
        "  data_ = data_.drop(columns = ['state_code', 'age_bucket', 'gender','bucket'])\n",
        "  data_ = data_.dropna()\n",
        "\n",
        "  data_ = data_[['pct_cmnty_cli_weighted','pct_self_anosmia_ageusia_weighted','pct_hh_cli_weighted',\\\n",
        "    'pct_hh_fever_weighted', 'pct_self_fever_weighted', 'pct_hh_sore_throat_weighted', 'pct_avoid_contact_all_or_most_time_weighted',\\\n",
        "    'pct_hh_difficulty_breathing_weighted','pct_self_persistent_pain_pressure_in_chest_weighted', 'pct_self_runny_nose_weighted','pct_tested_and_positive_weighted']]\n",
        "#     'pct_worked_outside_home_weighted',\n",
        "#     'pct_cli_weighted']]\n",
        "  values = data_.values\n",
        "  values = data_.values\n",
        "  values = values.astype('float32')\n",
        "  reframed = series_to_supervised(values, 1, 1)\n",
        "\n",
        "  n_train_hours = -30 \n",
        "  train = values[:n_train_hours, :]\n",
        "  test = values[n_train_hours:, :]\n",
        "\n",
        "  # split into input and outputs\n",
        "  train_X, train_y = train[:, :-1], train[:, -1]\n",
        "  test_X, test_y = test[:, :-1], test[:, -1]\n",
        "\n",
        "  # reshape input to be 3D [samples, timesteps, features]\n",
        "  train_X = train_X.reshape((train_X.shape[0], 1, train_X.shape[1]))\n",
        "  test_X = test_X.reshape((test_X.shape[0], 1, test_X.shape[1]))\n",
        "  print(train_X.shape, train_y.shape, test_X.shape, test_y.shape)\n",
        "\n",
        "\n",
        "  print(data_.shape)\n",
        "  print(values.shape)\n",
        "\n",
        "  model = Sequential()\n",
        "  model.add(LSTM(5, input_shape=(train_X.shape[1], train_X.shape[2])))\n",
        "  model.add(Dense(1))\n",
        "  model.compile(loss= root_mean_squared_error, optimizer='adam')\n",
        "\n",
        "  history = model.fit(train_X, train_y, epochs=2, batch_size=72, \n",
        "                    validation_data=(test_X, test_y), verbose=2, shuffle=False)\n",
        "# plot history\n",
        "  pyplot.plot(history.history['loss'], label='train')\n",
        "  pyplot.plot(history.history['val_loss'], label='test')\n",
        "  pyplot.legend()\n",
        "  pyplot.show()\n",
        "\n",
        "\n",
        "  yhat = model.predict(test_X)\n",
        "  yhat = yhat.reshape(-1)\n",
        "\n",
        "  print(\"RMSE is - \", sqrt(mean_squared_error(test_y, yhat)))\n",
        "  print('mae is : ', mean_absolute_error(test_y, yhat))\n",
        "  print('mean relative error is : ',relative_error_dl(yhat, test_y), \n",
        "          \"for a forecast of \", len(yhat), \" days.\")\n",
        "  \n",
        "  rmse = sqrt(mean_squared_error(test_y, yhat))\n",
        "  mae = mean_absolute_error(test_y, yhat)\n",
        "  mre = relative_error_dl(yhat, test_y)\n",
        "  # error = [rmse, mae, mre]\n",
        "  # error_dict[region_of_interest] = error\n",
        "  print(error)\n"
      ],
      "execution_count": null,
      "outputs": [
        {
          "output_type": "stream",
          "text": [
            "(76764, 1, 10) (76764,) (30, 1, 10) (30,)\n",
            "(76794, 11)\n",
            "(76794, 11)\n",
            "Epoch 1/2\n",
            "1067/1067 - 4s - loss: 0.6335 - val_loss: 0.6731\n",
            "Epoch 2/2\n",
            "1067/1067 - 2s - loss: 0.6097 - val_loss: 0.5678\n"
          ],
          "name": "stdout"
        },
        {
          "output_type": "display_data",
          "data": {
            "image/png": "[encoded data removed]",
            "text/plain": [
              "<Figure size 432x288 with 1 Axes>"
            ]
          },
          "metadata": {
            "tags": [],
            "needs_background": "light"
          }
        },
        {
          "output_type": "stream",
          "text": [
            "RMSE is -  0.5677838639810087\n",
            "mae is :  0.48735034\n",
            "mean relative error is :  42.70423650741577 for a forecast of  30  days.\n",
            "[0.46538494565788935, 0.3667821, 31.34874701499939]\n"
          ],
          "name": "stdout"
        }
      ]
    },
    {
      "cell_type": "markdown",
      "metadata": {
        "id": "VuLe1cDFZfUe"
      },
      "source": [
        "#### Predict for all states"
      ]
    },
    {
      "cell_type": "code",
      "metadata": {
        "id": "mXyRgtzoZ05Y",
        "colab": {
          "base_uri": "https://localhost:8080/"
        },
        "outputId": "a81bfd0a-fc2a-4d30-df8e-be998ddf5c01"
      },
      "source": [
        "for region_of_interest in data_time['state_code'].unique():\n",
        "  data_time['date'] = pd.to_datetime(data_time.date)\n",
        "  data_ = data_time.drop(['date'], axis=1)\n",
        "  data_.index = data_time.date\n",
        "  data_ = data_[(data_.state_code == region_of_interest)]\n",
        "  # data_ = data_.drop(columns = ['state_code', 'gender', 'age_bucket', 'bucket'])\n",
        "  data_ = data_.drop(columns = ['state_code'])\n",
        "\n",
        "  data_ = data_.dropna()\n",
        "\n",
        "\n",
        "  data_ = data_[['pct_cmnty_cli_weighted','pct_self_anosmia_ageusia_weighted','pct_hh_cli_weighted',\\\n",
        "    'pct_hh_fever_weighted', 'pct_self_fever_weighted', 'pct_hh_sore_throat_weighted', 'pct_avoid_contact_all_or_most_time_weighted',\\\n",
        "    'pct_hh_difficulty_breathing_weighted','pct_self_persistent_pain_pressure_in_chest_weighted', 'pct_self_runny_nose_weighted','pct_tested_and_positive_weighted']]\n",
        "#     'pct_worked_outside_home_weighted',\n",
        "#     'pct_cli_weighted']]\n",
        "  values = data_.values\n",
        "  values = values.astype('float32')\n",
        "  reframed = series_to_supervised(values, 1, 1)\n",
        "\n",
        "  n_train_hours = -30 \n",
        "  train = values[:n_train_hours, :]\n",
        "  test = values[n_train_hours:, :]\n",
        "\n",
        "  # split into input and outputs\n",
        "  train_X, train_y = train[:, :-1], train[:, -1]\n",
        "  test_X, test_y = test[:, :-1], test[:, -1]\n",
        "\n",
        "  # reshape input to be 3D [samples, timesteps, features]\n",
        "  train_X = train_X.reshape((train_X.shape[0], 1, train_X.shape[1]))\n",
        "  test_X = test_X.reshape((test_X.shape[0], 1, test_X.shape[1]))\n",
        "  print(train_X.shape, train_y.shape, test_X.shape, test_y.shape)\n",
        "\n",
        "\n",
        "  print(data_.shape)\n",
        "  print(values.shape)\n",
        "\n",
        "#   model = Sequential()\n",
        "#   model.add(LSTM(5, input_shape=(train_X.shape[1], train_X.shape[2])))\n",
        "#   model.add(Dense(1))\n",
        "#   model.compile(loss= root_mean_squared_error, optimizer='adam')\n",
        "\n",
        "#   history = model.fit(train_X, train_y, epochs=2, batch_size=72, \n",
        "#                     validation_data=(test_X, test_y), verbose=2, shuffle=False)\n",
        "# # plot history\n",
        "#   pyplot.plot(history.history['loss'], label='train')\n",
        "#   pyplot.plot(history.history['val_loss'], label='test')\n",
        "#   pyplot.legend()\n",
        "#   pyplot.show()\n",
        "\n",
        "\n",
        "  yhat = model.predict(test_X)\n",
        "  yhat = yhat.reshape(-1)\n",
        "  if np.isnan(yhat).any():\n",
        "    continue\n",
        "  print(\"Region of Interest\", region_of_interest)\n",
        "  print(\"RMSE is - \", sqrt(mean_squared_error(test_y, yhat)))\n",
        "  print('mae is : ', mean_absolute_error(test_y, yhat))\n",
        "  print('mean relative error is : ',relative_error_dl(yhat, test_y), \n",
        "          \"for a forecast of \", len(yhat), \" days.\")\n",
        "  \n",
        "  rmse = sqrt(mean_squared_error(test_y, yhat))\n",
        "  mae = mean_absolute_error(test_y, yhat)\n",
        "  mre = relative_error_dl(yhat, test_y)\n",
        "  error = [rmse, mae, mre]\n",
        "  error_dict[region_of_interest] = error\n",
        "  print(error)\n"
      ],
      "execution_count": null,
      "outputs": [
        {
          "output_type": "stream",
          "text": [
            "(687, 1, 10) (687,) (30, 1, 10) (30,)\n",
            "(717, 11)\n",
            "(717, 11)\n",
            "Region of Interest ak\n",
            "RMSE is -  0.7607657315059578\n",
            "mae is :  0.68403715\n",
            "mean relative error is :  51.65365934371948 for a forecast of  30  days.\n",
            "[0.7607657315059578, 0.68403715, 51.65365934371948]\n",
            "(1664, 1, 10) (1664,) (30, 1, 10) (30,)\n",
            "(1694, 11)\n",
            "(1694, 11)\n",
            "Region of Interest al\n",
            "RMSE is -  0.7744607803087973\n",
            "mae is :  0.59876233\n",
            "mean relative error is :  20.998165011405945 for a forecast of  30  days.\n",
            "[0.7744607803087973, 0.59876233, 20.998165011405945]\n",
            "(1550, 1, 10) (1550,) (30, 1, 10) (30,)\n",
            "(1580, 11)\n",
            "(1580, 11)\n",
            "Region of Interest ar\n",
            "RMSE is -  0.6866867934636784\n",
            "mae is :  0.5298244\n",
            "mean relative error is :  30.878576636314392 for a forecast of  30  days.\n",
            "[0.6866867934636784, 0.5298244, 30.878576636314392]\n",
            "(1704, 1, 10) (1704,) (30, 1, 10) (30,)\n",
            "(1734, 11)\n",
            "(1734, 11)\n",
            "Region of Interest az\n",
            "RMSE is -  0.48857384116878555\n",
            "mae is :  0.3814315\n",
            "mean relative error is :  20.794677734375 for a forecast of  30  days.\n",
            "[0.48857384116878555, 0.3814315, 20.794677734375]\n",
            "(1722, 1, 10) (1722,) (30, 1, 10) (30,)\n",
            "(1752, 11)\n",
            "(1752, 11)\n",
            "Region of Interest ca\n",
            "RMSE is -  0.29952042613324953\n",
            "mae is :  0.22953057\n",
            "mean relative error is :  11.732599139213562 for a forecast of  30  days.\n",
            "[0.29952042613324953, 0.22953057, 11.732599139213562]\n",
            "(1713, 1, 10) (1713,) (30, 1, 10) (30,)\n",
            "(1743, 11)\n",
            "(1743, 11)\n",
            "Region of Interest co\n",
            "RMSE is -  0.29464753129686494\n",
            "mae is :  0.23819628\n",
            "mean relative error is :  15.200565755367279 for a forecast of  30  days.\n",
            "[0.29464753129686494, 0.23819628, 15.200565755367279]\n",
            "(1648, 1, 10) (1648,) (30, 1, 10) (30,)\n",
            "(1678, 11)\n",
            "(1678, 11)\n",
            "Region of Interest ct\n",
            "RMSE is -  0.35485201561865837\n",
            "mae is :  0.2775695\n",
            "mean relative error is :  19.62795853614807 for a forecast of  30  days.\n",
            "[0.35485201561865837, 0.2775695, 19.62795853614807]\n",
            "(267, 1, 10) (267,) (30, 1, 10) (30,)\n",
            "(297, 11)\n",
            "(297, 11)\n",
            "Region of Interest dc\n",
            "RMSE is -  0.7361056044710469\n",
            "mae is :  0.51510686\n",
            "mean relative error is :  35.995033383369446 for a forecast of  30  days.\n",
            "[0.7361056044710469, 0.51510686, 35.995033383369446]\n",
            "(1017, 1, 10) (1017,) (30, 1, 10) (30,)\n",
            "(1047, 11)\n",
            "(1047, 11)\n",
            "Region of Interest de\n",
            "RMSE is -  1.0608938643593155\n",
            "mae is :  0.55695754\n",
            "mean relative error is :  28.395789861679077 for a forecast of  30  days.\n",
            "[1.0608938643593155, 0.55695754, 28.395789861679077]\n",
            "(1721, 1, 10) (1721,) (30, 1, 10) (30,)\n",
            "(1751, 11)\n",
            "(1751, 11)\n",
            "Region of Interest fl\n",
            "RMSE is -  0.4272288640499074\n",
            "mae is :  0.32859242\n",
            "mean relative error is :  13.641628623008728 for a forecast of  30  days.\n",
            "[0.4272288640499074, 0.32859242, 13.641628623008728]\n",
            "(1717, 1, 10) (1717,) (30, 1, 10) (30,)\n",
            "(1747, 11)\n",
            "(1747, 11)\n",
            "Region of Interest ga\n",
            "RMSE is -  0.48109417039704794\n",
            "mae is :  0.37701502\n",
            "mean relative error is :  13.220304250717163 for a forecast of  30  days.\n",
            "[0.48109417039704794, 0.37701502, 13.220304250717163]\n",
            "(933, 1, 10) (933,) (30, 1, 10) (30,)\n",
            "(963, 11)\n",
            "(963, 11)\n",
            "Region of Interest hi\n",
            "RMSE is -  0.7513723136740872\n",
            "mae is :  0.5277963\n",
            "mean relative error is :  33.62388610839844 for a forecast of  30  days.\n",
            "[0.7513723136740872, 0.5277963, 33.62388610839844]\n",
            "(1683, 1, 10) (1683,) (30, 1, 10) (30,)\n",
            "(1713, 11)\n",
            "(1713, 11)\n",
            "Region of Interest ia\n",
            "RMSE is -  0.4462572249193645\n",
            "mae is :  0.34859076\n",
            "mean relative error is :  18.748055398464203 for a forecast of  30  days.\n",
            "[0.4462572249193645, 0.34859076, 18.748055398464203]\n",
            "(1419, 1, 10) (1419,) (30, 1, 10) (30,)\n",
            "(1449, 11)\n",
            "(1449, 11)\n",
            "Region of Interest id\n",
            "RMSE is -  0.679112662662677\n",
            "mae is :  0.49528316\n",
            "mean relative error is :  21.661226451396942 for a forecast of  30  days.\n",
            "[0.679112662662677, 0.49528316, 21.661226451396942]\n",
            "(1722, 1, 10) (1722,) (30, 1, 10) (30,)\n",
            "(1752, 11)\n",
            "(1752, 11)\n",
            "Region of Interest il\n",
            "RMSE is -  0.29298866204305124\n",
            "mae is :  0.21872535\n",
            "mean relative error is :  11.257438361644745 for a forecast of  30  days.\n",
            "[0.29298866204305124, 0.21872535, 11.257438361644745]\n",
            "(1717, 1, 10) (1717,) (30, 1, 10) (30,)\n",
            "(1747, 11)\n",
            "(1747, 11)\n",
            "Region of Interest in\n",
            "RMSE is -  0.5304074337653398\n",
            "mae is :  0.44204763\n",
            "mean relative error is :  28.4200519323349 for a forecast of  30  days.\n",
            "[0.5304074337653398, 0.44204763, 28.4200519323349]\n",
            "(1618, 1, 10) (1618,) (30, 1, 10) (30,)\n",
            "(1648, 11)\n",
            "(1648, 11)\n",
            "Region of Interest ks\n",
            "RMSE is -  0.5460384510076102\n",
            "mae is :  0.4420553\n",
            "mean relative error is :  23.909904062747955 for a forecast of  30  days.\n",
            "[0.5460384510076102, 0.4420553, 23.909904062747955]\n",
            "(1678, 1, 10) (1678,) (30, 1, 10) (30,)\n",
            "(1708, 11)\n",
            "(1708, 11)\n",
            "Region of Interest ky\n",
            "RMSE is -  0.6510667694338517\n",
            "mae is :  0.57554716\n",
            "mean relative error is :  37.98709213733673 for a forecast of  30  days.\n",
            "[0.6510667694338517, 0.57554716, 37.98709213733673]\n",
            "(1660, 1, 10) (1660,) (30, 1, 10) (30,)\n",
            "(1690, 11)\n",
            "(1690, 11)\n",
            "Region of Interest la\n",
            "RMSE is -  0.8448481301387619\n",
            "mae is :  0.67825645\n",
            "mean relative error is :  22.734683752059937 for a forecast of  30  days.\n",
            "[0.8448481301387619, 0.67825645, 22.734683752059937]\n",
            "(1711, 1, 10) (1711,) (30, 1, 10) (30,)\n",
            "(1741, 11)\n",
            "(1741, 11)\n",
            "Region of Interest ma\n",
            "RMSE is -  0.20352762007554995\n",
            "mae is :  0.15998755\n",
            "mean relative error is :  12.245704978704453 for a forecast of  30  days.\n",
            "[0.20352762007554995, 0.15998755, 12.245704978704453]\n",
            "(1680, 1, 10) (1680,) (30, 1, 10) (30,)\n",
            "(1710, 11)\n",
            "(1710, 11)\n",
            "Region of Interest md\n",
            "RMSE is -  0.358233026485756\n",
            "mae is :  0.30038068\n",
            "mean relative error is :  18.577463924884796 for a forecast of  30  days.\n",
            "[0.358233026485756, 0.30038068, 18.577463924884796]\n",
            "(1380, 1, 10) (1380,) (30, 1, 10) (30,)\n",
            "(1410, 11)\n",
            "(1410, 11)\n",
            "Region of Interest me\n",
            "RMSE is -  0.3581218431743074\n",
            "mae is :  0.27783293\n",
            "mean relative error is :  22.8549987077713 for a forecast of  30  days.\n",
            "[0.3581218431743074, 0.27783293, 22.8549987077713]\n",
            "(1726, 1, 10) (1726,) (30, 1, 10) (30,)\n",
            "(1756, 11)\n",
            "(1756, 11)\n",
            "Region of Interest mi\n",
            "RMSE is -  0.22679182482598326\n",
            "mae is :  0.18417095\n",
            "mean relative error is :  12.880003452301025 for a forecast of  30  days.\n",
            "[0.22679182482598326, 0.18417095, 12.880003452301025]\n",
            "(1705, 1, 10) (1705,) (30, 1, 10) (30,)\n",
            "(1735, 11)\n",
            "(1735, 11)\n",
            "Region of Interest mn\n",
            "RMSE is -  0.3786275763047764\n",
            "mae is :  0.30616373\n",
            "mean relative error is :  20.62615007162094 for a forecast of  30  days.\n",
            "[0.3786275763047764, 0.30616373, 20.62615007162094]\n",
            "(1706, 1, 10) (1706,) (30, 1, 10) (30,)\n",
            "(1736, 11)\n",
            "(1736, 11)\n",
            "Region of Interest mo\n",
            "RMSE is -  0.36865220227775636\n",
            "mae is :  0.26610294\n",
            "mean relative error is :  12.614712119102478 for a forecast of  30  days.\n",
            "[0.36865220227775636, 0.26610294, 12.614712119102478]\n",
            "(1514, 1, 10) (1514,) (30, 1, 10) (30,)\n",
            "(1544, 11)\n",
            "(1544, 11)\n",
            "Region of Interest ms\n",
            "RMSE is -  1.0245810955302925\n",
            "mae is :  0.7487993\n",
            "mean relative error is :  23.257732391357422 for a forecast of  30  days.\n",
            "[1.0245810955302925, 0.7487993, 23.257732391357422]\n",
            "(1169, 1, 10) (1169,) (30, 1, 10) (30,)\n",
            "(1199, 11)\n",
            "(1199, 11)\n",
            "Region of Interest mt\n",
            "RMSE is -  0.7329933886756788\n",
            "mae is :  0.625882\n",
            "mean relative error is :  39.704132080078125 for a forecast of  30  days.\n",
            "[0.7329933886756788, 0.625882, 39.704132080078125]\n",
            "(1721, 1, 10) (1721,) (30, 1, 10) (30,)\n",
            "(1751, 11)\n",
            "(1751, 11)\n",
            "Region of Interest nc\n",
            "RMSE is -  0.29366916853136327\n",
            "mae is :  0.23582853\n",
            "mean relative error is :  14.936994016170502 for a forecast of  30  days.\n",
            "[0.29366916853136327, 0.23582853, 14.936994016170502]\n",
            "(689, 1, 10) (689,) (30, 1, 10) (30,)\n",
            "(719, 11)\n",
            "(719, 11)\n",
            "Region of Interest nd\n",
            "RMSE is -  0.8701553764482725\n",
            "mae is :  0.7702143\n",
            "mean relative error is :  52.377718687057495 for a forecast of  30  days.\n",
            "[0.8701553764482725, 0.7702143, 52.377718687057495]\n",
            "(1468, 1, 10) (1468,) (30, 1, 10) (30,)\n",
            "(1498, 11)\n",
            "(1498, 11)\n",
            "Region of Interest ne\n",
            "RMSE is -  0.6981775854142824\n",
            "mae is :  0.6093171\n",
            "mean relative error is :  35.667258501052856 for a forecast of  30  days.\n",
            "[0.6981775854142824, 0.6093171, 35.667258501052856]\n",
            "(1366, 1, 10) (1366,) (30, 1, 10) (30,)\n",
            "(1396, 11)\n",
            "(1396, 11)\n",
            "Region of Interest nh\n",
            "RMSE is -  0.41425322692433814\n",
            "mae is :  0.32424507\n",
            "mean relative error is :  26.114121079444885 for a forecast of  30  days.\n",
            "[0.41425322692433814, 0.32424507, 26.114121079444885]\n",
            "(1716, 1, 10) (1716,) (30, 1, 10) (30,)\n",
            "(1746, 11)\n",
            "(1746, 11)\n",
            "Region of Interest nj\n",
            "RMSE is -  0.3523980172905531\n",
            "mae is :  0.26253507\n",
            "mean relative error is :  16.246791183948517 for a forecast of  30  days.\n",
            "[0.3523980172905531, 0.26253507, 16.246791183948517]\n",
            "(1338, 1, 10) (1338,) (30, 1, 10) (30,)\n",
            "(1368, 11)\n",
            "(1368, 11)\n",
            "Region of Interest nm\n",
            "RMSE is -  0.527069076777512\n",
            "mae is :  0.4367114\n",
            "mean relative error is :  31.418758630752563 for a forecast of  30  days.\n",
            "[0.527069076777512, 0.4367114, 31.418758630752563]\n",
            "(1479, 1, 10) (1479,) (30, 1, 10) (30,)\n",
            "(1509, 11)\n",
            "(1509, 11)\n",
            "Region of Interest nv\n",
            "RMSE is -  0.47118218763751724\n",
            "mae is :  0.40804484\n",
            "mean relative error is :  23.099875450134277 for a forecast of  30  days.\n",
            "[0.47118218763751724, 0.40804484, 23.099875450134277]\n",
            "(1722, 1, 10) (1722,) (30, 1, 10) (30,)\n",
            "(1752, 11)\n",
            "(1752, 11)\n",
            "Region of Interest ny\n",
            "RMSE is -  0.23082565700394536\n",
            "mae is :  0.18140942\n",
            "mean relative error is :  12.044668197631836 for a forecast of  30  days.\n",
            "[0.23082565700394536, 0.18140942, 12.044668197631836]\n",
            "(1722, 1, 10) (1722,) (30, 1, 10) (30,)\n",
            "(1752, 11)\n",
            "(1752, 11)\n",
            "Region of Interest oh\n",
            "RMSE is -  0.33659193700065376\n",
            "mae is :  0.28201693\n",
            "mean relative error is :  19.02770698070526 for a forecast of  30  days.\n",
            "[0.33659193700065376, 0.28201693, 19.02770698070526]\n",
            "(1674, 1, 10) (1674,) (30, 1, 10) (30,)\n",
            "(1704, 11)\n",
            "(1704, 11)\n",
            "Region of Interest ok\n",
            "RMSE is -  0.5292297827508536\n",
            "mae is :  0.38910997\n",
            "mean relative error is :  20.533819496631622 for a forecast of  30  days.\n",
            "[0.5292297827508536, 0.38910997, 20.533819496631622]\n",
            "(1664, 1, 10) (1664,) (30, 1, 10) (30,)\n",
            "(1694, 11)\n",
            "(1694, 11)\n",
            "Region of Interest or\n",
            "RMSE is -  0.23947843383659237\n",
            "mae is :  0.19418381\n",
            "mean relative error is :  15.31762033700943 for a forecast of  30  days.\n",
            "[0.23947843383659237, 0.19418381, 15.31762033700943]\n",
            "(1722, 1, 10) (1722,) (30, 1, 10) (30,)\n",
            "(1752, 11)\n",
            "(1752, 11)\n",
            "Region of Interest pa\n",
            "RMSE is -  0.22518168802725644\n",
            "mae is :  0.17893815\n",
            "mean relative error is :  13.628214597702026 for a forecast of  30  days.\n",
            "[0.22518168802725644, 0.17893815, 13.628214597702026]\n",
            "(1009, 1, 10) (1009,) (30, 1, 10) (30,)\n",
            "(1039, 11)\n",
            "(1039, 11)\n",
            "Region of Interest ri\n",
            "RMSE is -  0.5368911022218463\n",
            "mae is :  0.4088921\n",
            "mean relative error is :  33.066511154174805 for a forecast of  30  days.\n",
            "[0.5368911022218463, 0.4088921, 33.066511154174805]\n",
            "(1692, 1, 10) (1692,) (30, 1, 10) (30,)\n",
            "(1722, 11)\n",
            "(1722, 11)\n",
            "Region of Interest sc\n",
            "RMSE is -  0.44810535278771063\n",
            "mae is :  0.3528516\n",
            "mean relative error is :  16.452664136886597 for a forecast of  30  days.\n",
            "[0.44810535278771063, 0.3528516, 16.452664136886597]\n",
            "(884, 1, 10) (884,) (30, 1, 10) (30,)\n",
            "(914, 11)\n",
            "(914, 11)\n",
            "Region of Interest sd\n",
            "RMSE is -  1.0575165282416499\n",
            "mae is :  0.741907\n",
            "mean relative error is :  37.24479675292969 for a forecast of  30  days.\n",
            "[1.0575165282416499, 0.741907, 37.24479675292969]\n",
            "(1710, 1, 10) (1710,) (30, 1, 10) (30,)\n",
            "(1740, 11)\n",
            "(1740, 11)\n",
            "Region of Interest tn\n",
            "RMSE is -  0.36530207450224395\n",
            "mae is :  0.31102884\n",
            "mean relative error is :  14.247298240661621 for a forecast of  30  days.\n",
            "[0.36530207450224395, 0.31102884, 14.247298240661621]\n",
            "(1722, 1, 10) (1722,) (30, 1, 10) (30,)\n",
            "(1752, 11)\n",
            "(1752, 11)\n",
            "Region of Interest tx\n",
            "RMSE is -  0.40660096560516945\n",
            "mae is :  0.34365004\n",
            "mean relative error is :  14.335258305072784 for a forecast of  30  days.\n",
            "[0.40660096560516945, 0.34365004, 14.335258305072784]\n",
            "(1655, 1, 10) (1655,) (30, 1, 10) (30,)\n",
            "(1685, 11)\n",
            "(1685, 11)\n",
            "Region of Interest ut\n",
            "RMSE is -  0.539978934557077\n",
            "mae is :  0.4464904\n",
            "mean relative error is :  21.93128913640976 for a forecast of  30  days.\n",
            "[0.539978934557077, 0.4464904, 21.93128913640976]\n",
            "(1724, 1, 10) (1724,) (30, 1, 10) (30,)\n",
            "(1754, 11)\n",
            "(1754, 11)\n",
            "Region of Interest va\n",
            "RMSE is -  0.28752032861157856\n",
            "mae is :  0.2399296\n",
            "mean relative error is :  16.188044846057892 for a forecast of  30  days.\n",
            "[0.28752032861157856, 0.2399296, 16.188044846057892]\n",
            "(732, 1, 10) (732,) (30, 1, 10) (30,)\n",
            "(762, 11)\n",
            "(762, 11)\n",
            "Region of Interest vt\n",
            "RMSE is -  0.4152092977220074\n",
            "mae is :  0.34508386\n",
            "mean relative error is :  29.04696762561798 for a forecast of  30  days.\n",
            "[0.4152092977220074, 0.34508386, 29.04696762561798]\n",
            "(1717, 1, 10) (1717,) (30, 1, 10) (30,)\n",
            "(1747, 11)\n",
            "(1747, 11)\n",
            "Region of Interest wa\n",
            "RMSE is -  0.28398184427553086\n",
            "mae is :  0.23065238\n",
            "mean relative error is :  15.350368618965149 for a forecast of  30  days.\n",
            "[0.28398184427553086, 0.23065238, 15.350368618965149]\n",
            "(1717, 1, 10) (1717,) (30, 1, 10) (30,)\n",
            "(1747, 11)\n",
            "(1747, 11)\n",
            "Region of Interest wi\n",
            "RMSE is -  0.2858926201082712\n",
            "mae is :  0.23947962\n",
            "mean relative error is :  15.280485153198242 for a forecast of  30  days.\n",
            "[0.2858926201082712, 0.23947962, 15.280485153198242]\n",
            "(1467, 1, 10) (1467,) (30, 1, 10) (30,)\n",
            "(1497, 11)\n",
            "(1497, 11)\n",
            "Region of Interest wv\n",
            "RMSE is -  0.6571351847955974\n",
            "mae is :  0.5810902\n",
            "mean relative error is :  43.92486214637756 for a forecast of  30  days.\n",
            "[0.6571351847955974, 0.5810902, 43.92486214637756]\n",
            "(523, 1, 10) (523,) (30, 1, 10) (30,)\n",
            "(553, 11)\n",
            "(553, 11)\n",
            "Region of Interest wy\n",
            "RMSE is -  0.7035295594152339\n",
            "mae is :  0.5861593\n",
            "mean relative error is :  57.37600922584534 for a forecast of  30  days.\n",
            "[0.7035295594152339, 0.5861593, 57.37600922584534]\n"
          ],
          "name": "stdout"
        }
      ]
    },
    {
      "cell_type": "code",
      "metadata": {
        "id": "QoMOffrmZoea"
      },
      "source": [
        "Error_captured = pd.DataFrame.from_dict(error_dict).transpose()\n",
        "data_count_per_state = pd.DataFrame(data_time['state_code'].value_counts()).reset_index()\n",
        "data_count_per_state.columns = ['state_code','count']\n",
        "Error_captured = Error_captured.reset_index()\n",
        "Error_captured.columns = ['state_code', 'rmse', 'mae', 'mre']\n",
        "pd.merge(Error_captured, data_count_per_state, on = 'state_code').sort_values(by = 'count', ascending = False).to_csv('./errors_state_wise_global model.csv', index=False)"
      ],
      "execution_count": null,
      "outputs": []
    },
    {
      "cell_type": "markdown",
      "metadata": {
        "id": "6xOBfUlrbv9O"
      },
      "source": [
        "## Testing soemthing"
      ]
    },
    {
      "cell_type": "code",
      "metadata": {
        "colab": {
          "base_uri": "https://localhost:8080/",
          "height": 230
        },
        "id": "r6ACaVpEczD7",
        "outputId": "431daf60-d662-46b8-c68e-a7f87c6adc7e"
      },
      "source": [
        "train_X_global = np.array()\n",
        "for region_of_interest in data_time['state_code'].unique():\n",
        "  data_time['date'] = pd.to_datetime(data_time.date)\n",
        "  data_ = data_time.drop(['date'], axis=1)\n",
        "  data_.index = data_time.date\n",
        "  data_ = data_[(data_.state_code == region_of_interest)]\n",
        "  # data_ = data_.drop(columns = ['state_code', 'gender', 'age_bucket', 'bucket'])\n",
        "  data_ = data_.drop(columns = ['state_code'])\n",
        "\n",
        "  data_ = data_.dropna()\n",
        "\n",
        "\n",
        "  data_ = data_[['pct_cmnty_cli_weighted','pct_self_anosmia_ageusia_weighted','pct_hh_cli_weighted',\\\n",
        "    'pct_hh_fever_weighted', 'pct_self_fever_weighted', 'pct_hh_sore_throat_weighted', 'pct_avoid_contact_all_or_most_time_weighted',\\\n",
        "    'pct_hh_difficulty_breathing_weighted','pct_self_persistent_pain_pressure_in_chest_weighted', 'pct_self_runny_nose_weighted','pct_tested_and_positive_weighted']]\n",
        "#     'pct_worked_outside_home_weighted',\n",
        "#     'pct_cli_weighted']]\n",
        "  values = data_.values\n",
        "  values = values.astype('float32')\n",
        "  reframed = series_to_supervised(values, 1, 1)\n",
        "\n",
        "  n_train_hours = -30 \n",
        "  train = values[:n_train_hours, :]\n",
        "  test = values[n_train_hours:, :]\n",
        "\n",
        "  # split into input and outputs\n",
        "  train_X, train_y = train[:, :-1], train[:, -1]\n",
        "  test_X, test_y = test[:, :-1], test[:, -1]\n",
        "\n",
        "  # reshape input to be 3D [samples, timesteps, features]\n",
        "  train_X = train_X.reshape((train_X.shape[0], 1, train_X.shape[1]))\n",
        "  test_X = test_X.reshape((test_X.shape[0], 1, test_X.shape[1]))\n",
        "  print(train_X.shape, train_y.shape, test_X.shape, test_y.shape)\n",
        "\n",
        "\n",
        "  print(data_.shape)\n",
        "  print(values.shape)\n",
        "\n",
        "  train_X_global = np.vstack((train_X, train_X_global))"
      ],
      "execution_count": null,
      "outputs": [
        {
          "output_type": "error",
          "ename": "TypeError",
          "evalue": "ignored",
          "traceback": [
            "\u001b[0;31m---------------------------------------------------------------------------\u001b[0m",
            "\u001b[0;31mTypeError\u001b[0m                                 Traceback (most recent call last)",
            "\u001b[0;32m<ipython-input-19-2340223bcb94>\u001b[0m in \u001b[0;36m<module>\u001b[0;34m()\u001b[0m\n\u001b[0;32m----> 1\u001b[0;31m \u001b[0mtrain_X_global\u001b[0m \u001b[0;34m=\u001b[0m \u001b[0mnp\u001b[0m\u001b[0;34m.\u001b[0m\u001b[0marray\u001b[0m\u001b[0;34m(\u001b[0m\u001b[0;34m)\u001b[0m\u001b[0;34m\u001b[0m\u001b[0;34m\u001b[0m\u001b[0m\n\u001b[0m\u001b[1;32m      2\u001b[0m \u001b[0;32mfor\u001b[0m \u001b[0mregion_of_interest\u001b[0m \u001b[0;32min\u001b[0m \u001b[0mdata_time\u001b[0m\u001b[0;34m[\u001b[0m\u001b[0;34m'state_code'\u001b[0m\u001b[0;34m]\u001b[0m\u001b[0;34m.\u001b[0m\u001b[0munique\u001b[0m\u001b[0;34m(\u001b[0m\u001b[0;34m)\u001b[0m\u001b[0;34m:\u001b[0m\u001b[0;34m\u001b[0m\u001b[0;34m\u001b[0m\u001b[0m\n\u001b[1;32m      3\u001b[0m   \u001b[0mdata_time\u001b[0m\u001b[0;34m[\u001b[0m\u001b[0;34m'date'\u001b[0m\u001b[0;34m]\u001b[0m \u001b[0;34m=\u001b[0m \u001b[0mpd\u001b[0m\u001b[0;34m.\u001b[0m\u001b[0mto_datetime\u001b[0m\u001b[0;34m(\u001b[0m\u001b[0mdata_time\u001b[0m\u001b[0;34m.\u001b[0m\u001b[0mdate\u001b[0m\u001b[0;34m)\u001b[0m\u001b[0;34m\u001b[0m\u001b[0;34m\u001b[0m\u001b[0m\n\u001b[1;32m      4\u001b[0m   \u001b[0mdata_\u001b[0m \u001b[0;34m=\u001b[0m \u001b[0mdata_time\u001b[0m\u001b[0;34m.\u001b[0m\u001b[0mdrop\u001b[0m\u001b[0;34m(\u001b[0m\u001b[0;34m[\u001b[0m\u001b[0;34m'date'\u001b[0m\u001b[0;34m]\u001b[0m\u001b[0;34m,\u001b[0m \u001b[0maxis\u001b[0m\u001b[0;34m=\u001b[0m\u001b[0;36m1\u001b[0m\u001b[0;34m)\u001b[0m\u001b[0;34m\u001b[0m\u001b[0;34m\u001b[0m\u001b[0m\n\u001b[1;32m      5\u001b[0m   \u001b[0mdata_\u001b[0m\u001b[0;34m.\u001b[0m\u001b[0mindex\u001b[0m \u001b[0;34m=\u001b[0m \u001b[0mdata_time\u001b[0m\u001b[0;34m.\u001b[0m\u001b[0mdate\u001b[0m\u001b[0;34m\u001b[0m\u001b[0;34m\u001b[0m\u001b[0m\n",
            "\u001b[0;31mTypeError\u001b[0m: Required argument 'object' (pos 1) not found"
          ]
        }
      ]
    },
    {
      "cell_type": "code",
      "metadata": {
        "id": "9P_KyIMLbvPz"
      },
      "source": [
        "region_of_interest = 'ca'\n",
        "data_time['date'] = pd.to_datetime(data_time.date)\n",
        "data_ = data_time.drop(['date'], axis=1)\n",
        "data_.index = data_time.date\n",
        "data_ = data_[(data_.state_code == region_of_interest)]\n",
        "data_ = data_.drop(columns = ['state_code', 'age_bucket', 'gender','bucket'])\n",
        "data_ = data_.dropna()\n",
        "\n",
        "data_ = data_[['pct_cmnty_cli_weighted','pct_self_anosmia_ageusia_weighted','pct_hh_cli_weighted',\\\n",
        "    'pct_hh_fever_weighted', 'pct_self_fever_weighted', 'pct_hh_sore_throat_weighted', 'pct_avoid_contact_all_or_most_time_weighted',\\\n",
        "    'pct_hh_difficulty_breathing_weighted','pct_self_persistent_pain_pressure_in_chest_weighted', 'pct_self_runny_nose_weighted','pct_tested_and_positive_weighted']]\n",
        "#     'pct_worked_outside_home_weighted',\n",
        "#     'pct_cli_weighted']]\n",
        "values = data_.values\n",
        "values = data_.values\n",
        "values = values.astype('float32')\n",
        "reframed = series_to_supervised(values, 1, 1)\n",
        "\n",
        "n_train_hours = -30 \n",
        "train = values[:n_train_hours, :]\n",
        "test = values[n_train_hours:, :]\n",
        "\n",
        "region_of_interest = 'fl'\n",
        "data_time['date'] = pd.to_datetime(data_time.date)\n",
        "data_ = data_time.drop(['date'], axis=1)\n",
        "data_.index = data_time.date\n",
        "data_ = data_[(data_.state_code == region_of_interest)]\n",
        "data_ = data_.drop(columns = ['state_code', 'age_bucket', 'gender','bucket'])\n",
        "data_ = data_.dropna()\n",
        "\n",
        "data_ = data_[['pct_cmnty_cli_weighted','pct_self_anosmia_ageusia_weighted','pct_hh_cli_weighted',\\\n",
        "    'pct_hh_fever_weighted', 'pct_self_fever_weighted', 'pct_hh_sore_throat_weighted', 'pct_avoid_contact_all_or_most_time_weighted',\\\n",
        "    'pct_hh_difficulty_breathing_weighted','pct_self_persistent_pain_pressure_in_chest_weighted', 'pct_self_runny_nose_weighted','pct_tested_and_positive_weighted']]\n",
        "#     'pct_worked_outside_home_weighted',\n",
        "#     'pct_cli_weighted']]\n",
        "values = data_.values\n",
        "values = data_.values\n",
        "values = values.astype('float32')\n",
        "reframed = series_to_supervised(values, 1, 1)\n",
        "\n",
        "n_train_hours = -30 \n",
        "train_fl = values[:n_train_hours, :]\n",
        "test_fl = values[n_train_hours:, :]\n",
        "\n"
      ],
      "execution_count": null,
      "outputs": []
    },
    {
      "cell_type": "code",
      "metadata": {
        "colab": {
          "base_uri": "https://localhost:8080/"
        },
        "id": "Nyjf78d9bvM_",
        "outputId": "88d1d153-7310-4138-ac76-3c994cccf099"
      },
      "source": [
        "test_fl"
      ],
      "execution_count": null,
      "outputs": [
        {
          "output_type": "execute_result",
          "data": {
            "text/plain": [
              "array([[20.9251,  1.919 ,  1.0957,  1.3604,  0.8879,  5.4774, 54.3941,\n",
              "         2.94  ,  1.5978,  8.3485,  1.48  ],\n",
              "       [20.8131,  1.6108,  1.1535,  1.6723,  0.7905,  6.2687, 53.0135,\n",
              "         2.6737,  1.6837,  8.2785,  1.7538],\n",
              "       [19.3325,  1.6758,  1.0682,  1.2444,  0.9337,  5.4377, 54.3317,\n",
              "         3.4255,  1.8044,  7.8842,  1.5579],\n",
              "       [18.9253,  1.8103,  1.5166,  2.0524,  1.2221,  6.5558, 53.3549,\n",
              "         2.9589,  1.5154,  8.0524,  1.9386],\n",
              "       [19.1684,  1.5047,  1.1179,  1.4532,  0.8085,  5.2493, 54.4464,\n",
              "         3.529 ,  2.3489,  8.4506,  1.7749],\n",
              "       [19.0141,  1.9382,  1.5534,  1.7755,  1.1523,  6.3843, 52.3117,\n",
              "         3.4687,  2.0846,  9.0832,  1.5233],\n",
              "       [17.99  ,  1.6166,  0.8596,  1.0873,  0.6962,  6.5527, 51.7672,\n",
              "         2.8909,  1.4214,  7.1108,  1.2842],\n",
              "       [17.8132,  1.7301,  1.3219,  1.5558,  0.9225,  5.4424, 52.3718,\n",
              "         3.0249,  1.5629,  8.125 ,  1.1706],\n",
              "       [17.0985,  1.0815,  0.7538,  0.9563,  0.4768,  5.4261, 52.184 ,\n",
              "         2.7148,  1.3075,  7.3194,  1.0098],\n",
              "       [17.2051,  1.4532,  1.1741,  1.3232,  0.9149,  5.8632, 48.7151,\n",
              "         2.8523,  1.4598,  7.8529,  0.9709],\n",
              "       [18.3969,  1.8246,  0.9275,  1.2498,  0.8549,  4.7743, 51.3313,\n",
              "         2.871 ,  1.6682,  8.0198,  1.1373],\n",
              "       [16.8184,  1.5236,  1.2575,  1.5561,  1.0706,  5.1836, 49.5512,\n",
              "         3.5495,  1.9216,  7.712 ,  1.5883],\n",
              "       [16.6134,  1.7523,  0.7461,  1.0737,  0.8667,  5.4098, 52.6539,\n",
              "         2.6315,  1.7506,  7.734 ,  1.4029],\n",
              "       [17.1515,  2.3593,  1.6323,  2.3573,  0.9323,  6.4199, 49.7236,\n",
              "         3.7859,  2.0643,  8.3981,  2.2462],\n",
              "       [16.6809,  1.8561,  1.1315,  1.3282,  0.8241,  4.3733, 50.6916,\n",
              "         3.0439,  2.1114,  7.2053,  0.8152],\n",
              "       [15.7572,  1.7615,  1.1006,  1.5063,  1.0051,  5.345 , 50.8275,\n",
              "         3.2854,  1.6024,  7.737 ,  1.4893],\n",
              "       [16.5693,  1.3092,  0.658 ,  0.7225,  0.6681,  4.0199, 49.2359,\n",
              "         2.2967,  1.6849,  7.3557,  1.2487],\n",
              "       [15.6227,  1.2385,  1.2112,  1.553 ,  1.0226,  4.9753, 47.5376,\n",
              "         2.7134,  1.2946,  7.4947,  0.6317],\n",
              "       [17.4685,  1.2971,  1.2744,  1.7117,  0.9761,  5.5506, 48.9024,\n",
              "         3.5569,  2.0574,  8.1474,  1.0551],\n",
              "       [15.4698,  1.6303,  1.0332,  1.2107,  0.9268,  5.6542, 48.0755,\n",
              "         2.843 ,  1.7041,  8.3545,  1.6463],\n",
              "       [17.1674,  1.2328,  1.536 ,  1.7224,  1.1435,  5.6228, 48.6026,\n",
              "         3.0308,  1.3524,  7.4118,  0.8858],\n",
              "       [14.916 ,  1.7286,  1.0696,  1.2657,  0.5617,  6.0869, 49.944 ,\n",
              "         3.2019,  1.5834,  7.6511,  2.0134],\n",
              "       [14.4579,  1.0884,  0.9976,  1.1804,  0.9166,  6.0719, 47.6125,\n",
              "         2.6326,  1.5077,  7.5408,  1.0057],\n",
              "       [15.4918,  0.9269,  1.0822,  1.5466,  0.4452,  4.6891, 49.684 ,\n",
              "         2.9533,  1.2141,  7.2084,  0.8914],\n",
              "       [14.4478,  1.7454,  1.4301,  1.9444,  1.2926,  5.493 , 50.734 ,\n",
              "         2.7714,  1.6169,  8.4747,  1.3628],\n",
              "       [16.3746,  0.9717,  1.501 ,  1.8251,  1.1347,  5.8286, 48.6206,\n",
              "         3.4627,  1.5593,  7.9076,  1.1681],\n",
              "       [17.2886,  1.2573,  1.1654,  1.6496,  1.2555,  5.8129, 47.1687,\n",
              "         2.8307,  1.8516,  7.5468,  1.1852],\n",
              "       [14.9278,  0.9728,  1.149 ,  1.6748,  0.8831,  5.7784, 46.1839,\n",
              "         2.4525,  1.7823,  7.2716,  0.8204],\n",
              "       [13.903 ,  1.7907,  1.0919,  1.3532,  0.8759,  5.0832, 45.6418,\n",
              "         2.397 ,  1.6769,  7.156 ,  0.9197],\n",
              "       [13.6662,  1.248 ,  1.6606,  2.199 ,  1.0433,  6.2066, 17.7341,\n",
              "         4.1343,  1.6516,  8.2012,  0.4987]], dtype=float32)"
            ]
          },
          "metadata": {
            "tags": []
          },
          "execution_count": 14
        }
      ]
    },
    {
      "cell_type": "code",
      "metadata": {
        "colab": {
          "base_uri": "https://localhost:8080/"
        },
        "id": "SmUmer9cZ8kV",
        "outputId": "610fd0eb-ec28-45d1-fc47-706ddb731ae4"
      },
      "source": [
        "np.vstack((test, test_fl))"
      ],
      "execution_count": null,
      "outputs": [
        {
          "output_type": "execute_result",
          "data": {
            "text/plain": [
              "array([[14.2294,  1.0924,  0.9678,  1.2963,  0.5691,  5.7358, 59.2087,\n",
              "         2.3205,  1.1298,  7.6293,  1.1336],\n",
              "       [14.9168,  1.5406,  1.2847,  1.6645,  0.8773,  6.1323, 60.8194,\n",
              "         3.0897,  1.7036,  6.7702,  1.0083],\n",
              "       [15.0162,  1.1709,  1.0881,  1.4162,  0.4743,  5.4223, 60.8846,\n",
              "         3.3086,  1.7984,  7.0264,  1.0245],\n",
              "       [14.1913,  1.3132,  0.9494,  1.2416,  0.7176,  5.92  , 59.2142,\n",
              "         2.6258,  1.8792,  6.8926,  1.1405],\n",
              "       [15.1361,  1.5473,  0.7568,  1.3943,  0.7266,  5.8616, 58.8552,\n",
              "         2.599 ,  1.4459,  7.6085,  1.0703],\n",
              "       [13.682 ,  0.8847,  1.0558,  1.3851,  0.7608,  5.6491, 58.5677,\n",
              "         2.6168,  1.8793,  6.5286,  1.1316],\n",
              "       [13.4999,  1.2806,  1.2746,  1.6796,  0.7729,  5.6065, 57.6564,\n",
              "         2.7779,  1.5382,  6.4504,  0.9915],\n",
              "       [13.8308,  1.4211,  1.067 ,  1.2237,  0.7299,  5.3424, 59.8019,\n",
              "         3.1568,  1.766 ,  6.485 ,  1.157 ],\n",
              "       [15.303 ,  1.1482,  0.9694,  1.1961,  0.8623,  5.194 , 58.7786,\n",
              "         2.7407,  1.606 ,  6.0929,  0.9932],\n",
              "       [12.9008,  1.0097,  0.9783,  1.1506,  0.4752,  5.2014, 59.1914,\n",
              "         2.7257,  1.231 ,  6.5417,  1.2448],\n",
              "       [14.4006,  1.4572,  1.094 ,  1.4228,  0.7022,  5.2927, 58.9092,\n",
              "         3.5406,  1.5933,  5.8561,  0.9196],\n",
              "       [12.4545,  1.0765,  1.0951,  1.3212,  0.9886,  6.0596, 58.1023,\n",
              "         4.1649,  1.7827,  5.8197,  1.0025],\n",
              "       [12.8299,  1.3838,  0.6262,  0.8239,  0.6912,  5.7134, 59.0818,\n",
              "         3.565 ,  1.992 ,  7.0903,  0.9748],\n",
              "       [11.7273,  1.5977,  1.0382,  1.3739,  0.6625,  5.9055, 57.02  ,\n",
              "         3.9604,  1.9205,  6.7632,  0.7239],\n",
              "       [13.2364,  1.0479,  1.1836,  1.3909,  0.7267,  5.5396, 58.4528,\n",
              "         3.7436,  1.3163,  6.4019,  0.8594],\n",
              "       [12.4915,  1.6792,  0.902 ,  1.1111,  0.4332,  5.4925, 56.8884,\n",
              "         3.3919,  1.8957,  6.4509,  1.0326],\n",
              "       [13.9584,  1.6325,  1.7935,  2.0713,  1.5054,  6.1038, 55.6638,\n",
              "         4.3228,  1.9036,  6.8228,  1.4269],\n",
              "       [13.5918,  1.5537,  0.93  ,  1.2339,  0.5982,  4.7288, 57.7044,\n",
              "         3.282 ,  1.6452,  6.0475,  1.095 ],\n",
              "       [12.3667,  1.0286,  0.5604,  0.9986,  0.4085,  5.1906, 59.7759,\n",
              "         2.7674,  1.4459,  6.7477,  0.683 ],\n",
              "       [11.9167,  0.9487,  1.1132,  1.6122,  0.7983,  5.1064, 55.0681,\n",
              "         2.9772,  0.89  ,  6.9665,  0.6666],\n",
              "       [12.249 ,  0.649 ,  0.9665,  1.1947,  0.3649,  6.1153, 54.6327,\n",
              "         2.4252,  1.2255,  6.3226,  0.6989],\n",
              "       [11.6218,  1.6493,  1.1783,  1.7853,  0.8728,  5.9846, 56.1047,\n",
              "         2.7094,  1.7163,  7.388 ,  1.6059],\n",
              "       [11.898 ,  1.2406,  0.7938,  0.9323,  0.501 ,  5.1013, 56.2918,\n",
              "         2.7944,  1.5288,  7.3322,  0.8203],\n",
              "       [13.1849,  1.6663,  1.5307,  1.8343,  0.9396,  5.694 , 54.5212,\n",
              "         2.7524,  1.5899,  6.0232,  1.2334],\n",
              "       [11.4888,  0.9337,  0.5066,  0.8827,  0.3978,  4.9155, 55.4101,\n",
              "         2.9126,  1.3951,  6.9125,  0.4961],\n",
              "       [11.3864,  0.5979,  0.8698,  1.3668,  0.987 ,  4.7571, 57.0023,\n",
              "         2.3495,  1.2285,  7.2685,  0.6222],\n",
              "       [11.7397,  0.9012,  0.7509,  1.0729,  0.3801,  4.1752, 57.2996,\n",
              "         3.0072,  1.5066,  5.8186,  1.1504],\n",
              "       [11.3901,  1.4204,  1.2638,  1.4604,  0.928 ,  6.0263, 56.0584,\n",
              "         3.1283,  1.8278,  7.0794,  0.6795],\n",
              "       [11.6961,  1.2302,  1.054 ,  1.2735,  0.8415,  5.5275, 55.6367,\n",
              "         3.6804,  1.3534,  7.635 ,  1.0327],\n",
              "       [ 9.8661,  0.7824,  0.8822,  1.0089,  0.5409,  5.9319, 11.1887,\n",
              "         3.0712,  1.0842,  6.3455,  0.    ],\n",
              "       [20.9251,  1.919 ,  1.0957,  1.3604,  0.8879,  5.4774, 54.3941,\n",
              "         2.94  ,  1.5978,  8.3485,  1.48  ],\n",
              "       [20.8131,  1.6108,  1.1535,  1.6723,  0.7905,  6.2687, 53.0135,\n",
              "         2.6737,  1.6837,  8.2785,  1.7538],\n",
              "       [19.3325,  1.6758,  1.0682,  1.2444,  0.9337,  5.4377, 54.3317,\n",
              "         3.4255,  1.8044,  7.8842,  1.5579],\n",
              "       [18.9253,  1.8103,  1.5166,  2.0524,  1.2221,  6.5558, 53.3549,\n",
              "         2.9589,  1.5154,  8.0524,  1.9386],\n",
              "       [19.1684,  1.5047,  1.1179,  1.4532,  0.8085,  5.2493, 54.4464,\n",
              "         3.529 ,  2.3489,  8.4506,  1.7749],\n",
              "       [19.0141,  1.9382,  1.5534,  1.7755,  1.1523,  6.3843, 52.3117,\n",
              "         3.4687,  2.0846,  9.0832,  1.5233],\n",
              "       [17.99  ,  1.6166,  0.8596,  1.0873,  0.6962,  6.5527, 51.7672,\n",
              "         2.8909,  1.4214,  7.1108,  1.2842],\n",
              "       [17.8132,  1.7301,  1.3219,  1.5558,  0.9225,  5.4424, 52.3718,\n",
              "         3.0249,  1.5629,  8.125 ,  1.1706],\n",
              "       [17.0985,  1.0815,  0.7538,  0.9563,  0.4768,  5.4261, 52.184 ,\n",
              "         2.7148,  1.3075,  7.3194,  1.0098],\n",
              "       [17.2051,  1.4532,  1.1741,  1.3232,  0.9149,  5.8632, 48.7151,\n",
              "         2.8523,  1.4598,  7.8529,  0.9709],\n",
              "       [18.3969,  1.8246,  0.9275,  1.2498,  0.8549,  4.7743, 51.3313,\n",
              "         2.871 ,  1.6682,  8.0198,  1.1373],\n",
              "       [16.8184,  1.5236,  1.2575,  1.5561,  1.0706,  5.1836, 49.5512,\n",
              "         3.5495,  1.9216,  7.712 ,  1.5883],\n",
              "       [16.6134,  1.7523,  0.7461,  1.0737,  0.8667,  5.4098, 52.6539,\n",
              "         2.6315,  1.7506,  7.734 ,  1.4029],\n",
              "       [17.1515,  2.3593,  1.6323,  2.3573,  0.9323,  6.4199, 49.7236,\n",
              "         3.7859,  2.0643,  8.3981,  2.2462],\n",
              "       [16.6809,  1.8561,  1.1315,  1.3282,  0.8241,  4.3733, 50.6916,\n",
              "         3.0439,  2.1114,  7.2053,  0.8152],\n",
              "       [15.7572,  1.7615,  1.1006,  1.5063,  1.0051,  5.345 , 50.8275,\n",
              "         3.2854,  1.6024,  7.737 ,  1.4893],\n",
              "       [16.5693,  1.3092,  0.658 ,  0.7225,  0.6681,  4.0199, 49.2359,\n",
              "         2.2967,  1.6849,  7.3557,  1.2487],\n",
              "       [15.6227,  1.2385,  1.2112,  1.553 ,  1.0226,  4.9753, 47.5376,\n",
              "         2.7134,  1.2946,  7.4947,  0.6317],\n",
              "       [17.4685,  1.2971,  1.2744,  1.7117,  0.9761,  5.5506, 48.9024,\n",
              "         3.5569,  2.0574,  8.1474,  1.0551],\n",
              "       [15.4698,  1.6303,  1.0332,  1.2107,  0.9268,  5.6542, 48.0755,\n",
              "         2.843 ,  1.7041,  8.3545,  1.6463],\n",
              "       [17.1674,  1.2328,  1.536 ,  1.7224,  1.1435,  5.6228, 48.6026,\n",
              "         3.0308,  1.3524,  7.4118,  0.8858],\n",
              "       [14.916 ,  1.7286,  1.0696,  1.2657,  0.5617,  6.0869, 49.944 ,\n",
              "         3.2019,  1.5834,  7.6511,  2.0134],\n",
              "       [14.4579,  1.0884,  0.9976,  1.1804,  0.9166,  6.0719, 47.6125,\n",
              "         2.6326,  1.5077,  7.5408,  1.0057],\n",
              "       [15.4918,  0.9269,  1.0822,  1.5466,  0.4452,  4.6891, 49.684 ,\n",
              "         2.9533,  1.2141,  7.2084,  0.8914],\n",
              "       [14.4478,  1.7454,  1.4301,  1.9444,  1.2926,  5.493 , 50.734 ,\n",
              "         2.7714,  1.6169,  8.4747,  1.3628],\n",
              "       [16.3746,  0.9717,  1.501 ,  1.8251,  1.1347,  5.8286, 48.6206,\n",
              "         3.4627,  1.5593,  7.9076,  1.1681],\n",
              "       [17.2886,  1.2573,  1.1654,  1.6496,  1.2555,  5.8129, 47.1687,\n",
              "         2.8307,  1.8516,  7.5468,  1.1852],\n",
              "       [14.9278,  0.9728,  1.149 ,  1.6748,  0.8831,  5.7784, 46.1839,\n",
              "         2.4525,  1.7823,  7.2716,  0.8204],\n",
              "       [13.903 ,  1.7907,  1.0919,  1.3532,  0.8759,  5.0832, 45.6418,\n",
              "         2.397 ,  1.6769,  7.156 ,  0.9197],\n",
              "       [13.6662,  1.248 ,  1.6606,  2.199 ,  1.0433,  6.2066, 17.7341,\n",
              "         4.1343,  1.6516,  8.2012,  0.4987]], dtype=float32)"
            ]
          },
          "metadata": {
            "tags": []
          },
          "execution_count": 18
        }
      ]
    },
    {
      "cell_type": "code",
      "metadata": {
        "id": "BHI_5ej9cjSM"
      },
      "source": [
        ""
      ],
      "execution_count": null,
      "outputs": []
    }
  ]
}